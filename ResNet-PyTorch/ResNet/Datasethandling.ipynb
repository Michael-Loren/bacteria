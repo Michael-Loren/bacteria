{
 "cells": [
  {
   "cell_type": "code",
   "execution_count": 1,
   "id": "f917bdb6-118b-4a25-ac24-b150ff6c72d7",
   "metadata": {},
   "outputs": [
    {
     "name": "stdout",
     "output_type": "stream",
     "text": [
      "Original x:  tensor([-2.9014, -0.0911,  1.3566,  0.5976, -0.3257,  0.3141,  1.1275, -0.2164,\n",
      "         0.7639, -0.0141])\n",
      "Reconstructed x:  tensor([-2.9014, -0.0911,  1.3566,  0.5976, -0.3257,  0.3141,  1.1275, -0.2164,\n",
      "         0.7639, -0.0141])\n",
      "Difference:  tensor(3.7616e-07)\n",
      "True\n",
      "NVIDIA GeForce RTX 4070\n",
      "Using device: cuda\n",
      "Using device: cuda\n",
      "Matrix multiplication result: tensor([[2503.0649, 2517.9666, 2499.4458,  ..., 2517.6455, 2522.7876,\n",
      "         2502.5994],\n",
      "        [2492.2927, 2510.9028, 2500.0759,  ..., 2499.6792, 2513.9778,\n",
      "         2478.8840],\n",
      "        [2499.2803, 2497.0703, 2514.0398,  ..., 2498.7942, 2512.3462,\n",
      "         2513.0947],\n",
      "        ...,\n",
      "        [2514.7087, 2518.8069, 2515.7798,  ..., 2528.7097, 2514.0063,\n",
      "         2500.0945],\n",
      "        [2494.5747, 2476.5330, 2489.3442,  ..., 2511.2207, 2500.4634,\n",
      "         2489.4084],\n",
      "        [2484.9104, 2489.5828, 2478.9109,  ..., 2491.7778, 2486.0774,\n",
      "         2484.5493]], device='cuda:0')\n",
      "Done.\n"
     ]
    }
   ],
   "source": [
    "import os\n",
    "import torch\n",
    "import scipy.io\n",
    "import torch.nn as nn  # Import nn module\n",
    "import torch.optim as optim  # Import optim module\n",
    "import torchvision.models as models\n",
    "from torch.utils.data import Dataset, DataLoader, random_split\n",
    "from torchvision import transforms\n",
    "import matplotlib.pyplot as plt\n",
    "from hyperspectral_dataset import HyperspectralDataset, compute_statistics, NormalizeCube, NormalizeProfile\n",
    "from rgb_dataset import RGBDataset\n",
    "from torchvision.transforms import Resize, CenterCrop, Compose, Normalize, ToTensor\n",
    "from transformers import AutoImageProcessor, AutoModelForImageClassification\n",
    "\n",
    "\n",
    "\n",
    "\n",
    "from ResNet import CustomResNet50  # Assuming ResNet50 is defined in ResNet.py\n",
    "import torch\n",
    "print(torch.cuda.is_available())  # Should return True\n",
    "print(torch.cuda.get_device_name(0))  # Should print the name of your GPU\n",
    "# Check for CUDA\n",
    "device = torch.device(\"cuda\" if torch.cuda.is_available() else \"cpu\")\n",
    "print(\"Using device:\", device)\n",
    "\n",
    "\n",
    "\n",
    "device = torch.device(\"cuda\" if torch.cuda.is_available() else \"cpu\")\n",
    "print(\"Using device:\", device)\n",
    "\n",
    "# Create a random tensor and move it to the GPU\n",
    "x = torch.rand(10000, 10000).to(device)\n",
    "y = torch.rand(10000, 10000).to(device)\n",
    "\n",
    "# Perform a matrix multiplication on the GPU\n",
    "z = torch.matmul(x, y)\n",
    "\n",
    "print(\"Matrix multiplication result:\", z)\n",
    "print(\"Done.\")\n",
    "\n"
   ]
  },
  {
   "cell_type": "code",
   "execution_count": 2,
   "id": "69c172e4-ee83-47e4-aba8-efca02e99daa",
   "metadata": {},
   "outputs": [
    {
     "name": "stdout",
     "output_type": "stream",
     "text": [
      "Label mapping: {'Acinetobacter_baumanii': 0, 'Lactobacillus_casei': 1, 'Lactobacillus_jehnsenii': 2, 'Lactobacillus_gasseri': 3, 'Lactobacillus_delbrueckii': 4, 'Lactobacillus_salivarius': 5, 'Propionibacterium_acnes': 6, 'Lactobacillus_paracasei': 7, 'Bifidobacterium_spp': 8, 'Lactobacillus_reuteri': 9, 'Staphylococcus_aureus': 10, 'Escherichia_coli': 11, 'Lactobacillus_rhamnosus': 12, 'Lactobacillus_plantarum': 13, 'Enterococcus_faecium': 14, 'Porfyromonas_gingivalis': 15, 'Enterococcus_faecalis': 16, 'Micrococcus_spp': 17, 'Fusobacterium': 18, 'Actinomyces_israeli': 19, 'Lactobacillus_crispatus': 20, 'Clostridium_perfringens': 21, 'Staphylococcus_epidermidis': 22, 'Listeria_monocytogenes': 23, 'Pseudomonas_aeruginosa': 24, 'Lactobacillus_johnsonii': 26, 'Streptococcus_agalactiae': 27, 'Staphylococcus_saprophiticus': 28, 'Bacteroides_fragilis': 29, 'Neisseria_gonorrhoeae': 30, 'Veionella': 31, 'Proteus': 32, 'Candida_albicans': 33}\n",
      "Label mapping: {'Acinetobacter_baumanii': 0, 'Lactobacillus_casei': 1, 'Lactobacillus_jehnsenii': 2, 'Lactobacillus_gasseri': 3, 'Lactobacillus_delbrueckii': 4, 'Lactobacillus_salivarius': 5, 'Propionibacterium_acnes': 6, 'Lactobacillus_paracasei': 7, 'Bifidobacterium_spp': 8, 'Lactobacillus_reuteri': 9, 'Staphylococcus_aureus': 10, 'Escherichia_coli': 11, 'Lactobacillus_rhamnosus': 12, 'Lactobacillus_plantarum': 13, 'Enterococcus_faecium': 14, 'Porfyromonas_gingivalis': 15, 'Enterococcus_faecalis': 16, 'Micrococcus_spp': 17, 'Fusobacterium': 18, 'Actinomyces_israeli': 19, 'Lactobacillus_crispatus': 20, 'Clostridium_perfringens': 21, 'Staphylococcus_epidermidis': 22, 'Listeria_monocytogenes': 23, 'Pseudomonas_aeruginosa': 24, 'Lactobacillus_johnsonii': 26, 'Streptococcus_agalactiae': 27, 'Staphylococcus_saprophiticus': 28, 'Bacteroides_fragilis': 29, 'Neisseria_gonorrhoeae': 30, 'Veionella': 31, 'Proteus': 32, 'Candida_albicans': 33}\n",
      "Label mapping: {'Acinetobacter_baumanii': 0, 'Lactobacillus_casei': 1, 'Lactobacillus_jehnsenii': 2, 'Lactobacillus_gasseri': 3, 'Lactobacillus_delbrueckii': 4, 'Lactobacillus_salivarius': 5, 'Propionibacterium_acnes': 6, 'Lactobacillus_paracasei': 7, 'Bifidobacterium_spp': 8, 'Lactobacillus_reuteri': 9, 'Staphylococcus_aureus': 10, 'Escherichia_coli': 11, 'Lactobacillus_rhamnosus': 12, 'Lactobacillus_plantarum': 13, 'Enterococcus_faecium': 14, 'Porfyromonas_gingivalis': 15, 'Enterococcus_faecalis': 16, 'Micrococcus_spp': 17, 'Fusobacterium': 18, 'Actinomyces_israeli': 19, 'Lactobacillus_crispatus': 20, 'Clostridium_perfringens': 21, 'Staphylococcus_epidermidis': 22, 'Listeria_monocytogenes': 23, 'Pseudomonas_aeruginosa': 24, 'Lactobacillus_johnsonii': 26, 'Streptococcus_agalactiae': 27, 'Staphylococcus_saprophiticus': 28, 'Bacteroides_fragilis': 29, 'Neisseria_gonorrhoeae': 30, 'Veionella': 31, 'Proteus': 32, 'Candida_albicans': 33}\n"
     ]
    }
   ],
   "source": [
    "# Function to get all file paths from a dataset\n",
    "def get_all_file_paths(dataset):\n",
    "    file_paths = []\n",
    "    # for idx in range(len(dataset)):\n",
    "    file_paths.append(dataset.get_image_path(idx))\n",
    "    return file_paths\n",
    "\n",
    "# # Initialize the dataset with transformations\n",
    "# dataset = RGBDataset(root_dir='../../../serverstuff/hsi/all')\n",
    "# channel_means_cube, channel_stds_cube, channel_means_profile, channel_stds_profile = compute_statistics(dataset)\n",
    "feature_extractor = AutoImageProcessor.from_pretrained(\"facebook/convnextv2-base-1k-224\", ignore_mismatched_sizes=True)\n",
    "normalize = Normalize(mean=feature_extractor.image_mean, std=feature_extractor.image_std)\n",
    "transform = transforms.Compose([Resize((256, 256)), CenterCrop((256, 256)), ToTensor(), normalize])\n",
    "\n",
    "# Apply the custom transforms to the datasets\n",
    "train_dataset = RGBDataset(root_dir='../../../serverstuff/hsi/train', transform=transform)\n",
    "val_dataset = RGBDataset(root_dir='../../../serverstuff/hsi/validation', transform=transform)\n",
    "test_dataset = RGBDataset(root_dir='../../../serverstuff/hsi/test', transform=transform)\n",
    "\n",
    "# Create DataLoaders for training, validation, and test sets\n",
    "train_loader = DataLoader(train_dataset, batch_size=4, shuffle=True, num_workers=4)\n",
    "val_loader = DataLoader(val_dataset, batch_size=4, shuffle=False, num_workers=4)\n",
    "test_loader = DataLoader(test_dataset, batch_size=4, shuffle=False, num_workers=4)"
   ]
  },
  {
   "cell_type": "code",
   "execution_count": 3,
   "id": "2ccab103-2289-4111-bf41-0447ae956224",
   "metadata": {},
   "outputs": [],
   "source": [
    "# # Function to get all file paths from a dataset\n",
    "# def get_all_file_paths(dataset):\n",
    "#     file_paths = []\n",
    "#     for idx in range(len(dataset)):\n",
    "#         file_paths.append(dataset.get_image_path(idx))\n",
    "#     return file_paths\n",
    "\n",
    "# # # Initialize the dataset with transformations\n",
    "# dataset = HyperspectralDataset(root_dir='../../dibasRP/all')\n",
    "# # channel_means_cube, channel_stds_cube, channel_means_profile, channel_stds_profile = compute_statistics(dataset)\n",
    "\n",
    "# channel_means_cube, channel_stds_cube, channel_means_profile, channel_stds_profile = [0.5] * 31, [0.5] * 31, [0.5] * 31, [0.5] * 31\n",
    "# # Define the custom transformations using the computed statistics\n",
    "# cube_transform = NormalizeCube(mean=channel_means_cube, std=channel_stds_cube)\n",
    "# profile_transform = NormalizeProfile(mean=channel_means_profile, std=channel_stds_profile)\n",
    "\n",
    "# # Apply the custom transforms to the datasets\n",
    "# train_dataset = HyperspectralDataset(root_dir='../../dibasRP/train', cube_transform=cube_transform)\n",
    "# val_dataset = HyperspectralDataset(root_dir='../../dibasRP/val', cube_transform=cube_transform)\n",
    "# test_dataset = HyperspectralDataset(root_dir='../../dibasRP/test', cube_transform=cube_transform)\n",
    "\n",
    "# # Create DataLoaders for training, validation, and test sets\n",
    "# train_loader = DataLoader(train_dataset, batch_size=4, shuffle=True, num_workers=4)\n",
    "# val_loader = DataLoader(val_dataset, batch_size=4, shuffle=False, num_workers=4)\n",
    "# test_loader = DataLoader(test_dataset, batch_size=4, shuffle=False, num_workers=4)"
   ]
  },
  {
   "cell_type": "code",
   "execution_count": 4,
   "id": "4795d9f6-ad04-426c-82c3-64aeab302962",
   "metadata": {},
   "outputs": [],
   "source": [
    "# # Get file paths for the main dataset and each split\n",
    "# main_dataset_paths = get_all_file_paths(dataset)\n",
    "# train_dataset_paths = get_all_file_paths(train_dataset)\n",
    "# val_dataset_paths = get_all_file_paths(val_dataset)\n",
    "# test_dataset_paths = get_all_file_paths(test_dataset)\n",
    "\n",
    "# # Check if the total length of the splits equals the length of the main dataset\n",
    "# total_split_length = len(train_dataset_paths) + len(val_dataset_paths) + len(test_dataset_paths)\n",
    "# if total_split_length != len(main_dataset_paths):\n",
    "#     print(f\"Error: Total length of splits ({total_split_length}) does not equal length of main dataset ({len(main_dataset_paths)})\")\n",
    "# else:\n",
    "#     print(\"Total length of splits matches the length of the main dataset.\")\n",
    "\n",
    "# # Check for overlaps between splits\n",
    "# def check_for_overlaps(paths1, paths2):\n",
    "#     overlaps = set(paths1) & set(paths2)\n",
    "#     return overlaps\n",
    "\n",
    "# train_val_overlaps = check_for_overlaps(train_dataset_paths, val_dataset_paths)\n",
    "# train_test_overlaps = check_for_overlaps(train_dataset_paths, test_dataset_paths)\n",
    "# val_test_overlaps = check_for_overlaps(val_dataset_paths, test_dataset_paths)\n",
    "\n",
    "# if train_val_overlaps:\n",
    "#     print(f\"Error: Overlaps found between train and validation datasets: {len(train_val_overlaps)} overlaps\")\n",
    "# else:\n",
    "#     print(\"No overlaps found between train and validation datasets.\")\n",
    "\n",
    "# if train_test_overlaps:\n",
    "#     print(f\"Error: Overlaps found between train and test datasets: {len(train_test_overlaps)} overlaps\")\n",
    "# else:\n",
    "#     print(\"No overlaps found between train and test datasets.\")\n",
    "\n",
    "# if val_test_overlaps:\n",
    "#     print(f\"Error: Overlaps found between validation and test datasets: {len(val_test_overlaps)} overlaps\")\n",
    "# else:\n",
    "#     print(\"No overlaps found between validation and test datasets.\")"
   ]
  },
  {
   "cell_type": "code",
   "execution_count": null,
   "id": "5e1ffc9f-5658-4b20-9b3d-97ac24c066dd",
   "metadata": {},
   "outputs": [],
   "source": []
  },
  {
   "cell_type": "code",
   "execution_count": 5,
   "id": "7848eefb-c25f-47f8-8344-d7f9c30ff2d8",
   "metadata": {},
   "outputs": [
    {
     "name": "stdout",
     "output_type": "stream",
     "text": [
      "34\n",
      "convnextv2.embeddings.patch_embeddings.weight: frozen\n",
      "convnextv2.embeddings.patch_embeddings.bias: frozen\n",
      "convnextv2.embeddings.layernorm.weight: frozen\n",
      "convnextv2.embeddings.layernorm.bias: frozen\n",
      "convnextv2.encoder.stages.0.layers.0.dwconv.weight: frozen\n",
      "convnextv2.encoder.stages.0.layers.0.dwconv.bias: frozen\n",
      "convnextv2.encoder.stages.0.layers.0.layernorm.weight: frozen\n",
      "convnextv2.encoder.stages.0.layers.0.layernorm.bias: frozen\n",
      "convnextv2.encoder.stages.0.layers.0.pwconv1.weight: frozen\n",
      "convnextv2.encoder.stages.0.layers.0.pwconv1.bias: frozen\n",
      "convnextv2.encoder.stages.0.layers.0.grn.weight: frozen\n",
      "convnextv2.encoder.stages.0.layers.0.grn.bias: frozen\n",
      "convnextv2.encoder.stages.0.layers.0.pwconv2.weight: frozen\n",
      "convnextv2.encoder.stages.0.layers.0.pwconv2.bias: frozen\n",
      "convnextv2.encoder.stages.0.layers.1.dwconv.weight: frozen\n",
      "convnextv2.encoder.stages.0.layers.1.dwconv.bias: frozen\n",
      "convnextv2.encoder.stages.0.layers.1.layernorm.weight: frozen\n",
      "convnextv2.encoder.stages.0.layers.1.layernorm.bias: frozen\n",
      "convnextv2.encoder.stages.0.layers.1.pwconv1.weight: frozen\n",
      "convnextv2.encoder.stages.0.layers.1.pwconv1.bias: frozen\n",
      "convnextv2.encoder.stages.0.layers.1.grn.weight: frozen\n",
      "convnextv2.encoder.stages.0.layers.1.grn.bias: frozen\n",
      "convnextv2.encoder.stages.0.layers.1.pwconv2.weight: frozen\n",
      "convnextv2.encoder.stages.0.layers.1.pwconv2.bias: frozen\n",
      "convnextv2.encoder.stages.0.layers.2.dwconv.weight: frozen\n",
      "convnextv2.encoder.stages.0.layers.2.dwconv.bias: frozen\n",
      "convnextv2.encoder.stages.0.layers.2.layernorm.weight: frozen\n",
      "convnextv2.encoder.stages.0.layers.2.layernorm.bias: frozen\n",
      "convnextv2.encoder.stages.0.layers.2.pwconv1.weight: frozen\n",
      "convnextv2.encoder.stages.0.layers.2.pwconv1.bias: frozen\n",
      "convnextv2.encoder.stages.0.layers.2.grn.weight: frozen\n",
      "convnextv2.encoder.stages.0.layers.2.grn.bias: frozen\n",
      "convnextv2.encoder.stages.0.layers.2.pwconv2.weight: frozen\n",
      "convnextv2.encoder.stages.0.layers.2.pwconv2.bias: frozen\n",
      "convnextv2.encoder.stages.1.downsampling_layer.0.weight: frozen\n",
      "convnextv2.encoder.stages.1.downsampling_layer.0.bias: frozen\n",
      "convnextv2.encoder.stages.1.downsampling_layer.1.weight: frozen\n",
      "convnextv2.encoder.stages.1.downsampling_layer.1.bias: frozen\n",
      "convnextv2.encoder.stages.1.layers.0.dwconv.weight: frozen\n",
      "convnextv2.encoder.stages.1.layers.0.dwconv.bias: frozen\n",
      "convnextv2.encoder.stages.1.layers.0.layernorm.weight: frozen\n",
      "convnextv2.encoder.stages.1.layers.0.layernorm.bias: frozen\n",
      "convnextv2.encoder.stages.1.layers.0.pwconv1.weight: frozen\n",
      "convnextv2.encoder.stages.1.layers.0.pwconv1.bias: frozen\n",
      "convnextv2.encoder.stages.1.layers.0.grn.weight: frozen\n",
      "convnextv2.encoder.stages.1.layers.0.grn.bias: frozen\n",
      "convnextv2.encoder.stages.1.layers.0.pwconv2.weight: frozen\n",
      "convnextv2.encoder.stages.1.layers.0.pwconv2.bias: frozen\n",
      "convnextv2.encoder.stages.1.layers.1.dwconv.weight: frozen\n",
      "convnextv2.encoder.stages.1.layers.1.dwconv.bias: frozen\n",
      "convnextv2.encoder.stages.1.layers.1.layernorm.weight: frozen\n",
      "convnextv2.encoder.stages.1.layers.1.layernorm.bias: frozen\n",
      "convnextv2.encoder.stages.1.layers.1.pwconv1.weight: frozen\n",
      "convnextv2.encoder.stages.1.layers.1.pwconv1.bias: frozen\n",
      "convnextv2.encoder.stages.1.layers.1.grn.weight: frozen\n",
      "convnextv2.encoder.stages.1.layers.1.grn.bias: frozen\n",
      "convnextv2.encoder.stages.1.layers.1.pwconv2.weight: frozen\n",
      "convnextv2.encoder.stages.1.layers.1.pwconv2.bias: frozen\n",
      "convnextv2.encoder.stages.1.layers.2.dwconv.weight: frozen\n",
      "convnextv2.encoder.stages.1.layers.2.dwconv.bias: frozen\n",
      "convnextv2.encoder.stages.1.layers.2.layernorm.weight: frozen\n",
      "convnextv2.encoder.stages.1.layers.2.layernorm.bias: frozen\n",
      "convnextv2.encoder.stages.1.layers.2.pwconv1.weight: frozen\n",
      "convnextv2.encoder.stages.1.layers.2.pwconv1.bias: frozen\n",
      "convnextv2.encoder.stages.1.layers.2.grn.weight: frozen\n",
      "convnextv2.encoder.stages.1.layers.2.grn.bias: frozen\n",
      "convnextv2.encoder.stages.1.layers.2.pwconv2.weight: frozen\n",
      "convnextv2.encoder.stages.1.layers.2.pwconv2.bias: frozen\n",
      "convnextv2.encoder.stages.2.downsampling_layer.0.weight: frozen\n",
      "convnextv2.encoder.stages.2.downsampling_layer.0.bias: frozen\n",
      "convnextv2.encoder.stages.2.downsampling_layer.1.weight: frozen\n",
      "convnextv2.encoder.stages.2.downsampling_layer.1.bias: frozen\n",
      "convnextv2.encoder.stages.2.layers.0.dwconv.weight: frozen\n",
      "convnextv2.encoder.stages.2.layers.0.dwconv.bias: frozen\n",
      "convnextv2.encoder.stages.2.layers.0.layernorm.weight: frozen\n",
      "convnextv2.encoder.stages.2.layers.0.layernorm.bias: frozen\n",
      "convnextv2.encoder.stages.2.layers.0.pwconv1.weight: frozen\n",
      "convnextv2.encoder.stages.2.layers.0.pwconv1.bias: frozen\n",
      "convnextv2.encoder.stages.2.layers.0.grn.weight: frozen\n",
      "convnextv2.encoder.stages.2.layers.0.grn.bias: frozen\n",
      "convnextv2.encoder.stages.2.layers.0.pwconv2.weight: frozen\n",
      "convnextv2.encoder.stages.2.layers.0.pwconv2.bias: frozen\n",
      "convnextv2.encoder.stages.2.layers.1.dwconv.weight: frozen\n",
      "convnextv2.encoder.stages.2.layers.1.dwconv.bias: frozen\n",
      "convnextv2.encoder.stages.2.layers.1.layernorm.weight: frozen\n",
      "convnextv2.encoder.stages.2.layers.1.layernorm.bias: frozen\n",
      "convnextv2.encoder.stages.2.layers.1.pwconv1.weight: frozen\n",
      "convnextv2.encoder.stages.2.layers.1.pwconv1.bias: frozen\n",
      "convnextv2.encoder.stages.2.layers.1.grn.weight: frozen\n",
      "convnextv2.encoder.stages.2.layers.1.grn.bias: frozen\n",
      "convnextv2.encoder.stages.2.layers.1.pwconv2.weight: frozen\n",
      "convnextv2.encoder.stages.2.layers.1.pwconv2.bias: frozen\n",
      "convnextv2.encoder.stages.2.layers.2.dwconv.weight: frozen\n",
      "convnextv2.encoder.stages.2.layers.2.dwconv.bias: frozen\n",
      "convnextv2.encoder.stages.2.layers.2.layernorm.weight: frozen\n",
      "convnextv2.encoder.stages.2.layers.2.layernorm.bias: frozen\n",
      "convnextv2.encoder.stages.2.layers.2.pwconv1.weight: frozen\n",
      "convnextv2.encoder.stages.2.layers.2.pwconv1.bias: frozen\n",
      "convnextv2.encoder.stages.2.layers.2.grn.weight: frozen\n",
      "convnextv2.encoder.stages.2.layers.2.grn.bias: frozen\n",
      "convnextv2.encoder.stages.2.layers.2.pwconv2.weight: frozen\n",
      "convnextv2.encoder.stages.2.layers.2.pwconv2.bias: frozen\n",
      "convnextv2.encoder.stages.2.layers.3.dwconv.weight: frozen\n",
      "convnextv2.encoder.stages.2.layers.3.dwconv.bias: frozen\n",
      "convnextv2.encoder.stages.2.layers.3.layernorm.weight: frozen\n",
      "convnextv2.encoder.stages.2.layers.3.layernorm.bias: frozen\n",
      "convnextv2.encoder.stages.2.layers.3.pwconv1.weight: frozen\n",
      "convnextv2.encoder.stages.2.layers.3.pwconv1.bias: frozen\n",
      "convnextv2.encoder.stages.2.layers.3.grn.weight: frozen\n",
      "convnextv2.encoder.stages.2.layers.3.grn.bias: frozen\n",
      "convnextv2.encoder.stages.2.layers.3.pwconv2.weight: frozen\n",
      "convnextv2.encoder.stages.2.layers.3.pwconv2.bias: frozen\n",
      "convnextv2.encoder.stages.2.layers.4.dwconv.weight: frozen\n",
      "convnextv2.encoder.stages.2.layers.4.dwconv.bias: frozen\n",
      "convnextv2.encoder.stages.2.layers.4.layernorm.weight: frozen\n",
      "convnextv2.encoder.stages.2.layers.4.layernorm.bias: frozen\n",
      "convnextv2.encoder.stages.2.layers.4.pwconv1.weight: frozen\n",
      "convnextv2.encoder.stages.2.layers.4.pwconv1.bias: frozen\n",
      "convnextv2.encoder.stages.2.layers.4.grn.weight: frozen\n",
      "convnextv2.encoder.stages.2.layers.4.grn.bias: frozen\n",
      "convnextv2.encoder.stages.2.layers.4.pwconv2.weight: frozen\n",
      "convnextv2.encoder.stages.2.layers.4.pwconv2.bias: frozen\n",
      "convnextv2.encoder.stages.2.layers.5.dwconv.weight: frozen\n",
      "convnextv2.encoder.stages.2.layers.5.dwconv.bias: frozen\n",
      "convnextv2.encoder.stages.2.layers.5.layernorm.weight: frozen\n",
      "convnextv2.encoder.stages.2.layers.5.layernorm.bias: frozen\n",
      "convnextv2.encoder.stages.2.layers.5.pwconv1.weight: frozen\n",
      "convnextv2.encoder.stages.2.layers.5.pwconv1.bias: frozen\n",
      "convnextv2.encoder.stages.2.layers.5.grn.weight: frozen\n",
      "convnextv2.encoder.stages.2.layers.5.grn.bias: frozen\n",
      "convnextv2.encoder.stages.2.layers.5.pwconv2.weight: frozen\n",
      "convnextv2.encoder.stages.2.layers.5.pwconv2.bias: frozen\n",
      "convnextv2.encoder.stages.2.layers.6.dwconv.weight: frozen\n",
      "convnextv2.encoder.stages.2.layers.6.dwconv.bias: frozen\n",
      "convnextv2.encoder.stages.2.layers.6.layernorm.weight: frozen\n",
      "convnextv2.encoder.stages.2.layers.6.layernorm.bias: frozen\n",
      "convnextv2.encoder.stages.2.layers.6.pwconv1.weight: frozen\n",
      "convnextv2.encoder.stages.2.layers.6.pwconv1.bias: frozen\n",
      "convnextv2.encoder.stages.2.layers.6.grn.weight: frozen\n",
      "convnextv2.encoder.stages.2.layers.6.grn.bias: frozen\n",
      "convnextv2.encoder.stages.2.layers.6.pwconv2.weight: frozen\n",
      "convnextv2.encoder.stages.2.layers.6.pwconv2.bias: frozen\n",
      "convnextv2.encoder.stages.2.layers.7.dwconv.weight: frozen\n",
      "convnextv2.encoder.stages.2.layers.7.dwconv.bias: frozen\n",
      "convnextv2.encoder.stages.2.layers.7.layernorm.weight: frozen\n",
      "convnextv2.encoder.stages.2.layers.7.layernorm.bias: frozen\n",
      "convnextv2.encoder.stages.2.layers.7.pwconv1.weight: frozen\n",
      "convnextv2.encoder.stages.2.layers.7.pwconv1.bias: frozen\n",
      "convnextv2.encoder.stages.2.layers.7.grn.weight: frozen\n",
      "convnextv2.encoder.stages.2.layers.7.grn.bias: frozen\n",
      "convnextv2.encoder.stages.2.layers.7.pwconv2.weight: frozen\n",
      "convnextv2.encoder.stages.2.layers.7.pwconv2.bias: frozen\n",
      "convnextv2.encoder.stages.2.layers.8.dwconv.weight: frozen\n",
      "convnextv2.encoder.stages.2.layers.8.dwconv.bias: frozen\n",
      "convnextv2.encoder.stages.2.layers.8.layernorm.weight: frozen\n",
      "convnextv2.encoder.stages.2.layers.8.layernorm.bias: frozen\n",
      "convnextv2.encoder.stages.2.layers.8.pwconv1.weight: frozen\n",
      "convnextv2.encoder.stages.2.layers.8.pwconv1.bias: frozen\n",
      "convnextv2.encoder.stages.2.layers.8.grn.weight: frozen\n",
      "convnextv2.encoder.stages.2.layers.8.grn.bias: frozen\n",
      "convnextv2.encoder.stages.2.layers.8.pwconv2.weight: frozen\n",
      "convnextv2.encoder.stages.2.layers.8.pwconv2.bias: frozen\n",
      "convnextv2.encoder.stages.2.layers.9.dwconv.weight: frozen\n",
      "convnextv2.encoder.stages.2.layers.9.dwconv.bias: frozen\n",
      "convnextv2.encoder.stages.2.layers.9.layernorm.weight: frozen\n",
      "convnextv2.encoder.stages.2.layers.9.layernorm.bias: frozen\n",
      "convnextv2.encoder.stages.2.layers.9.pwconv1.weight: frozen\n",
      "convnextv2.encoder.stages.2.layers.9.pwconv1.bias: frozen\n",
      "convnextv2.encoder.stages.2.layers.9.grn.weight: frozen\n",
      "convnextv2.encoder.stages.2.layers.9.grn.bias: frozen\n",
      "convnextv2.encoder.stages.2.layers.9.pwconv2.weight: frozen\n",
      "convnextv2.encoder.stages.2.layers.9.pwconv2.bias: frozen\n",
      "convnextv2.encoder.stages.2.layers.10.dwconv.weight: frozen\n",
      "convnextv2.encoder.stages.2.layers.10.dwconv.bias: frozen\n",
      "convnextv2.encoder.stages.2.layers.10.layernorm.weight: frozen\n",
      "convnextv2.encoder.stages.2.layers.10.layernorm.bias: frozen\n",
      "convnextv2.encoder.stages.2.layers.10.pwconv1.weight: frozen\n",
      "convnextv2.encoder.stages.2.layers.10.pwconv1.bias: frozen\n",
      "convnextv2.encoder.stages.2.layers.10.grn.weight: frozen\n",
      "convnextv2.encoder.stages.2.layers.10.grn.bias: frozen\n",
      "convnextv2.encoder.stages.2.layers.10.pwconv2.weight: frozen\n",
      "convnextv2.encoder.stages.2.layers.10.pwconv2.bias: frozen\n",
      "convnextv2.encoder.stages.2.layers.11.dwconv.weight: frozen\n",
      "convnextv2.encoder.stages.2.layers.11.dwconv.bias: frozen\n",
      "convnextv2.encoder.stages.2.layers.11.layernorm.weight: frozen\n",
      "convnextv2.encoder.stages.2.layers.11.layernorm.bias: frozen\n",
      "convnextv2.encoder.stages.2.layers.11.pwconv1.weight: frozen\n",
      "convnextv2.encoder.stages.2.layers.11.pwconv1.bias: frozen\n",
      "convnextv2.encoder.stages.2.layers.11.grn.weight: frozen\n",
      "convnextv2.encoder.stages.2.layers.11.grn.bias: frozen\n",
      "convnextv2.encoder.stages.2.layers.11.pwconv2.weight: frozen\n",
      "convnextv2.encoder.stages.2.layers.11.pwconv2.bias: frozen\n",
      "convnextv2.encoder.stages.2.layers.12.dwconv.weight: frozen\n",
      "convnextv2.encoder.stages.2.layers.12.dwconv.bias: frozen\n",
      "convnextv2.encoder.stages.2.layers.12.layernorm.weight: frozen\n",
      "convnextv2.encoder.stages.2.layers.12.layernorm.bias: frozen\n",
      "convnextv2.encoder.stages.2.layers.12.pwconv1.weight: frozen\n",
      "convnextv2.encoder.stages.2.layers.12.pwconv1.bias: frozen\n",
      "convnextv2.encoder.stages.2.layers.12.grn.weight: frozen\n",
      "convnextv2.encoder.stages.2.layers.12.grn.bias: frozen\n",
      "convnextv2.encoder.stages.2.layers.12.pwconv2.weight: frozen\n",
      "convnextv2.encoder.stages.2.layers.12.pwconv2.bias: frozen\n",
      "convnextv2.encoder.stages.2.layers.13.dwconv.weight: frozen\n",
      "convnextv2.encoder.stages.2.layers.13.dwconv.bias: frozen\n",
      "convnextv2.encoder.stages.2.layers.13.layernorm.weight: frozen\n",
      "convnextv2.encoder.stages.2.layers.13.layernorm.bias: frozen\n",
      "convnextv2.encoder.stages.2.layers.13.pwconv1.weight: frozen\n",
      "convnextv2.encoder.stages.2.layers.13.pwconv1.bias: frozen\n",
      "convnextv2.encoder.stages.2.layers.13.grn.weight: frozen\n",
      "convnextv2.encoder.stages.2.layers.13.grn.bias: frozen\n",
      "convnextv2.encoder.stages.2.layers.13.pwconv2.weight: frozen\n",
      "convnextv2.encoder.stages.2.layers.13.pwconv2.bias: frozen\n",
      "convnextv2.encoder.stages.2.layers.14.dwconv.weight: frozen\n",
      "convnextv2.encoder.stages.2.layers.14.dwconv.bias: frozen\n",
      "convnextv2.encoder.stages.2.layers.14.layernorm.weight: frozen\n",
      "convnextv2.encoder.stages.2.layers.14.layernorm.bias: frozen\n",
      "convnextv2.encoder.stages.2.layers.14.pwconv1.weight: frozen\n",
      "convnextv2.encoder.stages.2.layers.14.pwconv1.bias: frozen\n",
      "convnextv2.encoder.stages.2.layers.14.grn.weight: frozen\n",
      "convnextv2.encoder.stages.2.layers.14.grn.bias: frozen\n",
      "convnextv2.encoder.stages.2.layers.14.pwconv2.weight: frozen\n",
      "convnextv2.encoder.stages.2.layers.14.pwconv2.bias: frozen\n",
      "convnextv2.encoder.stages.2.layers.15.dwconv.weight: frozen\n",
      "convnextv2.encoder.stages.2.layers.15.dwconv.bias: frozen\n",
      "convnextv2.encoder.stages.2.layers.15.layernorm.weight: frozen\n",
      "convnextv2.encoder.stages.2.layers.15.layernorm.bias: frozen\n",
      "convnextv2.encoder.stages.2.layers.15.pwconv1.weight: frozen\n",
      "convnextv2.encoder.stages.2.layers.15.pwconv1.bias: frozen\n",
      "convnextv2.encoder.stages.2.layers.15.grn.weight: frozen\n",
      "convnextv2.encoder.stages.2.layers.15.grn.bias: frozen\n",
      "convnextv2.encoder.stages.2.layers.15.pwconv2.weight: frozen\n",
      "convnextv2.encoder.stages.2.layers.15.pwconv2.bias: frozen\n",
      "convnextv2.encoder.stages.2.layers.16.dwconv.weight: frozen\n",
      "convnextv2.encoder.stages.2.layers.16.dwconv.bias: frozen\n",
      "convnextv2.encoder.stages.2.layers.16.layernorm.weight: frozen\n",
      "convnextv2.encoder.stages.2.layers.16.layernorm.bias: frozen\n",
      "convnextv2.encoder.stages.2.layers.16.pwconv1.weight: frozen\n",
      "convnextv2.encoder.stages.2.layers.16.pwconv1.bias: frozen\n",
      "convnextv2.encoder.stages.2.layers.16.grn.weight: frozen\n",
      "convnextv2.encoder.stages.2.layers.16.grn.bias: frozen\n",
      "convnextv2.encoder.stages.2.layers.16.pwconv2.weight: frozen\n",
      "convnextv2.encoder.stages.2.layers.16.pwconv2.bias: frozen\n",
      "convnextv2.encoder.stages.2.layers.17.dwconv.weight: frozen\n",
      "convnextv2.encoder.stages.2.layers.17.dwconv.bias: frozen\n",
      "convnextv2.encoder.stages.2.layers.17.layernorm.weight: frozen\n",
      "convnextv2.encoder.stages.2.layers.17.layernorm.bias: frozen\n",
      "convnextv2.encoder.stages.2.layers.17.pwconv1.weight: frozen\n",
      "convnextv2.encoder.stages.2.layers.17.pwconv1.bias: frozen\n",
      "convnextv2.encoder.stages.2.layers.17.grn.weight: frozen\n",
      "convnextv2.encoder.stages.2.layers.17.grn.bias: frozen\n",
      "convnextv2.encoder.stages.2.layers.17.pwconv2.weight: frozen\n",
      "convnextv2.encoder.stages.2.layers.17.pwconv2.bias: frozen\n",
      "convnextv2.encoder.stages.2.layers.18.dwconv.weight: frozen\n",
      "convnextv2.encoder.stages.2.layers.18.dwconv.bias: frozen\n",
      "convnextv2.encoder.stages.2.layers.18.layernorm.weight: frozen\n",
      "convnextv2.encoder.stages.2.layers.18.layernorm.bias: frozen\n",
      "convnextv2.encoder.stages.2.layers.18.pwconv1.weight: frozen\n",
      "convnextv2.encoder.stages.2.layers.18.pwconv1.bias: frozen\n",
      "convnextv2.encoder.stages.2.layers.18.grn.weight: frozen\n",
      "convnextv2.encoder.stages.2.layers.18.grn.bias: frozen\n",
      "convnextv2.encoder.stages.2.layers.18.pwconv2.weight: frozen\n",
      "convnextv2.encoder.stages.2.layers.18.pwconv2.bias: frozen\n",
      "convnextv2.encoder.stages.2.layers.19.dwconv.weight: frozen\n",
      "convnextv2.encoder.stages.2.layers.19.dwconv.bias: frozen\n",
      "convnextv2.encoder.stages.2.layers.19.layernorm.weight: frozen\n",
      "convnextv2.encoder.stages.2.layers.19.layernorm.bias: frozen\n",
      "convnextv2.encoder.stages.2.layers.19.pwconv1.weight: frozen\n",
      "convnextv2.encoder.stages.2.layers.19.pwconv1.bias: frozen\n",
      "convnextv2.encoder.stages.2.layers.19.grn.weight: frozen\n",
      "convnextv2.encoder.stages.2.layers.19.grn.bias: frozen\n",
      "convnextv2.encoder.stages.2.layers.19.pwconv2.weight: frozen\n",
      "convnextv2.encoder.stages.2.layers.19.pwconv2.bias: frozen\n",
      "convnextv2.encoder.stages.2.layers.20.dwconv.weight: frozen\n",
      "convnextv2.encoder.stages.2.layers.20.dwconv.bias: frozen\n",
      "convnextv2.encoder.stages.2.layers.20.layernorm.weight: frozen\n",
      "convnextv2.encoder.stages.2.layers.20.layernorm.bias: frozen\n",
      "convnextv2.encoder.stages.2.layers.20.pwconv1.weight: frozen\n",
      "convnextv2.encoder.stages.2.layers.20.pwconv1.bias: frozen\n",
      "convnextv2.encoder.stages.2.layers.20.grn.weight: frozen\n",
      "convnextv2.encoder.stages.2.layers.20.grn.bias: frozen\n",
      "convnextv2.encoder.stages.2.layers.20.pwconv2.weight: frozen\n",
      "convnextv2.encoder.stages.2.layers.20.pwconv2.bias: frozen\n",
      "convnextv2.encoder.stages.2.layers.21.dwconv.weight: frozen\n",
      "convnextv2.encoder.stages.2.layers.21.dwconv.bias: frozen\n",
      "convnextv2.encoder.stages.2.layers.21.layernorm.weight: frozen\n",
      "convnextv2.encoder.stages.2.layers.21.layernorm.bias: frozen\n",
      "convnextv2.encoder.stages.2.layers.21.pwconv1.weight: frozen\n",
      "convnextv2.encoder.stages.2.layers.21.pwconv1.bias: frozen\n",
      "convnextv2.encoder.stages.2.layers.21.grn.weight: frozen\n",
      "convnextv2.encoder.stages.2.layers.21.grn.bias: frozen\n",
      "convnextv2.encoder.stages.2.layers.21.pwconv2.weight: frozen\n",
      "convnextv2.encoder.stages.2.layers.21.pwconv2.bias: frozen\n",
      "convnextv2.encoder.stages.2.layers.22.dwconv.weight: frozen\n",
      "convnextv2.encoder.stages.2.layers.22.dwconv.bias: frozen\n",
      "convnextv2.encoder.stages.2.layers.22.layernorm.weight: frozen\n",
      "convnextv2.encoder.stages.2.layers.22.layernorm.bias: frozen\n",
      "convnextv2.encoder.stages.2.layers.22.pwconv1.weight: frozen\n",
      "convnextv2.encoder.stages.2.layers.22.pwconv1.bias: frozen\n",
      "convnextv2.encoder.stages.2.layers.22.grn.weight: frozen\n",
      "convnextv2.encoder.stages.2.layers.22.grn.bias: frozen\n",
      "convnextv2.encoder.stages.2.layers.22.pwconv2.weight: frozen\n",
      "convnextv2.encoder.stages.2.layers.22.pwconv2.bias: frozen\n",
      "convnextv2.encoder.stages.2.layers.23.dwconv.weight: frozen\n",
      "convnextv2.encoder.stages.2.layers.23.dwconv.bias: frozen\n",
      "convnextv2.encoder.stages.2.layers.23.layernorm.weight: frozen\n",
      "convnextv2.encoder.stages.2.layers.23.layernorm.bias: frozen\n",
      "convnextv2.encoder.stages.2.layers.23.pwconv1.weight: frozen\n",
      "convnextv2.encoder.stages.2.layers.23.pwconv1.bias: frozen\n",
      "convnextv2.encoder.stages.2.layers.23.grn.weight: frozen\n",
      "convnextv2.encoder.stages.2.layers.23.grn.bias: frozen\n",
      "convnextv2.encoder.stages.2.layers.23.pwconv2.weight: frozen\n",
      "convnextv2.encoder.stages.2.layers.23.pwconv2.bias: frozen\n",
      "convnextv2.encoder.stages.2.layers.24.dwconv.weight: frozen\n",
      "convnextv2.encoder.stages.2.layers.24.dwconv.bias: frozen\n",
      "convnextv2.encoder.stages.2.layers.24.layernorm.weight: frozen\n",
      "convnextv2.encoder.stages.2.layers.24.layernorm.bias: frozen\n",
      "convnextv2.encoder.stages.2.layers.24.pwconv1.weight: frozen\n",
      "convnextv2.encoder.stages.2.layers.24.pwconv1.bias: frozen\n",
      "convnextv2.encoder.stages.2.layers.24.grn.weight: frozen\n",
      "convnextv2.encoder.stages.2.layers.24.grn.bias: frozen\n",
      "convnextv2.encoder.stages.2.layers.24.pwconv2.weight: frozen\n",
      "convnextv2.encoder.stages.2.layers.24.pwconv2.bias: frozen\n",
      "convnextv2.encoder.stages.2.layers.25.dwconv.weight: frozen\n",
      "convnextv2.encoder.stages.2.layers.25.dwconv.bias: frozen\n",
      "convnextv2.encoder.stages.2.layers.25.layernorm.weight: frozen\n",
      "convnextv2.encoder.stages.2.layers.25.layernorm.bias: frozen\n",
      "convnextv2.encoder.stages.2.layers.25.pwconv1.weight: frozen\n",
      "convnextv2.encoder.stages.2.layers.25.pwconv1.bias: frozen\n",
      "convnextv2.encoder.stages.2.layers.25.grn.weight: frozen\n",
      "convnextv2.encoder.stages.2.layers.25.grn.bias: frozen\n",
      "convnextv2.encoder.stages.2.layers.25.pwconv2.weight: frozen\n",
      "convnextv2.encoder.stages.2.layers.25.pwconv2.bias: frozen\n",
      "convnextv2.encoder.stages.2.layers.26.dwconv.weight: frozen\n",
      "convnextv2.encoder.stages.2.layers.26.dwconv.bias: frozen\n",
      "convnextv2.encoder.stages.2.layers.26.layernorm.weight: frozen\n",
      "convnextv2.encoder.stages.2.layers.26.layernorm.bias: frozen\n",
      "convnextv2.encoder.stages.2.layers.26.pwconv1.weight: frozen\n",
      "convnextv2.encoder.stages.2.layers.26.pwconv1.bias: frozen\n",
      "convnextv2.encoder.stages.2.layers.26.grn.weight: frozen\n",
      "convnextv2.encoder.stages.2.layers.26.grn.bias: frozen\n",
      "convnextv2.encoder.stages.2.layers.26.pwconv2.weight: frozen\n",
      "convnextv2.encoder.stages.2.layers.26.pwconv2.bias: frozen\n",
      "convnextv2.encoder.stages.3.downsampling_layer.0.weight: frozen\n",
      "convnextv2.encoder.stages.3.downsampling_layer.0.bias: frozen\n",
      "convnextv2.encoder.stages.3.downsampling_layer.1.weight: frozen\n",
      "convnextv2.encoder.stages.3.downsampling_layer.1.bias: frozen\n",
      "convnextv2.encoder.stages.3.layers.0.dwconv.weight: frozen\n",
      "convnextv2.encoder.stages.3.layers.0.dwconv.bias: frozen\n",
      "convnextv2.encoder.stages.3.layers.0.layernorm.weight: frozen\n",
      "convnextv2.encoder.stages.3.layers.0.layernorm.bias: frozen\n",
      "convnextv2.encoder.stages.3.layers.0.pwconv1.weight: frozen\n",
      "convnextv2.encoder.stages.3.layers.0.pwconv1.bias: frozen\n",
      "convnextv2.encoder.stages.3.layers.0.grn.weight: frozen\n",
      "convnextv2.encoder.stages.3.layers.0.grn.bias: frozen\n",
      "convnextv2.encoder.stages.3.layers.0.pwconv2.weight: frozen\n",
      "convnextv2.encoder.stages.3.layers.0.pwconv2.bias: frozen\n",
      "convnextv2.encoder.stages.3.layers.1.dwconv.weight: frozen\n",
      "convnextv2.encoder.stages.3.layers.1.dwconv.bias: frozen\n",
      "convnextv2.encoder.stages.3.layers.1.layernorm.weight: frozen\n",
      "convnextv2.encoder.stages.3.layers.1.layernorm.bias: frozen\n",
      "convnextv2.encoder.stages.3.layers.1.pwconv1.weight: frozen\n",
      "convnextv2.encoder.stages.3.layers.1.pwconv1.bias: frozen\n",
      "convnextv2.encoder.stages.3.layers.1.grn.weight: frozen\n",
      "convnextv2.encoder.stages.3.layers.1.grn.bias: frozen\n",
      "convnextv2.encoder.stages.3.layers.1.pwconv2.weight: frozen\n",
      "convnextv2.encoder.stages.3.layers.1.pwconv2.bias: frozen\n",
      "convnextv2.encoder.stages.3.layers.2.dwconv.weight: frozen\n",
      "convnextv2.encoder.stages.3.layers.2.dwconv.bias: frozen\n",
      "convnextv2.encoder.stages.3.layers.2.layernorm.weight: frozen\n",
      "convnextv2.encoder.stages.3.layers.2.layernorm.bias: frozen\n",
      "convnextv2.encoder.stages.3.layers.2.pwconv1.weight: frozen\n",
      "convnextv2.encoder.stages.3.layers.2.pwconv1.bias: frozen\n",
      "convnextv2.encoder.stages.3.layers.2.grn.weight: frozen\n",
      "convnextv2.encoder.stages.3.layers.2.grn.bias: frozen\n",
      "convnextv2.encoder.stages.3.layers.2.pwconv2.weight: frozen\n",
      "convnextv2.encoder.stages.3.layers.2.pwconv2.bias: frozen\n",
      "convnextv2.layernorm.weight: frozen\n",
      "convnextv2.layernorm.bias: frozen\n",
      "classifier.weight: requires_grad\n",
      "classifier.bias: requires_grad\n"
     ]
    }
   ],
   "source": [
    "# Initialize the modified ResNet model\n",
    "\n",
    "processor = AutoImageProcessor.from_pretrained(\"facebook/convnextv2-base-1k-224\")\n",
    "model = AutoModelForImageClassification.from_pretrained(\"facebook/convnextv2-base-1k-224\").to(device)\n",
    "\n",
    "# model = CustomResNet50(num_classes=len(train_dataset.label_map)).to(device)\n",
    "# model = models.resnet50(weights=models.ResNet50_Weights.IMAGENET1K_V1).to(device)\n",
    "for name, param in model.named_parameters():\n",
    "    param.requires_grad = \"classifier\" in name\n",
    "\n",
    "# Get the number of input features of the current classifier layer\n",
    "num_features = model.classifier.in_features\n",
    "\n",
    "# Replace the classifier layer with a new one\n",
    "model.classifier = nn.Linear(num_features, 34).to(device)  # Assuming 10 classes\n",
    "\n",
    "print(model.classifier.out_features)\n",
    "    \n",
    "\n",
    "for name, param in model.named_parameters():\n",
    "    print(f\"{name}: {'requires_grad' if param.requires_grad else 'frozen'}\")\n"
   ]
  },
  {
   "cell_type": "code",
   "execution_count": 6,
   "id": "0f350094-d65d-4d20-9550-32cce9d0c2a9",
   "metadata": {},
   "outputs": [
    {
     "name": "stderr",
     "output_type": "stream",
     "text": [
      "/home/michael/Desktop/ifile/nn/ResNet-PyTorch/ResNet/venvres/lib/python3.9/site-packages/transformers/optimization.py:591: FutureWarning: This implementation of AdamW is deprecated and will be removed in a future version. Use the PyTorch implementation torch.optim.AdamW instead, or set `no_deprecation_warning=True` to disable this warning\n",
      "  warnings.warn(\n"
     ]
    }
   ],
   "source": [
    "# Define the loss function and optimizer\n",
    "criterion = nn.CrossEntropyLoss()\n",
    "# optimizer = optim.SGD(model.parameters(), lr=0.01, momentum=0.9, weight_decay=0.0005)\n",
    "# optimizer = optim.Adam(model.parameters(), lr=0.001)\n",
    "from transformers import AdamW\n",
    "optimizer = AdamW(model.parameters(), lr=0.001, weight_decay=0.01)\n",
    "scheduler = optim.lr_scheduler.ReduceLROnPlateau(optimizer, factor = 0.5, patience=5)\n",
    "\n"
   ]
  },
  {
   "cell_type": "code",
   "execution_count": 7,
   "id": "34fc8890-bf14-4061-8099-b5b8e9c5b194",
   "metadata": {
    "scrolled": true
   },
   "outputs": [
    {
     "name": "stdout",
     "output_type": "stream",
     "text": [
      "Epoch [1/125], Loss: 2.6587, Training Accuracy: 45.52%, Precision: 0.590, Recall: 0.455, F1 Score: 0.467\n",
      "Validation Loss: 1.8053, Validation Accuracy: 67.11%, Precision: 0.650, Recall: 0.671, F1 Score: 0.628\n",
      "Epoch [1/125] completed in 11.69 seconds\n"
     ]
    },
    {
     "name": "stderr",
     "output_type": "stream",
     "text": [
      "/home/michael/Desktop/ifile/nn/ResNet-PyTorch/ResNet/venvres/lib/python3.9/site-packages/sklearn/metrics/_classification.py:1531: UndefinedMetricWarning: Precision is ill-defined and being set to 0.0 in labels with no predicted samples. Use `zero_division` parameter to control this behavior.\n",
      "  _warn_prf(average, modifier, f\"{metric.capitalize()} is\", len(result))\n"
     ]
    },
    {
     "name": "stdout",
     "output_type": "stream",
     "text": [
      "Epoch [2/125], Loss: 1.3613, Training Accuracy: 79.10%, Precision: 0.812, Recall: 0.791, F1 Score: 0.784\n",
      "Validation Loss: 1.1581, Validation Accuracy: 73.68%, Precision: 0.783, Recall: 0.737, F1 Score: 0.719\n",
      "Epoch [2/125] completed in 11.81 seconds\n"
     ]
    },
    {
     "name": "stderr",
     "output_type": "stream",
     "text": [
      "/home/michael/Desktop/ifile/nn/ResNet-PyTorch/ResNet/venvres/lib/python3.9/site-packages/sklearn/metrics/_classification.py:1531: UndefinedMetricWarning: Precision is ill-defined and being set to 0.0 in labels with no predicted samples. Use `zero_division` parameter to control this behavior.\n",
      "  _warn_prf(average, modifier, f\"{metric.capitalize()} is\", len(result))\n"
     ]
    },
    {
     "name": "stdout",
     "output_type": "stream",
     "text": [
      "Epoch [3/125], Loss: 0.8754, Training Accuracy: 86.94%, Precision: 0.877, Recall: 0.869, F1 Score: 0.868\n",
      "Validation Loss: 0.8835, Validation Accuracy: 80.26%, Precision: 0.798, Recall: 0.803, F1 Score: 0.780\n",
      "Epoch [3/125] completed in 11.71 seconds\n"
     ]
    },
    {
     "name": "stderr",
     "output_type": "stream",
     "text": [
      "/home/michael/Desktop/ifile/nn/ResNet-PyTorch/ResNet/venvres/lib/python3.9/site-packages/sklearn/metrics/_classification.py:1531: UndefinedMetricWarning: Precision is ill-defined and being set to 0.0 in labels with no predicted samples. Use `zero_division` parameter to control this behavior.\n",
      "  _warn_prf(average, modifier, f\"{metric.capitalize()} is\", len(result))\n"
     ]
    },
    {
     "name": "stdout",
     "output_type": "stream",
     "text": [
      "Epoch [4/125], Loss: 0.6385, Training Accuracy: 91.23%, Precision: 0.918, Recall: 0.912, F1 Score: 0.912\n",
      "Validation Loss: 0.7356, Validation Accuracy: 78.95%, Precision: 0.785, Recall: 0.789, F1 Score: 0.767\n",
      "Epoch [4/125] completed in 11.66 seconds\n"
     ]
    },
    {
     "name": "stderr",
     "output_type": "stream",
     "text": [
      "/home/michael/Desktop/ifile/nn/ResNet-PyTorch/ResNet/venvres/lib/python3.9/site-packages/sklearn/metrics/_classification.py:1531: UndefinedMetricWarning: Precision is ill-defined and being set to 0.0 in labels with no predicted samples. Use `zero_division` parameter to control this behavior.\n",
      "  _warn_prf(average, modifier, f\"{metric.capitalize()} is\", len(result))\n"
     ]
    },
    {
     "name": "stdout",
     "output_type": "stream",
     "text": [
      "Epoch [5/125], Loss: 0.5068, Training Accuracy: 92.72%, Precision: 0.931, Recall: 0.927, F1 Score: 0.928\n",
      "Validation Loss: 0.6474, Validation Accuracy: 82.89%, Precision: 0.831, Recall: 0.829, F1 Score: 0.814\n",
      "Epoch [5/125] completed in 11.72 seconds\n"
     ]
    },
    {
     "name": "stderr",
     "output_type": "stream",
     "text": [
      "/home/michael/Desktop/ifile/nn/ResNet-PyTorch/ResNet/venvres/lib/python3.9/site-packages/sklearn/metrics/_classification.py:1531: UndefinedMetricWarning: Precision is ill-defined and being set to 0.0 in labels with no predicted samples. Use `zero_division` parameter to control this behavior.\n",
      "  _warn_prf(average, modifier, f\"{metric.capitalize()} is\", len(result))\n"
     ]
    },
    {
     "name": "stdout",
     "output_type": "stream",
     "text": [
      "Epoch [6/125], Loss: 0.4153, Training Accuracy: 94.03%, Precision: 0.944, Recall: 0.940, F1 Score: 0.940\n",
      "Validation Loss: 0.5719, Validation Accuracy: 85.53%, Precision: 0.887, Recall: 0.855, F1 Score: 0.850\n",
      "Epoch [6/125] completed in 11.72 seconds\n",
      "Epoch [7/125], Loss: 0.3513, Training Accuracy: 95.34%, Precision: 0.955, Recall: 0.953, F1 Score: 0.954\n",
      "Validation Loss: 0.5329, Validation Accuracy: 86.84%, Precision: 0.899, Recall: 0.868, F1 Score: 0.863\n",
      "Epoch [7/125] completed in 11.71 seconds\n",
      "Epoch [8/125], Loss: 0.3053, Training Accuracy: 95.71%, Precision: 0.960, Recall: 0.957, F1 Score: 0.957\n",
      "Validation Loss: 0.4968, Validation Accuracy: 85.53%, Precision: 0.884, Recall: 0.855, F1 Score: 0.849\n",
      "Epoch [8/125] completed in 11.69 seconds\n",
      "Epoch [9/125], Loss: 0.2654, Training Accuracy: 96.83%, Precision: 0.970, Recall: 0.968, F1 Score: 0.969\n",
      "Validation Loss: 0.4664, Validation Accuracy: 88.16%, Precision: 0.891, Recall: 0.882, F1 Score: 0.873\n",
      "Epoch [9/125] completed in 11.69 seconds\n",
      "Epoch [10/125], Loss: 0.2362, Training Accuracy: 97.76%, Precision: 0.979, Recall: 0.978, F1 Score: 0.978\n",
      "Validation Loss: 0.4376, Validation Accuracy: 90.79%, Precision: 0.927, Recall: 0.908, F1 Score: 0.905\n",
      "Epoch [10/125] completed in 11.67 seconds\n",
      "Epoch [11/125], Loss: 0.2087, Training Accuracy: 98.32%, Precision: 0.984, Recall: 0.983, F1 Score: 0.983\n",
      "Validation Loss: 0.4228, Validation Accuracy: 89.47%, Precision: 0.921, Recall: 0.895, F1 Score: 0.893\n",
      "Epoch [11/125] completed in 11.78 seconds\n",
      "Epoch [12/125], Loss: 0.1933, Training Accuracy: 97.95%, Precision: 0.981, Recall: 0.979, F1 Score: 0.979\n",
      "Validation Loss: 0.4120, Validation Accuracy: 88.16%, Precision: 0.886, Recall: 0.882, F1 Score: 0.864\n",
      "Epoch [12/125] completed in 11.69 seconds\n"
     ]
    },
    {
     "name": "stderr",
     "output_type": "stream",
     "text": [
      "/home/michael/Desktop/ifile/nn/ResNet-PyTorch/ResNet/venvres/lib/python3.9/site-packages/sklearn/metrics/_classification.py:1531: UndefinedMetricWarning: Precision is ill-defined and being set to 0.0 in labels with no predicted samples. Use `zero_division` parameter to control this behavior.\n",
      "  _warn_prf(average, modifier, f\"{metric.capitalize()} is\", len(result))\n"
     ]
    },
    {
     "name": "stdout",
     "output_type": "stream",
     "text": [
      "Epoch [13/125], Loss: 0.1723, Training Accuracy: 98.51%, Precision: 0.986, Recall: 0.985, F1 Score: 0.985\n",
      "Validation Loss: 0.3975, Validation Accuracy: 86.84%, Precision: 0.877, Recall: 0.868, F1 Score: 0.856\n",
      "Epoch [13/125] completed in 11.68 seconds\n"
     ]
    },
    {
     "name": "stderr",
     "output_type": "stream",
     "text": [
      "/home/michael/Desktop/ifile/nn/ResNet-PyTorch/ResNet/venvres/lib/python3.9/site-packages/sklearn/metrics/_classification.py:1531: UndefinedMetricWarning: Precision is ill-defined and being set to 0.0 in labels with no predicted samples. Use `zero_division` parameter to control this behavior.\n",
      "  _warn_prf(average, modifier, f\"{metric.capitalize()} is\", len(result))\n"
     ]
    },
    {
     "name": "stdout",
     "output_type": "stream",
     "text": [
      "Epoch [14/125], Loss: 0.1563, Training Accuracy: 98.51%, Precision: 0.986, Recall: 0.985, F1 Score: 0.985\n",
      "Validation Loss: 0.3731, Validation Accuracy: 90.79%, Precision: 0.922, Recall: 0.908, F1 Score: 0.905\n",
      "Epoch [14/125] completed in 11.78 seconds\n",
      "Epoch [15/125], Loss: 0.1413, Training Accuracy: 99.25%, Precision: 0.993, Recall: 0.993, F1 Score: 0.992\n",
      "Validation Loss: 0.3764, Validation Accuracy: 86.84%, Precision: 0.880, Recall: 0.868, F1 Score: 0.852\n",
      "Epoch [15/125] completed in 11.69 seconds\n"
     ]
    },
    {
     "name": "stderr",
     "output_type": "stream",
     "text": [
      "/home/michael/Desktop/ifile/nn/ResNet-PyTorch/ResNet/venvres/lib/python3.9/site-packages/sklearn/metrics/_classification.py:1531: UndefinedMetricWarning: Precision is ill-defined and being set to 0.0 in labels with no predicted samples. Use `zero_division` parameter to control this behavior.\n",
      "  _warn_prf(average, modifier, f\"{metric.capitalize()} is\", len(result))\n"
     ]
    },
    {
     "name": "stdout",
     "output_type": "stream",
     "text": [
      "Epoch [16/125], Loss: 0.1318, Training Accuracy: 99.07%, Precision: 0.991, Recall: 0.991, F1 Score: 0.991\n",
      "Validation Loss: 0.3570, Validation Accuracy: 89.47%, Precision: 0.899, Recall: 0.895, F1 Score: 0.882\n",
      "Epoch [16/125] completed in 11.72 seconds\n"
     ]
    },
    {
     "name": "stderr",
     "output_type": "stream",
     "text": [
      "/home/michael/Desktop/ifile/nn/ResNet-PyTorch/ResNet/venvres/lib/python3.9/site-packages/sklearn/metrics/_classification.py:1531: UndefinedMetricWarning: Precision is ill-defined and being set to 0.0 in labels with no predicted samples. Use `zero_division` parameter to control this behavior.\n",
      "  _warn_prf(average, modifier, f\"{metric.capitalize()} is\", len(result))\n"
     ]
    },
    {
     "name": "stdout",
     "output_type": "stream",
     "text": [
      "Epoch [17/125], Loss: 0.1200, Training Accuracy: 99.25%, Precision: 0.993, Recall: 0.993, F1 Score: 0.993\n",
      "Validation Loss: 0.3478, Validation Accuracy: 92.11%, Precision: 0.922, Recall: 0.921, F1 Score: 0.909\n",
      "Epoch [17/125] completed in 11.67 seconds\n"
     ]
    },
    {
     "name": "stderr",
     "output_type": "stream",
     "text": [
      "/home/michael/Desktop/ifile/nn/ResNet-PyTorch/ResNet/venvres/lib/python3.9/site-packages/sklearn/metrics/_classification.py:1531: UndefinedMetricWarning: Precision is ill-defined and being set to 0.0 in labels with no predicted samples. Use `zero_division` parameter to control this behavior.\n",
      "  _warn_prf(average, modifier, f\"{metric.capitalize()} is\", len(result))\n"
     ]
    },
    {
     "name": "stdout",
     "output_type": "stream",
     "text": [
      "Epoch [18/125], Loss: 0.1103, Training Accuracy: 99.25%, Precision: 0.993, Recall: 0.993, F1 Score: 0.992\n",
      "Validation Loss: 0.3340, Validation Accuracy: 89.47%, Precision: 0.909, Recall: 0.895, F1 Score: 0.892\n",
      "Epoch [18/125] completed in 11.70 seconds\n",
      "Epoch [19/125], Loss: 0.1024, Training Accuracy: 99.07%, Precision: 0.991, Recall: 0.991, F1 Score: 0.991\n",
      "Validation Loss: 0.3207, Validation Accuracy: 92.11%, Precision: 0.935, Recall: 0.921, F1 Score: 0.918\n",
      "Epoch [19/125] completed in 11.70 seconds\n",
      "Epoch [20/125], Loss: 0.0958, Training Accuracy: 99.63%, Precision: 0.996, Recall: 0.996, F1 Score: 0.996\n",
      "Validation Loss: 0.3202, Validation Accuracy: 88.16%, Precision: 0.890, Recall: 0.882, F1 Score: 0.873\n",
      "Epoch [20/125] completed in 11.74 seconds\n",
      "Epoch [21/125], Loss: 0.0888, Training Accuracy: 99.44%, Precision: 0.995, Recall: 0.994, F1 Score: 0.994\n",
      "Validation Loss: 0.3202, Validation Accuracy: 90.79%, Precision: 0.909, Recall: 0.908, F1 Score: 0.896\n",
      "Epoch [21/125] completed in 11.67 seconds\n"
     ]
    },
    {
     "name": "stderr",
     "output_type": "stream",
     "text": [
      "/home/michael/Desktop/ifile/nn/ResNet-PyTorch/ResNet/venvres/lib/python3.9/site-packages/sklearn/metrics/_classification.py:1531: UndefinedMetricWarning: Precision is ill-defined and being set to 0.0 in labels with no predicted samples. Use `zero_division` parameter to control this behavior.\n",
      "  _warn_prf(average, modifier, f\"{metric.capitalize()} is\", len(result))\n"
     ]
    },
    {
     "name": "stdout",
     "output_type": "stream",
     "text": [
      "Epoch [22/125], Loss: 0.0818, Training Accuracy: 99.63%, Precision: 0.996, Recall: 0.996, F1 Score: 0.996\n",
      "Validation Loss: 0.3190, Validation Accuracy: 90.79%, Precision: 0.909, Recall: 0.908, F1 Score: 0.896\n",
      "Epoch [22/125] completed in 11.69 seconds\n"
     ]
    },
    {
     "name": "stderr",
     "output_type": "stream",
     "text": [
      "/home/michael/Desktop/ifile/nn/ResNet-PyTorch/ResNet/venvres/lib/python3.9/site-packages/sklearn/metrics/_classification.py:1531: UndefinedMetricWarning: Precision is ill-defined and being set to 0.0 in labels with no predicted samples. Use `zero_division` parameter to control this behavior.\n",
      "  _warn_prf(average, modifier, f\"{metric.capitalize()} is\", len(result))\n"
     ]
    },
    {
     "name": "stdout",
     "output_type": "stream",
     "text": [
      "Epoch [23/125], Loss: 0.0774, Training Accuracy: 100.00%, Precision: 1.000, Recall: 1.000, F1 Score: 1.000\n",
      "Validation Loss: 0.3193, Validation Accuracy: 88.16%, Precision: 0.904, Recall: 0.882, F1 Score: 0.874\n",
      "Epoch [23/125] completed in 11.69 seconds\n",
      "Epoch [24/125], Loss: 0.0709, Training Accuracy: 100.00%, Precision: 1.000, Recall: 1.000, F1 Score: 1.000\n",
      "Validation Loss: 0.2983, Validation Accuracy: 92.11%, Precision: 0.922, Recall: 0.921, F1 Score: 0.909\n",
      "Epoch [24/125] completed in 11.68 seconds\n"
     ]
    },
    {
     "name": "stderr",
     "output_type": "stream",
     "text": [
      "/home/michael/Desktop/ifile/nn/ResNet-PyTorch/ResNet/venvres/lib/python3.9/site-packages/sklearn/metrics/_classification.py:1531: UndefinedMetricWarning: Precision is ill-defined and being set to 0.0 in labels with no predicted samples. Use `zero_division` parameter to control this behavior.\n",
      "  _warn_prf(average, modifier, f\"{metric.capitalize()} is\", len(result))\n"
     ]
    },
    {
     "name": "stdout",
     "output_type": "stream",
     "text": [
      "Epoch [25/125], Loss: 0.0669, Training Accuracy: 100.00%, Precision: 1.000, Recall: 1.000, F1 Score: 1.000\n",
      "Validation Loss: 0.2951, Validation Accuracy: 89.47%, Precision: 0.912, Recall: 0.895, F1 Score: 0.891\n",
      "Epoch [25/125] completed in 11.68 seconds\n",
      "Epoch [26/125], Loss: 0.0624, Training Accuracy: 100.00%, Precision: 1.000, Recall: 1.000, F1 Score: 1.000\n",
      "Validation Loss: 0.2840, Validation Accuracy: 92.11%, Precision: 0.940, Recall: 0.921, F1 Score: 0.917\n",
      "Epoch [26/125] completed in 11.65 seconds\n",
      "Epoch [27/125], Loss: 0.0586, Training Accuracy: 100.00%, Precision: 1.000, Recall: 1.000, F1 Score: 1.000\n",
      "Validation Loss: 0.2878, Validation Accuracy: 89.47%, Precision: 0.912, Recall: 0.895, F1 Score: 0.891\n",
      "Epoch [27/125] completed in 11.70 seconds\n",
      "Epoch [28/125], Loss: 0.0553, Training Accuracy: 100.00%, Precision: 1.000, Recall: 1.000, F1 Score: 1.000\n",
      "Validation Loss: 0.2788, Validation Accuracy: 90.79%, Precision: 0.905, Recall: 0.908, F1 Score: 0.894\n",
      "Epoch [28/125] completed in 11.68 seconds\n"
     ]
    },
    {
     "name": "stderr",
     "output_type": "stream",
     "text": [
      "/home/michael/Desktop/ifile/nn/ResNet-PyTorch/ResNet/venvres/lib/python3.9/site-packages/sklearn/metrics/_classification.py:1531: UndefinedMetricWarning: Precision is ill-defined and being set to 0.0 in labels with no predicted samples. Use `zero_division` parameter to control this behavior.\n",
      "  _warn_prf(average, modifier, f\"{metric.capitalize()} is\", len(result))\n"
     ]
    },
    {
     "name": "stdout",
     "output_type": "stream",
     "text": [
      "Epoch [29/125], Loss: 0.0513, Training Accuracy: 100.00%, Precision: 1.000, Recall: 1.000, F1 Score: 1.000\n",
      "Validation Loss: 0.2872, Validation Accuracy: 90.79%, Precision: 0.912, Recall: 0.908, F1 Score: 0.896\n",
      "Epoch [29/125] completed in 11.72 seconds\n"
     ]
    },
    {
     "name": "stderr",
     "output_type": "stream",
     "text": [
      "/home/michael/Desktop/ifile/nn/ResNet-PyTorch/ResNet/venvres/lib/python3.9/site-packages/sklearn/metrics/_classification.py:1531: UndefinedMetricWarning: Precision is ill-defined and being set to 0.0 in labels with no predicted samples. Use `zero_division` parameter to control this behavior.\n",
      "  _warn_prf(average, modifier, f\"{metric.capitalize()} is\", len(result))\n"
     ]
    },
    {
     "name": "stdout",
     "output_type": "stream",
     "text": [
      "Epoch [30/125], Loss: 0.0494, Training Accuracy: 100.00%, Precision: 1.000, Recall: 1.000, F1 Score: 1.000\n",
      "Validation Loss: 0.2727, Validation Accuracy: 92.11%, Precision: 0.935, Recall: 0.921, F1 Score: 0.918\n",
      "Epoch [30/125] completed in 11.68 seconds\n",
      "Epoch [31/125], Loss: 0.0454, Training Accuracy: 100.00%, Precision: 1.000, Recall: 1.000, F1 Score: 1.000\n",
      "Validation Loss: 0.2786, Validation Accuracy: 92.11%, Precision: 0.940, Recall: 0.921, F1 Score: 0.917\n",
      "Epoch [31/125] completed in 11.67 seconds\n",
      "Epoch [32/125], Loss: 0.0426, Training Accuracy: 100.00%, Precision: 1.000, Recall: 1.000, F1 Score: 1.000\n",
      "Validation Loss: 0.2739, Validation Accuracy: 92.11%, Precision: 0.935, Recall: 0.921, F1 Score: 0.918\n",
      "Epoch [32/125] completed in 11.68 seconds\n",
      "Epoch [33/125], Loss: 0.0406, Training Accuracy: 100.00%, Precision: 1.000, Recall: 1.000, F1 Score: 1.000\n",
      "Validation Loss: 0.2730, Validation Accuracy: 90.79%, Precision: 0.909, Recall: 0.908, F1 Score: 0.896\n",
      "Epoch [33/125] completed in 11.70 seconds\n"
     ]
    },
    {
     "name": "stderr",
     "output_type": "stream",
     "text": [
      "/home/michael/Desktop/ifile/nn/ResNet-PyTorch/ResNet/venvres/lib/python3.9/site-packages/sklearn/metrics/_classification.py:1531: UndefinedMetricWarning: Precision is ill-defined and being set to 0.0 in labels with no predicted samples. Use `zero_division` parameter to control this behavior.\n",
      "  _warn_prf(average, modifier, f\"{metric.capitalize()} is\", len(result))\n"
     ]
    },
    {
     "name": "stdout",
     "output_type": "stream",
     "text": [
      "Epoch [34/125], Loss: 0.0393, Training Accuracy: 100.00%, Precision: 1.000, Recall: 1.000, F1 Score: 1.000\n",
      "Validation Loss: 0.2753, Validation Accuracy: 89.47%, Precision: 0.896, Recall: 0.895, F1 Score: 0.883\n",
      "Epoch [34/125] completed in 11.69 seconds\n"
     ]
    },
    {
     "name": "stderr",
     "output_type": "stream",
     "text": [
      "/home/michael/Desktop/ifile/nn/ResNet-PyTorch/ResNet/venvres/lib/python3.9/site-packages/sklearn/metrics/_classification.py:1531: UndefinedMetricWarning: Precision is ill-defined and being set to 0.0 in labels with no predicted samples. Use `zero_division` parameter to control this behavior.\n",
      "  _warn_prf(average, modifier, f\"{metric.capitalize()} is\", len(result))\n"
     ]
    },
    {
     "name": "stdout",
     "output_type": "stream",
     "text": [
      "Epoch [35/125], Loss: 0.0363, Training Accuracy: 100.00%, Precision: 1.000, Recall: 1.000, F1 Score: 1.000\n",
      "Validation Loss: 0.2602, Validation Accuracy: 89.47%, Precision: 0.912, Recall: 0.895, F1 Score: 0.891\n",
      "Epoch [35/125] completed in 11.68 seconds\n",
      "Epoch [36/125], Loss: 0.0344, Training Accuracy: 100.00%, Precision: 1.000, Recall: 1.000, F1 Score: 1.000\n",
      "Validation Loss: 0.2614, Validation Accuracy: 89.47%, Precision: 0.896, Recall: 0.895, F1 Score: 0.883\n",
      "Epoch [36/125] completed in 11.71 seconds\n"
     ]
    },
    {
     "name": "stderr",
     "output_type": "stream",
     "text": [
      "/home/michael/Desktop/ifile/nn/ResNet-PyTorch/ResNet/venvres/lib/python3.9/site-packages/sklearn/metrics/_classification.py:1531: UndefinedMetricWarning: Precision is ill-defined and being set to 0.0 in labels with no predicted samples. Use `zero_division` parameter to control this behavior.\n",
      "  _warn_prf(average, modifier, f\"{metric.capitalize()} is\", len(result))\n"
     ]
    },
    {
     "name": "stdout",
     "output_type": "stream",
     "text": [
      "Epoch [37/125], Loss: 0.0324, Training Accuracy: 100.00%, Precision: 1.000, Recall: 1.000, F1 Score: 1.000\n",
      "Validation Loss: 0.2690, Validation Accuracy: 89.47%, Precision: 0.896, Recall: 0.895, F1 Score: 0.883\n",
      "Epoch [37/125] completed in 11.66 seconds\n"
     ]
    },
    {
     "name": "stderr",
     "output_type": "stream",
     "text": [
      "/home/michael/Desktop/ifile/nn/ResNet-PyTorch/ResNet/venvres/lib/python3.9/site-packages/sklearn/metrics/_classification.py:1531: UndefinedMetricWarning: Precision is ill-defined and being set to 0.0 in labels with no predicted samples. Use `zero_division` parameter to control this behavior.\n",
      "  _warn_prf(average, modifier, f\"{metric.capitalize()} is\", len(result))\n"
     ]
    },
    {
     "name": "stdout",
     "output_type": "stream",
     "text": [
      "Epoch [38/125], Loss: 0.0302, Training Accuracy: 100.00%, Precision: 1.000, Recall: 1.000, F1 Score: 1.000\n",
      "Validation Loss: 0.2657, Validation Accuracy: 90.79%, Precision: 0.925, Recall: 0.908, F1 Score: 0.905\n",
      "Epoch [38/125] completed in 11.67 seconds\n",
      "Epoch [39/125], Loss: 0.0290, Training Accuracy: 100.00%, Precision: 1.000, Recall: 1.000, F1 Score: 1.000\n",
      "Validation Loss: 0.2543, Validation Accuracy: 92.11%, Precision: 0.922, Recall: 0.921, F1 Score: 0.909\n",
      "Epoch [39/125] completed in 11.68 seconds\n"
     ]
    },
    {
     "name": "stderr",
     "output_type": "stream",
     "text": [
      "/home/michael/Desktop/ifile/nn/ResNet-PyTorch/ResNet/venvres/lib/python3.9/site-packages/sklearn/metrics/_classification.py:1531: UndefinedMetricWarning: Precision is ill-defined and being set to 0.0 in labels with no predicted samples. Use `zero_division` parameter to control this behavior.\n",
      "  _warn_prf(average, modifier, f\"{metric.capitalize()} is\", len(result))\n"
     ]
    },
    {
     "name": "stdout",
     "output_type": "stream",
     "text": [
      "Epoch [40/125], Loss: 0.0276, Training Accuracy: 100.00%, Precision: 1.000, Recall: 1.000, F1 Score: 1.000\n",
      "Validation Loss: 0.2526, Validation Accuracy: 90.79%, Precision: 0.927, Recall: 0.908, F1 Score: 0.904\n",
      "Epoch [40/125] completed in 11.66 seconds\n",
      "Epoch [41/125], Loss: 0.0261, Training Accuracy: 100.00%, Precision: 1.000, Recall: 1.000, F1 Score: 1.000\n",
      "Validation Loss: 0.2582, Validation Accuracy: 93.42%, Precision: 0.953, Recall: 0.934, F1 Score: 0.930\n",
      "Epoch [41/125] completed in 11.70 seconds\n",
      "Epoch [42/125], Loss: 0.0247, Training Accuracy: 100.00%, Precision: 1.000, Recall: 1.000, F1 Score: 1.000\n",
      "Validation Loss: 0.2612, Validation Accuracy: 90.79%, Precision: 0.909, Recall: 0.908, F1 Score: 0.896\n",
      "Epoch [42/125] completed in 11.66 seconds\n"
     ]
    },
    {
     "name": "stderr",
     "output_type": "stream",
     "text": [
      "/home/michael/Desktop/ifile/nn/ResNet-PyTorch/ResNet/venvres/lib/python3.9/site-packages/sklearn/metrics/_classification.py:1531: UndefinedMetricWarning: Precision is ill-defined and being set to 0.0 in labels with no predicted samples. Use `zero_division` parameter to control this behavior.\n",
      "  _warn_prf(average, modifier, f\"{metric.capitalize()} is\", len(result))\n"
     ]
    },
    {
     "name": "stdout",
     "output_type": "stream",
     "text": [
      "Epoch [43/125], Loss: 0.0234, Training Accuracy: 100.00%, Precision: 1.000, Recall: 1.000, F1 Score: 1.000\n",
      "Validation Loss: 0.2585, Validation Accuracy: 92.11%, Precision: 0.943, Recall: 0.921, F1 Score: 0.917\n",
      "Epoch [43/125] completed in 11.68 seconds\n",
      "Epoch [44/125], Loss: 0.0214, Training Accuracy: 100.00%, Precision: 1.000, Recall: 1.000, F1 Score: 1.000\n",
      "Validation Loss: 0.2469, Validation Accuracy: 92.11%, Precision: 0.940, Recall: 0.921, F1 Score: 0.917\n",
      "Epoch [44/125] completed in 11.68 seconds\n",
      "Epoch [45/125], Loss: 0.0210, Training Accuracy: 100.00%, Precision: 1.000, Recall: 1.000, F1 Score: 1.000\n",
      "Validation Loss: 0.2530, Validation Accuracy: 90.79%, Precision: 0.930, Recall: 0.908, F1 Score: 0.904\n",
      "Epoch [45/125] completed in 11.70 seconds\n",
      "Epoch [46/125], Loss: 0.0194, Training Accuracy: 100.00%, Precision: 1.000, Recall: 1.000, F1 Score: 1.000\n",
      "Validation Loss: 0.2433, Validation Accuracy: 90.79%, Precision: 0.927, Recall: 0.908, F1 Score: 0.904\n",
      "Epoch [46/125] completed in 11.71 seconds\n",
      "Epoch [47/125], Loss: 0.0192, Training Accuracy: 100.00%, Precision: 1.000, Recall: 1.000, F1 Score: 1.000\n",
      "Validation Loss: 0.2503, Validation Accuracy: 89.47%, Precision: 0.899, Recall: 0.895, F1 Score: 0.883\n",
      "Epoch [47/125] completed in 11.69 seconds\n"
     ]
    },
    {
     "name": "stderr",
     "output_type": "stream",
     "text": [
      "/home/michael/Desktop/ifile/nn/ResNet-PyTorch/ResNet/venvres/lib/python3.9/site-packages/sklearn/metrics/_classification.py:1531: UndefinedMetricWarning: Precision is ill-defined and being set to 0.0 in labels with no predicted samples. Use `zero_division` parameter to control this behavior.\n",
      "  _warn_prf(average, modifier, f\"{metric.capitalize()} is\", len(result))\n"
     ]
    },
    {
     "name": "stdout",
     "output_type": "stream",
     "text": [
      "Epoch [48/125], Loss: 0.0181, Training Accuracy: 100.00%, Precision: 1.000, Recall: 1.000, F1 Score: 1.000\n",
      "Validation Loss: 0.2461, Validation Accuracy: 92.11%, Precision: 0.943, Recall: 0.921, F1 Score: 0.917\n",
      "Epoch [48/125] completed in 11.67 seconds\n",
      "Epoch [49/125], Loss: 0.0168, Training Accuracy: 100.00%, Precision: 1.000, Recall: 1.000, F1 Score: 1.000\n",
      "Validation Loss: 0.2393, Validation Accuracy: 90.79%, Precision: 0.930, Recall: 0.908, F1 Score: 0.904\n",
      "Epoch [49/125] completed in 11.73 seconds\n",
      "Epoch [50/125], Loss: 0.0159, Training Accuracy: 100.00%, Precision: 1.000, Recall: 1.000, F1 Score: 1.000\n",
      "Validation Loss: 0.2475, Validation Accuracy: 90.79%, Precision: 0.930, Recall: 0.908, F1 Score: 0.904\n",
      "Epoch [50/125] completed in 11.69 seconds\n",
      "Epoch [51/125], Loss: 0.0152, Training Accuracy: 100.00%, Precision: 1.000, Recall: 1.000, F1 Score: 1.000\n",
      "Validation Loss: 0.2526, Validation Accuracy: 88.16%, Precision: 0.886, Recall: 0.882, F1 Score: 0.870\n",
      "Epoch [51/125] completed in 11.69 seconds\n"
     ]
    },
    {
     "name": "stderr",
     "output_type": "stream",
     "text": [
      "/home/michael/Desktop/ifile/nn/ResNet-PyTorch/ResNet/venvres/lib/python3.9/site-packages/sklearn/metrics/_classification.py:1531: UndefinedMetricWarning: Precision is ill-defined and being set to 0.0 in labels with no predicted samples. Use `zero_division` parameter to control this behavior.\n",
      "  _warn_prf(average, modifier, f\"{metric.capitalize()} is\", len(result))\n"
     ]
    },
    {
     "name": "stdout",
     "output_type": "stream",
     "text": [
      "Epoch [52/125], Loss: 0.0144, Training Accuracy: 100.00%, Precision: 1.000, Recall: 1.000, F1 Score: 1.000\n",
      "Validation Loss: 0.2498, Validation Accuracy: 88.16%, Precision: 0.886, Recall: 0.882, F1 Score: 0.870\n",
      "Epoch [52/125] completed in 11.70 seconds\n"
     ]
    },
    {
     "name": "stderr",
     "output_type": "stream",
     "text": [
      "/home/michael/Desktop/ifile/nn/ResNet-PyTorch/ResNet/venvres/lib/python3.9/site-packages/sklearn/metrics/_classification.py:1531: UndefinedMetricWarning: Precision is ill-defined and being set to 0.0 in labels with no predicted samples. Use `zero_division` parameter to control this behavior.\n",
      "  _warn_prf(average, modifier, f\"{metric.capitalize()} is\", len(result))\n"
     ]
    },
    {
     "ename": "KeyboardInterrupt",
     "evalue": "",
     "output_type": "error",
     "traceback": [
      "\u001b[0;31m---------------------------------------------------------------------------\u001b[0m",
      "\u001b[0;31mKeyboardInterrupt\u001b[0m                         Traceback (most recent call last)",
      "Cell \u001b[0;32mIn[7], line 29\u001b[0m\n\u001b[1;32m     26\u001b[0m all_train_labels \u001b[38;5;241m=\u001b[39m []\n\u001b[1;32m     27\u001b[0m all_train_preds \u001b[38;5;241m=\u001b[39m []\n\u001b[0;32m---> 29\u001b[0m \u001b[38;5;28;01mfor\u001b[39;00m batch_idx, (cubes, labels) \u001b[38;5;129;01min\u001b[39;00m \u001b[38;5;28menumerate\u001b[39m(train_loader):\n\u001b[1;32m     30\u001b[0m     cubes, labels \u001b[38;5;241m=\u001b[39m cubes\u001b[38;5;241m.\u001b[39mto(device), labels\u001b[38;5;241m.\u001b[39mto(device)  \u001b[38;5;66;03m# Move data to GPU\u001b[39;00m\n\u001b[1;32m     31\u001b[0m     optimizer\u001b[38;5;241m.\u001b[39mzero_grad()  \u001b[38;5;66;03m# Zero the parameter gradients\u001b[39;00m\n",
      "File \u001b[0;32m~/Desktop/ifile/nn/ResNet-PyTorch/ResNet/venvres/lib/python3.9/site-packages/torch/utils/data/dataloader.py:631\u001b[0m, in \u001b[0;36m_BaseDataLoaderIter.__next__\u001b[0;34m(self)\u001b[0m\n\u001b[1;32m    628\u001b[0m \u001b[38;5;28;01mif\u001b[39;00m \u001b[38;5;28mself\u001b[39m\u001b[38;5;241m.\u001b[39m_sampler_iter \u001b[38;5;129;01mis\u001b[39;00m \u001b[38;5;28;01mNone\u001b[39;00m:\n\u001b[1;32m    629\u001b[0m     \u001b[38;5;66;03m# TODO(https://github.com/pytorch/pytorch/issues/76750)\u001b[39;00m\n\u001b[1;32m    630\u001b[0m     \u001b[38;5;28mself\u001b[39m\u001b[38;5;241m.\u001b[39m_reset()  \u001b[38;5;66;03m# type: ignore[call-arg]\u001b[39;00m\n\u001b[0;32m--> 631\u001b[0m data \u001b[38;5;241m=\u001b[39m \u001b[38;5;28;43mself\u001b[39;49m\u001b[38;5;241;43m.\u001b[39;49m\u001b[43m_next_data\u001b[49m\u001b[43m(\u001b[49m\u001b[43m)\u001b[49m\n\u001b[1;32m    632\u001b[0m \u001b[38;5;28mself\u001b[39m\u001b[38;5;241m.\u001b[39m_num_yielded \u001b[38;5;241m+\u001b[39m\u001b[38;5;241m=\u001b[39m \u001b[38;5;241m1\u001b[39m\n\u001b[1;32m    633\u001b[0m \u001b[38;5;28;01mif\u001b[39;00m \u001b[38;5;28mself\u001b[39m\u001b[38;5;241m.\u001b[39m_dataset_kind \u001b[38;5;241m==\u001b[39m _DatasetKind\u001b[38;5;241m.\u001b[39mIterable \u001b[38;5;129;01mand\u001b[39;00m \\\n\u001b[1;32m    634\u001b[0m         \u001b[38;5;28mself\u001b[39m\u001b[38;5;241m.\u001b[39m_IterableDataset_len_called \u001b[38;5;129;01mis\u001b[39;00m \u001b[38;5;129;01mnot\u001b[39;00m \u001b[38;5;28;01mNone\u001b[39;00m \u001b[38;5;129;01mand\u001b[39;00m \\\n\u001b[1;32m    635\u001b[0m         \u001b[38;5;28mself\u001b[39m\u001b[38;5;241m.\u001b[39m_num_yielded \u001b[38;5;241m>\u001b[39m \u001b[38;5;28mself\u001b[39m\u001b[38;5;241m.\u001b[39m_IterableDataset_len_called:\n",
      "File \u001b[0;32m~/Desktop/ifile/nn/ResNet-PyTorch/ResNet/venvres/lib/python3.9/site-packages/torch/utils/data/dataloader.py:1329\u001b[0m, in \u001b[0;36m_MultiProcessingDataLoaderIter._next_data\u001b[0;34m(self)\u001b[0m\n\u001b[1;32m   1326\u001b[0m     \u001b[38;5;28;01mreturn\u001b[39;00m \u001b[38;5;28mself\u001b[39m\u001b[38;5;241m.\u001b[39m_process_data(data)\n\u001b[1;32m   1328\u001b[0m \u001b[38;5;28;01massert\u001b[39;00m \u001b[38;5;129;01mnot\u001b[39;00m \u001b[38;5;28mself\u001b[39m\u001b[38;5;241m.\u001b[39m_shutdown \u001b[38;5;129;01mand\u001b[39;00m \u001b[38;5;28mself\u001b[39m\u001b[38;5;241m.\u001b[39m_tasks_outstanding \u001b[38;5;241m>\u001b[39m \u001b[38;5;241m0\u001b[39m\n\u001b[0;32m-> 1329\u001b[0m idx, data \u001b[38;5;241m=\u001b[39m \u001b[38;5;28;43mself\u001b[39;49m\u001b[38;5;241;43m.\u001b[39;49m\u001b[43m_get_data\u001b[49m\u001b[43m(\u001b[49m\u001b[43m)\u001b[49m\n\u001b[1;32m   1330\u001b[0m \u001b[38;5;28mself\u001b[39m\u001b[38;5;241m.\u001b[39m_tasks_outstanding \u001b[38;5;241m-\u001b[39m\u001b[38;5;241m=\u001b[39m \u001b[38;5;241m1\u001b[39m\n\u001b[1;32m   1331\u001b[0m \u001b[38;5;28;01mif\u001b[39;00m \u001b[38;5;28mself\u001b[39m\u001b[38;5;241m.\u001b[39m_dataset_kind \u001b[38;5;241m==\u001b[39m _DatasetKind\u001b[38;5;241m.\u001b[39mIterable:\n\u001b[1;32m   1332\u001b[0m     \u001b[38;5;66;03m# Check for _IterableDatasetStopIteration\u001b[39;00m\n",
      "File \u001b[0;32m~/Desktop/ifile/nn/ResNet-PyTorch/ResNet/venvres/lib/python3.9/site-packages/torch/utils/data/dataloader.py:1295\u001b[0m, in \u001b[0;36m_MultiProcessingDataLoaderIter._get_data\u001b[0;34m(self)\u001b[0m\n\u001b[1;32m   1291\u001b[0m     \u001b[38;5;66;03m# In this case, `self._data_queue` is a `queue.Queue`,. But we don't\u001b[39;00m\n\u001b[1;32m   1292\u001b[0m     \u001b[38;5;66;03m# need to call `.task_done()` because we don't use `.join()`.\u001b[39;00m\n\u001b[1;32m   1293\u001b[0m \u001b[38;5;28;01melse\u001b[39;00m:\n\u001b[1;32m   1294\u001b[0m     \u001b[38;5;28;01mwhile\u001b[39;00m \u001b[38;5;28;01mTrue\u001b[39;00m:\n\u001b[0;32m-> 1295\u001b[0m         success, data \u001b[38;5;241m=\u001b[39m \u001b[38;5;28;43mself\u001b[39;49m\u001b[38;5;241;43m.\u001b[39;49m\u001b[43m_try_get_data\u001b[49m\u001b[43m(\u001b[49m\u001b[43m)\u001b[49m\n\u001b[1;32m   1296\u001b[0m         \u001b[38;5;28;01mif\u001b[39;00m success:\n\u001b[1;32m   1297\u001b[0m             \u001b[38;5;28;01mreturn\u001b[39;00m data\n",
      "File \u001b[0;32m~/Desktop/ifile/nn/ResNet-PyTorch/ResNet/venvres/lib/python3.9/site-packages/torch/utils/data/dataloader.py:1133\u001b[0m, in \u001b[0;36m_MultiProcessingDataLoaderIter._try_get_data\u001b[0;34m(self, timeout)\u001b[0m\n\u001b[1;32m   1120\u001b[0m \u001b[38;5;28;01mdef\u001b[39;00m \u001b[38;5;21m_try_get_data\u001b[39m(\u001b[38;5;28mself\u001b[39m, timeout\u001b[38;5;241m=\u001b[39m_utils\u001b[38;5;241m.\u001b[39mMP_STATUS_CHECK_INTERVAL):\n\u001b[1;32m   1121\u001b[0m     \u001b[38;5;66;03m# Tries to fetch data from `self._data_queue` once for a given timeout.\u001b[39;00m\n\u001b[1;32m   1122\u001b[0m     \u001b[38;5;66;03m# This can also be used as inner loop of fetching without timeout, with\u001b[39;00m\n\u001b[0;32m   (...)\u001b[0m\n\u001b[1;32m   1130\u001b[0m     \u001b[38;5;66;03m# Returns a 2-tuple:\u001b[39;00m\n\u001b[1;32m   1131\u001b[0m     \u001b[38;5;66;03m#   (bool: whether successfully get data, any: data if successful else None)\u001b[39;00m\n\u001b[1;32m   1132\u001b[0m     \u001b[38;5;28;01mtry\u001b[39;00m:\n\u001b[0;32m-> 1133\u001b[0m         data \u001b[38;5;241m=\u001b[39m \u001b[38;5;28;43mself\u001b[39;49m\u001b[38;5;241;43m.\u001b[39;49m\u001b[43m_data_queue\u001b[49m\u001b[38;5;241;43m.\u001b[39;49m\u001b[43mget\u001b[49m\u001b[43m(\u001b[49m\u001b[43mtimeout\u001b[49m\u001b[38;5;241;43m=\u001b[39;49m\u001b[43mtimeout\u001b[49m\u001b[43m)\u001b[49m\n\u001b[1;32m   1134\u001b[0m         \u001b[38;5;28;01mreturn\u001b[39;00m (\u001b[38;5;28;01mTrue\u001b[39;00m, data)\n\u001b[1;32m   1135\u001b[0m     \u001b[38;5;28;01mexcept\u001b[39;00m \u001b[38;5;167;01mException\u001b[39;00m \u001b[38;5;28;01mas\u001b[39;00m e:\n\u001b[1;32m   1136\u001b[0m         \u001b[38;5;66;03m# At timeout and error, we manually check whether any worker has\u001b[39;00m\n\u001b[1;32m   1137\u001b[0m         \u001b[38;5;66;03m# failed. Note that this is the only mechanism for Windows to detect\u001b[39;00m\n\u001b[1;32m   1138\u001b[0m         \u001b[38;5;66;03m# worker failures.\u001b[39;00m\n",
      "File \u001b[0;32m/usr/lib/python3.9/multiprocessing/queues.py:113\u001b[0m, in \u001b[0;36mQueue.get\u001b[0;34m(self, block, timeout)\u001b[0m\n\u001b[1;32m    111\u001b[0m \u001b[38;5;28;01mif\u001b[39;00m block:\n\u001b[1;32m    112\u001b[0m     timeout \u001b[38;5;241m=\u001b[39m deadline \u001b[38;5;241m-\u001b[39m time\u001b[38;5;241m.\u001b[39mmonotonic()\n\u001b[0;32m--> 113\u001b[0m     \u001b[38;5;28;01mif\u001b[39;00m \u001b[38;5;129;01mnot\u001b[39;00m \u001b[38;5;28;43mself\u001b[39;49m\u001b[38;5;241;43m.\u001b[39;49m\u001b[43m_poll\u001b[49m\u001b[43m(\u001b[49m\u001b[43mtimeout\u001b[49m\u001b[43m)\u001b[49m:\n\u001b[1;32m    114\u001b[0m         \u001b[38;5;28;01mraise\u001b[39;00m Empty\n\u001b[1;32m    115\u001b[0m \u001b[38;5;28;01melif\u001b[39;00m \u001b[38;5;129;01mnot\u001b[39;00m \u001b[38;5;28mself\u001b[39m\u001b[38;5;241m.\u001b[39m_poll():\n",
      "File \u001b[0;32m/usr/lib/python3.9/multiprocessing/connection.py:257\u001b[0m, in \u001b[0;36m_ConnectionBase.poll\u001b[0;34m(self, timeout)\u001b[0m\n\u001b[1;32m    255\u001b[0m \u001b[38;5;28mself\u001b[39m\u001b[38;5;241m.\u001b[39m_check_closed()\n\u001b[1;32m    256\u001b[0m \u001b[38;5;28mself\u001b[39m\u001b[38;5;241m.\u001b[39m_check_readable()\n\u001b[0;32m--> 257\u001b[0m \u001b[38;5;28;01mreturn\u001b[39;00m \u001b[38;5;28;43mself\u001b[39;49m\u001b[38;5;241;43m.\u001b[39;49m\u001b[43m_poll\u001b[49m\u001b[43m(\u001b[49m\u001b[43mtimeout\u001b[49m\u001b[43m)\u001b[49m\n",
      "File \u001b[0;32m/usr/lib/python3.9/multiprocessing/connection.py:424\u001b[0m, in \u001b[0;36mConnection._poll\u001b[0;34m(self, timeout)\u001b[0m\n\u001b[1;32m    423\u001b[0m \u001b[38;5;28;01mdef\u001b[39;00m \u001b[38;5;21m_poll\u001b[39m(\u001b[38;5;28mself\u001b[39m, timeout):\n\u001b[0;32m--> 424\u001b[0m     r \u001b[38;5;241m=\u001b[39m \u001b[43mwait\u001b[49m\u001b[43m(\u001b[49m\u001b[43m[\u001b[49m\u001b[38;5;28;43mself\u001b[39;49m\u001b[43m]\u001b[49m\u001b[43m,\u001b[49m\u001b[43m \u001b[49m\u001b[43mtimeout\u001b[49m\u001b[43m)\u001b[49m\n\u001b[1;32m    425\u001b[0m     \u001b[38;5;28;01mreturn\u001b[39;00m \u001b[38;5;28mbool\u001b[39m(r)\n",
      "File \u001b[0;32m/usr/lib/python3.9/multiprocessing/connection.py:931\u001b[0m, in \u001b[0;36mwait\u001b[0;34m(object_list, timeout)\u001b[0m\n\u001b[1;32m    928\u001b[0m     deadline \u001b[38;5;241m=\u001b[39m time\u001b[38;5;241m.\u001b[39mmonotonic() \u001b[38;5;241m+\u001b[39m timeout\n\u001b[1;32m    930\u001b[0m \u001b[38;5;28;01mwhile\u001b[39;00m \u001b[38;5;28;01mTrue\u001b[39;00m:\n\u001b[0;32m--> 931\u001b[0m     ready \u001b[38;5;241m=\u001b[39m \u001b[43mselector\u001b[49m\u001b[38;5;241;43m.\u001b[39;49m\u001b[43mselect\u001b[49m\u001b[43m(\u001b[49m\u001b[43mtimeout\u001b[49m\u001b[43m)\u001b[49m\n\u001b[1;32m    932\u001b[0m     \u001b[38;5;28;01mif\u001b[39;00m ready:\n\u001b[1;32m    933\u001b[0m         \u001b[38;5;28;01mreturn\u001b[39;00m [key\u001b[38;5;241m.\u001b[39mfileobj \u001b[38;5;28;01mfor\u001b[39;00m (key, events) \u001b[38;5;129;01min\u001b[39;00m ready]\n",
      "File \u001b[0;32m/usr/lib/python3.9/selectors.py:416\u001b[0m, in \u001b[0;36m_PollLikeSelector.select\u001b[0;34m(self, timeout)\u001b[0m\n\u001b[1;32m    414\u001b[0m ready \u001b[38;5;241m=\u001b[39m []\n\u001b[1;32m    415\u001b[0m \u001b[38;5;28;01mtry\u001b[39;00m:\n\u001b[0;32m--> 416\u001b[0m     fd_event_list \u001b[38;5;241m=\u001b[39m \u001b[38;5;28;43mself\u001b[39;49m\u001b[38;5;241;43m.\u001b[39;49m\u001b[43m_selector\u001b[49m\u001b[38;5;241;43m.\u001b[39;49m\u001b[43mpoll\u001b[49m\u001b[43m(\u001b[49m\u001b[43mtimeout\u001b[49m\u001b[43m)\u001b[49m\n\u001b[1;32m    417\u001b[0m \u001b[38;5;28;01mexcept\u001b[39;00m \u001b[38;5;167;01mInterruptedError\u001b[39;00m:\n\u001b[1;32m    418\u001b[0m     \u001b[38;5;28;01mreturn\u001b[39;00m ready\n",
      "\u001b[0;31mKeyboardInterrupt\u001b[0m: "
     ]
    }
   ],
   "source": [
    "import time\n",
    "from sklearn.metrics import precision_recall_fscore_support\n",
    "\n",
    "# Initialize lists to store losses, accuracy, and learning rate change epochs\n",
    "train_losses = []\n",
    "val_losses = []\n",
    "train_accuracies = []\n",
    "val_accuracies = []\n",
    "train_precisions = []\n",
    "train_recalls = []\n",
    "train_f1_scores = []\n",
    "val_precisions = []\n",
    "val_recalls = []\n",
    "val_f1_scores = []\n",
    "lr_change_epochs = []\n",
    "\n",
    "# Training and validation loop\n",
    "num_epochs = 125  # Set the number of epochs\n",
    "for epoch in range(num_epochs):\n",
    "    epoch_start_time = time.time()  # Start timing the epoch\n",
    "\n",
    "    model.train()  # Set the model to training mode\n",
    "    running_loss = 0.0\n",
    "    correct_train = 0\n",
    "    total_train = 0\n",
    "    all_train_labels = []\n",
    "    all_train_preds = []\n",
    "\n",
    "    for batch_idx, (cubes, labels) in enumerate(train_loader):\n",
    "        cubes, labels = cubes.to(device), labels.to(device)  # Move data to GPU\n",
    "        optimizer.zero_grad()  # Zero the parameter gradients\n",
    "\n",
    "        # Forward pass\n",
    "        outputs = model(cubes)\n",
    "        loss = criterion(outputs.logits, labels)\n",
    "\n",
    "        # Backward pass and optimization\n",
    "        loss.backward()\n",
    "        optimizer.step()\n",
    "\n",
    "        running_loss += loss.item()\n",
    "\n",
    "        # Calculate training accuracy\n",
    "        _, predicted = torch.max(outputs.logits, 1)\n",
    "        total_train += labels.size(0)\n",
    "        correct_train += (predicted == labels).sum().item()\n",
    "\n",
    "        # Store labels and predictions for precision, recall, f1\n",
    "        all_train_labels.extend(labels.cpu().numpy())\n",
    "        all_train_preds.extend(predicted.cpu().numpy())\n",
    "\n",
    "    avg_train_loss = running_loss / len(train_loader)\n",
    "    train_losses.append(avg_train_loss)\n",
    "    train_accuracy = 100 * correct_train / total_train\n",
    "    train_accuracies.append(train_accuracy)\n",
    "\n",
    "    # Calculate precision, recall, f1 score for training\n",
    "    train_precision, train_recall, train_f1, _ = precision_recall_fscore_support(all_train_labels, all_train_preds, average='weighted')\n",
    "    train_precisions.append(train_precision)\n",
    "    train_recalls.append(train_recall)\n",
    "    train_f1_scores.append(train_f1)\n",
    "    \n",
    "    print(f\"Epoch [{epoch+1}/{num_epochs}], Loss: {avg_train_loss:.4f}, Training Accuracy: {train_accuracy:.2f}%, Precision: {train_precision:.3f}, Recall: {train_recall:.3f}, F1 Score: {train_f1:.3f}\")\n",
    "\n",
    "    # Validation loop\n",
    "    model.eval()  # Set the model to evaluation mode\n",
    "    val_loss = 0.0\n",
    "    correct_val = 0\n",
    "    total_val = 0\n",
    "    all_val_labels = []\n",
    "    all_val_preds = []\n",
    "\n",
    "    with torch.no_grad():\n",
    "        for cubes, labels in val_loader:\n",
    "            cubes, labels = cubes.to(device), labels.to(device)  # Move data to GPU\n",
    "            outputs = model(cubes)\n",
    "            loss = criterion(outputs.logits, labels)\n",
    "            val_loss += loss.item()\n",
    "\n",
    "            _, predicted = torch.max(outputs.logits, 1)\n",
    "            total_val += labels.size(0)\n",
    "            correct_val += (predicted == labels).sum().item()\n",
    "\n",
    "            # Store labels and predictions for precision, recall, f1\n",
    "            all_val_labels.extend(labels.cpu().numpy())\n",
    "            all_val_preds.extend(predicted.cpu().numpy())\n",
    "\n",
    "    avg_val_loss = val_loss / len(val_loader)\n",
    "    val_losses.append(avg_val_loss)\n",
    "    val_accuracy = 100 * correct_val / total_val\n",
    "    val_accuracies.append(val_accuracy)\n",
    "\n",
    "    # Calculate precision, recall, f1 score for validation\n",
    "    val_precision, val_recall, val_f1, _ = precision_recall_fscore_support(all_val_labels, all_val_preds, average='weighted')\n",
    "    val_precisions.append(val_precision)\n",
    "    val_recalls.append(val_recall)\n",
    "    val_f1_scores.append(val_f1)\n",
    "\n",
    "    print(f\"Validation Loss: {avg_val_loss:.4f}, Validation Accuracy: {val_accuracy:.2f}%, Precision: {val_precision:.3f}, Recall: {val_recall:.3f}, F1 Score: {val_f1:.3f}\")\n",
    "\n",
    "    current_lr = optimizer.param_groups[0]['lr']\n",
    "    scheduler.step(avg_val_loss)\n",
    "    new_lr = optimizer.param_groups[0]['lr']\n",
    "    if new_lr < current_lr:\n",
    "        print(f\"Learning rate reduced from {current_lr} to {new_lr}\")\n",
    "        lr_change_epochs.append(epoch+1)  # Log the epoch where the learning rate changed\n",
    "\n",
    "    epoch_end_time = time.time()  # End timing the epoch\n",
    "    epoch_duration = epoch_end_time - epoch_start_time\n",
    "    print(f\"Epoch [{epoch+1}/{num_epochs}] completed in {epoch_duration:.2f} seconds\")\n",
    "\n",
    "print(\"Training complete.\")\n"
   ]
  },
  {
   "cell_type": "code",
   "execution_count": 8,
   "id": "a940e7b1-0479-4aaa-ba22-9bcddc094ec5",
   "metadata": {},
   "outputs": [
    {
     "data": {
      "image/png": "[encoded data removed]",
      "text/plain": [
       "<Figure size 1000x500 with 1 Axes>"
      ]
     },
     "metadata": {},
     "output_type": "display_data"
    },
    {
     "data": {
      "image/png": "[encoded data removed]",
      "text/plain": [
       "<Figure size 1000x500 with 1 Axes>"
      ]
     },
     "metadata": {},
     "output_type": "display_data"
    }
   ],
   "source": [
    "# Plot the training and validation losses with learning rate change points\n",
    "plt.figure(figsize=(10, 5))\n",
    "plt.plot(train_losses, label='Training Loss')\n",
    "plt.plot(val_losses, label='Validation Loss')\n",
    "for lr_epoch in lr_change_epochs:\n",
    "    plt.axvline(x=lr_epoch, color='r', linestyle='--', label='LR Change' if lr_epoch == lr_change_epochs[0] else \"\")\n",
    "plt.xlabel('Epochs')\n",
    "plt.ylabel('Loss')\n",
    "plt.legend()\n",
    "plt.title('Training and Validation Losses with Learning Rate Changes')\n",
    "plt.grid(True)  # Add gridlines\n",
    "plt.show()\n",
    "\n",
    "# Plot the training and validation accuracy\n",
    "plt.figure(figsize=(10, 5))\n",
    "plt.plot(train_accuracies, label='Training Accuracy')\n",
    "plt.plot(val_accuracies, label='Validation Accuracy')\n",
    "for lr_epoch in lr_change_epochs:\n",
    "    plt.axvline(x=lr_epoch, color='r', linestyle='--', label='LR Change' if lr_epoch == lr_change_epochs[0] else \"\")\n",
    "plt.xlabel('Epochs')\n",
    "plt.ylabel('Accuracy')\n",
    "plt.legend()\n",
    "plt.title('Training and Validation Accuracy')\n",
    "plt.grid(True)  # Add gridlines\n",
    "plt.show()\n"
   ]
  },
  {
   "cell_type": "code",
   "execution_count": null,
   "id": "bbbcfaec-3c92-48ec-8db6-db238994a7e9",
   "metadata": {},
   "outputs": [],
   "source": [
    "# Testing loop\n",
    "model.eval()  # Set the model to evaluation mode\n",
    "test_loss = 0.0\n",
    "correct = 0\n",
    "total = 0 \n",
    "with torch.no_grad():\n",
    "    for inputs, labels in test_loader:\n",
    "        inputs, labels = inputs.to(device), labels.to(device)  # Move data to GPU\n",
    "        outputs = model(inputs)\n",
    "        loss = criterion(outputs.logits, labels)\n",
    "        test_loss += loss.item()\n",
    "\n",
    "        _, predicted = torch.max(outputs.logits, 1)\n",
    "        total += labels.size(0)\n",
    "        correct += (predicted == labels).sum().item()\n",
    "\n",
    "accuracy = 100 * correct / total\n",
    "print(f\"Test Loss: {test_loss/len(test_loader):.4f}, Test Accuracy: {accuracy:.2f}%\")\n"
   ]
  },
  {
   "cell_type": "code",
   "execution_count": null,
   "id": "2713b96c-07e1-4684-8be7-32d7237d330e",
   "metadata": {},
   "outputs": [],
   "source": [
    "import torch\n",
    "import numpy as np\n",
    "import matplotlib.pyplot as plt\n",
    "import seaborn as sns\n",
    "from sklearn.metrics import confusion_matrix, ConfusionMatrixDisplay\n",
    "\n",
    "# Function to test an individual sample and collect predictions and true labels\n",
    "def test_individual_test_sample(sample_idx, true_labels, predicted_labels):\n",
    "    # Load a specific sample from the test dataset\n",
    "    cube, label = test_dataset[sample_idx]\n",
    "    \n",
    "    # Move the sample to GPU if using CUDA\n",
    "    cube = cube.to(device).unsqueeze(0)  # Add batch dimension\n",
    "    label = label.to(device)\n",
    "    \n",
    "    # Set the model to evaluation mode\n",
    "    model.eval()\n",
    "    \n",
    "    # Disable gradient computation for inference\n",
    "    with torch.no_grad():\n",
    "        output = model(cube)\n",
    "    \n",
    "    # Apply softmax to get probabilities\n",
    "    probabilities = torch.nn.functional.softmax(output.logits, dim=1)\n",
    "    \n",
    "    # Get the predicted class\n",
    "    predicted_class = torch.argmax(probabilities, dim=1)\n",
    "    \n",
    "    # Append the true and predicted labels to their respective lists\n",
    "    true_labels.append(label.item())\n",
    "    predicted_labels.append(predicted_class.item())\n",
    "\n",
    "# Lists to store true and predicted labels\n",
    "true_labels = []\n",
    "predicted_labels = []\n",
    "\n",
    "# Test individual samples and collect labels\n",
    "for i in range(len(test_dataset)):\n",
    "    test_individual_test_sample(i, true_labels, predicted_labels)\n",
    "\n",
    "# Convert lists to numpy arrays for compatibility with sklearn\n",
    "true_labels = np.array(true_labels)\n",
    "predicted_labels = np.array(predicted_labels)\n",
    "\n",
    "# Generate the confusion matrix\n",
    "cm = confusion_matrix(true_labels, predicted_labels)\n",
    "disp = ConfusionMatrixDisplay(confusion_matrix=cm)\n",
    "\n",
    "# Plot the confusion matrix\n",
    "plt.figure(figsize=(10, 10))\n",
    "disp.plot(cmap=plt.cm.Blues)\n",
    "plt.title('Confusion Matrix')\n",
    "plt.show()\n"
   ]
  },
  {
   "cell_type": "code",
   "execution_count": null,
   "id": "8c9776e3-04f4-4284-92a5-1a3c21285ab6",
   "metadata": {},
   "outputs": [],
   "source": [
    "torch.save(model.state_dict(), 'resnet.pth')"
   ]
  },
  {
   "cell_type": "code",
   "execution_count": null,
   "id": "f680598d-3493-465e-a178-c6671d8789f9",
   "metadata": {},
   "outputs": [],
   "source": [
    "for name, param in model.named_parameters():\n",
    "    print(name)"
   ]
  },
  {
   "cell_type": "code",
   "execution_count": null,
   "id": "9aa40e29-9da0-4aae-8643-4ff7f62eebde",
   "metadata": {},
   "outputs": [],
   "source": [
    "models.save("
   ]
  },
  {
   "cell_type": "code",
   "execution_count": null,
   "id": "97f4bd7c-c533-4da8-ae2e-01e0592b688d",
   "metadata": {},
   "outputs": [],
   "source": [
    "for a, b in enumerate(train_loader):\n",
    "    print(a,b)"
   ]
  },
  {
   "cell_type": "code",
   "execution_count": null,
   "id": "288302df-d519-4dd6-8a39-d5395562fd89",
   "metadata": {},
   "outputs": [],
   "source": []
  }
 ],
 "metadata": {
  "kernelspec": {
   "display_name": "Python (venvres)",
   "language": "python",
   "name": "venvres"
  },
  "language_info": {
   "codemirror_mode": {
    "name": "ipython",
    "version": 3
   },
   "file_extension": ".py",
   "mimetype": "text/x-python",
   "name": "python",
   "nbconvert_exporter": "python",
   "pygments_lexer": "ipython3",
   "version": "3.9.19"
  }
 },
 "nbformat": 4,
 "nbformat_minor": 5
}
