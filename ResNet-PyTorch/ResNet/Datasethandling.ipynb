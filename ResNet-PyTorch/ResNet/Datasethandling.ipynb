{
 "cells": [
  {
   "cell_type": "code",
   "execution_count": 1,
   "id": "f917bdb6-118b-4a25-ac24-b150ff6c72d7",
   "metadata": {},
   "outputs": [
    {
     "name": "stdout",
     "output_type": "stream",
     "text": [
      "Original x:  tensor([ 0.6902,  0.6215,  0.4694,  0.1650, -1.9970, -0.8147,  0.6160, -1.5974,\n",
      "        -0.3525, -0.3261])\n",
      "Reconstructed x:  tensor([ 0.6902,  0.6215,  0.4694,  0.1650, -1.9970, -0.8147,  0.6160, -1.5974,\n",
      "        -0.3525, -0.3261])\n",
      "Difference:  tensor(4.6290e-07)\n",
      "True\n",
      "NVIDIA GeForce RTX 4070\n",
      "Using device: cuda\n",
      "Using device: cuda\n",
      "Matrix multiplication result: tensor([[2512.7634, 2510.5347, 2500.3145,  ..., 2546.4805, 2517.5903,\n",
      "         2510.8586],\n",
      "        [2470.5537, 2480.1965, 2446.0208,  ..., 2470.6821, 2471.3079,\n",
      "         2485.0737],\n",
      "        [2494.2124, 2521.3318, 2471.4602,  ..., 2528.4626, 2521.2471,\n",
      "         2511.4089],\n",
      "        ...,\n",
      "        [2488.7749, 2494.0759, 2454.2747,  ..., 2507.7656, 2491.0725,\n",
      "         2494.5911],\n",
      "        [2517.9812, 2527.2366, 2469.6465,  ..., 2535.4807, 2513.1624,\n",
      "         2510.1604],\n",
      "        [2483.6794, 2514.6897, 2473.9929,  ..., 2535.6189, 2515.1772,\n",
      "         2504.4287]], device='cuda:0')\n",
      "Done.\n"
     ]
    }
   ],
   "source": [
    "import os\n",
    "import torch\n",
    "import scipy.io\n",
    "import torch.nn as nn  # Import nn module\n",
    "import torch.optim as optim  # Import optim module\n",
    "import torchvision.models as models\n",
    "from torch.utils.data import Dataset, DataLoader, random_split\n",
    "from torchvision import transforms\n",
    "import matplotlib.pyplot as plt\n",
    "from hyperspectral_dataset import HyperspectralDataset, compute_statistics, NormalizeCube, NormalizeProfile\n",
    "from rgb_dataset import RGBDataset\n",
    "from torchvision.transforms import Resize, CenterCrop, Compose, Normalize, ToTensor\n",
    "from transformers import AutoImageProcessor, AutoModelForImageClassification\n",
    "\n",
    "\n",
    "\n",
    "\n",
    "from ResNet import CustomResNet50  # Assuming ResNet50 is defined in ResNet.py\n",
    "import torch\n",
    "print(torch.cuda.is_available())  # Should return True\n",
    "print(torch.cuda.get_device_name(0))  # Should print the name of your GPU\n",
    "# Check for CUDA\n",
    "device = torch.device(\"cuda\" if torch.cuda.is_available() else \"cpu\")\n",
    "print(\"Using device:\", device)\n",
    "\n",
    "\n",
    "\n",
    "device = torch.device(\"cuda\" if torch.cuda.is_available() else \"cpu\")\n",
    "print(\"Using device:\", device)\n",
    "\n",
    "# Create a random tensor and move it to the GPU\n",
    "x = torch.rand(10000, 10000).to(device)\n",
    "y = torch.rand(10000, 10000).to(device)\n",
    "\n",
    "# Perform a matrix multiplication on the GPU\n",
    "z = torch.matmul(x, y)\n",
    "\n",
    "print(\"Matrix multiplication result:\", z)\n",
    "print(\"Done.\")\n",
    "\n"
   ]
  },
  {
   "cell_type": "code",
   "execution_count": 2,
   "id": "69c172e4-ee83-47e4-aba8-efca02e99daa",
   "metadata": {},
   "outputs": [
    {
     "name": "stdout",
     "output_type": "stream",
     "text": [
      "Label mapping: {'Acinetobacter_baumanii': 0, 'Lactobacillus_casei': 1, 'Lactobacillus_jehnsenii': 2, 'Lactobacillus_gasseri': 3, 'Lactobacillus_delbrueckii': 4, 'Lactobacillus_salivarius': 5, 'Propionibacterium_acnes': 6, 'Lactobacillus_paracasei': 7, 'Bifidobacterium_spp': 8, 'Lactobacillus_reuteri': 9, 'Staphylococcus_aureus': 10, 'Escherichia_coli': 11, 'Lactobacillus_rhamnosus': 12, 'Lactobacillus_plantarum': 13, 'Enterococcus_faecium': 14, 'Porfyromonas_gingivalis': 15, 'Enterococcus_faecalis': 16, 'Micrococcus_spp': 17, 'Fusobacterium': 18, 'Actinomyces_israeli': 19, 'Lactobacillus_crispatus': 20, 'Clostridium_perfringens': 21, 'Staphylococcus_epidermidis': 22, 'Listeria_monocytogenes': 23, 'Pseudomonas_aeruginosa': 24, 'Lactobacillus_johnsonii': 26, 'Streptococcus_agalactiae': 27, 'Staphylococcus_saprophiticus': 28, 'Bacteroides_fragilis': 29, 'Neisseria_gonorrhoeae': 30, 'Veionella': 31, 'Proteus': 32, 'Candida_albicans': 33}\n",
      "Label mapping: {'Acinetobacter_baumanii': 0, 'Lactobacillus_casei': 1, 'Lactobacillus_jehnsenii': 2, 'Lactobacillus_gasseri': 3, 'Lactobacillus_delbrueckii': 4, 'Lactobacillus_salivarius': 5, 'Propionibacterium_acnes': 6, 'Lactobacillus_paracasei': 7, 'Bifidobacterium_spp': 8, 'Lactobacillus_reuteri': 9, 'Staphylococcus_aureus': 10, 'Escherichia_coli': 11, 'Lactobacillus_rhamnosus': 12, 'Lactobacillus_plantarum': 13, 'Enterococcus_faecium': 14, 'Porfyromonas_gingivalis': 15, 'Enterococcus_faecalis': 16, 'Micrococcus_spp': 17, 'Fusobacterium': 18, 'Actinomyces_israeli': 19, 'Lactobacillus_crispatus': 20, 'Clostridium_perfringens': 21, 'Staphylococcus_epidermidis': 22, 'Listeria_monocytogenes': 23, 'Pseudomonas_aeruginosa': 24, 'Lactobacillus_johnsonii': 26, 'Streptococcus_agalactiae': 27, 'Staphylococcus_saprophiticus': 28, 'Bacteroides_fragilis': 29, 'Neisseria_gonorrhoeae': 30, 'Veionella': 31, 'Proteus': 32, 'Candida_albicans': 33}\n",
      "Label mapping: {'Acinetobacter_baumanii': 0, 'Lactobacillus_casei': 1, 'Lactobacillus_jehnsenii': 2, 'Lactobacillus_gasseri': 3, 'Lactobacillus_delbrueckii': 4, 'Lactobacillus_salivarius': 5, 'Propionibacterium_acnes': 6, 'Lactobacillus_paracasei': 7, 'Bifidobacterium_spp': 8, 'Lactobacillus_reuteri': 9, 'Staphylococcus_aureus': 10, 'Escherichia_coli': 11, 'Lactobacillus_rhamnosus': 12, 'Lactobacillus_plantarum': 13, 'Enterococcus_faecium': 14, 'Porfyromonas_gingivalis': 15, 'Enterococcus_faecalis': 16, 'Micrococcus_spp': 17, 'Fusobacterium': 18, 'Actinomyces_israeli': 19, 'Lactobacillus_crispatus': 20, 'Clostridium_perfringens': 21, 'Staphylococcus_epidermidis': 22, 'Listeria_monocytogenes': 23, 'Pseudomonas_aeruginosa': 24, 'Lactobacillus_johnsonii': 26, 'Streptococcus_agalactiae': 27, 'Staphylococcus_saprophiticus': 28, 'Bacteroides_fragilis': 29, 'Neisseria_gonorrhoeae': 30, 'Veionella': 31, 'Proteus': 32, 'Candida_albicans': 33}\n"
     ]
    }
   ],
   "source": [
    "# Function to get all file paths from a dataset\n",
    "def get_all_file_paths(dataset):\n",
    "    file_paths = []\n",
    "    # for idx in range(len(dataset)):\n",
    "    file_paths.append(dataset.get_image_path(idx))\n",
    "    return file_paths\n",
    "\n",
    "# # Initialize the dataset with transformations\n",
    "# dataset = RGBDataset(root_dir='../../../serverstuff/hsi/all')\n",
    "# channel_means_cube, channel_stds_cube, channel_means_profile, channel_stds_profile = compute_statistics(dataset)\n",
    "\n",
    "transform = transforms.Compose([\n",
    "    transforms.Resize((224, 224)),\n",
    "    transforms.ToTensor(),\n",
    "    transforms.Normalize(mean=[0.5, 0.5, 0.5], std=[0.5, 0.5, 0.5]),\n",
    "])\n",
    "\n",
    "# Apply the custom transforms to the datasets\n",
    "train_dataset = RGBDataset(root_dir='../../../serverstuff/hsi/train', transform=transform)\n",
    "val_dataset = RGBDataset(root_dir='../../../serverstuff/hsi/validation', transform=transform)\n",
    "test_dataset = RGBDataset(root_dir='../../../serverstuff/hsi/test', transform=transform)\n",
    "\n",
    "# Create DataLoaders for training, validation, and test sets\n",
    "train_loader = DataLoader(train_dataset, batch_size=4, shuffle=True, num_workers=4)\n",
    "val_loader = DataLoader(val_dataset, batch_size=4, shuffle=False, num_workers=4)\n",
    "test_loader = DataLoader(test_dataset, batch_size=4, shuffle=False, num_workers=4)"
   ]
  },
  {
   "cell_type": "code",
   "execution_count": 3,
   "id": "2ccab103-2289-4111-bf41-0447ae956224",
   "metadata": {},
   "outputs": [],
   "source": [
    "# # Function to get all file paths from a dataset\n",
    "# def get_all_file_paths(dataset):\n",
    "#     file_paths = []\n",
    "#     for idx in range(len(dataset)):\n",
    "#         file_paths.append(dataset.get_image_path(idx))\n",
    "#     return file_paths\n",
    "\n",
    "# # # Initialize the dataset with transformations\n",
    "# dataset = HyperspectralDataset(root_dir='../../dibasRP/all')\n",
    "# # channel_means_cube, channel_stds_cube, channel_means_profile, channel_stds_profile = compute_statistics(dataset)\n",
    "\n",
    "# channel_means_cube, channel_stds_cube, channel_means_profile, channel_stds_profile = [0.5] * 31, [0.5] * 31, [0.5] * 31, [0.5] * 31\n",
    "# # Define the custom transformations using the computed statistics\n",
    "# cube_transform = NormalizeCube(mean=channel_means_cube, std=channel_stds_cube)\n",
    "# profile_transform = NormalizeProfile(mean=channel_means_profile, std=channel_stds_profile)\n",
    "\n",
    "# # Apply the custom transforms to the datasets\n",
    "# train_dataset = HyperspectralDataset(root_dir='../../dibasRP/train', cube_transform=cube_transform)\n",
    "# val_dataset = HyperspectralDataset(root_dir='../../dibasRP/val', cube_transform=cube_transform)\n",
    "# test_dataset = HyperspectralDataset(root_dir='../../dibasRP/test', cube_transform=cube_transform)\n",
    "\n",
    "# # Create DataLoaders for training, validation, and test sets\n",
    "# train_loader = DataLoader(train_dataset, batch_size=4, shuffle=True, num_workers=4)\n",
    "# val_loader = DataLoader(val_dataset, batch_size=4, shuffle=False, num_workers=4)\n",
    "# test_loader = DataLoader(test_dataset, batch_size=4, shuffle=False, num_workers=4)"
   ]
  },
  {
   "cell_type": "code",
   "execution_count": 4,
   "id": "4795d9f6-ad04-426c-82c3-64aeab302962",
   "metadata": {},
   "outputs": [],
   "source": [
    "# # Get file paths for the main dataset and each split\n",
    "# main_dataset_paths = get_all_file_paths(dataset)\n",
    "# train_dataset_paths = get_all_file_paths(train_dataset)\n",
    "# val_dataset_paths = get_all_file_paths(val_dataset)\n",
    "# test_dataset_paths = get_all_file_paths(test_dataset)\n",
    "\n",
    "# # Check if the total length of the splits equals the length of the main dataset\n",
    "# total_split_length = len(train_dataset_paths) + len(val_dataset_paths) + len(test_dataset_paths)\n",
    "# if total_split_length != len(main_dataset_paths):\n",
    "#     print(f\"Error: Total length of splits ({total_split_length}) does not equal length of main dataset ({len(main_dataset_paths)})\")\n",
    "# else:\n",
    "#     print(\"Total length of splits matches the length of the main dataset.\")\n",
    "\n",
    "# # Check for overlaps between splits\n",
    "# def check_for_overlaps(paths1, paths2):\n",
    "#     overlaps = set(paths1) & set(paths2)\n",
    "#     return overlaps\n",
    "\n",
    "# train_val_overlaps = check_for_overlaps(train_dataset_paths, val_dataset_paths)\n",
    "# train_test_overlaps = check_for_overlaps(train_dataset_paths, test_dataset_paths)\n",
    "# val_test_overlaps = check_for_overlaps(val_dataset_paths, test_dataset_paths)\n",
    "\n",
    "# if train_val_overlaps:\n",
    "#     print(f\"Error: Overlaps found between train and validation datasets: {len(train_val_overlaps)} overlaps\")\n",
    "# else:\n",
    "#     print(\"No overlaps found between train and validation datasets.\")\n",
    "\n",
    "# if train_test_overlaps:\n",
    "#     print(f\"Error: Overlaps found between train and test datasets: {len(train_test_overlaps)} overlaps\")\n",
    "# else:\n",
    "#     print(\"No overlaps found between train and test datasets.\")\n",
    "\n",
    "# if val_test_overlaps:\n",
    "#     print(f\"Error: Overlaps found between validation and test datasets: {len(val_test_overlaps)} overlaps\")\n",
    "# else:\n",
    "#     print(\"No overlaps found between validation and test datasets.\")"
   ]
  },
  {
   "cell_type": "code",
   "execution_count": null,
   "id": "5e1ffc9f-5658-4b20-9b3d-97ac24c066dd",
   "metadata": {},
   "outputs": [],
   "source": []
  },
  {
   "cell_type": "code",
   "execution_count": 5,
   "id": "7848eefb-c25f-47f8-8344-d7f9c30ff2d8",
   "metadata": {},
   "outputs": [
    {
     "data": {
      "application/vnd.jupyter.widget-view+json": {
       "model_id": "cc0b521af7c240c8b8f51d82c2c7f4a1",
       "version_major": 2,
       "version_minor": 0
      },
      "text/plain": [
       "config.json:   0%|          | 0.00/70.2k [00:00<?, ?B/s]"
      ]
     },
     "metadata": {},
     "output_type": "display_data"
    },
    {
     "data": {
      "application/vnd.jupyter.widget-view+json": {
       "model_id": "b14211242e7a4aac99723f656281c59b",
       "version_major": 2,
       "version_minor": 0
      },
      "text/plain": [
       "pytorch_model.bin:   0%|          | 0.00/49.5M [00:00<?, ?B/s]"
      ]
     },
     "metadata": {},
     "output_type": "display_data"
    },
    {
     "name": "stdout",
     "output_type": "stream",
     "text": [
      "34\n",
      "efficientnet.embeddings.convolution.weight: frozen\n",
      "efficientnet.embeddings.batchnorm.weight: frozen\n",
      "efficientnet.embeddings.batchnorm.bias: frozen\n",
      "efficientnet.encoder.blocks.0.depthwise_conv.depthwise_conv.weight: frozen\n",
      "efficientnet.encoder.blocks.0.depthwise_conv.depthwise_norm.weight: frozen\n",
      "efficientnet.encoder.blocks.0.depthwise_conv.depthwise_norm.bias: frozen\n",
      "efficientnet.encoder.blocks.0.squeeze_excite.reduce.weight: frozen\n",
      "efficientnet.encoder.blocks.0.squeeze_excite.reduce.bias: frozen\n",
      "efficientnet.encoder.blocks.0.squeeze_excite.expand.weight: frozen\n",
      "efficientnet.encoder.blocks.0.squeeze_excite.expand.bias: frozen\n",
      "efficientnet.encoder.blocks.0.projection.project_conv.weight: frozen\n",
      "efficientnet.encoder.blocks.0.projection.project_bn.weight: frozen\n",
      "efficientnet.encoder.blocks.0.projection.project_bn.bias: frozen\n",
      "efficientnet.encoder.blocks.1.depthwise_conv.depthwise_conv.weight: frozen\n",
      "efficientnet.encoder.blocks.1.depthwise_conv.depthwise_norm.weight: frozen\n",
      "efficientnet.encoder.blocks.1.depthwise_conv.depthwise_norm.bias: frozen\n",
      "efficientnet.encoder.blocks.1.squeeze_excite.reduce.weight: frozen\n",
      "efficientnet.encoder.blocks.1.squeeze_excite.reduce.bias: frozen\n",
      "efficientnet.encoder.blocks.1.squeeze_excite.expand.weight: frozen\n",
      "efficientnet.encoder.blocks.1.squeeze_excite.expand.bias: frozen\n",
      "efficientnet.encoder.blocks.1.projection.project_conv.weight: frozen\n",
      "efficientnet.encoder.blocks.1.projection.project_bn.weight: frozen\n",
      "efficientnet.encoder.blocks.1.projection.project_bn.bias: frozen\n",
      "efficientnet.encoder.blocks.2.expansion.expand_conv.weight: frozen\n",
      "efficientnet.encoder.blocks.2.expansion.expand_bn.weight: frozen\n",
      "efficientnet.encoder.blocks.2.expansion.expand_bn.bias: frozen\n",
      "efficientnet.encoder.blocks.2.depthwise_conv.depthwise_conv.weight: frozen\n",
      "efficientnet.encoder.blocks.2.depthwise_conv.depthwise_norm.weight: frozen\n",
      "efficientnet.encoder.blocks.2.depthwise_conv.depthwise_norm.bias: frozen\n",
      "efficientnet.encoder.blocks.2.squeeze_excite.reduce.weight: frozen\n",
      "efficientnet.encoder.blocks.2.squeeze_excite.reduce.bias: frozen\n",
      "efficientnet.encoder.blocks.2.squeeze_excite.expand.weight: frozen\n",
      "efficientnet.encoder.blocks.2.squeeze_excite.expand.bias: frozen\n",
      "efficientnet.encoder.blocks.2.projection.project_conv.weight: frozen\n",
      "efficientnet.encoder.blocks.2.projection.project_bn.weight: frozen\n",
      "efficientnet.encoder.blocks.2.projection.project_bn.bias: frozen\n",
      "efficientnet.encoder.blocks.3.expansion.expand_conv.weight: frozen\n",
      "efficientnet.encoder.blocks.3.expansion.expand_bn.weight: frozen\n",
      "efficientnet.encoder.blocks.3.expansion.expand_bn.bias: frozen\n",
      "efficientnet.encoder.blocks.3.depthwise_conv.depthwise_conv.weight: frozen\n",
      "efficientnet.encoder.blocks.3.depthwise_conv.depthwise_norm.weight: frozen\n",
      "efficientnet.encoder.blocks.3.depthwise_conv.depthwise_norm.bias: frozen\n",
      "efficientnet.encoder.blocks.3.squeeze_excite.reduce.weight: frozen\n",
      "efficientnet.encoder.blocks.3.squeeze_excite.reduce.bias: frozen\n",
      "efficientnet.encoder.blocks.3.squeeze_excite.expand.weight: frozen\n",
      "efficientnet.encoder.blocks.3.squeeze_excite.expand.bias: frozen\n",
      "efficientnet.encoder.blocks.3.projection.project_conv.weight: frozen\n",
      "efficientnet.encoder.blocks.3.projection.project_bn.weight: frozen\n",
      "efficientnet.encoder.blocks.3.projection.project_bn.bias: frozen\n",
      "efficientnet.encoder.blocks.4.expansion.expand_conv.weight: frozen\n",
      "efficientnet.encoder.blocks.4.expansion.expand_bn.weight: frozen\n",
      "efficientnet.encoder.blocks.4.expansion.expand_bn.bias: frozen\n",
      "efficientnet.encoder.blocks.4.depthwise_conv.depthwise_conv.weight: frozen\n",
      "efficientnet.encoder.blocks.4.depthwise_conv.depthwise_norm.weight: frozen\n",
      "efficientnet.encoder.blocks.4.depthwise_conv.depthwise_norm.bias: frozen\n",
      "efficientnet.encoder.blocks.4.squeeze_excite.reduce.weight: frozen\n",
      "efficientnet.encoder.blocks.4.squeeze_excite.reduce.bias: frozen\n",
      "efficientnet.encoder.blocks.4.squeeze_excite.expand.weight: frozen\n",
      "efficientnet.encoder.blocks.4.squeeze_excite.expand.bias: frozen\n",
      "efficientnet.encoder.blocks.4.projection.project_conv.weight: frozen\n",
      "efficientnet.encoder.blocks.4.projection.project_bn.weight: frozen\n",
      "efficientnet.encoder.blocks.4.projection.project_bn.bias: frozen\n",
      "efficientnet.encoder.blocks.5.expansion.expand_conv.weight: frozen\n",
      "efficientnet.encoder.blocks.5.expansion.expand_bn.weight: frozen\n",
      "efficientnet.encoder.blocks.5.expansion.expand_bn.bias: frozen\n",
      "efficientnet.encoder.blocks.5.depthwise_conv.depthwise_conv.weight: frozen\n",
      "efficientnet.encoder.blocks.5.depthwise_conv.depthwise_norm.weight: frozen\n",
      "efficientnet.encoder.blocks.5.depthwise_conv.depthwise_norm.bias: frozen\n",
      "efficientnet.encoder.blocks.5.squeeze_excite.reduce.weight: frozen\n",
      "efficientnet.encoder.blocks.5.squeeze_excite.reduce.bias: frozen\n",
      "efficientnet.encoder.blocks.5.squeeze_excite.expand.weight: frozen\n",
      "efficientnet.encoder.blocks.5.squeeze_excite.expand.bias: frozen\n",
      "efficientnet.encoder.blocks.5.projection.project_conv.weight: frozen\n",
      "efficientnet.encoder.blocks.5.projection.project_bn.weight: frozen\n",
      "efficientnet.encoder.blocks.5.projection.project_bn.bias: frozen\n",
      "efficientnet.encoder.blocks.6.expansion.expand_conv.weight: frozen\n",
      "efficientnet.encoder.blocks.6.expansion.expand_bn.weight: frozen\n",
      "efficientnet.encoder.blocks.6.expansion.expand_bn.bias: frozen\n",
      "efficientnet.encoder.blocks.6.depthwise_conv.depthwise_conv.weight: frozen\n",
      "efficientnet.encoder.blocks.6.depthwise_conv.depthwise_norm.weight: frozen\n",
      "efficientnet.encoder.blocks.6.depthwise_conv.depthwise_norm.bias: frozen\n",
      "efficientnet.encoder.blocks.6.squeeze_excite.reduce.weight: frozen\n",
      "efficientnet.encoder.blocks.6.squeeze_excite.reduce.bias: frozen\n",
      "efficientnet.encoder.blocks.6.squeeze_excite.expand.weight: frozen\n",
      "efficientnet.encoder.blocks.6.squeeze_excite.expand.bias: frozen\n",
      "efficientnet.encoder.blocks.6.projection.project_conv.weight: frozen\n",
      "efficientnet.encoder.blocks.6.projection.project_bn.weight: frozen\n",
      "efficientnet.encoder.blocks.6.projection.project_bn.bias: frozen\n",
      "efficientnet.encoder.blocks.7.expansion.expand_conv.weight: frozen\n",
      "efficientnet.encoder.blocks.7.expansion.expand_bn.weight: frozen\n",
      "efficientnet.encoder.blocks.7.expansion.expand_bn.bias: frozen\n",
      "efficientnet.encoder.blocks.7.depthwise_conv.depthwise_conv.weight: frozen\n",
      "efficientnet.encoder.blocks.7.depthwise_conv.depthwise_norm.weight: frozen\n",
      "efficientnet.encoder.blocks.7.depthwise_conv.depthwise_norm.bias: frozen\n",
      "efficientnet.encoder.blocks.7.squeeze_excite.reduce.weight: frozen\n",
      "efficientnet.encoder.blocks.7.squeeze_excite.reduce.bias: frozen\n",
      "efficientnet.encoder.blocks.7.squeeze_excite.expand.weight: frozen\n",
      "efficientnet.encoder.blocks.7.squeeze_excite.expand.bias: frozen\n",
      "efficientnet.encoder.blocks.7.projection.project_conv.weight: frozen\n",
      "efficientnet.encoder.blocks.7.projection.project_bn.weight: frozen\n",
      "efficientnet.encoder.blocks.7.projection.project_bn.bias: frozen\n",
      "efficientnet.encoder.blocks.8.expansion.expand_conv.weight: frozen\n",
      "efficientnet.encoder.blocks.8.expansion.expand_bn.weight: frozen\n",
      "efficientnet.encoder.blocks.8.expansion.expand_bn.bias: frozen\n",
      "efficientnet.encoder.blocks.8.depthwise_conv.depthwise_conv.weight: frozen\n",
      "efficientnet.encoder.blocks.8.depthwise_conv.depthwise_norm.weight: frozen\n",
      "efficientnet.encoder.blocks.8.depthwise_conv.depthwise_norm.bias: frozen\n",
      "efficientnet.encoder.blocks.8.squeeze_excite.reduce.weight: frozen\n",
      "efficientnet.encoder.blocks.8.squeeze_excite.reduce.bias: frozen\n",
      "efficientnet.encoder.blocks.8.squeeze_excite.expand.weight: frozen\n",
      "efficientnet.encoder.blocks.8.squeeze_excite.expand.bias: frozen\n",
      "efficientnet.encoder.blocks.8.projection.project_conv.weight: frozen\n",
      "efficientnet.encoder.blocks.8.projection.project_bn.weight: frozen\n",
      "efficientnet.encoder.blocks.8.projection.project_bn.bias: frozen\n",
      "efficientnet.encoder.blocks.9.expansion.expand_conv.weight: frozen\n",
      "efficientnet.encoder.blocks.9.expansion.expand_bn.weight: frozen\n",
      "efficientnet.encoder.blocks.9.expansion.expand_bn.bias: frozen\n",
      "efficientnet.encoder.blocks.9.depthwise_conv.depthwise_conv.weight: frozen\n",
      "efficientnet.encoder.blocks.9.depthwise_conv.depthwise_norm.weight: frozen\n",
      "efficientnet.encoder.blocks.9.depthwise_conv.depthwise_norm.bias: frozen\n",
      "efficientnet.encoder.blocks.9.squeeze_excite.reduce.weight: frozen\n",
      "efficientnet.encoder.blocks.9.squeeze_excite.reduce.bias: frozen\n",
      "efficientnet.encoder.blocks.9.squeeze_excite.expand.weight: frozen\n",
      "efficientnet.encoder.blocks.9.squeeze_excite.expand.bias: frozen\n",
      "efficientnet.encoder.blocks.9.projection.project_conv.weight: frozen\n",
      "efficientnet.encoder.blocks.9.projection.project_bn.weight: frozen\n",
      "efficientnet.encoder.blocks.9.projection.project_bn.bias: frozen\n",
      "efficientnet.encoder.blocks.10.expansion.expand_conv.weight: frozen\n",
      "efficientnet.encoder.blocks.10.expansion.expand_bn.weight: frozen\n",
      "efficientnet.encoder.blocks.10.expansion.expand_bn.bias: frozen\n",
      "efficientnet.encoder.blocks.10.depthwise_conv.depthwise_conv.weight: frozen\n",
      "efficientnet.encoder.blocks.10.depthwise_conv.depthwise_norm.weight: frozen\n",
      "efficientnet.encoder.blocks.10.depthwise_conv.depthwise_norm.bias: frozen\n",
      "efficientnet.encoder.blocks.10.squeeze_excite.reduce.weight: frozen\n",
      "efficientnet.encoder.blocks.10.squeeze_excite.reduce.bias: frozen\n",
      "efficientnet.encoder.blocks.10.squeeze_excite.expand.weight: frozen\n",
      "efficientnet.encoder.blocks.10.squeeze_excite.expand.bias: frozen\n",
      "efficientnet.encoder.blocks.10.projection.project_conv.weight: frozen\n",
      "efficientnet.encoder.blocks.10.projection.project_bn.weight: frozen\n",
      "efficientnet.encoder.blocks.10.projection.project_bn.bias: frozen\n",
      "efficientnet.encoder.blocks.11.expansion.expand_conv.weight: frozen\n",
      "efficientnet.encoder.blocks.11.expansion.expand_bn.weight: frozen\n",
      "efficientnet.encoder.blocks.11.expansion.expand_bn.bias: frozen\n",
      "efficientnet.encoder.blocks.11.depthwise_conv.depthwise_conv.weight: frozen\n",
      "efficientnet.encoder.blocks.11.depthwise_conv.depthwise_norm.weight: frozen\n",
      "efficientnet.encoder.blocks.11.depthwise_conv.depthwise_norm.bias: frozen\n",
      "efficientnet.encoder.blocks.11.squeeze_excite.reduce.weight: frozen\n",
      "efficientnet.encoder.blocks.11.squeeze_excite.reduce.bias: frozen\n",
      "efficientnet.encoder.blocks.11.squeeze_excite.expand.weight: frozen\n",
      "efficientnet.encoder.blocks.11.squeeze_excite.expand.bias: frozen\n",
      "efficientnet.encoder.blocks.11.projection.project_conv.weight: frozen\n",
      "efficientnet.encoder.blocks.11.projection.project_bn.weight: frozen\n",
      "efficientnet.encoder.blocks.11.projection.project_bn.bias: frozen\n",
      "efficientnet.encoder.blocks.12.expansion.expand_conv.weight: frozen\n",
      "efficientnet.encoder.blocks.12.expansion.expand_bn.weight: frozen\n",
      "efficientnet.encoder.blocks.12.expansion.expand_bn.bias: frozen\n",
      "efficientnet.encoder.blocks.12.depthwise_conv.depthwise_conv.weight: frozen\n",
      "efficientnet.encoder.blocks.12.depthwise_conv.depthwise_norm.weight: frozen\n",
      "efficientnet.encoder.blocks.12.depthwise_conv.depthwise_norm.bias: frozen\n",
      "efficientnet.encoder.blocks.12.squeeze_excite.reduce.weight: frozen\n",
      "efficientnet.encoder.blocks.12.squeeze_excite.reduce.bias: frozen\n",
      "efficientnet.encoder.blocks.12.squeeze_excite.expand.weight: frozen\n",
      "efficientnet.encoder.blocks.12.squeeze_excite.expand.bias: frozen\n",
      "efficientnet.encoder.blocks.12.projection.project_conv.weight: frozen\n",
      "efficientnet.encoder.blocks.12.projection.project_bn.weight: frozen\n",
      "efficientnet.encoder.blocks.12.projection.project_bn.bias: frozen\n",
      "efficientnet.encoder.blocks.13.expansion.expand_conv.weight: frozen\n",
      "efficientnet.encoder.blocks.13.expansion.expand_bn.weight: frozen\n",
      "efficientnet.encoder.blocks.13.expansion.expand_bn.bias: frozen\n",
      "efficientnet.encoder.blocks.13.depthwise_conv.depthwise_conv.weight: frozen\n",
      "efficientnet.encoder.blocks.13.depthwise_conv.depthwise_norm.weight: frozen\n",
      "efficientnet.encoder.blocks.13.depthwise_conv.depthwise_norm.bias: frozen\n",
      "efficientnet.encoder.blocks.13.squeeze_excite.reduce.weight: frozen\n",
      "efficientnet.encoder.blocks.13.squeeze_excite.reduce.bias: frozen\n",
      "efficientnet.encoder.blocks.13.squeeze_excite.expand.weight: frozen\n",
      "efficientnet.encoder.blocks.13.squeeze_excite.expand.bias: frozen\n",
      "efficientnet.encoder.blocks.13.projection.project_conv.weight: frozen\n",
      "efficientnet.encoder.blocks.13.projection.project_bn.weight: frozen\n",
      "efficientnet.encoder.blocks.13.projection.project_bn.bias: frozen\n",
      "efficientnet.encoder.blocks.14.expansion.expand_conv.weight: frozen\n",
      "efficientnet.encoder.blocks.14.expansion.expand_bn.weight: frozen\n",
      "efficientnet.encoder.blocks.14.expansion.expand_bn.bias: frozen\n",
      "efficientnet.encoder.blocks.14.depthwise_conv.depthwise_conv.weight: frozen\n",
      "efficientnet.encoder.blocks.14.depthwise_conv.depthwise_norm.weight: frozen\n",
      "efficientnet.encoder.blocks.14.depthwise_conv.depthwise_norm.bias: frozen\n",
      "efficientnet.encoder.blocks.14.squeeze_excite.reduce.weight: frozen\n",
      "efficientnet.encoder.blocks.14.squeeze_excite.reduce.bias: frozen\n",
      "efficientnet.encoder.blocks.14.squeeze_excite.expand.weight: frozen\n",
      "efficientnet.encoder.blocks.14.squeeze_excite.expand.bias: frozen\n",
      "efficientnet.encoder.blocks.14.projection.project_conv.weight: frozen\n",
      "efficientnet.encoder.blocks.14.projection.project_bn.weight: frozen\n",
      "efficientnet.encoder.blocks.14.projection.project_bn.bias: frozen\n",
      "efficientnet.encoder.blocks.15.expansion.expand_conv.weight: frozen\n",
      "efficientnet.encoder.blocks.15.expansion.expand_bn.weight: frozen\n",
      "efficientnet.encoder.blocks.15.expansion.expand_bn.bias: frozen\n",
      "efficientnet.encoder.blocks.15.depthwise_conv.depthwise_conv.weight: frozen\n",
      "efficientnet.encoder.blocks.15.depthwise_conv.depthwise_norm.weight: frozen\n",
      "efficientnet.encoder.blocks.15.depthwise_conv.depthwise_norm.bias: frozen\n",
      "efficientnet.encoder.blocks.15.squeeze_excite.reduce.weight: frozen\n",
      "efficientnet.encoder.blocks.15.squeeze_excite.reduce.bias: frozen\n",
      "efficientnet.encoder.blocks.15.squeeze_excite.expand.weight: frozen\n",
      "efficientnet.encoder.blocks.15.squeeze_excite.expand.bias: frozen\n",
      "efficientnet.encoder.blocks.15.projection.project_conv.weight: frozen\n",
      "efficientnet.encoder.blocks.15.projection.project_bn.weight: frozen\n",
      "efficientnet.encoder.blocks.15.projection.project_bn.bias: frozen\n",
      "efficientnet.encoder.blocks.16.expansion.expand_conv.weight: frozen\n",
      "efficientnet.encoder.blocks.16.expansion.expand_bn.weight: frozen\n",
      "efficientnet.encoder.blocks.16.expansion.expand_bn.bias: frozen\n",
      "efficientnet.encoder.blocks.16.depthwise_conv.depthwise_conv.weight: frozen\n",
      "efficientnet.encoder.blocks.16.depthwise_conv.depthwise_norm.weight: frozen\n",
      "efficientnet.encoder.blocks.16.depthwise_conv.depthwise_norm.bias: frozen\n",
      "efficientnet.encoder.blocks.16.squeeze_excite.reduce.weight: frozen\n",
      "efficientnet.encoder.blocks.16.squeeze_excite.reduce.bias: frozen\n",
      "efficientnet.encoder.blocks.16.squeeze_excite.expand.weight: frozen\n",
      "efficientnet.encoder.blocks.16.squeeze_excite.expand.bias: frozen\n",
      "efficientnet.encoder.blocks.16.projection.project_conv.weight: frozen\n",
      "efficientnet.encoder.blocks.16.projection.project_bn.weight: frozen\n",
      "efficientnet.encoder.blocks.16.projection.project_bn.bias: frozen\n",
      "efficientnet.encoder.blocks.17.expansion.expand_conv.weight: frozen\n",
      "efficientnet.encoder.blocks.17.expansion.expand_bn.weight: frozen\n",
      "efficientnet.encoder.blocks.17.expansion.expand_bn.bias: frozen\n",
      "efficientnet.encoder.blocks.17.depthwise_conv.depthwise_conv.weight: frozen\n",
      "efficientnet.encoder.blocks.17.depthwise_conv.depthwise_norm.weight: frozen\n",
      "efficientnet.encoder.blocks.17.depthwise_conv.depthwise_norm.bias: frozen\n",
      "efficientnet.encoder.blocks.17.squeeze_excite.reduce.weight: frozen\n",
      "efficientnet.encoder.blocks.17.squeeze_excite.reduce.bias: frozen\n",
      "efficientnet.encoder.blocks.17.squeeze_excite.expand.weight: frozen\n",
      "efficientnet.encoder.blocks.17.squeeze_excite.expand.bias: frozen\n",
      "efficientnet.encoder.blocks.17.projection.project_conv.weight: frozen\n",
      "efficientnet.encoder.blocks.17.projection.project_bn.weight: frozen\n",
      "efficientnet.encoder.blocks.17.projection.project_bn.bias: frozen\n",
      "efficientnet.encoder.blocks.18.expansion.expand_conv.weight: frozen\n",
      "efficientnet.encoder.blocks.18.expansion.expand_bn.weight: frozen\n",
      "efficientnet.encoder.blocks.18.expansion.expand_bn.bias: frozen\n",
      "efficientnet.encoder.blocks.18.depthwise_conv.depthwise_conv.weight: frozen\n",
      "efficientnet.encoder.blocks.18.depthwise_conv.depthwise_norm.weight: frozen\n",
      "efficientnet.encoder.blocks.18.depthwise_conv.depthwise_norm.bias: frozen\n",
      "efficientnet.encoder.blocks.18.squeeze_excite.reduce.weight: frozen\n",
      "efficientnet.encoder.blocks.18.squeeze_excite.reduce.bias: frozen\n",
      "efficientnet.encoder.blocks.18.squeeze_excite.expand.weight: frozen\n",
      "efficientnet.encoder.blocks.18.squeeze_excite.expand.bias: frozen\n",
      "efficientnet.encoder.blocks.18.projection.project_conv.weight: frozen\n",
      "efficientnet.encoder.blocks.18.projection.project_bn.weight: frozen\n",
      "efficientnet.encoder.blocks.18.projection.project_bn.bias: frozen\n",
      "efficientnet.encoder.blocks.19.expansion.expand_conv.weight: frozen\n",
      "efficientnet.encoder.blocks.19.expansion.expand_bn.weight: frozen\n",
      "efficientnet.encoder.blocks.19.expansion.expand_bn.bias: frozen\n",
      "efficientnet.encoder.blocks.19.depthwise_conv.depthwise_conv.weight: frozen\n",
      "efficientnet.encoder.blocks.19.depthwise_conv.depthwise_norm.weight: frozen\n",
      "efficientnet.encoder.blocks.19.depthwise_conv.depthwise_norm.bias: frozen\n",
      "efficientnet.encoder.blocks.19.squeeze_excite.reduce.weight: frozen\n",
      "efficientnet.encoder.blocks.19.squeeze_excite.reduce.bias: frozen\n",
      "efficientnet.encoder.blocks.19.squeeze_excite.expand.weight: frozen\n",
      "efficientnet.encoder.blocks.19.squeeze_excite.expand.bias: frozen\n",
      "efficientnet.encoder.blocks.19.projection.project_conv.weight: frozen\n",
      "efficientnet.encoder.blocks.19.projection.project_bn.weight: frozen\n",
      "efficientnet.encoder.blocks.19.projection.project_bn.bias: frozen\n",
      "efficientnet.encoder.blocks.20.expansion.expand_conv.weight: frozen\n",
      "efficientnet.encoder.blocks.20.expansion.expand_bn.weight: frozen\n",
      "efficientnet.encoder.blocks.20.expansion.expand_bn.bias: frozen\n",
      "efficientnet.encoder.blocks.20.depthwise_conv.depthwise_conv.weight: frozen\n",
      "efficientnet.encoder.blocks.20.depthwise_conv.depthwise_norm.weight: frozen\n",
      "efficientnet.encoder.blocks.20.depthwise_conv.depthwise_norm.bias: frozen\n",
      "efficientnet.encoder.blocks.20.squeeze_excite.reduce.weight: frozen\n",
      "efficientnet.encoder.blocks.20.squeeze_excite.reduce.bias: frozen\n",
      "efficientnet.encoder.blocks.20.squeeze_excite.expand.weight: frozen\n",
      "efficientnet.encoder.blocks.20.squeeze_excite.expand.bias: frozen\n",
      "efficientnet.encoder.blocks.20.projection.project_conv.weight: frozen\n",
      "efficientnet.encoder.blocks.20.projection.project_bn.weight: frozen\n",
      "efficientnet.encoder.blocks.20.projection.project_bn.bias: frozen\n",
      "efficientnet.encoder.blocks.21.expansion.expand_conv.weight: frozen\n",
      "efficientnet.encoder.blocks.21.expansion.expand_bn.weight: frozen\n",
      "efficientnet.encoder.blocks.21.expansion.expand_bn.bias: frozen\n",
      "efficientnet.encoder.blocks.21.depthwise_conv.depthwise_conv.weight: frozen\n",
      "efficientnet.encoder.blocks.21.depthwise_conv.depthwise_norm.weight: frozen\n",
      "efficientnet.encoder.blocks.21.depthwise_conv.depthwise_norm.bias: frozen\n",
      "efficientnet.encoder.blocks.21.squeeze_excite.reduce.weight: frozen\n",
      "efficientnet.encoder.blocks.21.squeeze_excite.reduce.bias: frozen\n",
      "efficientnet.encoder.blocks.21.squeeze_excite.expand.weight: frozen\n",
      "efficientnet.encoder.blocks.21.squeeze_excite.expand.bias: frozen\n",
      "efficientnet.encoder.blocks.21.projection.project_conv.weight: frozen\n",
      "efficientnet.encoder.blocks.21.projection.project_bn.weight: frozen\n",
      "efficientnet.encoder.blocks.21.projection.project_bn.bias: frozen\n",
      "efficientnet.encoder.blocks.22.expansion.expand_conv.weight: frozen\n",
      "efficientnet.encoder.blocks.22.expansion.expand_bn.weight: frozen\n",
      "efficientnet.encoder.blocks.22.expansion.expand_bn.bias: frozen\n",
      "efficientnet.encoder.blocks.22.depthwise_conv.depthwise_conv.weight: frozen\n",
      "efficientnet.encoder.blocks.22.depthwise_conv.depthwise_norm.weight: frozen\n",
      "efficientnet.encoder.blocks.22.depthwise_conv.depthwise_norm.bias: frozen\n",
      "efficientnet.encoder.blocks.22.squeeze_excite.reduce.weight: frozen\n",
      "efficientnet.encoder.blocks.22.squeeze_excite.reduce.bias: frozen\n",
      "efficientnet.encoder.blocks.22.squeeze_excite.expand.weight: frozen\n",
      "efficientnet.encoder.blocks.22.squeeze_excite.expand.bias: frozen\n",
      "efficientnet.encoder.blocks.22.projection.project_conv.weight: frozen\n",
      "efficientnet.encoder.blocks.22.projection.project_bn.weight: frozen\n",
      "efficientnet.encoder.blocks.22.projection.project_bn.bias: frozen\n",
      "efficientnet.encoder.blocks.23.expansion.expand_conv.weight: frozen\n",
      "efficientnet.encoder.blocks.23.expansion.expand_bn.weight: frozen\n",
      "efficientnet.encoder.blocks.23.expansion.expand_bn.bias: frozen\n",
      "efficientnet.encoder.blocks.23.depthwise_conv.depthwise_conv.weight: frozen\n",
      "efficientnet.encoder.blocks.23.depthwise_conv.depthwise_norm.weight: frozen\n",
      "efficientnet.encoder.blocks.23.depthwise_conv.depthwise_norm.bias: frozen\n",
      "efficientnet.encoder.blocks.23.squeeze_excite.reduce.weight: frozen\n",
      "efficientnet.encoder.blocks.23.squeeze_excite.reduce.bias: frozen\n",
      "efficientnet.encoder.blocks.23.squeeze_excite.expand.weight: frozen\n",
      "efficientnet.encoder.blocks.23.squeeze_excite.expand.bias: frozen\n",
      "efficientnet.encoder.blocks.23.projection.project_conv.weight: frozen\n",
      "efficientnet.encoder.blocks.23.projection.project_bn.weight: frozen\n",
      "efficientnet.encoder.blocks.23.projection.project_bn.bias: frozen\n",
      "efficientnet.encoder.blocks.24.expansion.expand_conv.weight: frozen\n",
      "efficientnet.encoder.blocks.24.expansion.expand_bn.weight: frozen\n",
      "efficientnet.encoder.blocks.24.expansion.expand_bn.bias: frozen\n",
      "efficientnet.encoder.blocks.24.depthwise_conv.depthwise_conv.weight: frozen\n",
      "efficientnet.encoder.blocks.24.depthwise_conv.depthwise_norm.weight: frozen\n",
      "efficientnet.encoder.blocks.24.depthwise_conv.depthwise_norm.bias: frozen\n",
      "efficientnet.encoder.blocks.24.squeeze_excite.reduce.weight: frozen\n",
      "efficientnet.encoder.blocks.24.squeeze_excite.reduce.bias: frozen\n",
      "efficientnet.encoder.blocks.24.squeeze_excite.expand.weight: frozen\n",
      "efficientnet.encoder.blocks.24.squeeze_excite.expand.bias: frozen\n",
      "efficientnet.encoder.blocks.24.projection.project_conv.weight: frozen\n",
      "efficientnet.encoder.blocks.24.projection.project_bn.weight: frozen\n",
      "efficientnet.encoder.blocks.24.projection.project_bn.bias: frozen\n",
      "efficientnet.encoder.blocks.25.expansion.expand_conv.weight: frozen\n",
      "efficientnet.encoder.blocks.25.expansion.expand_bn.weight: frozen\n",
      "efficientnet.encoder.blocks.25.expansion.expand_bn.bias: frozen\n",
      "efficientnet.encoder.blocks.25.depthwise_conv.depthwise_conv.weight: frozen\n",
      "efficientnet.encoder.blocks.25.depthwise_conv.depthwise_norm.weight: frozen\n",
      "efficientnet.encoder.blocks.25.depthwise_conv.depthwise_norm.bias: frozen\n",
      "efficientnet.encoder.blocks.25.squeeze_excite.reduce.weight: frozen\n",
      "efficientnet.encoder.blocks.25.squeeze_excite.reduce.bias: frozen\n",
      "efficientnet.encoder.blocks.25.squeeze_excite.expand.weight: frozen\n",
      "efficientnet.encoder.blocks.25.squeeze_excite.expand.bias: frozen\n",
      "efficientnet.encoder.blocks.25.projection.project_conv.weight: frozen\n",
      "efficientnet.encoder.blocks.25.projection.project_bn.weight: frozen\n",
      "efficientnet.encoder.blocks.25.projection.project_bn.bias: frozen\n",
      "efficientnet.encoder.top_conv.weight: frozen\n",
      "efficientnet.encoder.top_bn.weight: frozen\n",
      "efficientnet.encoder.top_bn.bias: frozen\n",
      "classifier.weight: requires_grad\n",
      "classifier.bias: requires_grad\n"
     ]
    }
   ],
   "source": [
    "# Initialize the modified ResNet model\n",
    "\n",
    "model = AutoModelForImageClassification.from_pretrained(\"google/efficientnet-b3\").to(device)\n",
    "\n",
    "# model = CustomResNet50(num_classes=len(train_dataset.label_map)).to(device)\n",
    "# model = models.resnet50(weights=models.ResNet50_Weights.IMAGENET1K_V1).to(device)\n",
    "for name, param in model.named_parameters():\n",
    "    param.requires_grad = \"classifier\" in name\n",
    "\n",
    "# Get the number of input features of the current classifier layer\n",
    "num_features = model.classifier.in_features\n",
    "\n",
    "# Replace the classifier layer with a new one\n",
    "model.classifier = nn.Linear(num_features, 34).to(device)  # Assuming 10 classes\n",
    "\n",
    "print(model.classifier.out_features)\n",
    "    \n",
    "\n",
    "for name, param in model.named_parameters():\n",
    "    print(f\"{name}: {'requires_grad' if param.requires_grad else 'frozen'}\")\n"
   ]
  },
  {
   "cell_type": "code",
   "execution_count": 6,
   "id": "0f350094-d65d-4d20-9550-32cce9d0c2a9",
   "metadata": {},
   "outputs": [],
   "source": [
    "# Define the loss function and optimizer\n",
    "criterion = nn.CrossEntropyLoss()\n",
    "# optimizer = optim.SGD(model.parameters(), lr=0.01, momentum=0.9, weight_decay=0.0005)\n",
    "# optimizer = optim.Adam(model.parameters(), lr=0.001)\n",
    "\n",
    "optimizer = optim.AdamW(model.parameters(), lr=0.001, weight_decay=0.01)\n",
    "scheduler = optim.lr_scheduler.ReduceLROnPlateau(optimizer, factor = 0.5, patience=5)\n",
    "\n"
   ]
  },
  {
   "cell_type": "code",
   "execution_count": 7,
   "id": "34fc8890-bf14-4061-8099-b5b8e9c5b194",
   "metadata": {
    "scrolled": true
   },
   "outputs": [
    {
     "name": "stdout",
     "output_type": "stream",
     "text": [
      "Epoch [1/125], Loss: 2.9541, Training Accuracy: 26.31%, Precision: 0.342, Recall: 0.263, F1 Score: 0.263\n"
     ]
    },
    {
     "name": "stderr",
     "output_type": "stream",
     "text": [
      "/home/michael/Desktop/ifile/nn/ResNet-PyTorch/ResNet/venvres/lib/python3.9/site-packages/sklearn/metrics/_classification.py:1531: UndefinedMetricWarning: Recall is ill-defined and being set to 0.0 in labels with no true samples. Use `zero_division` parameter to control this behavior.\n",
      "  _warn_prf(average, modifier, f\"{metric.capitalize()} is\", len(result))\n"
     ]
    },
    {
     "name": "stdout",
     "output_type": "stream",
     "text": [
      "Validation Loss: 3.2399, Validation Accuracy: 6.58%, Precision: 0.074, Recall: 0.066, F1 Score: 0.051\n",
      "Epoch [1/125] completed in 12.14 seconds\n"
     ]
    },
    {
     "name": "stderr",
     "output_type": "stream",
     "text": [
      "/home/michael/Desktop/ifile/nn/ResNet-PyTorch/ResNet/venvres/lib/python3.9/site-packages/sklearn/metrics/_classification.py:1531: UndefinedMetricWarning: Precision is ill-defined and being set to 0.0 in labels with no predicted samples. Use `zero_division` parameter to control this behavior.\n",
      "  _warn_prf(average, modifier, f\"{metric.capitalize()} is\", len(result))\n"
     ]
    },
    {
     "name": "stdout",
     "output_type": "stream",
     "text": [
      "Epoch [2/125], Loss: 1.9771, Training Accuracy: 53.73%, Precision: 0.543, Recall: 0.537, F1 Score: 0.524\n",
      "Validation Loss: 2712.9865, Validation Accuracy: 31.58%, Precision: 0.247, Recall: 0.316, F1 Score: 0.242\n",
      "Epoch [2/125] completed in 11.94 seconds\n"
     ]
    },
    {
     "name": "stderr",
     "output_type": "stream",
     "text": [
      "/home/michael/Desktop/ifile/nn/ResNet-PyTorch/ResNet/venvres/lib/python3.9/site-packages/sklearn/metrics/_classification.py:1531: UndefinedMetricWarning: Precision is ill-defined and being set to 0.0 in labels with no predicted samples. Use `zero_division` parameter to control this behavior.\n",
      "  _warn_prf(average, modifier, f\"{metric.capitalize()} is\", len(result))\n"
     ]
    },
    {
     "name": "stdout",
     "output_type": "stream",
     "text": [
      "Epoch [3/125], Loss: 1.5831, Training Accuracy: 62.87%, Precision: 0.629, Recall: 0.629, F1 Score: 0.616\n",
      "Validation Loss: 2.2615, Validation Accuracy: 44.74%, Precision: 0.493, Recall: 0.447, F1 Score: 0.435\n",
      "Epoch [3/125] completed in 12.13 seconds\n"
     ]
    },
    {
     "name": "stderr",
     "output_type": "stream",
     "text": [
      "/home/michael/Desktop/ifile/nn/ResNet-PyTorch/ResNet/venvres/lib/python3.9/site-packages/sklearn/metrics/_classification.py:1531: UndefinedMetricWarning: Precision is ill-defined and being set to 0.0 in labels with no predicted samples. Use `zero_division` parameter to control this behavior.\n",
      "  _warn_prf(average, modifier, f\"{metric.capitalize()} is\", len(result))\n",
      "/home/michael/Desktop/ifile/nn/ResNet-PyTorch/ResNet/venvres/lib/python3.9/site-packages/sklearn/metrics/_classification.py:1531: UndefinedMetricWarning: Recall is ill-defined and being set to 0.0 in labels with no true samples. Use `zero_division` parameter to control this behavior.\n",
      "  _warn_prf(average, modifier, f\"{metric.capitalize()} is\", len(result))\n"
     ]
    },
    {
     "name": "stdout",
     "output_type": "stream",
     "text": [
      "Epoch [4/125], Loss: 1.3314, Training Accuracy: 69.96%, Precision: 0.706, Recall: 0.700, F1 Score: 0.698\n",
      "Validation Loss: 2.5752, Validation Accuracy: 25.00%, Precision: 0.228, Recall: 0.250, F1 Score: 0.208\n",
      "Epoch [4/125] completed in 12.00 seconds\n"
     ]
    },
    {
     "name": "stderr",
     "output_type": "stream",
     "text": [
      "/home/michael/Desktop/ifile/nn/ResNet-PyTorch/ResNet/venvres/lib/python3.9/site-packages/sklearn/metrics/_classification.py:1531: UndefinedMetricWarning: Precision is ill-defined and being set to 0.0 in labels with no predicted samples. Use `zero_division` parameter to control this behavior.\n",
      "  _warn_prf(average, modifier, f\"{metric.capitalize()} is\", len(result))\n"
     ]
    },
    {
     "name": "stdout",
     "output_type": "stream",
     "text": [
      "Epoch [5/125], Loss: 1.2161, Training Accuracy: 68.84%, Precision: 0.693, Recall: 0.688, F1 Score: 0.685\n",
      "Validation Loss: 1.7901, Validation Accuracy: 53.95%, Precision: 0.513, Recall: 0.539, F1 Score: 0.489\n",
      "Epoch [5/125] completed in 12.05 seconds\n"
     ]
    },
    {
     "name": "stderr",
     "output_type": "stream",
     "text": [
      "/home/michael/Desktop/ifile/nn/ResNet-PyTorch/ResNet/venvres/lib/python3.9/site-packages/sklearn/metrics/_classification.py:1531: UndefinedMetricWarning: Precision is ill-defined and being set to 0.0 in labels with no predicted samples. Use `zero_division` parameter to control this behavior.\n",
      "  _warn_prf(average, modifier, f\"{metric.capitalize()} is\", len(result))\n",
      "/home/michael/Desktop/ifile/nn/ResNet-PyTorch/ResNet/venvres/lib/python3.9/site-packages/sklearn/metrics/_classification.py:1531: UndefinedMetricWarning: Recall is ill-defined and being set to 0.0 in labels with no true samples. Use `zero_division` parameter to control this behavior.\n",
      "  _warn_prf(average, modifier, f\"{metric.capitalize()} is\", len(result))\n"
     ]
    },
    {
     "name": "stdout",
     "output_type": "stream",
     "text": [
      "Epoch [6/125], Loss: 1.0910, Training Accuracy: 72.57%, Precision: 0.741, Recall: 0.726, F1 Score: 0.726\n",
      "Validation Loss: 1.8413, Validation Accuracy: 59.21%, Precision: 0.583, Recall: 0.592, F1 Score: 0.550\n",
      "Epoch [6/125] completed in 11.99 seconds\n"
     ]
    },
    {
     "name": "stderr",
     "output_type": "stream",
     "text": [
      "/home/michael/Desktop/ifile/nn/ResNet-PyTorch/ResNet/venvres/lib/python3.9/site-packages/sklearn/metrics/_classification.py:1531: UndefinedMetricWarning: Precision is ill-defined and being set to 0.0 in labels with no predicted samples. Use `zero_division` parameter to control this behavior.\n",
      "  _warn_prf(average, modifier, f\"{metric.capitalize()} is\", len(result))\n",
      "/home/michael/Desktop/ifile/nn/ResNet-PyTorch/ResNet/venvres/lib/python3.9/site-packages/sklearn/metrics/_classification.py:1531: UndefinedMetricWarning: Recall is ill-defined and being set to 0.0 in labels with no true samples. Use `zero_division` parameter to control this behavior.\n",
      "  _warn_prf(average, modifier, f\"{metric.capitalize()} is\", len(result))\n"
     ]
    },
    {
     "name": "stdout",
     "output_type": "stream",
     "text": [
      "Epoch [7/125], Loss: 1.0283, Training Accuracy: 72.76%, Precision: 0.734, Recall: 0.728, F1 Score: 0.724\n",
      "Validation Loss: 2.8271, Validation Accuracy: 25.00%, Precision: 0.273, Recall: 0.250, F1 Score: 0.242\n",
      "Epoch [7/125] completed in 12.12 seconds\n"
     ]
    },
    {
     "name": "stderr",
     "output_type": "stream",
     "text": [
      "/home/michael/Desktop/ifile/nn/ResNet-PyTorch/ResNet/venvres/lib/python3.9/site-packages/sklearn/metrics/_classification.py:1531: UndefinedMetricWarning: Precision is ill-defined and being set to 0.0 in labels with no predicted samples. Use `zero_division` parameter to control this behavior.\n",
      "  _warn_prf(average, modifier, f\"{metric.capitalize()} is\", len(result))\n",
      "/home/michael/Desktop/ifile/nn/ResNet-PyTorch/ResNet/venvres/lib/python3.9/site-packages/sklearn/metrics/_classification.py:1531: UndefinedMetricWarning: Recall is ill-defined and being set to 0.0 in labels with no true samples. Use `zero_division` parameter to control this behavior.\n",
      "  _warn_prf(average, modifier, f\"{metric.capitalize()} is\", len(result))\n"
     ]
    },
    {
     "name": "stdout",
     "output_type": "stream",
     "text": [
      "Epoch [8/125], Loss: 1.0303, Training Accuracy: 73.32%, Precision: 0.744, Recall: 0.733, F1 Score: 0.732\n",
      "Validation Loss: 1.7681, Validation Accuracy: 52.63%, Precision: 0.509, Recall: 0.526, F1 Score: 0.482\n",
      "Epoch [8/125] completed in 12.03 seconds\n"
     ]
    },
    {
     "name": "stderr",
     "output_type": "stream",
     "text": [
      "/home/michael/Desktop/ifile/nn/ResNet-PyTorch/ResNet/venvres/lib/python3.9/site-packages/sklearn/metrics/_classification.py:1531: UndefinedMetricWarning: Precision is ill-defined and being set to 0.0 in labels with no predicted samples. Use `zero_division` parameter to control this behavior.\n",
      "  _warn_prf(average, modifier, f\"{metric.capitalize()} is\", len(result))\n"
     ]
    },
    {
     "name": "stdout",
     "output_type": "stream",
     "text": [
      "Epoch [9/125], Loss: 0.8627, Training Accuracy: 77.24%, Precision: 0.777, Recall: 0.772, F1 Score: 0.770\n",
      "Validation Loss: 2.0940, Validation Accuracy: 44.74%, Precision: 0.445, Recall: 0.447, F1 Score: 0.402\n",
      "Epoch [9/125] completed in 11.92 seconds\n"
     ]
    },
    {
     "name": "stderr",
     "output_type": "stream",
     "text": [
      "/home/michael/Desktop/ifile/nn/ResNet-PyTorch/ResNet/venvres/lib/python3.9/site-packages/sklearn/metrics/_classification.py:1531: UndefinedMetricWarning: Precision is ill-defined and being set to 0.0 in labels with no predicted samples. Use `zero_division` parameter to control this behavior.\n",
      "  _warn_prf(average, modifier, f\"{metric.capitalize()} is\", len(result))\n"
     ]
    },
    {
     "name": "stdout",
     "output_type": "stream",
     "text": [
      "Epoch [10/125], Loss: 0.8561, Training Accuracy: 76.87%, Precision: 0.773, Recall: 0.769, F1 Score: 0.767\n",
      "Validation Loss: 1431.0302, Validation Accuracy: 35.53%, Precision: 0.340, Recall: 0.355, F1 Score: 0.315\n",
      "Epoch [10/125] completed in 11.89 seconds\n"
     ]
    },
    {
     "name": "stderr",
     "output_type": "stream",
     "text": [
      "/home/michael/Desktop/ifile/nn/ResNet-PyTorch/ResNet/venvres/lib/python3.9/site-packages/sklearn/metrics/_classification.py:1531: UndefinedMetricWarning: Precision is ill-defined and being set to 0.0 in labels with no predicted samples. Use `zero_division` parameter to control this behavior.\n",
      "  _warn_prf(average, modifier, f\"{metric.capitalize()} is\", len(result))\n",
      "/home/michael/Desktop/ifile/nn/ResNet-PyTorch/ResNet/venvres/lib/python3.9/site-packages/sklearn/metrics/_classification.py:1531: UndefinedMetricWarning: Recall is ill-defined and being set to 0.0 in labels with no true samples. Use `zero_division` parameter to control this behavior.\n",
      "  _warn_prf(average, modifier, f\"{metric.capitalize()} is\", len(result))\n"
     ]
    },
    {
     "name": "stdout",
     "output_type": "stream",
     "text": [
      "Epoch [11/125], Loss: 0.7148, Training Accuracy: 83.40%, Precision: 0.838, Recall: 0.834, F1 Score: 0.831\n",
      "Validation Loss: 9.1831, Validation Accuracy: 42.11%, Precision: 0.351, Recall: 0.421, F1 Score: 0.349\n",
      "Epoch [11/125] completed in 12.03 seconds\n"
     ]
    },
    {
     "name": "stderr",
     "output_type": "stream",
     "text": [
      "/home/michael/Desktop/ifile/nn/ResNet-PyTorch/ResNet/venvres/lib/python3.9/site-packages/sklearn/metrics/_classification.py:1531: UndefinedMetricWarning: Precision is ill-defined and being set to 0.0 in labels with no predicted samples. Use `zero_division` parameter to control this behavior.\n",
      "  _warn_prf(average, modifier, f\"{metric.capitalize()} is\", len(result))\n",
      "/home/michael/Desktop/ifile/nn/ResNet-PyTorch/ResNet/venvres/lib/python3.9/site-packages/sklearn/metrics/_classification.py:1531: UndefinedMetricWarning: Recall is ill-defined and being set to 0.0 in labels with no true samples. Use `zero_division` parameter to control this behavior.\n",
      "  _warn_prf(average, modifier, f\"{metric.capitalize()} is\", len(result))\n"
     ]
    },
    {
     "name": "stdout",
     "output_type": "stream",
     "text": [
      "Epoch [12/125], Loss: 0.7286, Training Accuracy: 81.90%, Precision: 0.821, Recall: 0.819, F1 Score: 0.816\n",
      "Validation Loss: 2.9065, Validation Accuracy: 38.16%, Precision: 0.358, Recall: 0.382, F1 Score: 0.335\n",
      "Epoch [12/125] completed in 11.93 seconds\n"
     ]
    },
    {
     "name": "stderr",
     "output_type": "stream",
     "text": [
      "/home/michael/Desktop/ifile/nn/ResNet-PyTorch/ResNet/venvres/lib/python3.9/site-packages/sklearn/metrics/_classification.py:1531: UndefinedMetricWarning: Precision is ill-defined and being set to 0.0 in labels with no predicted samples. Use `zero_division` parameter to control this behavior.\n",
      "  _warn_prf(average, modifier, f\"{metric.capitalize()} is\", len(result))\n",
      "/home/michael/Desktop/ifile/nn/ResNet-PyTorch/ResNet/venvres/lib/python3.9/site-packages/sklearn/metrics/_classification.py:1531: UndefinedMetricWarning: Recall is ill-defined and being set to 0.0 in labels with no true samples. Use `zero_division` parameter to control this behavior.\n",
      "  _warn_prf(average, modifier, f\"{metric.capitalize()} is\", len(result))\n"
     ]
    },
    {
     "name": "stdout",
     "output_type": "stream",
     "text": [
      "Epoch [13/125], Loss: 0.8273, Training Accuracy: 78.92%, Precision: 0.795, Recall: 0.789, F1 Score: 0.789\n",
      "Validation Loss: 2.0723, Validation Accuracy: 44.74%, Precision: 0.389, Recall: 0.447, F1 Score: 0.395\n",
      "Epoch [13/125] completed in 11.99 seconds\n"
     ]
    },
    {
     "name": "stderr",
     "output_type": "stream",
     "text": [
      "/home/michael/Desktop/ifile/nn/ResNet-PyTorch/ResNet/venvres/lib/python3.9/site-packages/sklearn/metrics/_classification.py:1531: UndefinedMetricWarning: Precision is ill-defined and being set to 0.0 in labels with no predicted samples. Use `zero_division` parameter to control this behavior.\n",
      "  _warn_prf(average, modifier, f\"{metric.capitalize()} is\", len(result))\n",
      "/home/michael/Desktop/ifile/nn/ResNet-PyTorch/ResNet/venvres/lib/python3.9/site-packages/sklearn/metrics/_classification.py:1531: UndefinedMetricWarning: Recall is ill-defined and being set to 0.0 in labels with no true samples. Use `zero_division` parameter to control this behavior.\n",
      "  _warn_prf(average, modifier, f\"{metric.capitalize()} is\", len(result))\n"
     ]
    },
    {
     "name": "stdout",
     "output_type": "stream",
     "text": [
      "Epoch [14/125], Loss: 0.8086, Training Accuracy: 75.37%, Precision: 0.752, Recall: 0.754, F1 Score: 0.748\n",
      "Validation Loss: 1.8667, Validation Accuracy: 53.95%, Precision: 0.563, Recall: 0.539, F1 Score: 0.515\n",
      "Learning rate reduced from 0.001 to 0.0005\n",
      "Epoch [14/125] completed in 12.02 seconds\n"
     ]
    },
    {
     "name": "stderr",
     "output_type": "stream",
     "text": [
      "/home/michael/Desktop/ifile/nn/ResNet-PyTorch/ResNet/venvres/lib/python3.9/site-packages/sklearn/metrics/_classification.py:1531: UndefinedMetricWarning: Precision is ill-defined and being set to 0.0 in labels with no predicted samples. Use `zero_division` parameter to control this behavior.\n",
      "  _warn_prf(average, modifier, f\"{metric.capitalize()} is\", len(result))\n"
     ]
    },
    {
     "name": "stdout",
     "output_type": "stream",
     "text": [
      "Epoch [15/125], Loss: 0.7051, Training Accuracy: 81.53%, Precision: 0.819, Recall: 0.815, F1 Score: 0.815\n",
      "Validation Loss: 1.4760, Validation Accuracy: 60.53%, Precision: 0.686, Recall: 0.605, F1 Score: 0.592\n",
      "Epoch [15/125] completed in 11.94 seconds\n"
     ]
    },
    {
     "name": "stderr",
     "output_type": "stream",
     "text": [
      "/home/michael/Desktop/ifile/nn/ResNet-PyTorch/ResNet/venvres/lib/python3.9/site-packages/sklearn/metrics/_classification.py:1531: UndefinedMetricWarning: Precision is ill-defined and being set to 0.0 in labels with no predicted samples. Use `zero_division` parameter to control this behavior.\n",
      "  _warn_prf(average, modifier, f\"{metric.capitalize()} is\", len(result))\n"
     ]
    },
    {
     "name": "stdout",
     "output_type": "stream",
     "text": [
      "Epoch [16/125], Loss: 0.6623, Training Accuracy: 83.21%, Precision: 0.841, Recall: 0.832, F1 Score: 0.832\n",
      "Validation Loss: 1.1496, Validation Accuracy: 69.74%, Precision: 0.726, Recall: 0.697, F1 Score: 0.672\n",
      "Epoch [16/125] completed in 12.03 seconds\n"
     ]
    },
    {
     "name": "stderr",
     "output_type": "stream",
     "text": [
      "/home/michael/Desktop/ifile/nn/ResNet-PyTorch/ResNet/venvres/lib/python3.9/site-packages/sklearn/metrics/_classification.py:1531: UndefinedMetricWarning: Precision is ill-defined and being set to 0.0 in labels with no predicted samples. Use `zero_division` parameter to control this behavior.\n",
      "  _warn_prf(average, modifier, f\"{metric.capitalize()} is\", len(result))\n"
     ]
    },
    {
     "name": "stdout",
     "output_type": "stream",
     "text": [
      "Epoch [17/125], Loss: 0.6023, Training Accuracy: 83.96%, Precision: 0.844, Recall: 0.840, F1 Score: 0.840\n",
      "Validation Loss: 2.2756, Validation Accuracy: 51.32%, Precision: 0.571, Recall: 0.513, F1 Score: 0.493\n",
      "Epoch [17/125] completed in 12.00 seconds\n"
     ]
    },
    {
     "name": "stderr",
     "output_type": "stream",
     "text": [
      "/home/michael/Desktop/ifile/nn/ResNet-PyTorch/ResNet/venvres/lib/python3.9/site-packages/sklearn/metrics/_classification.py:1531: UndefinedMetricWarning: Precision is ill-defined and being set to 0.0 in labels with no predicted samples. Use `zero_division` parameter to control this behavior.\n",
      "  _warn_prf(average, modifier, f\"{metric.capitalize()} is\", len(result))\n"
     ]
    },
    {
     "name": "stdout",
     "output_type": "stream",
     "text": [
      "Epoch [18/125], Loss: 0.6604, Training Accuracy: 84.89%, Precision: 0.853, Recall: 0.849, F1 Score: 0.847\n",
      "Validation Loss: 1.8796, Validation Accuracy: 47.37%, Precision: 0.465, Recall: 0.474, F1 Score: 0.437\n",
      "Epoch [18/125] completed in 11.90 seconds\n"
     ]
    },
    {
     "name": "stderr",
     "output_type": "stream",
     "text": [
      "/home/michael/Desktop/ifile/nn/ResNet-PyTorch/ResNet/venvres/lib/python3.9/site-packages/sklearn/metrics/_classification.py:1531: UndefinedMetricWarning: Precision is ill-defined and being set to 0.0 in labels with no predicted samples. Use `zero_division` parameter to control this behavior.\n",
      "  _warn_prf(average, modifier, f\"{metric.capitalize()} is\", len(result))\n"
     ]
    },
    {
     "name": "stdout",
     "output_type": "stream",
     "text": [
      "Epoch [19/125], Loss: 0.6891, Training Accuracy: 82.28%, Precision: 0.826, Recall: 0.823, F1 Score: 0.821\n",
      "Validation Loss: 2.4006, Validation Accuracy: 39.47%, Precision: 0.420, Recall: 0.395, F1 Score: 0.379\n",
      "Epoch [19/125] completed in 11.98 seconds\n"
     ]
    },
    {
     "name": "stderr",
     "output_type": "stream",
     "text": [
      "/home/michael/Desktop/ifile/nn/ResNet-PyTorch/ResNet/venvres/lib/python3.9/site-packages/sklearn/metrics/_classification.py:1531: UndefinedMetricWarning: Precision is ill-defined and being set to 0.0 in labels with no predicted samples. Use `zero_division` parameter to control this behavior.\n",
      "  _warn_prf(average, modifier, f\"{metric.capitalize()} is\", len(result))\n"
     ]
    },
    {
     "name": "stdout",
     "output_type": "stream",
     "text": [
      "Epoch [20/125], Loss: 0.6061, Training Accuracy: 83.40%, Precision: 0.840, Recall: 0.834, F1 Score: 0.834\n",
      "Validation Loss: 2.6626, Validation Accuracy: 25.00%, Precision: 0.314, Recall: 0.250, F1 Score: 0.258\n",
      "Epoch [20/125] completed in 11.97 seconds\n"
     ]
    },
    {
     "name": "stderr",
     "output_type": "stream",
     "text": [
      "/home/michael/Desktop/ifile/nn/ResNet-PyTorch/ResNet/venvres/lib/python3.9/site-packages/sklearn/metrics/_classification.py:1531: UndefinedMetricWarning: Precision is ill-defined and being set to 0.0 in labels with no predicted samples. Use `zero_division` parameter to control this behavior.\n",
      "  _warn_prf(average, modifier, f\"{metric.capitalize()} is\", len(result))\n"
     ]
    },
    {
     "name": "stdout",
     "output_type": "stream",
     "text": [
      "Epoch [21/125], Loss: 0.5646, Training Accuracy: 83.58%, Precision: 0.839, Recall: 0.836, F1 Score: 0.833\n",
      "Validation Loss: 217.3514, Validation Accuracy: 23.68%, Precision: 0.267, Recall: 0.237, F1 Score: 0.213\n",
      "Epoch [21/125] completed in 11.94 seconds\n"
     ]
    },
    {
     "name": "stderr",
     "output_type": "stream",
     "text": [
      "/home/michael/Desktop/ifile/nn/ResNet-PyTorch/ResNet/venvres/lib/python3.9/site-packages/sklearn/metrics/_classification.py:1531: UndefinedMetricWarning: Precision is ill-defined and being set to 0.0 in labels with no predicted samples. Use `zero_division` parameter to control this behavior.\n",
      "  _warn_prf(average, modifier, f\"{metric.capitalize()} is\", len(result))\n"
     ]
    },
    {
     "name": "stdout",
     "output_type": "stream",
     "text": [
      "Epoch [22/125], Loss: 0.5959, Training Accuracy: 82.28%, Precision: 0.827, Recall: 0.823, F1 Score: 0.822\n",
      "Validation Loss: 1.4086, Validation Accuracy: 61.84%, Precision: 0.620, Recall: 0.618, F1 Score: 0.599\n",
      "Learning rate reduced from 0.0005 to 0.00025\n",
      "Epoch [22/125] completed in 11.95 seconds\n"
     ]
    },
    {
     "name": "stderr",
     "output_type": "stream",
     "text": [
      "/home/michael/Desktop/ifile/nn/ResNet-PyTorch/ResNet/venvres/lib/python3.9/site-packages/sklearn/metrics/_classification.py:1531: UndefinedMetricWarning: Precision is ill-defined and being set to 0.0 in labels with no predicted samples. Use `zero_division` parameter to control this behavior.\n",
      "  _warn_prf(average, modifier, f\"{metric.capitalize()} is\", len(result))\n",
      "/home/michael/Desktop/ifile/nn/ResNet-PyTorch/ResNet/venvres/lib/python3.9/site-packages/sklearn/metrics/_classification.py:1531: UndefinedMetricWarning: Recall is ill-defined and being set to 0.0 in labels with no true samples. Use `zero_division` parameter to control this behavior.\n",
      "  _warn_prf(average, modifier, f\"{metric.capitalize()} is\", len(result))\n"
     ]
    },
    {
     "name": "stdout",
     "output_type": "stream",
     "text": [
      "Epoch [23/125], Loss: 0.6606, Training Accuracy: 82.84%, Precision: 0.835, Recall: 0.828, F1 Score: 0.827\n",
      "Validation Loss: 2.3450, Validation Accuracy: 35.53%, Precision: 0.328, Recall: 0.355, F1 Score: 0.314\n",
      "Epoch [23/125] completed in 11.95 seconds\n"
     ]
    },
    {
     "name": "stderr",
     "output_type": "stream",
     "text": [
      "/home/michael/Desktop/ifile/nn/ResNet-PyTorch/ResNet/venvres/lib/python3.9/site-packages/sklearn/metrics/_classification.py:1531: UndefinedMetricWarning: Precision is ill-defined and being set to 0.0 in labels with no predicted samples. Use `zero_division` parameter to control this behavior.\n",
      "  _warn_prf(average, modifier, f\"{metric.capitalize()} is\", len(result))\n"
     ]
    },
    {
     "name": "stdout",
     "output_type": "stream",
     "text": [
      "Epoch [24/125], Loss: 0.6296, Training Accuracy: 83.96%, Precision: 0.848, Recall: 0.840, F1 Score: 0.840\n",
      "Validation Loss: 1.4819, Validation Accuracy: 56.58%, Precision: 0.524, Recall: 0.566, F1 Score: 0.512\n",
      "Epoch [24/125] completed in 11.99 seconds\n"
     ]
    },
    {
     "name": "stderr",
     "output_type": "stream",
     "text": [
      "/home/michael/Desktop/ifile/nn/ResNet-PyTorch/ResNet/venvres/lib/python3.9/site-packages/sklearn/metrics/_classification.py:1531: UndefinedMetricWarning: Precision is ill-defined and being set to 0.0 in labels with no predicted samples. Use `zero_division` parameter to control this behavior.\n",
      "  _warn_prf(average, modifier, f\"{metric.capitalize()} is\", len(result))\n"
     ]
    },
    {
     "name": "stdout",
     "output_type": "stream",
     "text": [
      "Epoch [25/125], Loss: 0.6079, Training Accuracy: 83.40%, Precision: 0.838, Recall: 0.834, F1 Score: 0.831\n",
      "Validation Loss: 1.5844, Validation Accuracy: 55.26%, Precision: 0.509, Recall: 0.553, F1 Score: 0.508\n",
      "Epoch [25/125] completed in 12.02 seconds\n"
     ]
    },
    {
     "name": "stderr",
     "output_type": "stream",
     "text": [
      "/home/michael/Desktop/ifile/nn/ResNet-PyTorch/ResNet/venvres/lib/python3.9/site-packages/sklearn/metrics/_classification.py:1531: UndefinedMetricWarning: Precision is ill-defined and being set to 0.0 in labels with no predicted samples. Use `zero_division` parameter to control this behavior.\n",
      "  _warn_prf(average, modifier, f\"{metric.capitalize()} is\", len(result))\n",
      "/home/michael/Desktop/ifile/nn/ResNet-PyTorch/ResNet/venvres/lib/python3.9/site-packages/sklearn/metrics/_classification.py:1531: UndefinedMetricWarning: Recall is ill-defined and being set to 0.0 in labels with no true samples. Use `zero_division` parameter to control this behavior.\n",
      "  _warn_prf(average, modifier, f\"{metric.capitalize()} is\", len(result))\n"
     ]
    },
    {
     "name": "stdout",
     "output_type": "stream",
     "text": [
      "Epoch [26/125], Loss: 0.5579, Training Accuracy: 83.58%, Precision: 0.841, Recall: 0.836, F1 Score: 0.835\n",
      "Validation Loss: 1.8678, Validation Accuracy: 56.58%, Precision: 0.605, Recall: 0.566, F1 Score: 0.547\n",
      "Epoch [26/125] completed in 12.02 seconds\n"
     ]
    },
    {
     "name": "stderr",
     "output_type": "stream",
     "text": [
      "/home/michael/Desktop/ifile/nn/ResNet-PyTorch/ResNet/venvres/lib/python3.9/site-packages/sklearn/metrics/_classification.py:1531: UndefinedMetricWarning: Precision is ill-defined and being set to 0.0 in labels with no predicted samples. Use `zero_division` parameter to control this behavior.\n",
      "  _warn_prf(average, modifier, f\"{metric.capitalize()} is\", len(result))\n"
     ]
    },
    {
     "name": "stdout",
     "output_type": "stream",
     "text": [
      "Epoch [27/125], Loss: 0.6054, Training Accuracy: 84.14%, Precision: 0.845, Recall: 0.841, F1 Score: 0.839\n",
      "Validation Loss: 2.5155, Validation Accuracy: 34.21%, Precision: 0.427, Recall: 0.342, F1 Score: 0.325\n",
      "Epoch [27/125] completed in 11.95 seconds\n"
     ]
    },
    {
     "name": "stderr",
     "output_type": "stream",
     "text": [
      "/home/michael/Desktop/ifile/nn/ResNet-PyTorch/ResNet/venvres/lib/python3.9/site-packages/sklearn/metrics/_classification.py:1531: UndefinedMetricWarning: Precision is ill-defined and being set to 0.0 in labels with no predicted samples. Use `zero_division` parameter to control this behavior.\n",
      "  _warn_prf(average, modifier, f\"{metric.capitalize()} is\", len(result))\n"
     ]
    },
    {
     "name": "stdout",
     "output_type": "stream",
     "text": [
      "Epoch [28/125], Loss: 0.5458, Training Accuracy: 85.26%, Precision: 0.858, Recall: 0.853, F1 Score: 0.852\n",
      "Validation Loss: 1.8528, Validation Accuracy: 53.95%, Precision: 0.471, Recall: 0.539, F1 Score: 0.467\n",
      "Learning rate reduced from 0.00025 to 0.000125\n",
      "Epoch [28/125] completed in 12.01 seconds\n"
     ]
    },
    {
     "name": "stderr",
     "output_type": "stream",
     "text": [
      "/home/michael/Desktop/ifile/nn/ResNet-PyTorch/ResNet/venvres/lib/python3.9/site-packages/sklearn/metrics/_classification.py:1531: UndefinedMetricWarning: Precision is ill-defined and being set to 0.0 in labels with no predicted samples. Use `zero_division` parameter to control this behavior.\n",
      "  _warn_prf(average, modifier, f\"{metric.capitalize()} is\", len(result))\n"
     ]
    },
    {
     "name": "stdout",
     "output_type": "stream",
     "text": [
      "Epoch [29/125], Loss: 0.5313, Training Accuracy: 86.01%, Precision: 0.866, Recall: 0.860, F1 Score: 0.859\n",
      "Validation Loss: 1.1831, Validation Accuracy: 65.79%, Precision: 0.647, Recall: 0.658, F1 Score: 0.621\n",
      "Epoch [29/125] completed in 11.90 seconds\n"
     ]
    },
    {
     "name": "stderr",
     "output_type": "stream",
     "text": [
      "/home/michael/Desktop/ifile/nn/ResNet-PyTorch/ResNet/venvres/lib/python3.9/site-packages/sklearn/metrics/_classification.py:1531: UndefinedMetricWarning: Precision is ill-defined and being set to 0.0 in labels with no predicted samples. Use `zero_division` parameter to control this behavior.\n",
      "  _warn_prf(average, modifier, f\"{metric.capitalize()} is\", len(result))\n"
     ]
    },
    {
     "name": "stdout",
     "output_type": "stream",
     "text": [
      "Epoch [30/125], Loss: 0.5745, Training Accuracy: 84.70%, Precision: 0.852, Recall: 0.847, F1 Score: 0.847\n",
      "Validation Loss: 2.6869, Validation Accuracy: 23.68%, Precision: 0.311, Recall: 0.237, F1 Score: 0.242\n",
      "Epoch [30/125] completed in 12.02 seconds\n"
     ]
    },
    {
     "name": "stderr",
     "output_type": "stream",
     "text": [
      "/home/michael/Desktop/ifile/nn/ResNet-PyTorch/ResNet/venvres/lib/python3.9/site-packages/sklearn/metrics/_classification.py:1531: UndefinedMetricWarning: Precision is ill-defined and being set to 0.0 in labels with no predicted samples. Use `zero_division` parameter to control this behavior.\n",
      "  _warn_prf(average, modifier, f\"{metric.capitalize()} is\", len(result))\n"
     ]
    },
    {
     "name": "stdout",
     "output_type": "stream",
     "text": [
      "Epoch [31/125], Loss: 0.4909, Training Accuracy: 87.87%, Precision: 0.882, Recall: 0.879, F1 Score: 0.878\n",
      "Validation Loss: 9911.5233, Validation Accuracy: 31.58%, Precision: 0.316, Recall: 0.316, F1 Score: 0.294\n",
      "Epoch [31/125] completed in 12.01 seconds\n"
     ]
    },
    {
     "name": "stderr",
     "output_type": "stream",
     "text": [
      "/home/michael/Desktop/ifile/nn/ResNet-PyTorch/ResNet/venvres/lib/python3.9/site-packages/sklearn/metrics/_classification.py:1531: UndefinedMetricWarning: Precision is ill-defined and being set to 0.0 in labels with no predicted samples. Use `zero_division` parameter to control this behavior.\n",
      "  _warn_prf(average, modifier, f\"{metric.capitalize()} is\", len(result))\n"
     ]
    },
    {
     "name": "stdout",
     "output_type": "stream",
     "text": [
      "Epoch [32/125], Loss: 0.5953, Training Accuracy: 83.02%, Precision: 0.836, Recall: 0.830, F1 Score: 0.831\n",
      "Validation Loss: 1.6553, Validation Accuracy: 53.95%, Precision: 0.565, Recall: 0.539, F1 Score: 0.504\n",
      "Epoch [32/125] completed in 11.95 seconds\n"
     ]
    },
    {
     "name": "stderr",
     "output_type": "stream",
     "text": [
      "/home/michael/Desktop/ifile/nn/ResNet-PyTorch/ResNet/venvres/lib/python3.9/site-packages/sklearn/metrics/_classification.py:1531: UndefinedMetricWarning: Precision is ill-defined and being set to 0.0 in labels with no predicted samples. Use `zero_division` parameter to control this behavior.\n",
      "  _warn_prf(average, modifier, f\"{metric.capitalize()} is\", len(result))\n"
     ]
    },
    {
     "name": "stdout",
     "output_type": "stream",
     "text": [
      "Epoch [33/125], Loss: 0.5335, Training Accuracy: 85.26%, Precision: 0.857, Recall: 0.853, F1 Score: 0.850\n",
      "Validation Loss: 1.1737, Validation Accuracy: 67.11%, Precision: 0.679, Recall: 0.671, F1 Score: 0.644\n",
      "Epoch [33/125] completed in 12.04 seconds\n"
     ]
    },
    {
     "name": "stderr",
     "output_type": "stream",
     "text": [
      "/home/michael/Desktop/ifile/nn/ResNet-PyTorch/ResNet/venvres/lib/python3.9/site-packages/sklearn/metrics/_classification.py:1531: UndefinedMetricWarning: Precision is ill-defined and being set to 0.0 in labels with no predicted samples. Use `zero_division` parameter to control this behavior.\n",
      "  _warn_prf(average, modifier, f\"{metric.capitalize()} is\", len(result))\n"
     ]
    },
    {
     "name": "stdout",
     "output_type": "stream",
     "text": [
      "Epoch [34/125], Loss: 0.5580, Training Accuracy: 84.51%, Precision: 0.853, Recall: 0.845, F1 Score: 0.845\n",
      "Validation Loss: 1.5374, Validation Accuracy: 57.89%, Precision: 0.544, Recall: 0.579, F1 Score: 0.527\n",
      "Learning rate reduced from 0.000125 to 6.25e-05\n",
      "Epoch [34/125] completed in 11.96 seconds\n"
     ]
    },
    {
     "name": "stderr",
     "output_type": "stream",
     "text": [
      "/home/michael/Desktop/ifile/nn/ResNet-PyTorch/ResNet/venvres/lib/python3.9/site-packages/sklearn/metrics/_classification.py:1531: UndefinedMetricWarning: Precision is ill-defined and being set to 0.0 in labels with no predicted samples. Use `zero_division` parameter to control this behavior.\n",
      "  _warn_prf(average, modifier, f\"{metric.capitalize()} is\", len(result))\n"
     ]
    },
    {
     "name": "stdout",
     "output_type": "stream",
     "text": [
      "Epoch [35/125], Loss: 0.5283, Training Accuracy: 85.45%, Precision: 0.860, Recall: 0.854, F1 Score: 0.855\n",
      "Validation Loss: 2222.6954, Validation Accuracy: 38.16%, Precision: 0.328, Recall: 0.382, F1 Score: 0.322\n",
      "Epoch [35/125] completed in 11.96 seconds\n"
     ]
    },
    {
     "name": "stderr",
     "output_type": "stream",
     "text": [
      "/home/michael/Desktop/ifile/nn/ResNet-PyTorch/ResNet/venvres/lib/python3.9/site-packages/sklearn/metrics/_classification.py:1531: UndefinedMetricWarning: Precision is ill-defined and being set to 0.0 in labels with no predicted samples. Use `zero_division` parameter to control this behavior.\n",
      "  _warn_prf(average, modifier, f\"{metric.capitalize()} is\", len(result))\n"
     ]
    },
    {
     "name": "stdout",
     "output_type": "stream",
     "text": [
      "Epoch [36/125], Loss: 0.5543, Training Accuracy: 85.26%, Precision: 0.859, Recall: 0.853, F1 Score: 0.852\n",
      "Validation Loss: 1.8759, Validation Accuracy: 44.74%, Precision: 0.502, Recall: 0.447, F1 Score: 0.437\n",
      "Epoch [36/125] completed in 11.90 seconds\n"
     ]
    },
    {
     "name": "stderr",
     "output_type": "stream",
     "text": [
      "/home/michael/Desktop/ifile/nn/ResNet-PyTorch/ResNet/venvres/lib/python3.9/site-packages/sklearn/metrics/_classification.py:1531: UndefinedMetricWarning: Precision is ill-defined and being set to 0.0 in labels with no predicted samples. Use `zero_division` parameter to control this behavior.\n",
      "  _warn_prf(average, modifier, f\"{metric.capitalize()} is\", len(result))\n"
     ]
    },
    {
     "name": "stdout",
     "output_type": "stream",
     "text": [
      "Epoch [37/125], Loss: 0.5278, Training Accuracy: 85.26%, Precision: 0.857, Recall: 0.853, F1 Score: 0.852\n",
      "Validation Loss: 2.4897, Validation Accuracy: 32.89%, Precision: 0.374, Recall: 0.329, F1 Score: 0.323\n",
      "Epoch [37/125] completed in 11.99 seconds\n"
     ]
    },
    {
     "name": "stderr",
     "output_type": "stream",
     "text": [
      "/home/michael/Desktop/ifile/nn/ResNet-PyTorch/ResNet/venvres/lib/python3.9/site-packages/sklearn/metrics/_classification.py:1531: UndefinedMetricWarning: Precision is ill-defined and being set to 0.0 in labels with no predicted samples. Use `zero_division` parameter to control this behavior.\n",
      "  _warn_prf(average, modifier, f\"{metric.capitalize()} is\", len(result))\n"
     ]
    },
    {
     "name": "stdout",
     "output_type": "stream",
     "text": [
      "Epoch [38/125], Loss: 0.4980, Training Accuracy: 87.50%, Precision: 0.883, Recall: 0.875, F1 Score: 0.875\n",
      "Validation Loss: 1.5701, Validation Accuracy: 63.16%, Precision: 0.612, Recall: 0.632, F1 Score: 0.590\n",
      "Epoch [38/125] completed in 11.94 seconds\n"
     ]
    },
    {
     "name": "stderr",
     "output_type": "stream",
     "text": [
      "/home/michael/Desktop/ifile/nn/ResNet-PyTorch/ResNet/venvres/lib/python3.9/site-packages/sklearn/metrics/_classification.py:1531: UndefinedMetricWarning: Precision is ill-defined and being set to 0.0 in labels with no predicted samples. Use `zero_division` parameter to control this behavior.\n",
      "  _warn_prf(average, modifier, f\"{metric.capitalize()} is\", len(result))\n"
     ]
    },
    {
     "name": "stdout",
     "output_type": "stream",
     "text": [
      "Epoch [39/125], Loss: 0.5557, Training Accuracy: 85.26%, Precision: 0.855, Recall: 0.853, F1 Score: 0.851\n",
      "Validation Loss: 2.1376, Validation Accuracy: 46.05%, Precision: 0.434, Recall: 0.461, F1 Score: 0.416\n",
      "Epoch [39/125] completed in 12.11 seconds\n"
     ]
    },
    {
     "name": "stderr",
     "output_type": "stream",
     "text": [
      "/home/michael/Desktop/ifile/nn/ResNet-PyTorch/ResNet/venvres/lib/python3.9/site-packages/sklearn/metrics/_classification.py:1531: UndefinedMetricWarning: Precision is ill-defined and being set to 0.0 in labels with no predicted samples. Use `zero_division` parameter to control this behavior.\n",
      "  _warn_prf(average, modifier, f\"{metric.capitalize()} is\", len(result))\n",
      "/home/michael/Desktop/ifile/nn/ResNet-PyTorch/ResNet/venvres/lib/python3.9/site-packages/sklearn/metrics/_classification.py:1531: UndefinedMetricWarning: Recall is ill-defined and being set to 0.0 in labels with no true samples. Use `zero_division` parameter to control this behavior.\n",
      "  _warn_prf(average, modifier, f\"{metric.capitalize()} is\", len(result))\n"
     ]
    },
    {
     "name": "stdout",
     "output_type": "stream",
     "text": [
      "Epoch [40/125], Loss: 0.5193, Training Accuracy: 86.38%, Precision: 0.872, Recall: 0.864, F1 Score: 0.865\n",
      "Validation Loss: 1.7440, Validation Accuracy: 46.05%, Precision: 0.509, Recall: 0.461, F1 Score: 0.442\n",
      "Learning rate reduced from 6.25e-05 to 3.125e-05\n",
      "Epoch [40/125] completed in 11.94 seconds\n"
     ]
    },
    {
     "name": "stderr",
     "output_type": "stream",
     "text": [
      "/home/michael/Desktop/ifile/nn/ResNet-PyTorch/ResNet/venvres/lib/python3.9/site-packages/sklearn/metrics/_classification.py:1531: UndefinedMetricWarning: Precision is ill-defined and being set to 0.0 in labels with no predicted samples. Use `zero_division` parameter to control this behavior.\n",
      "  _warn_prf(average, modifier, f\"{metric.capitalize()} is\", len(result))\n"
     ]
    },
    {
     "name": "stdout",
     "output_type": "stream",
     "text": [
      "Epoch [41/125], Loss: 0.5730, Training Accuracy: 83.58%, Precision: 0.844, Recall: 0.836, F1 Score: 0.834\n",
      "Validation Loss: 2.0107, Validation Accuracy: 46.05%, Precision: 0.487, Recall: 0.461, F1 Score: 0.437\n",
      "Epoch [41/125] completed in 12.01 seconds\n"
     ]
    },
    {
     "name": "stderr",
     "output_type": "stream",
     "text": [
      "/home/michael/Desktop/ifile/nn/ResNet-PyTorch/ResNet/venvres/lib/python3.9/site-packages/sklearn/metrics/_classification.py:1531: UndefinedMetricWarning: Precision is ill-defined and being set to 0.0 in labels with no predicted samples. Use `zero_division` parameter to control this behavior.\n",
      "  _warn_prf(average, modifier, f\"{metric.capitalize()} is\", len(result))\n"
     ]
    },
    {
     "name": "stdout",
     "output_type": "stream",
     "text": [
      "Epoch [42/125], Loss: 0.4585, Training Accuracy: 87.50%, Precision: 0.882, Recall: 0.875, F1 Score: 0.875\n",
      "Validation Loss: 2.3612, Validation Accuracy: 28.95%, Precision: 0.347, Recall: 0.289, F1 Score: 0.298\n",
      "Epoch [42/125] completed in 11.93 seconds\n"
     ]
    },
    {
     "name": "stderr",
     "output_type": "stream",
     "text": [
      "/home/michael/Desktop/ifile/nn/ResNet-PyTorch/ResNet/venvres/lib/python3.9/site-packages/sklearn/metrics/_classification.py:1531: UndefinedMetricWarning: Precision is ill-defined and being set to 0.0 in labels with no predicted samples. Use `zero_division` parameter to control this behavior.\n",
      "  _warn_prf(average, modifier, f\"{metric.capitalize()} is\", len(result))\n"
     ]
    },
    {
     "name": "stdout",
     "output_type": "stream",
     "text": [
      "Epoch [43/125], Loss: 0.5309, Training Accuracy: 87.13%, Precision: 0.873, Recall: 0.871, F1 Score: 0.869\n",
      "Validation Loss: 1.5485, Validation Accuracy: 57.89%, Precision: 0.546, Recall: 0.579, F1 Score: 0.534\n",
      "Epoch [43/125] completed in 12.02 seconds\n"
     ]
    },
    {
     "name": "stderr",
     "output_type": "stream",
     "text": [
      "/home/michael/Desktop/ifile/nn/ResNet-PyTorch/ResNet/venvres/lib/python3.9/site-packages/sklearn/metrics/_classification.py:1531: UndefinedMetricWarning: Precision is ill-defined and being set to 0.0 in labels with no predicted samples. Use `zero_division` parameter to control this behavior.\n",
      "  _warn_prf(average, modifier, f\"{metric.capitalize()} is\", len(result))\n"
     ]
    },
    {
     "name": "stdout",
     "output_type": "stream",
     "text": [
      "Epoch [44/125], Loss: 0.5654, Training Accuracy: 84.33%, Precision: 0.848, Recall: 0.843, F1 Score: 0.842\n",
      "Validation Loss: 2.0005, Validation Accuracy: 44.74%, Precision: 0.411, Recall: 0.447, F1 Score: 0.402\n",
      "Epoch [44/125] completed in 12.02 seconds\n"
     ]
    },
    {
     "name": "stderr",
     "output_type": "stream",
     "text": [
      "/home/michael/Desktop/ifile/nn/ResNet-PyTorch/ResNet/venvres/lib/python3.9/site-packages/sklearn/metrics/_classification.py:1531: UndefinedMetricWarning: Precision is ill-defined and being set to 0.0 in labels with no predicted samples. Use `zero_division` parameter to control this behavior.\n",
      "  _warn_prf(average, modifier, f\"{metric.capitalize()} is\", len(result))\n"
     ]
    },
    {
     "name": "stdout",
     "output_type": "stream",
     "text": [
      "Epoch [45/125], Loss: 0.5104, Training Accuracy: 87.13%, Precision: 0.875, Recall: 0.871, F1 Score: 0.871\n",
      "Validation Loss: 1.8872, Validation Accuracy: 47.37%, Precision: 0.529, Recall: 0.474, F1 Score: 0.475\n",
      "Epoch [45/125] completed in 11.91 seconds\n"
     ]
    },
    {
     "name": "stderr",
     "output_type": "stream",
     "text": [
      "/home/michael/Desktop/ifile/nn/ResNet-PyTorch/ResNet/venvres/lib/python3.9/site-packages/sklearn/metrics/_classification.py:1531: UndefinedMetricWarning: Precision is ill-defined and being set to 0.0 in labels with no predicted samples. Use `zero_division` parameter to control this behavior.\n",
      "  _warn_prf(average, modifier, f\"{metric.capitalize()} is\", len(result))\n"
     ]
    },
    {
     "name": "stdout",
     "output_type": "stream",
     "text": [
      "Epoch [46/125], Loss: 0.5143, Training Accuracy: 87.13%, Precision: 0.878, Recall: 0.871, F1 Score: 0.872\n",
      "Validation Loss: 2.1690, Validation Accuracy: 40.79%, Precision: 0.399, Recall: 0.408, F1 Score: 0.368\n",
      "Learning rate reduced from 3.125e-05 to 1.5625e-05\n",
      "Epoch [46/125] completed in 12.05 seconds\n"
     ]
    },
    {
     "name": "stderr",
     "output_type": "stream",
     "text": [
      "/home/michael/Desktop/ifile/nn/ResNet-PyTorch/ResNet/venvres/lib/python3.9/site-packages/sklearn/metrics/_classification.py:1531: UndefinedMetricWarning: Precision is ill-defined and being set to 0.0 in labels with no predicted samples. Use `zero_division` parameter to control this behavior.\n",
      "  _warn_prf(average, modifier, f\"{metric.capitalize()} is\", len(result))\n"
     ]
    },
    {
     "name": "stdout",
     "output_type": "stream",
     "text": [
      "Epoch [47/125], Loss: 0.5035, Training Accuracy: 87.31%, Precision: 0.878, Recall: 0.873, F1 Score: 0.872\n",
      "Validation Loss: 1.5011, Validation Accuracy: 64.47%, Precision: 0.664, Recall: 0.645, F1 Score: 0.611\n",
      "Epoch [47/125] completed in 11.98 seconds\n"
     ]
    },
    {
     "name": "stderr",
     "output_type": "stream",
     "text": [
      "/home/michael/Desktop/ifile/nn/ResNet-PyTorch/ResNet/venvres/lib/python3.9/site-packages/sklearn/metrics/_classification.py:1531: UndefinedMetricWarning: Precision is ill-defined and being set to 0.0 in labels with no predicted samples. Use `zero_division` parameter to control this behavior.\n",
      "  _warn_prf(average, modifier, f\"{metric.capitalize()} is\", len(result))\n"
     ]
    },
    {
     "name": "stdout",
     "output_type": "stream",
     "text": [
      "Epoch [48/125], Loss: 0.5661, Training Accuracy: 83.96%, Precision: 0.848, Recall: 0.840, F1 Score: 0.841\n",
      "Validation Loss: 3.4602, Validation Accuracy: 17.11%, Precision: 0.185, Recall: 0.171, F1 Score: 0.173\n",
      "Epoch [48/125] completed in 12.01 seconds\n"
     ]
    },
    {
     "name": "stderr",
     "output_type": "stream",
     "text": [
      "/home/michael/Desktop/ifile/nn/ResNet-PyTorch/ResNet/venvres/lib/python3.9/site-packages/sklearn/metrics/_classification.py:1531: UndefinedMetricWarning: Precision is ill-defined and being set to 0.0 in labels with no predicted samples. Use `zero_division` parameter to control this behavior.\n",
      "  _warn_prf(average, modifier, f\"{metric.capitalize()} is\", len(result))\n",
      "/home/michael/Desktop/ifile/nn/ResNet-PyTorch/ResNet/venvres/lib/python3.9/site-packages/sklearn/metrics/_classification.py:1531: UndefinedMetricWarning: Recall is ill-defined and being set to 0.0 in labels with no true samples. Use `zero_division` parameter to control this behavior.\n",
      "  _warn_prf(average, modifier, f\"{metric.capitalize()} is\", len(result))\n"
     ]
    },
    {
     "name": "stdout",
     "output_type": "stream",
     "text": [
      "Epoch [49/125], Loss: 0.5948, Training Accuracy: 82.46%, Precision: 0.829, Recall: 0.825, F1 Score: 0.823\n",
      "Validation Loss: 2.7109, Validation Accuracy: 27.63%, Precision: 0.238, Recall: 0.276, F1 Score: 0.245\n",
      "Epoch [49/125] completed in 12.05 seconds\n"
     ]
    },
    {
     "name": "stderr",
     "output_type": "stream",
     "text": [
      "/home/michael/Desktop/ifile/nn/ResNet-PyTorch/ResNet/venvres/lib/python3.9/site-packages/sklearn/metrics/_classification.py:1531: UndefinedMetricWarning: Precision is ill-defined and being set to 0.0 in labels with no predicted samples. Use `zero_division` parameter to control this behavior.\n",
      "  _warn_prf(average, modifier, f\"{metric.capitalize()} is\", len(result))\n"
     ]
    },
    {
     "name": "stdout",
     "output_type": "stream",
     "text": [
      "Epoch [50/125], Loss: 0.5015, Training Accuracy: 88.25%, Precision: 0.884, Recall: 0.882, F1 Score: 0.880\n",
      "Validation Loss: 1.6039, Validation Accuracy: 61.84%, Precision: 0.593, Recall: 0.618, F1 Score: 0.583\n",
      "Epoch [50/125] completed in 12.06 seconds\n"
     ]
    },
    {
     "name": "stderr",
     "output_type": "stream",
     "text": [
      "/home/michael/Desktop/ifile/nn/ResNet-PyTorch/ResNet/venvres/lib/python3.9/site-packages/sklearn/metrics/_classification.py:1531: UndefinedMetricWarning: Precision is ill-defined and being set to 0.0 in labels with no predicted samples. Use `zero_division` parameter to control this behavior.\n",
      "  _warn_prf(average, modifier, f\"{metric.capitalize()} is\", len(result))\n"
     ]
    },
    {
     "name": "stdout",
     "output_type": "stream",
     "text": [
      "Epoch [51/125], Loss: 0.5788, Training Accuracy: 84.70%, Precision: 0.852, Recall: 0.847, F1 Score: 0.847\n",
      "Validation Loss: 1.7024, Validation Accuracy: 57.89%, Precision: 0.643, Recall: 0.579, F1 Score: 0.562\n",
      "Epoch [51/125] completed in 11.94 seconds\n"
     ]
    },
    {
     "name": "stderr",
     "output_type": "stream",
     "text": [
      "/home/michael/Desktop/ifile/nn/ResNet-PyTorch/ResNet/venvres/lib/python3.9/site-packages/sklearn/metrics/_classification.py:1531: UndefinedMetricWarning: Precision is ill-defined and being set to 0.0 in labels with no predicted samples. Use `zero_division` parameter to control this behavior.\n",
      "  _warn_prf(average, modifier, f\"{metric.capitalize()} is\", len(result))\n"
     ]
    },
    {
     "name": "stdout",
     "output_type": "stream",
     "text": [
      "Epoch [52/125], Loss: 0.6075, Training Accuracy: 83.21%, Precision: 0.838, Recall: 0.832, F1 Score: 0.829\n",
      "Validation Loss: 2158.3265, Validation Accuracy: 46.05%, Precision: 0.341, Recall: 0.461, F1 Score: 0.376\n",
      "Learning rate reduced from 1.5625e-05 to 7.8125e-06\n",
      "Epoch [52/125] completed in 11.98 seconds\n"
     ]
    },
    {
     "name": "stderr",
     "output_type": "stream",
     "text": [
      "/home/michael/Desktop/ifile/nn/ResNet-PyTorch/ResNet/venvres/lib/python3.9/site-packages/sklearn/metrics/_classification.py:1531: UndefinedMetricWarning: Precision is ill-defined and being set to 0.0 in labels with no predicted samples. Use `zero_division` parameter to control this behavior.\n",
      "  _warn_prf(average, modifier, f\"{metric.capitalize()} is\", len(result))\n"
     ]
    },
    {
     "name": "stdout",
     "output_type": "stream",
     "text": [
      "Epoch [53/125], Loss: 0.6004, Training Accuracy: 85.07%, Precision: 0.856, Recall: 0.851, F1 Score: 0.850\n",
      "Validation Loss: 1.3757, Validation Accuracy: 67.11%, Precision: 0.674, Recall: 0.671, F1 Score: 0.641\n",
      "Epoch [53/125] completed in 11.97 seconds\n"
     ]
    },
    {
     "name": "stderr",
     "output_type": "stream",
     "text": [
      "/home/michael/Desktop/ifile/nn/ResNet-PyTorch/ResNet/venvres/lib/python3.9/site-packages/sklearn/metrics/_classification.py:1531: UndefinedMetricWarning: Precision is ill-defined and being set to 0.0 in labels with no predicted samples. Use `zero_division` parameter to control this behavior.\n",
      "  _warn_prf(average, modifier, f\"{metric.capitalize()} is\", len(result))\n"
     ]
    },
    {
     "name": "stdout",
     "output_type": "stream",
     "text": [
      "Epoch [54/125], Loss: 0.5915, Training Accuracy: 84.14%, Precision: 0.847, Recall: 0.841, F1 Score: 0.840\n",
      "Validation Loss: 2.0625, Validation Accuracy: 40.79%, Precision: 0.410, Recall: 0.408, F1 Score: 0.370\n",
      "Epoch [54/125] completed in 11.92 seconds\n"
     ]
    },
    {
     "name": "stderr",
     "output_type": "stream",
     "text": [
      "/home/michael/Desktop/ifile/nn/ResNet-PyTorch/ResNet/venvres/lib/python3.9/site-packages/sklearn/metrics/_classification.py:1531: UndefinedMetricWarning: Precision is ill-defined and being set to 0.0 in labels with no predicted samples. Use `zero_division` parameter to control this behavior.\n",
      "  _warn_prf(average, modifier, f\"{metric.capitalize()} is\", len(result))\n",
      "/home/michael/Desktop/ifile/nn/ResNet-PyTorch/ResNet/venvres/lib/python3.9/site-packages/sklearn/metrics/_classification.py:1531: UndefinedMetricWarning: Recall is ill-defined and being set to 0.0 in labels with no true samples. Use `zero_division` parameter to control this behavior.\n",
      "  _warn_prf(average, modifier, f\"{metric.capitalize()} is\", len(result))\n"
     ]
    },
    {
     "name": "stdout",
     "output_type": "stream",
     "text": [
      "Epoch [55/125], Loss: 0.5349, Training Accuracy: 84.89%, Precision: 0.856, Recall: 0.849, F1 Score: 0.849\n",
      "Validation Loss: 8427.3437, Validation Accuracy: 34.21%, Precision: 0.305, Recall: 0.342, F1 Score: 0.299\n",
      "Epoch [55/125] completed in 12.05 seconds\n"
     ]
    },
    {
     "name": "stderr",
     "output_type": "stream",
     "text": [
      "/home/michael/Desktop/ifile/nn/ResNet-PyTorch/ResNet/venvres/lib/python3.9/site-packages/sklearn/metrics/_classification.py:1531: UndefinedMetricWarning: Precision is ill-defined and being set to 0.0 in labels with no predicted samples. Use `zero_division` parameter to control this behavior.\n",
      "  _warn_prf(average, modifier, f\"{metric.capitalize()} is\", len(result))\n"
     ]
    },
    {
     "name": "stdout",
     "output_type": "stream",
     "text": [
      "Epoch [56/125], Loss: 0.5614, Training Accuracy: 84.14%, Precision: 0.850, Recall: 0.841, F1 Score: 0.841\n",
      "Validation Loss: 2.2468, Validation Accuracy: 50.00%, Precision: 0.471, Recall: 0.500, F1 Score: 0.456\n",
      "Epoch [56/125] completed in 11.97 seconds\n"
     ]
    },
    {
     "name": "stderr",
     "output_type": "stream",
     "text": [
      "/home/michael/Desktop/ifile/nn/ResNet-PyTorch/ResNet/venvres/lib/python3.9/site-packages/sklearn/metrics/_classification.py:1531: UndefinedMetricWarning: Precision is ill-defined and being set to 0.0 in labels with no predicted samples. Use `zero_division` parameter to control this behavior.\n",
      "  _warn_prf(average, modifier, f\"{metric.capitalize()} is\", len(result))\n",
      "/home/michael/Desktop/ifile/nn/ResNet-PyTorch/ResNet/venvres/lib/python3.9/site-packages/sklearn/metrics/_classification.py:1531: UndefinedMetricWarning: Recall is ill-defined and being set to 0.0 in labels with no true samples. Use `zero_division` parameter to control this behavior.\n",
      "  _warn_prf(average, modifier, f\"{metric.capitalize()} is\", len(result))\n"
     ]
    },
    {
     "name": "stdout",
     "output_type": "stream",
     "text": [
      "Epoch [57/125], Loss: 0.5931, Training Accuracy: 84.51%, Precision: 0.853, Recall: 0.845, F1 Score: 0.846\n",
      "Validation Loss: 2.5065, Validation Accuracy: 30.26%, Precision: 0.314, Recall: 0.303, F1 Score: 0.272\n",
      "Epoch [57/125] completed in 11.94 seconds\n"
     ]
    },
    {
     "name": "stderr",
     "output_type": "stream",
     "text": [
      "/home/michael/Desktop/ifile/nn/ResNet-PyTorch/ResNet/venvres/lib/python3.9/site-packages/sklearn/metrics/_classification.py:1531: UndefinedMetricWarning: Precision is ill-defined and being set to 0.0 in labels with no predicted samples. Use `zero_division` parameter to control this behavior.\n",
      "  _warn_prf(average, modifier, f\"{metric.capitalize()} is\", len(result))\n"
     ]
    },
    {
     "name": "stdout",
     "output_type": "stream",
     "text": [
      "Epoch [58/125], Loss: 0.5645, Training Accuracy: 83.77%, Precision: 0.844, Recall: 0.838, F1 Score: 0.837\n",
      "Validation Loss: 3186.9657, Validation Accuracy: 22.37%, Precision: 0.275, Recall: 0.224, F1 Score: 0.226\n",
      "Learning rate reduced from 7.8125e-06 to 3.90625e-06\n",
      "Epoch [58/125] completed in 11.99 seconds\n"
     ]
    },
    {
     "name": "stderr",
     "output_type": "stream",
     "text": [
      "/home/michael/Desktop/ifile/nn/ResNet-PyTorch/ResNet/venvres/lib/python3.9/site-packages/sklearn/metrics/_classification.py:1531: UndefinedMetricWarning: Precision is ill-defined and being set to 0.0 in labels with no predicted samples. Use `zero_division` parameter to control this behavior.\n",
      "  _warn_prf(average, modifier, f\"{metric.capitalize()} is\", len(result))\n"
     ]
    },
    {
     "name": "stdout",
     "output_type": "stream",
     "text": [
      "Epoch [59/125], Loss: 0.5059, Training Accuracy: 86.19%, Precision: 0.867, Recall: 0.862, F1 Score: 0.860\n",
      "Validation Loss: 1.5726, Validation Accuracy: 56.58%, Precision: 0.604, Recall: 0.566, F1 Score: 0.565\n",
      "Epoch [59/125] completed in 12.06 seconds\n"
     ]
    },
    {
     "name": "stderr",
     "output_type": "stream",
     "text": [
      "/home/michael/Desktop/ifile/nn/ResNet-PyTorch/ResNet/venvres/lib/python3.9/site-packages/sklearn/metrics/_classification.py:1531: UndefinedMetricWarning: Precision is ill-defined and being set to 0.0 in labels with no predicted samples. Use `zero_division` parameter to control this behavior.\n",
      "  _warn_prf(average, modifier, f\"{metric.capitalize()} is\", len(result))\n"
     ]
    },
    {
     "name": "stdout",
     "output_type": "stream",
     "text": [
      "Epoch [60/125], Loss: 0.5055, Training Accuracy: 85.82%, Precision: 0.860, Recall: 0.858, F1 Score: 0.856\n",
      "Validation Loss: 1.5138, Validation Accuracy: 56.58%, Precision: 0.548, Recall: 0.566, F1 Score: 0.531\n",
      "Epoch [60/125] completed in 11.98 seconds\n"
     ]
    },
    {
     "name": "stderr",
     "output_type": "stream",
     "text": [
      "/home/michael/Desktop/ifile/nn/ResNet-PyTorch/ResNet/venvres/lib/python3.9/site-packages/sklearn/metrics/_classification.py:1531: UndefinedMetricWarning: Precision is ill-defined and being set to 0.0 in labels with no predicted samples. Use `zero_division` parameter to control this behavior.\n",
      "  _warn_prf(average, modifier, f\"{metric.capitalize()} is\", len(result))\n"
     ]
    },
    {
     "name": "stdout",
     "output_type": "stream",
     "text": [
      "Epoch [61/125], Loss: 0.5539, Training Accuracy: 85.26%, Precision: 0.857, Recall: 0.853, F1 Score: 0.852\n",
      "Validation Loss: 2.4148, Validation Accuracy: 27.63%, Precision: 0.287, Recall: 0.276, F1 Score: 0.244\n",
      "Epoch [61/125] completed in 11.99 seconds\n"
     ]
    },
    {
     "name": "stderr",
     "output_type": "stream",
     "text": [
      "/home/michael/Desktop/ifile/nn/ResNet-PyTorch/ResNet/venvres/lib/python3.9/site-packages/sklearn/metrics/_classification.py:1531: UndefinedMetricWarning: Precision is ill-defined and being set to 0.0 in labels with no predicted samples. Use `zero_division` parameter to control this behavior.\n",
      "  _warn_prf(average, modifier, f\"{metric.capitalize()} is\", len(result))\n"
     ]
    },
    {
     "name": "stdout",
     "output_type": "stream",
     "text": [
      "Epoch [62/125], Loss: 0.6195, Training Accuracy: 82.65%, Precision: 0.832, Recall: 0.826, F1 Score: 0.825\n",
      "Validation Loss: 1.8581, Validation Accuracy: 51.32%, Precision: 0.545, Recall: 0.513, F1 Score: 0.485\n",
      "Epoch [62/125] completed in 12.00 seconds\n"
     ]
    },
    {
     "name": "stderr",
     "output_type": "stream",
     "text": [
      "/home/michael/Desktop/ifile/nn/ResNet-PyTorch/ResNet/venvres/lib/python3.9/site-packages/sklearn/metrics/_classification.py:1531: UndefinedMetricWarning: Precision is ill-defined and being set to 0.0 in labels with no predicted samples. Use `zero_division` parameter to control this behavior.\n",
      "  _warn_prf(average, modifier, f\"{metric.capitalize()} is\", len(result))\n"
     ]
    },
    {
     "name": "stdout",
     "output_type": "stream",
     "text": [
      "Epoch [63/125], Loss: 0.5044, Training Accuracy: 86.94%, Precision: 0.875, Recall: 0.869, F1 Score: 0.868\n",
      "Validation Loss: 10.2996, Validation Accuracy: 17.11%, Precision: 0.150, Recall: 0.171, F1 Score: 0.149\n",
      "Epoch [63/125] completed in 12.04 seconds\n"
     ]
    },
    {
     "name": "stderr",
     "output_type": "stream",
     "text": [
      "/home/michael/Desktop/ifile/nn/ResNet-PyTorch/ResNet/venvres/lib/python3.9/site-packages/sklearn/metrics/_classification.py:1531: UndefinedMetricWarning: Precision is ill-defined and being set to 0.0 in labels with no predicted samples. Use `zero_division` parameter to control this behavior.\n",
      "  _warn_prf(average, modifier, f\"{metric.capitalize()} is\", len(result))\n"
     ]
    },
    {
     "name": "stdout",
     "output_type": "stream",
     "text": [
      "Epoch [64/125], Loss: 0.4885, Training Accuracy: 89.18%, Precision: 0.895, Recall: 0.892, F1 Score: 0.891\n",
      "Validation Loss: 1.5404, Validation Accuracy: 57.89%, Precision: 0.630, Recall: 0.579, F1 Score: 0.565\n",
      "Learning rate reduced from 3.90625e-06 to 1.953125e-06\n",
      "Epoch [64/125] completed in 12.14 seconds\n"
     ]
    },
    {
     "name": "stderr",
     "output_type": "stream",
     "text": [
      "/home/michael/Desktop/ifile/nn/ResNet-PyTorch/ResNet/venvres/lib/python3.9/site-packages/sklearn/metrics/_classification.py:1531: UndefinedMetricWarning: Precision is ill-defined and being set to 0.0 in labels with no predicted samples. Use `zero_division` parameter to control this behavior.\n",
      "  _warn_prf(average, modifier, f\"{metric.capitalize()} is\", len(result))\n"
     ]
    },
    {
     "name": "stdout",
     "output_type": "stream",
     "text": [
      "Epoch [65/125], Loss: 0.4749, Training Accuracy: 87.69%, Precision: 0.880, Recall: 0.877, F1 Score: 0.875\n",
      "Validation Loss: 5.5811, Validation Accuracy: 43.42%, Precision: 0.314, Recall: 0.434, F1 Score: 0.344\n",
      "Epoch [65/125] completed in 12.03 seconds\n"
     ]
    },
    {
     "name": "stderr",
     "output_type": "stream",
     "text": [
      "/home/michael/Desktop/ifile/nn/ResNet-PyTorch/ResNet/venvres/lib/python3.9/site-packages/sklearn/metrics/_classification.py:1531: UndefinedMetricWarning: Precision is ill-defined and being set to 0.0 in labels with no predicted samples. Use `zero_division` parameter to control this behavior.\n",
      "  _warn_prf(average, modifier, f\"{metric.capitalize()} is\", len(result))\n"
     ]
    },
    {
     "name": "stdout",
     "output_type": "stream",
     "text": [
      "Epoch [66/125], Loss: 0.6007, Training Accuracy: 84.14%, Precision: 0.843, Recall: 0.841, F1 Score: 0.840\n",
      "Validation Loss: 1.7025, Validation Accuracy: 57.89%, Precision: 0.551, Recall: 0.579, F1 Score: 0.546\n",
      "Epoch [66/125] completed in 12.12 seconds\n"
     ]
    },
    {
     "name": "stderr",
     "output_type": "stream",
     "text": [
      "/home/michael/Desktop/ifile/nn/ResNet-PyTorch/ResNet/venvres/lib/python3.9/site-packages/sklearn/metrics/_classification.py:1531: UndefinedMetricWarning: Precision is ill-defined and being set to 0.0 in labels with no predicted samples. Use `zero_division` parameter to control this behavior.\n",
      "  _warn_prf(average, modifier, f\"{metric.capitalize()} is\", len(result))\n",
      "/home/michael/Desktop/ifile/nn/ResNet-PyTorch/ResNet/venvres/lib/python3.9/site-packages/sklearn/metrics/_classification.py:1531: UndefinedMetricWarning: Recall is ill-defined and being set to 0.0 in labels with no true samples. Use `zero_division` parameter to control this behavior.\n",
      "  _warn_prf(average, modifier, f\"{metric.capitalize()} is\", len(result))\n"
     ]
    },
    {
     "name": "stdout",
     "output_type": "stream",
     "text": [
      "Epoch [67/125], Loss: 0.5490, Training Accuracy: 85.26%, Precision: 0.859, Recall: 0.853, F1 Score: 0.853\n",
      "Validation Loss: 686.5851, Validation Accuracy: 38.16%, Precision: 0.297, Recall: 0.382, F1 Score: 0.319\n",
      "Epoch [67/125] completed in 12.23 seconds\n"
     ]
    },
    {
     "name": "stderr",
     "output_type": "stream",
     "text": [
      "/home/michael/Desktop/ifile/nn/ResNet-PyTorch/ResNet/venvres/lib/python3.9/site-packages/sklearn/metrics/_classification.py:1531: UndefinedMetricWarning: Precision is ill-defined and being set to 0.0 in labels with no predicted samples. Use `zero_division` parameter to control this behavior.\n",
      "  _warn_prf(average, modifier, f\"{metric.capitalize()} is\", len(result))\n"
     ]
    },
    {
     "name": "stdout",
     "output_type": "stream",
     "text": [
      "Epoch [68/125], Loss: 0.5069, Training Accuracy: 87.50%, Precision: 0.878, Recall: 0.875, F1 Score: 0.873\n",
      "Validation Loss: 1.3769, Validation Accuracy: 59.21%, Precision: 0.612, Recall: 0.592, F1 Score: 0.555\n",
      "Epoch [68/125] completed in 12.21 seconds\n"
     ]
    },
    {
     "name": "stderr",
     "output_type": "stream",
     "text": [
      "/home/michael/Desktop/ifile/nn/ResNet-PyTorch/ResNet/venvres/lib/python3.9/site-packages/sklearn/metrics/_classification.py:1531: UndefinedMetricWarning: Precision is ill-defined and being set to 0.0 in labels with no predicted samples. Use `zero_division` parameter to control this behavior.\n",
      "  _warn_prf(average, modifier, f\"{metric.capitalize()} is\", len(result))\n"
     ]
    },
    {
     "name": "stdout",
     "output_type": "stream",
     "text": [
      "Epoch [69/125], Loss: 0.4969, Training Accuracy: 88.25%, Precision: 0.885, Recall: 0.882, F1 Score: 0.881\n",
      "Validation Loss: 1.8205, Validation Accuracy: 50.00%, Precision: 0.545, Recall: 0.500, F1 Score: 0.487\n",
      "Epoch [69/125] completed in 12.24 seconds\n"
     ]
    },
    {
     "name": "stderr",
     "output_type": "stream",
     "text": [
      "/home/michael/Desktop/ifile/nn/ResNet-PyTorch/ResNet/venvres/lib/python3.9/site-packages/sklearn/metrics/_classification.py:1531: UndefinedMetricWarning: Precision is ill-defined and being set to 0.0 in labels with no predicted samples. Use `zero_division` parameter to control this behavior.\n",
      "  _warn_prf(average, modifier, f\"{metric.capitalize()} is\", len(result))\n"
     ]
    },
    {
     "name": "stdout",
     "output_type": "stream",
     "text": [
      "Epoch [70/125], Loss: 0.4818, Training Accuracy: 88.62%, Precision: 0.889, Recall: 0.886, F1 Score: 0.886\n",
      "Validation Loss: 1.5610, Validation Accuracy: 55.26%, Precision: 0.538, Recall: 0.553, F1 Score: 0.506\n",
      "Learning rate reduced from 1.953125e-06 to 9.765625e-07\n",
      "Epoch [70/125] completed in 12.14 seconds\n"
     ]
    },
    {
     "name": "stderr",
     "output_type": "stream",
     "text": [
      "/home/michael/Desktop/ifile/nn/ResNet-PyTorch/ResNet/venvres/lib/python3.9/site-packages/sklearn/metrics/_classification.py:1531: UndefinedMetricWarning: Precision is ill-defined and being set to 0.0 in labels with no predicted samples. Use `zero_division` parameter to control this behavior.\n",
      "  _warn_prf(average, modifier, f\"{metric.capitalize()} is\", len(result))\n",
      "/home/michael/Desktop/ifile/nn/ResNet-PyTorch/ResNet/venvres/lib/python3.9/site-packages/sklearn/metrics/_classification.py:1531: UndefinedMetricWarning: Recall is ill-defined and being set to 0.0 in labels with no true samples. Use `zero_division` parameter to control this behavior.\n",
      "  _warn_prf(average, modifier, f\"{metric.capitalize()} is\", len(result))\n"
     ]
    },
    {
     "name": "stdout",
     "output_type": "stream",
     "text": [
      "Epoch [71/125], Loss: 0.4893, Training Accuracy: 86.19%, Precision: 0.867, Recall: 0.862, F1 Score: 0.860\n",
      "Validation Loss: 0.9444, Validation Accuracy: 73.68%, Precision: 0.776, Recall: 0.737, F1 Score: 0.720\n",
      "Epoch [71/125] completed in 12.18 seconds\n"
     ]
    },
    {
     "name": "stderr",
     "output_type": "stream",
     "text": [
      "/home/michael/Desktop/ifile/nn/ResNet-PyTorch/ResNet/venvres/lib/python3.9/site-packages/sklearn/metrics/_classification.py:1531: UndefinedMetricWarning: Precision is ill-defined and being set to 0.0 in labels with no predicted samples. Use `zero_division` parameter to control this behavior.\n",
      "  _warn_prf(average, modifier, f\"{metric.capitalize()} is\", len(result))\n"
     ]
    },
    {
     "name": "stdout",
     "output_type": "stream",
     "text": [
      "Epoch [72/125], Loss: 0.5795, Training Accuracy: 84.33%, Precision: 0.845, Recall: 0.843, F1 Score: 0.841\n",
      "Validation Loss: 1.8897, Validation Accuracy: 53.95%, Precision: 0.489, Recall: 0.539, F1 Score: 0.478\n",
      "Epoch [72/125] completed in 12.23 seconds\n"
     ]
    },
    {
     "name": "stderr",
     "output_type": "stream",
     "text": [
      "/home/michael/Desktop/ifile/nn/ResNet-PyTorch/ResNet/venvres/lib/python3.9/site-packages/sklearn/metrics/_classification.py:1531: UndefinedMetricWarning: Precision is ill-defined and being set to 0.0 in labels with no predicted samples. Use `zero_division` parameter to control this behavior.\n",
      "  _warn_prf(average, modifier, f\"{metric.capitalize()} is\", len(result))\n"
     ]
    },
    {
     "name": "stdout",
     "output_type": "stream",
     "text": [
      "Epoch [73/125], Loss: 0.4783, Training Accuracy: 88.06%, Precision: 0.888, Recall: 0.881, F1 Score: 0.881\n",
      "Validation Loss: 1.7928, Validation Accuracy: 51.32%, Precision: 0.547, Recall: 0.513, F1 Score: 0.492\n",
      "Epoch [73/125] completed in 12.11 seconds\n"
     ]
    },
    {
     "name": "stderr",
     "output_type": "stream",
     "text": [
      "/home/michael/Desktop/ifile/nn/ResNet-PyTorch/ResNet/venvres/lib/python3.9/site-packages/sklearn/metrics/_classification.py:1531: UndefinedMetricWarning: Precision is ill-defined and being set to 0.0 in labels with no predicted samples. Use `zero_division` parameter to control this behavior.\n",
      "  _warn_prf(average, modifier, f\"{metric.capitalize()} is\", len(result))\n"
     ]
    },
    {
     "name": "stdout",
     "output_type": "stream",
     "text": [
      "Epoch [74/125], Loss: 0.5989, Training Accuracy: 83.58%, Precision: 0.840, Recall: 0.836, F1 Score: 0.834\n",
      "Validation Loss: 1.8598, Validation Accuracy: 43.42%, Precision: 0.379, Recall: 0.434, F1 Score: 0.379\n",
      "Epoch [74/125] completed in 12.22 seconds\n"
     ]
    },
    {
     "name": "stderr",
     "output_type": "stream",
     "text": [
      "/home/michael/Desktop/ifile/nn/ResNet-PyTorch/ResNet/venvres/lib/python3.9/site-packages/sklearn/metrics/_classification.py:1531: UndefinedMetricWarning: Precision is ill-defined and being set to 0.0 in labels with no predicted samples. Use `zero_division` parameter to control this behavior.\n",
      "  _warn_prf(average, modifier, f\"{metric.capitalize()} is\", len(result))\n"
     ]
    },
    {
     "name": "stdout",
     "output_type": "stream",
     "text": [
      "Epoch [75/125], Loss: 0.5822, Training Accuracy: 84.51%, Precision: 0.851, Recall: 0.845, F1 Score: 0.844\n",
      "Validation Loss: 1.3305, Validation Accuracy: 65.79%, Precision: 0.670, Recall: 0.658, F1 Score: 0.623\n",
      "Epoch [75/125] completed in 12.14 seconds\n"
     ]
    },
    {
     "name": "stderr",
     "output_type": "stream",
     "text": [
      "/home/michael/Desktop/ifile/nn/ResNet-PyTorch/ResNet/venvres/lib/python3.9/site-packages/sklearn/metrics/_classification.py:1531: UndefinedMetricWarning: Precision is ill-defined and being set to 0.0 in labels with no predicted samples. Use `zero_division` parameter to control this behavior.\n",
      "  _warn_prf(average, modifier, f\"{metric.capitalize()} is\", len(result))\n"
     ]
    },
    {
     "name": "stdout",
     "output_type": "stream",
     "text": [
      "Epoch [76/125], Loss: 0.5043, Training Accuracy: 85.63%, Precision: 0.863, Recall: 0.856, F1 Score: 0.855\n",
      "Validation Loss: 1.5729, Validation Accuracy: 59.21%, Precision: 0.559, Recall: 0.592, F1 Score: 0.542\n",
      "Epoch [76/125] completed in 12.17 seconds\n"
     ]
    },
    {
     "name": "stderr",
     "output_type": "stream",
     "text": [
      "/home/michael/Desktop/ifile/nn/ResNet-PyTorch/ResNet/venvres/lib/python3.9/site-packages/sklearn/metrics/_classification.py:1531: UndefinedMetricWarning: Precision is ill-defined and being set to 0.0 in labels with no predicted samples. Use `zero_division` parameter to control this behavior.\n",
      "  _warn_prf(average, modifier, f\"{metric.capitalize()} is\", len(result))\n"
     ]
    },
    {
     "name": "stdout",
     "output_type": "stream",
     "text": [
      "Epoch [77/125], Loss: 0.5709, Training Accuracy: 84.89%, Precision: 0.856, Recall: 0.849, F1 Score: 0.848\n",
      "Validation Loss: 1.3346, Validation Accuracy: 64.47%, Precision: 0.689, Recall: 0.645, F1 Score: 0.630\n",
      "Learning rate reduced from 9.765625e-07 to 4.8828125e-07\n",
      "Epoch [77/125] completed in 12.14 seconds\n"
     ]
    },
    {
     "name": "stderr",
     "output_type": "stream",
     "text": [
      "/home/michael/Desktop/ifile/nn/ResNet-PyTorch/ResNet/venvres/lib/python3.9/site-packages/sklearn/metrics/_classification.py:1531: UndefinedMetricWarning: Precision is ill-defined and being set to 0.0 in labels with no predicted samples. Use `zero_division` parameter to control this behavior.\n",
      "  _warn_prf(average, modifier, f\"{metric.capitalize()} is\", len(result))\n"
     ]
    },
    {
     "name": "stdout",
     "output_type": "stream",
     "text": [
      "Epoch [78/125], Loss: 0.5576, Training Accuracy: 84.51%, Precision: 0.852, Recall: 0.845, F1 Score: 0.845\n",
      "Validation Loss: 1.7131, Validation Accuracy: 48.68%, Precision: 0.537, Recall: 0.487, F1 Score: 0.482\n",
      "Epoch [78/125] completed in 12.04 seconds\n"
     ]
    },
    {
     "name": "stderr",
     "output_type": "stream",
     "text": [
      "/home/michael/Desktop/ifile/nn/ResNet-PyTorch/ResNet/venvres/lib/python3.9/site-packages/sklearn/metrics/_classification.py:1531: UndefinedMetricWarning: Precision is ill-defined and being set to 0.0 in labels with no predicted samples. Use `zero_division` parameter to control this behavior.\n",
      "  _warn_prf(average, modifier, f\"{metric.capitalize()} is\", len(result))\n",
      "/home/michael/Desktop/ifile/nn/ResNet-PyTorch/ResNet/venvres/lib/python3.9/site-packages/sklearn/metrics/_classification.py:1531: UndefinedMetricWarning: Recall is ill-defined and being set to 0.0 in labels with no true samples. Use `zero_division` parameter to control this behavior.\n",
      "  _warn_prf(average, modifier, f\"{metric.capitalize()} is\", len(result))\n"
     ]
    },
    {
     "name": "stdout",
     "output_type": "stream",
     "text": [
      "Epoch [79/125], Loss: 0.5750, Training Accuracy: 84.89%, Precision: 0.854, Recall: 0.849, F1 Score: 0.848\n",
      "Validation Loss: 2.1452, Validation Accuracy: 48.68%, Precision: 0.532, Recall: 0.487, F1 Score: 0.473\n",
      "Epoch [79/125] completed in 12.20 seconds\n"
     ]
    },
    {
     "name": "stderr",
     "output_type": "stream",
     "text": [
      "/home/michael/Desktop/ifile/nn/ResNet-PyTorch/ResNet/venvres/lib/python3.9/site-packages/sklearn/metrics/_classification.py:1531: UndefinedMetricWarning: Precision is ill-defined and being set to 0.0 in labels with no predicted samples. Use `zero_division` parameter to control this behavior.\n",
      "  _warn_prf(average, modifier, f\"{metric.capitalize()} is\", len(result))\n"
     ]
    },
    {
     "name": "stdout",
     "output_type": "stream",
     "text": [
      "Epoch [80/125], Loss: 0.5458, Training Accuracy: 84.89%, Precision: 0.853, Recall: 0.849, F1 Score: 0.847\n",
      "Validation Loss: 5955.9557, Validation Accuracy: 21.05%, Precision: 0.187, Recall: 0.211, F1 Score: 0.174\n",
      "Epoch [80/125] completed in 12.21 seconds\n"
     ]
    },
    {
     "name": "stderr",
     "output_type": "stream",
     "text": [
      "/home/michael/Desktop/ifile/nn/ResNet-PyTorch/ResNet/venvres/lib/python3.9/site-packages/sklearn/metrics/_classification.py:1531: UndefinedMetricWarning: Precision is ill-defined and being set to 0.0 in labels with no predicted samples. Use `zero_division` parameter to control this behavior.\n",
      "  _warn_prf(average, modifier, f\"{metric.capitalize()} is\", len(result))\n"
     ]
    },
    {
     "name": "stdout",
     "output_type": "stream",
     "text": [
      "Epoch [81/125], Loss: 0.4531, Training Accuracy: 88.62%, Precision: 0.889, Recall: 0.886, F1 Score: 0.886\n",
      "Validation Loss: 2.3392, Validation Accuracy: 39.47%, Precision: 0.324, Recall: 0.395, F1 Score: 0.333\n",
      "Epoch [81/125] completed in 12.20 seconds\n"
     ]
    },
    {
     "name": "stderr",
     "output_type": "stream",
     "text": [
      "/home/michael/Desktop/ifile/nn/ResNet-PyTorch/ResNet/venvres/lib/python3.9/site-packages/sklearn/metrics/_classification.py:1531: UndefinedMetricWarning: Precision is ill-defined and being set to 0.0 in labels with no predicted samples. Use `zero_division` parameter to control this behavior.\n",
      "  _warn_prf(average, modifier, f\"{metric.capitalize()} is\", len(result))\n"
     ]
    },
    {
     "name": "stdout",
     "output_type": "stream",
     "text": [
      "Epoch [82/125], Loss: 0.5247, Training Accuracy: 85.63%, Precision: 0.861, Recall: 0.856, F1 Score: 0.855\n",
      "Validation Loss: 2.1268, Validation Accuracy: 38.16%, Precision: 0.355, Recall: 0.382, F1 Score: 0.332\n",
      "Epoch [82/125] completed in 12.22 seconds\n"
     ]
    },
    {
     "name": "stderr",
     "output_type": "stream",
     "text": [
      "/home/michael/Desktop/ifile/nn/ResNet-PyTorch/ResNet/venvres/lib/python3.9/site-packages/sklearn/metrics/_classification.py:1531: UndefinedMetricWarning: Precision is ill-defined and being set to 0.0 in labels with no predicted samples. Use `zero_division` parameter to control this behavior.\n",
      "  _warn_prf(average, modifier, f\"{metric.capitalize()} is\", len(result))\n"
     ]
    },
    {
     "name": "stdout",
     "output_type": "stream",
     "text": [
      "Epoch [83/125], Loss: 0.5531, Training Accuracy: 85.26%, Precision: 0.861, Recall: 0.853, F1 Score: 0.852\n",
      "Validation Loss: 2.5802, Validation Accuracy: 23.68%, Precision: 0.283, Recall: 0.237, F1 Score: 0.242\n",
      "Learning rate reduced from 4.8828125e-07 to 2.44140625e-07\n",
      "Epoch [83/125] completed in 12.23 seconds\n"
     ]
    },
    {
     "name": "stderr",
     "output_type": "stream",
     "text": [
      "/home/michael/Desktop/ifile/nn/ResNet-PyTorch/ResNet/venvres/lib/python3.9/site-packages/sklearn/metrics/_classification.py:1531: UndefinedMetricWarning: Precision is ill-defined and being set to 0.0 in labels with no predicted samples. Use `zero_division` parameter to control this behavior.\n",
      "  _warn_prf(average, modifier, f\"{metric.capitalize()} is\", len(result))\n"
     ]
    },
    {
     "name": "stdout",
     "output_type": "stream",
     "text": [
      "Epoch [84/125], Loss: 0.5119, Training Accuracy: 86.75%, Precision: 0.872, Recall: 0.868, F1 Score: 0.867\n",
      "Validation Loss: 1518.3828, Validation Accuracy: 26.32%, Precision: 0.241, Recall: 0.263, F1 Score: 0.227\n",
      "Epoch [84/125] completed in 12.17 seconds\n"
     ]
    },
    {
     "name": "stderr",
     "output_type": "stream",
     "text": [
      "/home/michael/Desktop/ifile/nn/ResNet-PyTorch/ResNet/venvres/lib/python3.9/site-packages/sklearn/metrics/_classification.py:1531: UndefinedMetricWarning: Precision is ill-defined and being set to 0.0 in labels with no predicted samples. Use `zero_division` parameter to control this behavior.\n",
      "  _warn_prf(average, modifier, f\"{metric.capitalize()} is\", len(result))\n"
     ]
    },
    {
     "name": "stdout",
     "output_type": "stream",
     "text": [
      "Epoch [85/125], Loss: 0.5212, Training Accuracy: 86.57%, Precision: 0.872, Recall: 0.866, F1 Score: 0.865\n",
      "Validation Loss: 2.7495, Validation Accuracy: 44.74%, Precision: 0.451, Recall: 0.447, F1 Score: 0.416\n",
      "Epoch [85/125] completed in 12.23 seconds\n"
     ]
    },
    {
     "name": "stderr",
     "output_type": "stream",
     "text": [
      "/home/michael/Desktop/ifile/nn/ResNet-PyTorch/ResNet/venvres/lib/python3.9/site-packages/sklearn/metrics/_classification.py:1531: UndefinedMetricWarning: Precision is ill-defined and being set to 0.0 in labels with no predicted samples. Use `zero_division` parameter to control this behavior.\n",
      "  _warn_prf(average, modifier, f\"{metric.capitalize()} is\", len(result))\n"
     ]
    },
    {
     "name": "stdout",
     "output_type": "stream",
     "text": [
      "Epoch [86/125], Loss: 0.5400, Training Accuracy: 87.13%, Precision: 0.876, Recall: 0.871, F1 Score: 0.872\n",
      "Validation Loss: 1.5507, Validation Accuracy: 60.53%, Precision: 0.603, Recall: 0.605, F1 Score: 0.573\n",
      "Epoch [86/125] completed in 12.10 seconds\n"
     ]
    },
    {
     "name": "stderr",
     "output_type": "stream",
     "text": [
      "/home/michael/Desktop/ifile/nn/ResNet-PyTorch/ResNet/venvres/lib/python3.9/site-packages/sklearn/metrics/_classification.py:1531: UndefinedMetricWarning: Precision is ill-defined and being set to 0.0 in labels with no predicted samples. Use `zero_division` parameter to control this behavior.\n",
      "  _warn_prf(average, modifier, f\"{metric.capitalize()} is\", len(result))\n"
     ]
    },
    {
     "name": "stdout",
     "output_type": "stream",
     "text": [
      "Epoch [87/125], Loss: 0.5220, Training Accuracy: 86.94%, Precision: 0.877, Recall: 0.869, F1 Score: 0.869\n",
      "Validation Loss: 1.8705, Validation Accuracy: 59.21%, Precision: 0.574, Recall: 0.592, F1 Score: 0.557\n",
      "Epoch [87/125] completed in 12.14 seconds\n"
     ]
    },
    {
     "name": "stderr",
     "output_type": "stream",
     "text": [
      "/home/michael/Desktop/ifile/nn/ResNet-PyTorch/ResNet/venvres/lib/python3.9/site-packages/sklearn/metrics/_classification.py:1531: UndefinedMetricWarning: Precision is ill-defined and being set to 0.0 in labels with no predicted samples. Use `zero_division` parameter to control this behavior.\n",
      "  _warn_prf(average, modifier, f\"{metric.capitalize()} is\", len(result))\n"
     ]
    },
    {
     "name": "stdout",
     "output_type": "stream",
     "text": [
      "Epoch [88/125], Loss: 0.4723, Training Accuracy: 87.87%, Precision: 0.882, Recall: 0.879, F1 Score: 0.878\n",
      "Validation Loss: 1.9946, Validation Accuracy: 46.05%, Precision: 0.443, Recall: 0.461, F1 Score: 0.416\n",
      "Epoch [88/125] completed in 12.09 seconds\n"
     ]
    },
    {
     "name": "stderr",
     "output_type": "stream",
     "text": [
      "/home/michael/Desktop/ifile/nn/ResNet-PyTorch/ResNet/venvres/lib/python3.9/site-packages/sklearn/metrics/_classification.py:1531: UndefinedMetricWarning: Precision is ill-defined and being set to 0.0 in labels with no predicted samples. Use `zero_division` parameter to control this behavior.\n",
      "  _warn_prf(average, modifier, f\"{metric.capitalize()} is\", len(result))\n"
     ]
    },
    {
     "name": "stdout",
     "output_type": "stream",
     "text": [
      "Epoch [89/125], Loss: 0.5409, Training Accuracy: 86.19%, Precision: 0.864, Recall: 0.862, F1 Score: 0.860\n",
      "Validation Loss: 2.4078, Validation Accuracy: 42.11%, Precision: 0.433, Recall: 0.421, F1 Score: 0.397\n",
      "Learning rate reduced from 2.44140625e-07 to 1.220703125e-07\n",
      "Epoch [89/125] completed in 12.20 seconds\n"
     ]
    },
    {
     "name": "stderr",
     "output_type": "stream",
     "text": [
      "/home/michael/Desktop/ifile/nn/ResNet-PyTorch/ResNet/venvres/lib/python3.9/site-packages/sklearn/metrics/_classification.py:1531: UndefinedMetricWarning: Precision is ill-defined and being set to 0.0 in labels with no predicted samples. Use `zero_division` parameter to control this behavior.\n",
      "  _warn_prf(average, modifier, f\"{metric.capitalize()} is\", len(result))\n"
     ]
    },
    {
     "name": "stdout",
     "output_type": "stream",
     "text": [
      "Epoch [90/125], Loss: 0.5527, Training Accuracy: 85.26%, Precision: 0.859, Recall: 0.853, F1 Score: 0.852\n",
      "Validation Loss: 1.1111, Validation Accuracy: 75.00%, Precision: 0.748, Recall: 0.750, F1 Score: 0.715\n",
      "Epoch [90/125] completed in 12.24 seconds\n"
     ]
    },
    {
     "name": "stderr",
     "output_type": "stream",
     "text": [
      "/home/michael/Desktop/ifile/nn/ResNet-PyTorch/ResNet/venvres/lib/python3.9/site-packages/sklearn/metrics/_classification.py:1531: UndefinedMetricWarning: Precision is ill-defined and being set to 0.0 in labels with no predicted samples. Use `zero_division` parameter to control this behavior.\n",
      "  _warn_prf(average, modifier, f\"{metric.capitalize()} is\", len(result))\n"
     ]
    },
    {
     "name": "stdout",
     "output_type": "stream",
     "text": [
      "Epoch [91/125], Loss: 0.5404, Training Accuracy: 85.82%, Precision: 0.862, Recall: 0.858, F1 Score: 0.858\n",
      "Validation Loss: 1.6644, Validation Accuracy: 52.63%, Precision: 0.520, Recall: 0.526, F1 Score: 0.481\n",
      "Epoch [91/125] completed in 12.03 seconds\n"
     ]
    },
    {
     "name": "stderr",
     "output_type": "stream",
     "text": [
      "/home/michael/Desktop/ifile/nn/ResNet-PyTorch/ResNet/venvres/lib/python3.9/site-packages/sklearn/metrics/_classification.py:1531: UndefinedMetricWarning: Precision is ill-defined and being set to 0.0 in labels with no predicted samples. Use `zero_division` parameter to control this behavior.\n",
      "  _warn_prf(average, modifier, f\"{metric.capitalize()} is\", len(result))\n"
     ]
    },
    {
     "name": "stdout",
     "output_type": "stream",
     "text": [
      "Epoch [92/125], Loss: 0.5085, Training Accuracy: 86.01%, Precision: 0.866, Recall: 0.860, F1 Score: 0.859\n",
      "Validation Loss: 1.7574, Validation Accuracy: 48.68%, Precision: 0.471, Recall: 0.487, F1 Score: 0.450\n",
      "Epoch [92/125] completed in 12.09 seconds\n"
     ]
    },
    {
     "name": "stderr",
     "output_type": "stream",
     "text": [
      "/home/michael/Desktop/ifile/nn/ResNet-PyTorch/ResNet/venvres/lib/python3.9/site-packages/sklearn/metrics/_classification.py:1531: UndefinedMetricWarning: Precision is ill-defined and being set to 0.0 in labels with no predicted samples. Use `zero_division` parameter to control this behavior.\n",
      "  _warn_prf(average, modifier, f\"{metric.capitalize()} is\", len(result))\n"
     ]
    },
    {
     "name": "stdout",
     "output_type": "stream",
     "text": [
      "Epoch [93/125], Loss: 0.5596, Training Accuracy: 84.89%, Precision: 0.856, Recall: 0.849, F1 Score: 0.849\n",
      "Validation Loss: 1.4029, Validation Accuracy: 72.37%, Precision: 0.750, Recall: 0.724, F1 Score: 0.705\n",
      "Epoch [93/125] completed in 12.22 seconds\n"
     ]
    },
    {
     "name": "stderr",
     "output_type": "stream",
     "text": [
      "/home/michael/Desktop/ifile/nn/ResNet-PyTorch/ResNet/venvres/lib/python3.9/site-packages/sklearn/metrics/_classification.py:1531: UndefinedMetricWarning: Precision is ill-defined and being set to 0.0 in labels with no predicted samples. Use `zero_division` parameter to control this behavior.\n",
      "  _warn_prf(average, modifier, f\"{metric.capitalize()} is\", len(result))\n"
     ]
    },
    {
     "name": "stdout",
     "output_type": "stream",
     "text": [
      "Epoch [94/125], Loss: 0.5900, Training Accuracy: 84.14%, Precision: 0.848, Recall: 0.841, F1 Score: 0.841\n",
      "Validation Loss: 1.4931, Validation Accuracy: 59.21%, Precision: 0.572, Recall: 0.592, F1 Score: 0.557\n",
      "Epoch [94/125] completed in 12.13 seconds\n"
     ]
    },
    {
     "name": "stderr",
     "output_type": "stream",
     "text": [
      "/home/michael/Desktop/ifile/nn/ResNet-PyTorch/ResNet/venvres/lib/python3.9/site-packages/sklearn/metrics/_classification.py:1531: UndefinedMetricWarning: Precision is ill-defined and being set to 0.0 in labels with no predicted samples. Use `zero_division` parameter to control this behavior.\n",
      "  _warn_prf(average, modifier, f\"{metric.capitalize()} is\", len(result))\n"
     ]
    },
    {
     "name": "stdout",
     "output_type": "stream",
     "text": [
      "Epoch [95/125], Loss: 0.5744, Training Accuracy: 83.21%, Precision: 0.836, Recall: 0.832, F1 Score: 0.832\n",
      "Validation Loss: 2.0025, Validation Accuracy: 36.84%, Precision: 0.358, Recall: 0.368, F1 Score: 0.320\n",
      "Learning rate reduced from 1.220703125e-07 to 6.103515625e-08\n",
      "Epoch [95/125] completed in 12.19 seconds\n"
     ]
    },
    {
     "name": "stderr",
     "output_type": "stream",
     "text": [
      "/home/michael/Desktop/ifile/nn/ResNet-PyTorch/ResNet/venvres/lib/python3.9/site-packages/sklearn/metrics/_classification.py:1531: UndefinedMetricWarning: Precision is ill-defined and being set to 0.0 in labels with no predicted samples. Use `zero_division` parameter to control this behavior.\n",
      "  _warn_prf(average, modifier, f\"{metric.capitalize()} is\", len(result))\n"
     ]
    },
    {
     "name": "stdout",
     "output_type": "stream",
     "text": [
      "Epoch [96/125], Loss: 0.5161, Training Accuracy: 86.38%, Precision: 0.872, Recall: 0.864, F1 Score: 0.864\n",
      "Validation Loss: 2.2290, Validation Accuracy: 31.58%, Precision: 0.318, Recall: 0.316, F1 Score: 0.292\n",
      "Epoch [96/125] completed in 12.21 seconds\n"
     ]
    },
    {
     "name": "stderr",
     "output_type": "stream",
     "text": [
      "/home/michael/Desktop/ifile/nn/ResNet-PyTorch/ResNet/venvres/lib/python3.9/site-packages/sklearn/metrics/_classification.py:1531: UndefinedMetricWarning: Precision is ill-defined and being set to 0.0 in labels with no predicted samples. Use `zero_division` parameter to control this behavior.\n",
      "  _warn_prf(average, modifier, f\"{metric.capitalize()} is\", len(result))\n"
     ]
    },
    {
     "name": "stdout",
     "output_type": "stream",
     "text": [
      "Epoch [97/125], Loss: 0.5289, Training Accuracy: 87.31%, Precision: 0.875, Recall: 0.873, F1 Score: 0.871\n",
      "Validation Loss: 2.2280, Validation Accuracy: 35.53%, Precision: 0.276, Recall: 0.355, F1 Score: 0.276\n",
      "Epoch [97/125] completed in 12.01 seconds\n"
     ]
    },
    {
     "name": "stderr",
     "output_type": "stream",
     "text": [
      "/home/michael/Desktop/ifile/nn/ResNet-PyTorch/ResNet/venvres/lib/python3.9/site-packages/sklearn/metrics/_classification.py:1531: UndefinedMetricWarning: Precision is ill-defined and being set to 0.0 in labels with no predicted samples. Use `zero_division` parameter to control this behavior.\n",
      "  _warn_prf(average, modifier, f\"{metric.capitalize()} is\", len(result))\n"
     ]
    },
    {
     "name": "stdout",
     "output_type": "stream",
     "text": [
      "Epoch [98/125], Loss: 0.5557, Training Accuracy: 85.82%, Precision: 0.864, Recall: 0.858, F1 Score: 0.858\n",
      "Validation Loss: 1.6082, Validation Accuracy: 57.89%, Precision: 0.565, Recall: 0.579, F1 Score: 0.538\n",
      "Epoch [98/125] completed in 12.21 seconds\n"
     ]
    },
    {
     "name": "stderr",
     "output_type": "stream",
     "text": [
      "/home/michael/Desktop/ifile/nn/ResNet-PyTorch/ResNet/venvres/lib/python3.9/site-packages/sklearn/metrics/_classification.py:1531: UndefinedMetricWarning: Precision is ill-defined and being set to 0.0 in labels with no predicted samples. Use `zero_division` parameter to control this behavior.\n",
      "  _warn_prf(average, modifier, f\"{metric.capitalize()} is\", len(result))\n"
     ]
    },
    {
     "name": "stdout",
     "output_type": "stream",
     "text": [
      "Epoch [99/125], Loss: 0.5334, Training Accuracy: 84.70%, Precision: 0.851, Recall: 0.847, F1 Score: 0.846\n",
      "Validation Loss: 1.4139, Validation Accuracy: 61.84%, Precision: 0.554, Recall: 0.618, F1 Score: 0.561\n",
      "Epoch [99/125] completed in 12.20 seconds\n"
     ]
    },
    {
     "name": "stderr",
     "output_type": "stream",
     "text": [
      "/home/michael/Desktop/ifile/nn/ResNet-PyTorch/ResNet/venvres/lib/python3.9/site-packages/sklearn/metrics/_classification.py:1531: UndefinedMetricWarning: Precision is ill-defined and being set to 0.0 in labels with no predicted samples. Use `zero_division` parameter to control this behavior.\n",
      "  _warn_prf(average, modifier, f\"{metric.capitalize()} is\", len(result))\n"
     ]
    },
    {
     "name": "stdout",
     "output_type": "stream",
     "text": [
      "Epoch [100/125], Loss: 0.5322, Training Accuracy: 86.75%, Precision: 0.873, Recall: 0.868, F1 Score: 0.867\n",
      "Validation Loss: 2.4124, Validation Accuracy: 40.79%, Precision: 0.459, Recall: 0.408, F1 Score: 0.398\n",
      "Epoch [100/125] completed in 12.23 seconds\n"
     ]
    },
    {
     "name": "stderr",
     "output_type": "stream",
     "text": [
      "/home/michael/Desktop/ifile/nn/ResNet-PyTorch/ResNet/venvres/lib/python3.9/site-packages/sklearn/metrics/_classification.py:1531: UndefinedMetricWarning: Precision is ill-defined and being set to 0.0 in labels with no predicted samples. Use `zero_division` parameter to control this behavior.\n",
      "  _warn_prf(average, modifier, f\"{metric.capitalize()} is\", len(result))\n",
      "/home/michael/Desktop/ifile/nn/ResNet-PyTorch/ResNet/venvres/lib/python3.9/site-packages/sklearn/metrics/_classification.py:1531: UndefinedMetricWarning: Recall is ill-defined and being set to 0.0 in labels with no true samples. Use `zero_division` parameter to control this behavior.\n",
      "  _warn_prf(average, modifier, f\"{metric.capitalize()} is\", len(result))\n"
     ]
    },
    {
     "name": "stdout",
     "output_type": "stream",
     "text": [
      "Epoch [101/125], Loss: 0.5429, Training Accuracy: 86.19%, Precision: 0.866, Recall: 0.862, F1 Score: 0.861\n",
      "Validation Loss: 1.5970, Validation Accuracy: 52.63%, Precision: 0.558, Recall: 0.526, F1 Score: 0.503\n",
      "Learning rate reduced from 6.103515625e-08 to 3.0517578125e-08\n",
      "Epoch [101/125] completed in 12.25 seconds\n"
     ]
    },
    {
     "name": "stderr",
     "output_type": "stream",
     "text": [
      "/home/michael/Desktop/ifile/nn/ResNet-PyTorch/ResNet/venvres/lib/python3.9/site-packages/sklearn/metrics/_classification.py:1531: UndefinedMetricWarning: Precision is ill-defined and being set to 0.0 in labels with no predicted samples. Use `zero_division` parameter to control this behavior.\n",
      "  _warn_prf(average, modifier, f\"{metric.capitalize()} is\", len(result))\n"
     ]
    },
    {
     "name": "stdout",
     "output_type": "stream",
     "text": [
      "Epoch [102/125], Loss: 0.4842, Training Accuracy: 86.94%, Precision: 0.878, Recall: 0.869, F1 Score: 0.870\n",
      "Validation Loss: 2.0598, Validation Accuracy: 43.42%, Precision: 0.440, Recall: 0.434, F1 Score: 0.383\n",
      "Epoch [102/125] completed in 12.12 seconds\n"
     ]
    },
    {
     "name": "stderr",
     "output_type": "stream",
     "text": [
      "/home/michael/Desktop/ifile/nn/ResNet-PyTorch/ResNet/venvres/lib/python3.9/site-packages/sklearn/metrics/_classification.py:1531: UndefinedMetricWarning: Precision is ill-defined and being set to 0.0 in labels with no predicted samples. Use `zero_division` parameter to control this behavior.\n",
      "  _warn_prf(average, modifier, f\"{metric.capitalize()} is\", len(result))\n"
     ]
    },
    {
     "name": "stdout",
     "output_type": "stream",
     "text": [
      "Epoch [103/125], Loss: 0.5171, Training Accuracy: 87.31%, Precision: 0.875, Recall: 0.873, F1 Score: 0.872\n",
      "Validation Loss: 2.6729, Validation Accuracy: 22.37%, Precision: 0.200, Recall: 0.224, F1 Score: 0.196\n",
      "Epoch [103/125] completed in 12.22 seconds\n"
     ]
    },
    {
     "name": "stderr",
     "output_type": "stream",
     "text": [
      "/home/michael/Desktop/ifile/nn/ResNet-PyTorch/ResNet/venvres/lib/python3.9/site-packages/sklearn/metrics/_classification.py:1531: UndefinedMetricWarning: Precision is ill-defined and being set to 0.0 in labels with no predicted samples. Use `zero_division` parameter to control this behavior.\n",
      "  _warn_prf(average, modifier, f\"{metric.capitalize()} is\", len(result))\n"
     ]
    },
    {
     "name": "stdout",
     "output_type": "stream",
     "text": [
      "Epoch [104/125], Loss: 0.5212, Training Accuracy: 86.19%, Precision: 0.870, Recall: 0.862, F1 Score: 0.862\n",
      "Validation Loss: 8461.1190, Validation Accuracy: 35.53%, Precision: 0.327, Recall: 0.355, F1 Score: 0.321\n",
      "Epoch [104/125] completed in 12.14 seconds\n"
     ]
    },
    {
     "name": "stderr",
     "output_type": "stream",
     "text": [
      "/home/michael/Desktop/ifile/nn/ResNet-PyTorch/ResNet/venvres/lib/python3.9/site-packages/sklearn/metrics/_classification.py:1531: UndefinedMetricWarning: Precision is ill-defined and being set to 0.0 in labels with no predicted samples. Use `zero_division` parameter to control this behavior.\n",
      "  _warn_prf(average, modifier, f\"{metric.capitalize()} is\", len(result))\n"
     ]
    },
    {
     "name": "stdout",
     "output_type": "stream",
     "text": [
      "Epoch [105/125], Loss: 0.5085, Training Accuracy: 86.94%, Precision: 0.881, Recall: 0.869, F1 Score: 0.868\n",
      "Validation Loss: 1.9944, Validation Accuracy: 43.42%, Precision: 0.458, Recall: 0.434, F1 Score: 0.408\n",
      "Epoch [105/125] completed in 12.15 seconds\n"
     ]
    },
    {
     "name": "stderr",
     "output_type": "stream",
     "text": [
      "/home/michael/Desktop/ifile/nn/ResNet-PyTorch/ResNet/venvres/lib/python3.9/site-packages/sklearn/metrics/_classification.py:1531: UndefinedMetricWarning: Precision is ill-defined and being set to 0.0 in labels with no predicted samples. Use `zero_division` parameter to control this behavior.\n",
      "  _warn_prf(average, modifier, f\"{metric.capitalize()} is\", len(result))\n",
      "/home/michael/Desktop/ifile/nn/ResNet-PyTorch/ResNet/venvres/lib/python3.9/site-packages/sklearn/metrics/_classification.py:1531: UndefinedMetricWarning: Recall is ill-defined and being set to 0.0 in labels with no true samples. Use `zero_division` parameter to control this behavior.\n",
      "  _warn_prf(average, modifier, f\"{metric.capitalize()} is\", len(result))\n"
     ]
    },
    {
     "name": "stdout",
     "output_type": "stream",
     "text": [
      "Epoch [106/125], Loss: 0.5487, Training Accuracy: 86.19%, Precision: 0.866, Recall: 0.862, F1 Score: 0.861\n",
      "Validation Loss: 1.5724, Validation Accuracy: 53.95%, Precision: 0.499, Recall: 0.539, F1 Score: 0.490\n",
      "Epoch [106/125] completed in 12.23 seconds\n"
     ]
    },
    {
     "name": "stderr",
     "output_type": "stream",
     "text": [
      "/home/michael/Desktop/ifile/nn/ResNet-PyTorch/ResNet/venvres/lib/python3.9/site-packages/sklearn/metrics/_classification.py:1531: UndefinedMetricWarning: Precision is ill-defined and being set to 0.0 in labels with no predicted samples. Use `zero_division` parameter to control this behavior.\n",
      "  _warn_prf(average, modifier, f\"{metric.capitalize()} is\", len(result))\n"
     ]
    },
    {
     "name": "stdout",
     "output_type": "stream",
     "text": [
      "Epoch [107/125], Loss: 0.5096, Training Accuracy: 85.82%, Precision: 0.860, Recall: 0.858, F1 Score: 0.858\n",
      "Validation Loss: 1.9460, Validation Accuracy: 48.68%, Precision: 0.539, Recall: 0.487, F1 Score: 0.479\n",
      "Learning rate reduced from 3.0517578125e-08 to 1.52587890625e-08\n",
      "Epoch [107/125] completed in 12.20 seconds\n"
     ]
    },
    {
     "name": "stderr",
     "output_type": "stream",
     "text": [
      "/home/michael/Desktop/ifile/nn/ResNet-PyTorch/ResNet/venvres/lib/python3.9/site-packages/sklearn/metrics/_classification.py:1531: UndefinedMetricWarning: Precision is ill-defined and being set to 0.0 in labels with no predicted samples. Use `zero_division` parameter to control this behavior.\n",
      "  _warn_prf(average, modifier, f\"{metric.capitalize()} is\", len(result))\n",
      "/home/michael/Desktop/ifile/nn/ResNet-PyTorch/ResNet/venvres/lib/python3.9/site-packages/sklearn/metrics/_classification.py:1531: UndefinedMetricWarning: Recall is ill-defined and being set to 0.0 in labels with no true samples. Use `zero_division` parameter to control this behavior.\n",
      "  _warn_prf(average, modifier, f\"{metric.capitalize()} is\", len(result))\n"
     ]
    },
    {
     "name": "stdout",
     "output_type": "stream",
     "text": [
      "Epoch [108/125], Loss: 0.4788, Training Accuracy: 86.57%, Precision: 0.868, Recall: 0.866, F1 Score: 0.863\n",
      "Validation Loss: 2.0126, Validation Accuracy: 46.05%, Precision: 0.444, Recall: 0.461, F1 Score: 0.404\n",
      "Epoch [108/125] completed in 12.11 seconds\n"
     ]
    },
    {
     "name": "stderr",
     "output_type": "stream",
     "text": [
      "/home/michael/Desktop/ifile/nn/ResNet-PyTorch/ResNet/venvres/lib/python3.9/site-packages/sklearn/metrics/_classification.py:1531: UndefinedMetricWarning: Precision is ill-defined and being set to 0.0 in labels with no predicted samples. Use `zero_division` parameter to control this behavior.\n",
      "  _warn_prf(average, modifier, f\"{metric.capitalize()} is\", len(result))\n"
     ]
    },
    {
     "name": "stdout",
     "output_type": "stream",
     "text": [
      "Epoch [109/125], Loss: 0.5674, Training Accuracy: 86.19%, Precision: 0.869, Recall: 0.862, F1 Score: 0.862\n",
      "Validation Loss: 1.9227, Validation Accuracy: 42.11%, Precision: 0.427, Recall: 0.421, F1 Score: 0.379\n",
      "Epoch [109/125] completed in 12.21 seconds\n"
     ]
    },
    {
     "name": "stderr",
     "output_type": "stream",
     "text": [
      "/home/michael/Desktop/ifile/nn/ResNet-PyTorch/ResNet/venvres/lib/python3.9/site-packages/sklearn/metrics/_classification.py:1531: UndefinedMetricWarning: Precision is ill-defined and being set to 0.0 in labels with no predicted samples. Use `zero_division` parameter to control this behavior.\n",
      "  _warn_prf(average, modifier, f\"{metric.capitalize()} is\", len(result))\n"
     ]
    },
    {
     "name": "stdout",
     "output_type": "stream",
     "text": [
      "Epoch [110/125], Loss: 0.5308, Training Accuracy: 84.89%, Precision: 0.855, Recall: 0.849, F1 Score: 0.848\n",
      "Validation Loss: 1.0123, Validation Accuracy: 78.95%, Precision: 0.858, Recall: 0.789, F1 Score: 0.782\n",
      "Epoch [110/125] completed in 12.20 seconds\n"
     ]
    },
    {
     "name": "stderr",
     "output_type": "stream",
     "text": [
      "/home/michael/Desktop/ifile/nn/ResNet-PyTorch/ResNet/venvres/lib/python3.9/site-packages/sklearn/metrics/_classification.py:1531: UndefinedMetricWarning: Precision is ill-defined and being set to 0.0 in labels with no predicted samples. Use `zero_division` parameter to control this behavior.\n",
      "  _warn_prf(average, modifier, f\"{metric.capitalize()} is\", len(result))\n"
     ]
    },
    {
     "name": "stdout",
     "output_type": "stream",
     "text": [
      "Epoch [111/125], Loss: 0.5584, Training Accuracy: 83.58%, Precision: 0.840, Recall: 0.836, F1 Score: 0.835\n",
      "Validation Loss: 61.3224, Validation Accuracy: 44.74%, Precision: 0.419, Recall: 0.447, F1 Score: 0.400\n",
      "Epoch [111/125] completed in 12.03 seconds\n"
     ]
    },
    {
     "name": "stderr",
     "output_type": "stream",
     "text": [
      "/home/michael/Desktop/ifile/nn/ResNet-PyTorch/ResNet/venvres/lib/python3.9/site-packages/sklearn/metrics/_classification.py:1531: UndefinedMetricWarning: Precision is ill-defined and being set to 0.0 in labels with no predicted samples. Use `zero_division` parameter to control this behavior.\n",
      "  _warn_prf(average, modifier, f\"{metric.capitalize()} is\", len(result))\n"
     ]
    },
    {
     "name": "stdout",
     "output_type": "stream",
     "text": [
      "Epoch [112/125], Loss: 0.5229, Training Accuracy: 87.13%, Precision: 0.876, Recall: 0.871, F1 Score: 0.871\n",
      "Validation Loss: 2.6065, Validation Accuracy: 35.53%, Precision: 0.407, Recall: 0.355, F1 Score: 0.350\n",
      "Epoch [112/125] completed in 12.11 seconds\n"
     ]
    },
    {
     "name": "stderr",
     "output_type": "stream",
     "text": [
      "/home/michael/Desktop/ifile/nn/ResNet-PyTorch/ResNet/venvres/lib/python3.9/site-packages/sklearn/metrics/_classification.py:1531: UndefinedMetricWarning: Precision is ill-defined and being set to 0.0 in labels with no predicted samples. Use `zero_division` parameter to control this behavior.\n",
      "  _warn_prf(average, modifier, f\"{metric.capitalize()} is\", len(result))\n"
     ]
    },
    {
     "name": "stdout",
     "output_type": "stream",
     "text": [
      "Epoch [113/125], Loss: 0.5308, Training Accuracy: 85.45%, Precision: 0.862, Recall: 0.854, F1 Score: 0.853\n",
      "Validation Loss: 2.5075, Validation Accuracy: 48.68%, Precision: 0.492, Recall: 0.487, F1 Score: 0.462\n",
      "Epoch [113/125] completed in 12.22 seconds\n"
     ]
    },
    {
     "name": "stderr",
     "output_type": "stream",
     "text": [
      "/home/michael/Desktop/ifile/nn/ResNet-PyTorch/ResNet/venvres/lib/python3.9/site-packages/sklearn/metrics/_classification.py:1531: UndefinedMetricWarning: Precision is ill-defined and being set to 0.0 in labels with no predicted samples. Use `zero_division` parameter to control this behavior.\n",
      "  _warn_prf(average, modifier, f\"{metric.capitalize()} is\", len(result))\n"
     ]
    },
    {
     "name": "stdout",
     "output_type": "stream",
     "text": [
      "Epoch [114/125], Loss: 0.4940, Training Accuracy: 87.87%, Precision: 0.887, Recall: 0.879, F1 Score: 0.878\n",
      "Validation Loss: 1.2809, Validation Accuracy: 71.05%, Precision: 0.778, Recall: 0.711, F1 Score: 0.703\n",
      "Epoch [114/125] completed in 12.25 seconds\n"
     ]
    },
    {
     "name": "stderr",
     "output_type": "stream",
     "text": [
      "/home/michael/Desktop/ifile/nn/ResNet-PyTorch/ResNet/venvres/lib/python3.9/site-packages/sklearn/metrics/_classification.py:1531: UndefinedMetricWarning: Precision is ill-defined and being set to 0.0 in labels with no predicted samples. Use `zero_division` parameter to control this behavior.\n",
      "  _warn_prf(average, modifier, f\"{metric.capitalize()} is\", len(result))\n"
     ]
    },
    {
     "name": "stdout",
     "output_type": "stream",
     "text": [
      "Epoch [115/125], Loss: 0.5190, Training Accuracy: 85.82%, Precision: 0.864, Recall: 0.858, F1 Score: 0.858\n",
      "Validation Loss: 2.2664, Validation Accuracy: 32.89%, Precision: 0.351, Recall: 0.329, F1 Score: 0.300\n",
      "Epoch [115/125] completed in 12.26 seconds\n"
     ]
    },
    {
     "name": "stderr",
     "output_type": "stream",
     "text": [
      "/home/michael/Desktop/ifile/nn/ResNet-PyTorch/ResNet/venvres/lib/python3.9/site-packages/sklearn/metrics/_classification.py:1531: UndefinedMetricWarning: Precision is ill-defined and being set to 0.0 in labels with no predicted samples. Use `zero_division` parameter to control this behavior.\n",
      "  _warn_prf(average, modifier, f\"{metric.capitalize()} is\", len(result))\n"
     ]
    },
    {
     "name": "stdout",
     "output_type": "stream",
     "text": [
      "Epoch [116/125], Loss: 0.4726, Training Accuracy: 89.37%, Precision: 0.898, Recall: 0.894, F1 Score: 0.893\n",
      "Validation Loss: 1.9856, Validation Accuracy: 44.74%, Precision: 0.424, Recall: 0.447, F1 Score: 0.404\n",
      "Epoch [116/125] completed in 12.25 seconds\n"
     ]
    },
    {
     "name": "stderr",
     "output_type": "stream",
     "text": [
      "/home/michael/Desktop/ifile/nn/ResNet-PyTorch/ResNet/venvres/lib/python3.9/site-packages/sklearn/metrics/_classification.py:1531: UndefinedMetricWarning: Precision is ill-defined and being set to 0.0 in labels with no predicted samples. Use `zero_division` parameter to control this behavior.\n",
      "  _warn_prf(average, modifier, f\"{metric.capitalize()} is\", len(result))\n"
     ]
    },
    {
     "name": "stdout",
     "output_type": "stream",
     "text": [
      "Epoch [117/125], Loss: 0.5293, Training Accuracy: 86.38%, Precision: 0.868, Recall: 0.864, F1 Score: 0.863\n",
      "Validation Loss: 2.3582, Validation Accuracy: 34.21%, Precision: 0.306, Recall: 0.342, F1 Score: 0.298\n",
      "Epoch [117/125] completed in 12.24 seconds\n"
     ]
    },
    {
     "name": "stderr",
     "output_type": "stream",
     "text": [
      "/home/michael/Desktop/ifile/nn/ResNet-PyTorch/ResNet/venvres/lib/python3.9/site-packages/sklearn/metrics/_classification.py:1531: UndefinedMetricWarning: Precision is ill-defined and being set to 0.0 in labels with no predicted samples. Use `zero_division` parameter to control this behavior.\n",
      "  _warn_prf(average, modifier, f\"{metric.capitalize()} is\", len(result))\n"
     ]
    },
    {
     "name": "stdout",
     "output_type": "stream",
     "text": [
      "Epoch [118/125], Loss: 0.5076, Training Accuracy: 87.13%, Precision: 0.872, Recall: 0.871, F1 Score: 0.869\n",
      "Validation Loss: 2.0011, Validation Accuracy: 39.47%, Precision: 0.418, Recall: 0.395, F1 Score: 0.386\n",
      "Epoch [118/125] completed in 12.14 seconds\n"
     ]
    },
    {
     "name": "stderr",
     "output_type": "stream",
     "text": [
      "/home/michael/Desktop/ifile/nn/ResNet-PyTorch/ResNet/venvres/lib/python3.9/site-packages/sklearn/metrics/_classification.py:1531: UndefinedMetricWarning: Precision is ill-defined and being set to 0.0 in labels with no predicted samples. Use `zero_division` parameter to control this behavior.\n",
      "  _warn_prf(average, modifier, f\"{metric.capitalize()} is\", len(result))\n"
     ]
    },
    {
     "name": "stdout",
     "output_type": "stream",
     "text": [
      "Epoch [119/125], Loss: 0.5685, Training Accuracy: 82.84%, Precision: 0.833, Recall: 0.828, F1 Score: 0.825\n",
      "Validation Loss: 1.9838, Validation Accuracy: 43.42%, Precision: 0.428, Recall: 0.434, F1 Score: 0.400\n",
      "Epoch [119/125] completed in 12.06 seconds\n"
     ]
    },
    {
     "name": "stderr",
     "output_type": "stream",
     "text": [
      "/home/michael/Desktop/ifile/nn/ResNet-PyTorch/ResNet/venvres/lib/python3.9/site-packages/sklearn/metrics/_classification.py:1531: UndefinedMetricWarning: Precision is ill-defined and being set to 0.0 in labels with no predicted samples. Use `zero_division` parameter to control this behavior.\n",
      "  _warn_prf(average, modifier, f\"{metric.capitalize()} is\", len(result))\n"
     ]
    },
    {
     "name": "stdout",
     "output_type": "stream",
     "text": [
      "Epoch [120/125], Loss: 0.5777, Training Accuracy: 82.84%, Precision: 0.834, Recall: 0.828, F1 Score: 0.827\n",
      "Validation Loss: 3.8682, Validation Accuracy: 48.68%, Precision: 0.443, Recall: 0.487, F1 Score: 0.438\n",
      "Epoch [120/125] completed in 12.24 seconds\n"
     ]
    },
    {
     "name": "stderr",
     "output_type": "stream",
     "text": [
      "/home/michael/Desktop/ifile/nn/ResNet-PyTorch/ResNet/venvres/lib/python3.9/site-packages/sklearn/metrics/_classification.py:1531: UndefinedMetricWarning: Precision is ill-defined and being set to 0.0 in labels with no predicted samples. Use `zero_division` parameter to control this behavior.\n",
      "  _warn_prf(average, modifier, f\"{metric.capitalize()} is\", len(result))\n"
     ]
    },
    {
     "name": "stdout",
     "output_type": "stream",
     "text": [
      "Epoch [121/125], Loss: 0.4791, Training Accuracy: 86.57%, Precision: 0.873, Recall: 0.866, F1 Score: 0.865\n",
      "Validation Loss: 2.3426, Validation Accuracy: 38.16%, Precision: 0.396, Recall: 0.382, F1 Score: 0.337\n",
      "Epoch [121/125] completed in 12.21 seconds\n"
     ]
    },
    {
     "name": "stderr",
     "output_type": "stream",
     "text": [
      "/home/michael/Desktop/ifile/nn/ResNet-PyTorch/ResNet/venvres/lib/python3.9/site-packages/sklearn/metrics/_classification.py:1531: UndefinedMetricWarning: Precision is ill-defined and being set to 0.0 in labels with no predicted samples. Use `zero_division` parameter to control this behavior.\n",
      "  _warn_prf(average, modifier, f\"{metric.capitalize()} is\", len(result))\n",
      "/home/michael/Desktop/ifile/nn/ResNet-PyTorch/ResNet/venvres/lib/python3.9/site-packages/sklearn/metrics/_classification.py:1531: UndefinedMetricWarning: Recall is ill-defined and being set to 0.0 in labels with no true samples. Use `zero_division` parameter to control this behavior.\n",
      "  _warn_prf(average, modifier, f\"{metric.capitalize()} is\", len(result))\n"
     ]
    },
    {
     "name": "stdout",
     "output_type": "stream",
     "text": [
      "Epoch [122/125], Loss: 0.5997, Training Accuracy: 85.26%, Precision: 0.853, Recall: 0.853, F1 Score: 0.851\n",
      "Validation Loss: 379.0685, Validation Accuracy: 39.47%, Precision: 0.363, Recall: 0.395, F1 Score: 0.351\n",
      "Epoch [122/125] completed in 12.11 seconds\n"
     ]
    },
    {
     "name": "stderr",
     "output_type": "stream",
     "text": [
      "/home/michael/Desktop/ifile/nn/ResNet-PyTorch/ResNet/venvres/lib/python3.9/site-packages/sklearn/metrics/_classification.py:1531: UndefinedMetricWarning: Precision is ill-defined and being set to 0.0 in labels with no predicted samples. Use `zero_division` parameter to control this behavior.\n",
      "  _warn_prf(average, modifier, f\"{metric.capitalize()} is\", len(result))\n",
      "/home/michael/Desktop/ifile/nn/ResNet-PyTorch/ResNet/venvres/lib/python3.9/site-packages/sklearn/metrics/_classification.py:1531: UndefinedMetricWarning: Recall is ill-defined and being set to 0.0 in labels with no true samples. Use `zero_division` parameter to control this behavior.\n",
      "  _warn_prf(average, modifier, f\"{metric.capitalize()} is\", len(result))\n"
     ]
    },
    {
     "name": "stdout",
     "output_type": "stream",
     "text": [
      "Epoch [123/125], Loss: 0.4962, Training Accuracy: 86.38%, Precision: 0.870, Recall: 0.864, F1 Score: 0.863\n",
      "Validation Loss: 2.1981, Validation Accuracy: 42.11%, Precision: 0.396, Recall: 0.421, F1 Score: 0.378\n",
      "Epoch [123/125] completed in 12.13 seconds\n"
     ]
    },
    {
     "name": "stderr",
     "output_type": "stream",
     "text": [
      "/home/michael/Desktop/ifile/nn/ResNet-PyTorch/ResNet/venvres/lib/python3.9/site-packages/sklearn/metrics/_classification.py:1531: UndefinedMetricWarning: Precision is ill-defined and being set to 0.0 in labels with no predicted samples. Use `zero_division` parameter to control this behavior.\n",
      "  _warn_prf(average, modifier, f\"{metric.capitalize()} is\", len(result))\n"
     ]
    },
    {
     "name": "stdout",
     "output_type": "stream",
     "text": [
      "Epoch [124/125], Loss: 0.5191, Training Accuracy: 86.57%, Precision: 0.872, Recall: 0.866, F1 Score: 0.866\n",
      "Validation Loss: 4.0689, Validation Accuracy: 42.11%, Precision: 0.431, Recall: 0.421, F1 Score: 0.389\n",
      "Epoch [124/125] completed in 12.22 seconds\n"
     ]
    },
    {
     "name": "stderr",
     "output_type": "stream",
     "text": [
      "/home/michael/Desktop/ifile/nn/ResNet-PyTorch/ResNet/venvres/lib/python3.9/site-packages/sklearn/metrics/_classification.py:1531: UndefinedMetricWarning: Precision is ill-defined and being set to 0.0 in labels with no predicted samples. Use `zero_division` parameter to control this behavior.\n",
      "  _warn_prf(average, modifier, f\"{metric.capitalize()} is\", len(result))\n",
      "/home/michael/Desktop/ifile/nn/ResNet-PyTorch/ResNet/venvres/lib/python3.9/site-packages/sklearn/metrics/_classification.py:1531: UndefinedMetricWarning: Recall is ill-defined and being set to 0.0 in labels with no true samples. Use `zero_division` parameter to control this behavior.\n",
      "  _warn_prf(average, modifier, f\"{metric.capitalize()} is\", len(result))\n"
     ]
    },
    {
     "name": "stdout",
     "output_type": "stream",
     "text": [
      "Epoch [125/125], Loss: 0.5653, Training Accuracy: 86.19%, Precision: 0.870, Recall: 0.862, F1 Score: 0.862\n",
      "Validation Loss: 2562.7831, Validation Accuracy: 36.84%, Precision: 0.330, Recall: 0.368, F1 Score: 0.328\n",
      "Epoch [125/125] completed in 12.04 seconds\n",
      "Training complete.\n"
     ]
    },
    {
     "name": "stderr",
     "output_type": "stream",
     "text": [
      "/home/michael/Desktop/ifile/nn/ResNet-PyTorch/ResNet/venvres/lib/python3.9/site-packages/sklearn/metrics/_classification.py:1531: UndefinedMetricWarning: Precision is ill-defined and being set to 0.0 in labels with no predicted samples. Use `zero_division` parameter to control this behavior.\n",
      "  _warn_prf(average, modifier, f\"{metric.capitalize()} is\", len(result))\n",
      "/home/michael/Desktop/ifile/nn/ResNet-PyTorch/ResNet/venvres/lib/python3.9/site-packages/sklearn/metrics/_classification.py:1531: UndefinedMetricWarning: Recall is ill-defined and being set to 0.0 in labels with no true samples. Use `zero_division` parameter to control this behavior.\n",
      "  _warn_prf(average, modifier, f\"{metric.capitalize()} is\", len(result))\n"
     ]
    }
   ],
   "source": [
    "import time\n",
    "from sklearn.metrics import precision_recall_fscore_support\n",
    "\n",
    "# Initialize lists to store losses, accuracy, and learning rate change epochs\n",
    "train_losses = []\n",
    "val_losses = []\n",
    "train_accuracies = []\n",
    "val_accuracies = []\n",
    "train_precisions = []\n",
    "train_recalls = []\n",
    "train_f1_scores = []\n",
    "val_precisions = []\n",
    "val_recalls = []\n",
    "val_f1_scores = []\n",
    "lr_change_epochs = []\n",
    "\n",
    "# Training and validation loop\n",
    "num_epochs = 125  # Set the number of epochs\n",
    "for epoch in range(num_epochs):\n",
    "    epoch_start_time = time.time()  # Start timing the epoch\n",
    "\n",
    "    model.train()  # Set the model to training mode\n",
    "    running_loss = 0.0\n",
    "    correct_train = 0\n",
    "    total_train = 0\n",
    "    all_train_labels = []\n",
    "    all_train_preds = []\n",
    "\n",
    "    for batch_idx, (cubes, labels) in enumerate(train_loader):\n",
    "        cubes, labels = cubes.to(device), labels.to(device)  # Move data to GPU\n",
    "        optimizer.zero_grad()  # Zero the parameter gradients\n",
    "\n",
    "        # Forward pass\n",
    "        outputs = model(cubes)\n",
    "        loss = criterion(outputs.logits, labels)\n",
    "\n",
    "        # Backward pass and optimization\n",
    "        loss.backward()\n",
    "        optimizer.step()\n",
    "\n",
    "        running_loss += loss.item()\n",
    "\n",
    "        # Calculate training accuracy\n",
    "        _, predicted = torch.max(outputs.logits, 1)\n",
    "        total_train += labels.size(0)\n",
    "        correct_train += (predicted == labels).sum().item()\n",
    "\n",
    "        # Store labels and predictions for precision, recall, f1\n",
    "        all_train_labels.extend(labels.cpu().numpy())\n",
    "        all_train_preds.extend(predicted.cpu().numpy())\n",
    "\n",
    "    avg_train_loss = running_loss / len(train_loader)\n",
    "    train_losses.append(avg_train_loss)\n",
    "    train_accuracy = 100 * correct_train / total_train\n",
    "    train_accuracies.append(train_accuracy)\n",
    "\n",
    "    # Calculate precision, recall, f1 score for training\n",
    "    train_precision, train_recall, train_f1, _ = precision_recall_fscore_support(all_train_labels, all_train_preds, average='weighted')\n",
    "    train_precisions.append(train_precision)\n",
    "    train_recalls.append(train_recall)\n",
    "    train_f1_scores.append(train_f1)\n",
    "    \n",
    "    print(f\"Epoch [{epoch+1}/{num_epochs}], Loss: {avg_train_loss:.4f}, Training Accuracy: {train_accuracy:.2f}%, Precision: {train_precision:.3f}, Recall: {train_recall:.3f}, F1 Score: {train_f1:.3f}\")\n",
    "\n",
    "    # Validation loop\n",
    "    model.eval()  # Set the model to evaluation mode\n",
    "    val_loss = 0.0\n",
    "    correct_val = 0\n",
    "    total_val = 0\n",
    "    all_val_labels = []\n",
    "    all_val_preds = []\n",
    "\n",
    "    with torch.no_grad():\n",
    "        for cubes, labels in val_loader:\n",
    "            cubes, labels = cubes.to(device), labels.to(device)  # Move data to GPU\n",
    "            outputs = model(cubes)\n",
    "            loss = criterion(outputs.logits, labels)\n",
    "            val_loss += loss.item()\n",
    "\n",
    "            _, predicted = torch.max(outputs.logits, 1)\n",
    "            total_val += labels.size(0)\n",
    "            correct_val += (predicted == labels).sum().item()\n",
    "\n",
    "            # Store labels and predictions for precision, recall, f1\n",
    "            all_val_labels.extend(labels.cpu().numpy())\n",
    "            all_val_preds.extend(predicted.cpu().numpy())\n",
    "\n",
    "    avg_val_loss = val_loss / len(val_loader)\n",
    "    val_losses.append(avg_val_loss)\n",
    "    val_accuracy = 100 * correct_val / total_val\n",
    "    val_accuracies.append(val_accuracy)\n",
    "\n",
    "    # Calculate precision, recall, f1 score for validation\n",
    "    val_precision, val_recall, val_f1, _ = precision_recall_fscore_support(all_val_labels, all_val_preds, average='weighted')\n",
    "    val_precisions.append(val_precision)\n",
    "    val_recalls.append(val_recall)\n",
    "    val_f1_scores.append(val_f1)\n",
    "\n",
    "    print(f\"Validation Loss: {avg_val_loss:.4f}, Validation Accuracy: {val_accuracy:.2f}%, Precision: {val_precision:.3f}, Recall: {val_recall:.3f}, F1 Score: {val_f1:.3f}\")\n",
    "\n",
    "    current_lr = optimizer.param_groups[0]['lr']\n",
    "    scheduler.step(avg_val_loss)\n",
    "    new_lr = optimizer.param_groups[0]['lr']\n",
    "    if new_lr < current_lr:\n",
    "        print(f\"Learning rate reduced from {current_lr} to {new_lr}\")\n",
    "        lr_change_epochs.append(epoch+1)  # Log the epoch where the learning rate changed\n",
    "\n",
    "    epoch_end_time = time.time()  # End timing the epoch\n",
    "    epoch_duration = epoch_end_time - epoch_start_time\n",
    "    print(f\"Epoch [{epoch+1}/{num_epochs}] completed in {epoch_duration:.2f} seconds\")\n",
    "\n",
    "print(\"Training complete.\")\n"
   ]
  },
  {
   "cell_type": "code",
   "execution_count": 8,
   "id": "a940e7b1-0479-4aaa-ba22-9bcddc094ec5",
   "metadata": {},
   "outputs": [
    {
     "data": {
      "image/png": "[encoded data removed]",
      "text/plain": [
       "<Figure size 1000x500 with 1 Axes>"
      ]
     },
     "metadata": {},
     "output_type": "display_data"
    },
    {
     "data": {
      "image/png": "[encoded data removed]",
      "text/plain": [
       "<Figure size 1000x500 with 1 Axes>"
      ]
     },
     "metadata": {},
     "output_type": "display_data"
    }
   ],
   "source": [
    "# Plot the training and validation losses with learning rate change points\n",
    "plt.figure(figsize=(10, 5))\n",
    "plt.plot(train_losses, label='Training Loss')\n",
    "plt.plot(val_losses, label='Validation Loss')\n",
    "for lr_epoch in lr_change_epochs:\n",
    "    plt.axvline(x=lr_epoch, color='r', linestyle='--', label='LR Change' if lr_epoch == lr_change_epochs[0] else \"\")\n",
    "plt.xlabel('Epochs')\n",
    "plt.ylabel('Loss')\n",
    "plt.legend()\n",
    "plt.title('Training and Validation Losses with Learning Rate Changes')\n",
    "plt.grid(True)  # Add gridlines\n",
    "plt.show()\n",
    "\n",
    "# Plot the training and validation accuracy\n",
    "plt.figure(figsize=(10, 5))\n",
    "plt.plot(train_accuracies, label='Training Accuracy')\n",
    "plt.plot(val_accuracies, label='Validation Accuracy')\n",
    "for lr_epoch in lr_change_epochs:\n",
    "    plt.axvline(x=lr_epoch, color='r', linestyle='--', label='LR Change' if lr_epoch == lr_change_epochs[0] else \"\")\n",
    "plt.xlabel('Epochs')\n",
    "plt.ylabel('Accuracy')\n",
    "plt.legend()\n",
    "plt.title('Training and Validation Accuracy')\n",
    "plt.grid(True)  # Add gridlines\n",
    "plt.show()\n"
   ]
  },
  {
   "cell_type": "code",
   "execution_count": 9,
   "id": "bbbcfaec-3c92-48ec-8db6-db238994a7e9",
   "metadata": {},
   "outputs": [
    {
     "name": "stdout",
     "output_type": "stream",
     "text": [
      "Test Loss: 5482.5589, Test Accuracy: 38.96%\n"
     ]
    }
   ],
   "source": [
    "# Testing loop\n",
    "model.eval()  # Set the model to evaluation mode\n",
    "test_loss = 0.0\n",
    "correct = 0\n",
    "total = 0 \n",
    "with torch.no_grad():\n",
    "    for inputs, labels in test_loader:\n",
    "        inputs, labels = inputs.to(device), labels.to(device)  # Move data to GPU\n",
    "        outputs = model(inputs)\n",
    "        loss = criterion(outputs.logits, labels)\n",
    "        test_loss += loss.item()\n",
    "\n",
    "        _, predicted = torch.max(outputs.logits, 1)\n",
    "        total += labels.size(0)\n",
    "        correct += (predicted == labels).sum().item()\n",
    "\n",
    "accuracy = 100 * correct / total\n",
    "print(f\"Test Loss: {test_loss/len(test_loader):.4f}, Test Accuracy: {accuracy:.2f}%\")\n"
   ]
  },
  {
   "cell_type": "code",
   "execution_count": 10,
   "id": "2713b96c-07e1-4684-8be7-32d7237d330e",
   "metadata": {},
   "outputs": [
    {
     "data": {
      "text/plain": [
       "<Figure size 1000x1000 with 0 Axes>"
      ]
     },
     "metadata": {},
     "output_type": "display_data"
    },
    {
     "data": {
      "image/png": "[encoded data removed]",
      "text/plain": [
       "<Figure size 640x480 with 2 Axes>"
      ]
     },
     "metadata": {},
     "output_type": "display_data"
    }
   ],
   "source": [
    "import torch\n",
    "import numpy as np\n",
    "import matplotlib.pyplot as plt\n",
    "import seaborn as sns\n",
    "from sklearn.metrics import confusion_matrix, ConfusionMatrixDisplay\n",
    "\n",
    "# Function to test an individual sample and collect predictions and true labels\n",
    "def test_individual_test_sample(sample_idx, true_labels, predicted_labels):\n",
    "    # Load a specific sample from the test dataset\n",
    "    cube, label = test_dataset[sample_idx]\n",
    "    \n",
    "    # Move the sample to GPU if using CUDA\n",
    "    cube = cube.to(device).unsqueeze(0)  # Add batch dimension\n",
    "    label = label.to(device)\n",
    "    \n",
    "    # Set the model to evaluation mode\n",
    "    model.eval()\n",
    "    \n",
    "    # Disable gradient computation for inference\n",
    "    with torch.no_grad():\n",
    "        output = model(cube)\n",
    "    \n",
    "    # Apply softmax to get probabilities\n",
    "    probabilities = torch.nn.functional.softmax(output.logits, dim=1)\n",
    "    \n",
    "    # Get the predicted class\n",
    "    predicted_class = torch.argmax(probabilities, dim=1)\n",
    "    \n",
    "    # Append the true and predicted labels to their respective lists\n",
    "    true_labels.append(label.item())\n",
    "    predicted_labels.append(predicted_class.item())\n",
    "\n",
    "# Lists to store true and predicted labels\n",
    "true_labels = []\n",
    "predicted_labels = []\n",
    "\n",
    "# Test individual samples and collect labels\n",
    "for i in range(len(test_dataset)):\n",
    "    test_individual_test_sample(i, true_labels, predicted_labels)\n",
    "\n",
    "# Convert lists to numpy arrays for compatibility with sklearn\n",
    "true_labels = np.array(true_labels)\n",
    "predicted_labels = np.array(predicted_labels)\n",
    "\n",
    "# Generate the confusion matrix\n",
    "cm = confusion_matrix(true_labels, predicted_labels)\n",
    "disp = ConfusionMatrixDisplay(confusion_matrix=cm)\n",
    "\n",
    "# Plot the confusion matrix\n",
    "plt.figure(figsize=(10, 10))\n",
    "disp.plot(cmap=plt.cm.Blues)\n",
    "plt.title('Confusion Matrix')\n",
    "plt.show()\n"
   ]
  },
  {
   "cell_type": "code",
   "execution_count": 11,
   "id": "8c9776e3-04f4-4284-92a5-1a3c21285ab6",
   "metadata": {},
   "outputs": [],
   "source": [
    "torch.save(model.state_dict(), 'resnet.pth')"
   ]
  },
  {
   "cell_type": "code",
   "execution_count": 12,
   "id": "f680598d-3493-465e-a178-c6671d8789f9",
   "metadata": {},
   "outputs": [
    {
     "name": "stdout",
     "output_type": "stream",
     "text": [
      "efficientnet.embeddings.convolution.weight\n",
      "efficientnet.embeddings.batchnorm.weight\n",
      "efficientnet.embeddings.batchnorm.bias\n",
      "efficientnet.encoder.blocks.0.depthwise_conv.depthwise_conv.weight\n",
      "efficientnet.encoder.blocks.0.depthwise_conv.depthwise_norm.weight\n",
      "efficientnet.encoder.blocks.0.depthwise_conv.depthwise_norm.bias\n",
      "efficientnet.encoder.blocks.0.squeeze_excite.reduce.weight\n",
      "efficientnet.encoder.blocks.0.squeeze_excite.reduce.bias\n",
      "efficientnet.encoder.blocks.0.squeeze_excite.expand.weight\n",
      "efficientnet.encoder.blocks.0.squeeze_excite.expand.bias\n",
      "efficientnet.encoder.blocks.0.projection.project_conv.weight\n",
      "efficientnet.encoder.blocks.0.projection.project_bn.weight\n",
      "efficientnet.encoder.blocks.0.projection.project_bn.bias\n",
      "efficientnet.encoder.blocks.1.depthwise_conv.depthwise_conv.weight\n",
      "efficientnet.encoder.blocks.1.depthwise_conv.depthwise_norm.weight\n",
      "efficientnet.encoder.blocks.1.depthwise_conv.depthwise_norm.bias\n",
      "efficientnet.encoder.blocks.1.squeeze_excite.reduce.weight\n",
      "efficientnet.encoder.blocks.1.squeeze_excite.reduce.bias\n",
      "efficientnet.encoder.blocks.1.squeeze_excite.expand.weight\n",
      "efficientnet.encoder.blocks.1.squeeze_excite.expand.bias\n",
      "efficientnet.encoder.blocks.1.projection.project_conv.weight\n",
      "efficientnet.encoder.blocks.1.projection.project_bn.weight\n",
      "efficientnet.encoder.blocks.1.projection.project_bn.bias\n",
      "efficientnet.encoder.blocks.2.expansion.expand_conv.weight\n",
      "efficientnet.encoder.blocks.2.expansion.expand_bn.weight\n",
      "efficientnet.encoder.blocks.2.expansion.expand_bn.bias\n",
      "efficientnet.encoder.blocks.2.depthwise_conv.depthwise_conv.weight\n",
      "efficientnet.encoder.blocks.2.depthwise_conv.depthwise_norm.weight\n",
      "efficientnet.encoder.blocks.2.depthwise_conv.depthwise_norm.bias\n",
      "efficientnet.encoder.blocks.2.squeeze_excite.reduce.weight\n",
      "efficientnet.encoder.blocks.2.squeeze_excite.reduce.bias\n",
      "efficientnet.encoder.blocks.2.squeeze_excite.expand.weight\n",
      "efficientnet.encoder.blocks.2.squeeze_excite.expand.bias\n",
      "efficientnet.encoder.blocks.2.projection.project_conv.weight\n",
      "efficientnet.encoder.blocks.2.projection.project_bn.weight\n",
      "efficientnet.encoder.blocks.2.projection.project_bn.bias\n",
      "efficientnet.encoder.blocks.3.expansion.expand_conv.weight\n",
      "efficientnet.encoder.blocks.3.expansion.expand_bn.weight\n",
      "efficientnet.encoder.blocks.3.expansion.expand_bn.bias\n",
      "efficientnet.encoder.blocks.3.depthwise_conv.depthwise_conv.weight\n",
      "efficientnet.encoder.blocks.3.depthwise_conv.depthwise_norm.weight\n",
      "efficientnet.encoder.blocks.3.depthwise_conv.depthwise_norm.bias\n",
      "efficientnet.encoder.blocks.3.squeeze_excite.reduce.weight\n",
      "efficientnet.encoder.blocks.3.squeeze_excite.reduce.bias\n",
      "efficientnet.encoder.blocks.3.squeeze_excite.expand.weight\n",
      "efficientnet.encoder.blocks.3.squeeze_excite.expand.bias\n",
      "efficientnet.encoder.blocks.3.projection.project_conv.weight\n",
      "efficientnet.encoder.blocks.3.projection.project_bn.weight\n",
      "efficientnet.encoder.blocks.3.projection.project_bn.bias\n",
      "efficientnet.encoder.blocks.4.expansion.expand_conv.weight\n",
      "efficientnet.encoder.blocks.4.expansion.expand_bn.weight\n",
      "efficientnet.encoder.blocks.4.expansion.expand_bn.bias\n",
      "efficientnet.encoder.blocks.4.depthwise_conv.depthwise_conv.weight\n",
      "efficientnet.encoder.blocks.4.depthwise_conv.depthwise_norm.weight\n",
      "efficientnet.encoder.blocks.4.depthwise_conv.depthwise_norm.bias\n",
      "efficientnet.encoder.blocks.4.squeeze_excite.reduce.weight\n",
      "efficientnet.encoder.blocks.4.squeeze_excite.reduce.bias\n",
      "efficientnet.encoder.blocks.4.squeeze_excite.expand.weight\n",
      "efficientnet.encoder.blocks.4.squeeze_excite.expand.bias\n",
      "efficientnet.encoder.blocks.4.projection.project_conv.weight\n",
      "efficientnet.encoder.blocks.4.projection.project_bn.weight\n",
      "efficientnet.encoder.blocks.4.projection.project_bn.bias\n",
      "efficientnet.encoder.blocks.5.expansion.expand_conv.weight\n",
      "efficientnet.encoder.blocks.5.expansion.expand_bn.weight\n",
      "efficientnet.encoder.blocks.5.expansion.expand_bn.bias\n",
      "efficientnet.encoder.blocks.5.depthwise_conv.depthwise_conv.weight\n",
      "efficientnet.encoder.blocks.5.depthwise_conv.depthwise_norm.weight\n",
      "efficientnet.encoder.blocks.5.depthwise_conv.depthwise_norm.bias\n",
      "efficientnet.encoder.blocks.5.squeeze_excite.reduce.weight\n",
      "efficientnet.encoder.blocks.5.squeeze_excite.reduce.bias\n",
      "efficientnet.encoder.blocks.5.squeeze_excite.expand.weight\n",
      "efficientnet.encoder.blocks.5.squeeze_excite.expand.bias\n",
      "efficientnet.encoder.blocks.5.projection.project_conv.weight\n",
      "efficientnet.encoder.blocks.5.projection.project_bn.weight\n",
      "efficientnet.encoder.blocks.5.projection.project_bn.bias\n",
      "efficientnet.encoder.blocks.6.expansion.expand_conv.weight\n",
      "efficientnet.encoder.blocks.6.expansion.expand_bn.weight\n",
      "efficientnet.encoder.blocks.6.expansion.expand_bn.bias\n",
      "efficientnet.encoder.blocks.6.depthwise_conv.depthwise_conv.weight\n",
      "efficientnet.encoder.blocks.6.depthwise_conv.depthwise_norm.weight\n",
      "efficientnet.encoder.blocks.6.depthwise_conv.depthwise_norm.bias\n",
      "efficientnet.encoder.blocks.6.squeeze_excite.reduce.weight\n",
      "efficientnet.encoder.blocks.6.squeeze_excite.reduce.bias\n",
      "efficientnet.encoder.blocks.6.squeeze_excite.expand.weight\n",
      "efficientnet.encoder.blocks.6.squeeze_excite.expand.bias\n",
      "efficientnet.encoder.blocks.6.projection.project_conv.weight\n",
      "efficientnet.encoder.blocks.6.projection.project_bn.weight\n",
      "efficientnet.encoder.blocks.6.projection.project_bn.bias\n",
      "efficientnet.encoder.blocks.7.expansion.expand_conv.weight\n",
      "efficientnet.encoder.blocks.7.expansion.expand_bn.weight\n",
      "efficientnet.encoder.blocks.7.expansion.expand_bn.bias\n",
      "efficientnet.encoder.blocks.7.depthwise_conv.depthwise_conv.weight\n",
      "efficientnet.encoder.blocks.7.depthwise_conv.depthwise_norm.weight\n",
      "efficientnet.encoder.blocks.7.depthwise_conv.depthwise_norm.bias\n",
      "efficientnet.encoder.blocks.7.squeeze_excite.reduce.weight\n",
      "efficientnet.encoder.blocks.7.squeeze_excite.reduce.bias\n",
      "efficientnet.encoder.blocks.7.squeeze_excite.expand.weight\n",
      "efficientnet.encoder.blocks.7.squeeze_excite.expand.bias\n",
      "efficientnet.encoder.blocks.7.projection.project_conv.weight\n",
      "efficientnet.encoder.blocks.7.projection.project_bn.weight\n",
      "efficientnet.encoder.blocks.7.projection.project_bn.bias\n",
      "efficientnet.encoder.blocks.8.expansion.expand_conv.weight\n",
      "efficientnet.encoder.blocks.8.expansion.expand_bn.weight\n",
      "efficientnet.encoder.blocks.8.expansion.expand_bn.bias\n",
      "efficientnet.encoder.blocks.8.depthwise_conv.depthwise_conv.weight\n",
      "efficientnet.encoder.blocks.8.depthwise_conv.depthwise_norm.weight\n",
      "efficientnet.encoder.blocks.8.depthwise_conv.depthwise_norm.bias\n",
      "efficientnet.encoder.blocks.8.squeeze_excite.reduce.weight\n",
      "efficientnet.encoder.blocks.8.squeeze_excite.reduce.bias\n",
      "efficientnet.encoder.blocks.8.squeeze_excite.expand.weight\n",
      "efficientnet.encoder.blocks.8.squeeze_excite.expand.bias\n",
      "efficientnet.encoder.blocks.8.projection.project_conv.weight\n",
      "efficientnet.encoder.blocks.8.projection.project_bn.weight\n",
      "efficientnet.encoder.blocks.8.projection.project_bn.bias\n",
      "efficientnet.encoder.blocks.9.expansion.expand_conv.weight\n",
      "efficientnet.encoder.blocks.9.expansion.expand_bn.weight\n",
      "efficientnet.encoder.blocks.9.expansion.expand_bn.bias\n",
      "efficientnet.encoder.blocks.9.depthwise_conv.depthwise_conv.weight\n",
      "efficientnet.encoder.blocks.9.depthwise_conv.depthwise_norm.weight\n",
      "efficientnet.encoder.blocks.9.depthwise_conv.depthwise_norm.bias\n",
      "efficientnet.encoder.blocks.9.squeeze_excite.reduce.weight\n",
      "efficientnet.encoder.blocks.9.squeeze_excite.reduce.bias\n",
      "efficientnet.encoder.blocks.9.squeeze_excite.expand.weight\n",
      "efficientnet.encoder.blocks.9.squeeze_excite.expand.bias\n",
      "efficientnet.encoder.blocks.9.projection.project_conv.weight\n",
      "efficientnet.encoder.blocks.9.projection.project_bn.weight\n",
      "efficientnet.encoder.blocks.9.projection.project_bn.bias\n",
      "efficientnet.encoder.blocks.10.expansion.expand_conv.weight\n",
      "efficientnet.encoder.blocks.10.expansion.expand_bn.weight\n",
      "efficientnet.encoder.blocks.10.expansion.expand_bn.bias\n",
      "efficientnet.encoder.blocks.10.depthwise_conv.depthwise_conv.weight\n",
      "efficientnet.encoder.blocks.10.depthwise_conv.depthwise_norm.weight\n",
      "efficientnet.encoder.blocks.10.depthwise_conv.depthwise_norm.bias\n",
      "efficientnet.encoder.blocks.10.squeeze_excite.reduce.weight\n",
      "efficientnet.encoder.blocks.10.squeeze_excite.reduce.bias\n",
      "efficientnet.encoder.blocks.10.squeeze_excite.expand.weight\n",
      "efficientnet.encoder.blocks.10.squeeze_excite.expand.bias\n",
      "efficientnet.encoder.blocks.10.projection.project_conv.weight\n",
      "efficientnet.encoder.blocks.10.projection.project_bn.weight\n",
      "efficientnet.encoder.blocks.10.projection.project_bn.bias\n",
      "efficientnet.encoder.blocks.11.expansion.expand_conv.weight\n",
      "efficientnet.encoder.blocks.11.expansion.expand_bn.weight\n",
      "efficientnet.encoder.blocks.11.expansion.expand_bn.bias\n",
      "efficientnet.encoder.blocks.11.depthwise_conv.depthwise_conv.weight\n",
      "efficientnet.encoder.blocks.11.depthwise_conv.depthwise_norm.weight\n",
      "efficientnet.encoder.blocks.11.depthwise_conv.depthwise_norm.bias\n",
      "efficientnet.encoder.blocks.11.squeeze_excite.reduce.weight\n",
      "efficientnet.encoder.blocks.11.squeeze_excite.reduce.bias\n",
      "efficientnet.encoder.blocks.11.squeeze_excite.expand.weight\n",
      "efficientnet.encoder.blocks.11.squeeze_excite.expand.bias\n",
      "efficientnet.encoder.blocks.11.projection.project_conv.weight\n",
      "efficientnet.encoder.blocks.11.projection.project_bn.weight\n",
      "efficientnet.encoder.blocks.11.projection.project_bn.bias\n",
      "efficientnet.encoder.blocks.12.expansion.expand_conv.weight\n",
      "efficientnet.encoder.blocks.12.expansion.expand_bn.weight\n",
      "efficientnet.encoder.blocks.12.expansion.expand_bn.bias\n",
      "efficientnet.encoder.blocks.12.depthwise_conv.depthwise_conv.weight\n",
      "efficientnet.encoder.blocks.12.depthwise_conv.depthwise_norm.weight\n",
      "efficientnet.encoder.blocks.12.depthwise_conv.depthwise_norm.bias\n",
      "efficientnet.encoder.blocks.12.squeeze_excite.reduce.weight\n",
      "efficientnet.encoder.blocks.12.squeeze_excite.reduce.bias\n",
      "efficientnet.encoder.blocks.12.squeeze_excite.expand.weight\n",
      "efficientnet.encoder.blocks.12.squeeze_excite.expand.bias\n",
      "efficientnet.encoder.blocks.12.projection.project_conv.weight\n",
      "efficientnet.encoder.blocks.12.projection.project_bn.weight\n",
      "efficientnet.encoder.blocks.12.projection.project_bn.bias\n",
      "efficientnet.encoder.blocks.13.expansion.expand_conv.weight\n",
      "efficientnet.encoder.blocks.13.expansion.expand_bn.weight\n",
      "efficientnet.encoder.blocks.13.expansion.expand_bn.bias\n",
      "efficientnet.encoder.blocks.13.depthwise_conv.depthwise_conv.weight\n",
      "efficientnet.encoder.blocks.13.depthwise_conv.depthwise_norm.weight\n",
      "efficientnet.encoder.blocks.13.depthwise_conv.depthwise_norm.bias\n",
      "efficientnet.encoder.blocks.13.squeeze_excite.reduce.weight\n",
      "efficientnet.encoder.blocks.13.squeeze_excite.reduce.bias\n",
      "efficientnet.encoder.blocks.13.squeeze_excite.expand.weight\n",
      "efficientnet.encoder.blocks.13.squeeze_excite.expand.bias\n",
      "efficientnet.encoder.blocks.13.projection.project_conv.weight\n",
      "efficientnet.encoder.blocks.13.projection.project_bn.weight\n",
      "efficientnet.encoder.blocks.13.projection.project_bn.bias\n",
      "efficientnet.encoder.blocks.14.expansion.expand_conv.weight\n",
      "efficientnet.encoder.blocks.14.expansion.expand_bn.weight\n",
      "efficientnet.encoder.blocks.14.expansion.expand_bn.bias\n",
      "efficientnet.encoder.blocks.14.depthwise_conv.depthwise_conv.weight\n",
      "efficientnet.encoder.blocks.14.depthwise_conv.depthwise_norm.weight\n",
      "efficientnet.encoder.blocks.14.depthwise_conv.depthwise_norm.bias\n",
      "efficientnet.encoder.blocks.14.squeeze_excite.reduce.weight\n",
      "efficientnet.encoder.blocks.14.squeeze_excite.reduce.bias\n",
      "efficientnet.encoder.blocks.14.squeeze_excite.expand.weight\n",
      "efficientnet.encoder.blocks.14.squeeze_excite.expand.bias\n",
      "efficientnet.encoder.blocks.14.projection.project_conv.weight\n",
      "efficientnet.encoder.blocks.14.projection.project_bn.weight\n",
      "efficientnet.encoder.blocks.14.projection.project_bn.bias\n",
      "efficientnet.encoder.blocks.15.expansion.expand_conv.weight\n",
      "efficientnet.encoder.blocks.15.expansion.expand_bn.weight\n",
      "efficientnet.encoder.blocks.15.expansion.expand_bn.bias\n",
      "efficientnet.encoder.blocks.15.depthwise_conv.depthwise_conv.weight\n",
      "efficientnet.encoder.blocks.15.depthwise_conv.depthwise_norm.weight\n",
      "efficientnet.encoder.blocks.15.depthwise_conv.depthwise_norm.bias\n",
      "efficientnet.encoder.blocks.15.squeeze_excite.reduce.weight\n",
      "efficientnet.encoder.blocks.15.squeeze_excite.reduce.bias\n",
      "efficientnet.encoder.blocks.15.squeeze_excite.expand.weight\n",
      "efficientnet.encoder.blocks.15.squeeze_excite.expand.bias\n",
      "efficientnet.encoder.blocks.15.projection.project_conv.weight\n",
      "efficientnet.encoder.blocks.15.projection.project_bn.weight\n",
      "efficientnet.encoder.blocks.15.projection.project_bn.bias\n",
      "efficientnet.encoder.blocks.16.expansion.expand_conv.weight\n",
      "efficientnet.encoder.blocks.16.expansion.expand_bn.weight\n",
      "efficientnet.encoder.blocks.16.expansion.expand_bn.bias\n",
      "efficientnet.encoder.blocks.16.depthwise_conv.depthwise_conv.weight\n",
      "efficientnet.encoder.blocks.16.depthwise_conv.depthwise_norm.weight\n",
      "efficientnet.encoder.blocks.16.depthwise_conv.depthwise_norm.bias\n",
      "efficientnet.encoder.blocks.16.squeeze_excite.reduce.weight\n",
      "efficientnet.encoder.blocks.16.squeeze_excite.reduce.bias\n",
      "efficientnet.encoder.blocks.16.squeeze_excite.expand.weight\n",
      "efficientnet.encoder.blocks.16.squeeze_excite.expand.bias\n",
      "efficientnet.encoder.blocks.16.projection.project_conv.weight\n",
      "efficientnet.encoder.blocks.16.projection.project_bn.weight\n",
      "efficientnet.encoder.blocks.16.projection.project_bn.bias\n",
      "efficientnet.encoder.blocks.17.expansion.expand_conv.weight\n",
      "efficientnet.encoder.blocks.17.expansion.expand_bn.weight\n",
      "efficientnet.encoder.blocks.17.expansion.expand_bn.bias\n",
      "efficientnet.encoder.blocks.17.depthwise_conv.depthwise_conv.weight\n",
      "efficientnet.encoder.blocks.17.depthwise_conv.depthwise_norm.weight\n",
      "efficientnet.encoder.blocks.17.depthwise_conv.depthwise_norm.bias\n",
      "efficientnet.encoder.blocks.17.squeeze_excite.reduce.weight\n",
      "efficientnet.encoder.blocks.17.squeeze_excite.reduce.bias\n",
      "efficientnet.encoder.blocks.17.squeeze_excite.expand.weight\n",
      "efficientnet.encoder.blocks.17.squeeze_excite.expand.bias\n",
      "efficientnet.encoder.blocks.17.projection.project_conv.weight\n",
      "efficientnet.encoder.blocks.17.projection.project_bn.weight\n",
      "efficientnet.encoder.blocks.17.projection.project_bn.bias\n",
      "efficientnet.encoder.blocks.18.expansion.expand_conv.weight\n",
      "efficientnet.encoder.blocks.18.expansion.expand_bn.weight\n",
      "efficientnet.encoder.blocks.18.expansion.expand_bn.bias\n",
      "efficientnet.encoder.blocks.18.depthwise_conv.depthwise_conv.weight\n",
      "efficientnet.encoder.blocks.18.depthwise_conv.depthwise_norm.weight\n",
      "efficientnet.encoder.blocks.18.depthwise_conv.depthwise_norm.bias\n",
      "efficientnet.encoder.blocks.18.squeeze_excite.reduce.weight\n",
      "efficientnet.encoder.blocks.18.squeeze_excite.reduce.bias\n",
      "efficientnet.encoder.blocks.18.squeeze_excite.expand.weight\n",
      "efficientnet.encoder.blocks.18.squeeze_excite.expand.bias\n",
      "efficientnet.encoder.blocks.18.projection.project_conv.weight\n",
      "efficientnet.encoder.blocks.18.projection.project_bn.weight\n",
      "efficientnet.encoder.blocks.18.projection.project_bn.bias\n",
      "efficientnet.encoder.blocks.19.expansion.expand_conv.weight\n",
      "efficientnet.encoder.blocks.19.expansion.expand_bn.weight\n",
      "efficientnet.encoder.blocks.19.expansion.expand_bn.bias\n",
      "efficientnet.encoder.blocks.19.depthwise_conv.depthwise_conv.weight\n",
      "efficientnet.encoder.blocks.19.depthwise_conv.depthwise_norm.weight\n",
      "efficientnet.encoder.blocks.19.depthwise_conv.depthwise_norm.bias\n",
      "efficientnet.encoder.blocks.19.squeeze_excite.reduce.weight\n",
      "efficientnet.encoder.blocks.19.squeeze_excite.reduce.bias\n",
      "efficientnet.encoder.blocks.19.squeeze_excite.expand.weight\n",
      "efficientnet.encoder.blocks.19.squeeze_excite.expand.bias\n",
      "efficientnet.encoder.blocks.19.projection.project_conv.weight\n",
      "efficientnet.encoder.blocks.19.projection.project_bn.weight\n",
      "efficientnet.encoder.blocks.19.projection.project_bn.bias\n",
      "efficientnet.encoder.blocks.20.expansion.expand_conv.weight\n",
      "efficientnet.encoder.blocks.20.expansion.expand_bn.weight\n",
      "efficientnet.encoder.blocks.20.expansion.expand_bn.bias\n",
      "efficientnet.encoder.blocks.20.depthwise_conv.depthwise_conv.weight\n",
      "efficientnet.encoder.blocks.20.depthwise_conv.depthwise_norm.weight\n",
      "efficientnet.encoder.blocks.20.depthwise_conv.depthwise_norm.bias\n",
      "efficientnet.encoder.blocks.20.squeeze_excite.reduce.weight\n",
      "efficientnet.encoder.blocks.20.squeeze_excite.reduce.bias\n",
      "efficientnet.encoder.blocks.20.squeeze_excite.expand.weight\n",
      "efficientnet.encoder.blocks.20.squeeze_excite.expand.bias\n",
      "efficientnet.encoder.blocks.20.projection.project_conv.weight\n",
      "efficientnet.encoder.blocks.20.projection.project_bn.weight\n",
      "efficientnet.encoder.blocks.20.projection.project_bn.bias\n",
      "efficientnet.encoder.blocks.21.expansion.expand_conv.weight\n",
      "efficientnet.encoder.blocks.21.expansion.expand_bn.weight\n",
      "efficientnet.encoder.blocks.21.expansion.expand_bn.bias\n",
      "efficientnet.encoder.blocks.21.depthwise_conv.depthwise_conv.weight\n",
      "efficientnet.encoder.blocks.21.depthwise_conv.depthwise_norm.weight\n",
      "efficientnet.encoder.blocks.21.depthwise_conv.depthwise_norm.bias\n",
      "efficientnet.encoder.blocks.21.squeeze_excite.reduce.weight\n",
      "efficientnet.encoder.blocks.21.squeeze_excite.reduce.bias\n",
      "efficientnet.encoder.blocks.21.squeeze_excite.expand.weight\n",
      "efficientnet.encoder.blocks.21.squeeze_excite.expand.bias\n",
      "efficientnet.encoder.blocks.21.projection.project_conv.weight\n",
      "efficientnet.encoder.blocks.21.projection.project_bn.weight\n",
      "efficientnet.encoder.blocks.21.projection.project_bn.bias\n",
      "efficientnet.encoder.blocks.22.expansion.expand_conv.weight\n",
      "efficientnet.encoder.blocks.22.expansion.expand_bn.weight\n",
      "efficientnet.encoder.blocks.22.expansion.expand_bn.bias\n",
      "efficientnet.encoder.blocks.22.depthwise_conv.depthwise_conv.weight\n",
      "efficientnet.encoder.blocks.22.depthwise_conv.depthwise_norm.weight\n",
      "efficientnet.encoder.blocks.22.depthwise_conv.depthwise_norm.bias\n",
      "efficientnet.encoder.blocks.22.squeeze_excite.reduce.weight\n",
      "efficientnet.encoder.blocks.22.squeeze_excite.reduce.bias\n",
      "efficientnet.encoder.blocks.22.squeeze_excite.expand.weight\n",
      "efficientnet.encoder.blocks.22.squeeze_excite.expand.bias\n",
      "efficientnet.encoder.blocks.22.projection.project_conv.weight\n",
      "efficientnet.encoder.blocks.22.projection.project_bn.weight\n",
      "efficientnet.encoder.blocks.22.projection.project_bn.bias\n",
      "efficientnet.encoder.blocks.23.expansion.expand_conv.weight\n",
      "efficientnet.encoder.blocks.23.expansion.expand_bn.weight\n",
      "efficientnet.encoder.blocks.23.expansion.expand_bn.bias\n",
      "efficientnet.encoder.blocks.23.depthwise_conv.depthwise_conv.weight\n",
      "efficientnet.encoder.blocks.23.depthwise_conv.depthwise_norm.weight\n",
      "efficientnet.encoder.blocks.23.depthwise_conv.depthwise_norm.bias\n",
      "efficientnet.encoder.blocks.23.squeeze_excite.reduce.weight\n",
      "efficientnet.encoder.blocks.23.squeeze_excite.reduce.bias\n",
      "efficientnet.encoder.blocks.23.squeeze_excite.expand.weight\n",
      "efficientnet.encoder.blocks.23.squeeze_excite.expand.bias\n",
      "efficientnet.encoder.blocks.23.projection.project_conv.weight\n",
      "efficientnet.encoder.blocks.23.projection.project_bn.weight\n",
      "efficientnet.encoder.blocks.23.projection.project_bn.bias\n",
      "efficientnet.encoder.blocks.24.expansion.expand_conv.weight\n",
      "efficientnet.encoder.blocks.24.expansion.expand_bn.weight\n",
      "efficientnet.encoder.blocks.24.expansion.expand_bn.bias\n",
      "efficientnet.encoder.blocks.24.depthwise_conv.depthwise_conv.weight\n",
      "efficientnet.encoder.blocks.24.depthwise_conv.depthwise_norm.weight\n",
      "efficientnet.encoder.blocks.24.depthwise_conv.depthwise_norm.bias\n",
      "efficientnet.encoder.blocks.24.squeeze_excite.reduce.weight\n",
      "efficientnet.encoder.blocks.24.squeeze_excite.reduce.bias\n",
      "efficientnet.encoder.blocks.24.squeeze_excite.expand.weight\n",
      "efficientnet.encoder.blocks.24.squeeze_excite.expand.bias\n",
      "efficientnet.encoder.blocks.24.projection.project_conv.weight\n",
      "efficientnet.encoder.blocks.24.projection.project_bn.weight\n",
      "efficientnet.encoder.blocks.24.projection.project_bn.bias\n",
      "efficientnet.encoder.blocks.25.expansion.expand_conv.weight\n",
      "efficientnet.encoder.blocks.25.expansion.expand_bn.weight\n",
      "efficientnet.encoder.blocks.25.expansion.expand_bn.bias\n",
      "efficientnet.encoder.blocks.25.depthwise_conv.depthwise_conv.weight\n",
      "efficientnet.encoder.blocks.25.depthwise_conv.depthwise_norm.weight\n",
      "efficientnet.encoder.blocks.25.depthwise_conv.depthwise_norm.bias\n",
      "efficientnet.encoder.blocks.25.squeeze_excite.reduce.weight\n",
      "efficientnet.encoder.blocks.25.squeeze_excite.reduce.bias\n",
      "efficientnet.encoder.blocks.25.squeeze_excite.expand.weight\n",
      "efficientnet.encoder.blocks.25.squeeze_excite.expand.bias\n",
      "efficientnet.encoder.blocks.25.projection.project_conv.weight\n",
      "efficientnet.encoder.blocks.25.projection.project_bn.weight\n",
      "efficientnet.encoder.blocks.25.projection.project_bn.bias\n",
      "efficientnet.encoder.top_conv.weight\n",
      "efficientnet.encoder.top_bn.weight\n",
      "efficientnet.encoder.top_bn.bias\n",
      "classifier.weight\n",
      "classifier.bias\n"
     ]
    }
   ],
   "source": [
    "for name, param in model.named_parameters():\n",
    "    print(name)"
   ]
  },
  {
   "cell_type": "code",
   "execution_count": 13,
   "id": "9aa40e29-9da0-4aae-8643-4ff7f62eebde",
   "metadata": {},
   "outputs": [
    {
     "ename": "SyntaxError",
     "evalue": "unexpected EOF while parsing (3191456373.py, line 1)",
     "output_type": "error",
     "traceback": [
      "\u001b[0;36m  Cell \u001b[0;32mIn[13], line 1\u001b[0;36m\u001b[0m\n\u001b[0;31m    models.save(\u001b[0m\n\u001b[0m                ^\u001b[0m\n\u001b[0;31mSyntaxError\u001b[0m\u001b[0;31m:\u001b[0m unexpected EOF while parsing\n"
     ]
    }
   ],
   "source": [
    "models.save("
   ]
  },
  {
   "cell_type": "code",
   "execution_count": null,
   "id": "97f4bd7c-c533-4da8-ae2e-01e0592b688d",
   "metadata": {},
   "outputs": [],
   "source": [
    "for a, b in enumerate(train_loader):\n",
    "    print(a,b)"
   ]
  },
  {
   "cell_type": "code",
   "execution_count": null,
   "id": "288302df-d519-4dd6-8a39-d5395562fd89",
   "metadata": {},
   "outputs": [],
   "source": []
  }
 ],
 "metadata": {
  "kernelspec": {
   "display_name": "Python (venvres)",
   "language": "python",
   "name": "venvres"
  },
  "language_info": {
   "codemirror_mode": {
    "name": "ipython",
    "version": 3
   },
   "file_extension": ".py",
   "mimetype": "text/x-python",
   "name": "python",
   "nbconvert_exporter": "python",
   "pygments_lexer": "ipython3",
   "version": "3.9.19"
  }
 },
 "nbformat": 4,
 "nbformat_minor": 5
}
