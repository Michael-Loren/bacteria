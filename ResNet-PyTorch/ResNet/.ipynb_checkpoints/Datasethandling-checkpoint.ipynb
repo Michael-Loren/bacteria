{
 "cells": [
  {
   "cell_type": "code",
   "execution_count": 1,
   "id": "f917bdb6-118b-4a25-ac24-b150ff6c72d7",
   "metadata": {},
   "outputs": [
    {
     "name": "stdout",
     "output_type": "stream",
     "text": [
      "Original x:  tensor([ 0.0264,  0.5288, -0.6616, -1.1962, -0.3415,  1.0172, -1.6936, -1.6100,\n",
      "         3.1121, -0.6741])\n",
      "Reconstructed x:  tensor([ 0.0264,  0.5288, -0.6616, -1.1962, -0.3415,  1.0172, -1.6936, -1.6100,\n",
      "         3.1121, -0.6741])\n",
      "Difference:  tensor(8.9222e-07)\n",
      "True\n",
      "NVIDIA GeForce RTX 4070\n",
      "Using device: cuda\n",
      "Using device: cuda\n",
      "Matrix multiplication result: tensor([[2523.6113, 2512.8098, 2508.2385,  ..., 2516.0176, 2482.3357,\n",
      "         2520.8799],\n",
      "        [2502.9575, 2466.8667, 2446.0559,  ..., 2481.6924, 2458.8328,\n",
      "         2465.9973],\n",
      "        [2525.6135, 2498.6667, 2482.4932,  ..., 2509.7905, 2476.9602,\n",
      "         2496.5425],\n",
      "        ...,\n",
      "        [2533.1719, 2518.7375, 2509.1130,  ..., 2516.5833, 2506.2292,\n",
      "         2521.4646],\n",
      "        [2523.8267, 2496.6145, 2483.5381,  ..., 2501.6763, 2499.2961,\n",
      "         2486.3782],\n",
      "        [2517.1863, 2496.2156, 2500.4258,  ..., 2508.9287, 2494.1543,\n",
      "         2519.6211]], device='cuda:0')\n",
      "Done.\n"
     ]
    }
   ],
   "source": [
    "import os\n",
    "import torch\n",
    "import scipy.io\n",
    "import torch.nn as nn  # Import nn module\n",
    "import torch.optim as optim  # Import optim module\n",
    "import torchvision.models as models\n",
    "from torch.utils.data import Dataset, DataLoader, random_split\n",
    "from torchvision import transforms\n",
    "import matplotlib.pyplot as plt\n",
    "from hyperspectral_dataset import HyperspectralDataset, CustomTransform\n",
    "from rgb_dataset import RGBDataset\n",
    "from torchvision.transforms import Resize, CenterCrop, Compose, Normalize, ToTensor\n",
    "from transformer import TransformerMod\n",
    "\n",
    "\n",
    "\n",
    "from ResNet import CustomResNet50  # Assuming ResNet50 is defined in ResNet.py\n",
    "import torch\n",
    "print(torch.cuda.is_available())  # Should return True\n",
    "print(torch.cuda.get_device_name(0))  # Should print the name of your GPU\n",
    "# Check for CUDA\n",
    "device = torch.device(\"cuda\" if torch.cuda.is_available() else \"cpu\")\n",
    "print(\"Using device:\", device)\n",
    "\n",
    "\n",
    "\n",
    "device = torch.device(\"cuda\" if torch.cuda.is_available() else \"cpu\")\n",
    "print(\"Using device:\", device)\n",
    "\n",
    "# Create a random tensor and move it to the GPU\n",
    "x = torch.rand(10000, 10000).to(device)\n",
    "y = torch.rand(10000, 10000).to(device)\n",
    "\n",
    "# Perform a matrix multiplication on the GPU\n",
    "z = torch.matmul(x, y)\n",
    "\n",
    "print(\"Matrix multiplication result:\", z)\n",
    "print(\"Done.\")\n",
    "\n"
   ]
  },
  {
   "cell_type": "code",
   "execution_count": 2,
   "id": "69c172e4-ee83-47e4-aba8-efca02e99daa",
   "metadata": {},
   "outputs": [],
   "source": [
    "# # Function to get all file paths from a dataset\n",
    "# def get_all_file_paths(dataset):\n",
    "#     file_paths = []\n",
    "#     # for idx in range(len(dataset)):\n",
    "#     file_paths.append(dataset.get_image_path(idx))\n",
    "#     return file_paths\n",
    "\n",
    "# # # Initialize the dataset with transformations\n",
    "# # dataset = RGBDataset(root_dir='../../../serverstuff/hsi/all')\n",
    "# # channel_means_cube, channel_stds_cube, channel_means_profile, channel_stds_profile = compute_statistics(dataset)\n",
    "\n",
    "# transform = transforms.Compose([\n",
    "#     transforms.Resize((224, 224)),\n",
    "#     transforms.ToTensor(),\n",
    "#     transforms.Normalize(mean=[0.5, 0.5, 0.5], std=[0.5, 0.5, 0.5]),\n",
    "# ])\n",
    "\n",
    "# # Apply the custom transforms to the datasets\n",
    "# train_dataset = RGBDataset(root_dir='../../../serverstuff/hsi/train', transform=transform)\n",
    "# val_dataset = RGBDataset(root_dir='../../../serverstuff/hsi/validation', transform=transform)\n",
    "# test_dataset = RGBDataset(root_dir='../../../serverstuff/hsi/test', transform=transform)\n",
    "\n",
    "# # Create DataLoaders for training, validation, and test sets\n",
    "# train_loader = DataLoader(train_dataset, batch_size=4, shuffle=True, num_workers=4)\n",
    "# val_loader = DataLoader(val_dataset, batch_size=4, shuffle=False, num_workers=4)\n",
    "# test_loader = DataLoader(test_dataset, batch_size=4, shuffle=False, num_workers=4)"
   ]
  },
  {
   "cell_type": "code",
   "execution_count": 3,
   "id": "2ccab103-2289-4111-bf41-0447ae956224",
   "metadata": {},
   "outputs": [
    {
     "name": "stdout",
     "output_type": "stream",
     "text": [
      "Label mapping: {'Acinetobacter_baumanii': 0, 'Lactobacillus_casei': 1, 'Lactobacillus_jehnsenii': 2, 'Lactobacillus_gasseri': 3, 'Lactobacillus_delbrueckii': 4, 'Lactobacillus_salivarius': 5, 'Propionibacterium_acnes': 6, 'Lactobacillus_paracasei': 7, 'Bifidobacterium_spp': 8, 'Lactobacillus_reuteri': 9, 'Staphylococcus_aureus': 10, 'Escherichia_coli': 11, 'Lactobacillus_rhamnosus': 12, 'Lactobacillus_plantarum': 13, 'Enterococcus_faecium': 14, 'Porfyromonas_gingivalis': 15, 'Enterococcus_faecalis': 16, 'Micrococcus_spp': 17, 'Fusobacterium': 18, 'Actinomyces_israeli': 19, 'Lactobacillus_crispatus': 20, 'Clostridium_perfringens': 21, 'Staphylococcus_epidermidis': 22, 'Listeria_monocytogenes': 23, 'Pseudomonas_aeruginosa': 24, 'Lactobacillus_johnsonii': 25, 'Streptococcus_agalactiae': 26, 'Staphylococcus_saprophiticus': 27, 'Bacteroides_fragilis': 28, 'Neisseria_gonorrhoeae': 29, 'Veionella': 30, 'Proteus': 31, 'Candida_albicans': 32}\n",
      "Label mapping: {'Acinetobacter_baumanii': 0, 'Lactobacillus_casei': 1, 'Lactobacillus_jehnsenii': 2, 'Lactobacillus_gasseri': 3, 'Lactobacillus_delbrueckii': 4, 'Lactobacillus_salivarius': 5, 'Propionibacterium_acnes': 6, 'Lactobacillus_paracasei': 7, 'Bifidobacterium_spp': 8, 'Lactobacillus_reuteri': 9, 'Staphylococcus_aureus': 10, 'Escherichia_coli': 11, 'Lactobacillus_rhamnosus': 12, 'Lactobacillus_plantarum': 13, 'Enterococcus_faecium': 14, 'Porfyromonas_gingivalis': 15, 'Enterococcus_faecalis': 16, 'Micrococcus_spp': 17, 'Fusobacterium': 18, 'Actinomyces_israeli': 19, 'Lactobacillus_crispatus': 20, 'Clostridium_perfringens': 21, 'Staphylococcus_epidermidis': 22, 'Listeria_monocytogenes': 23, 'Pseudomonas_aeruginosa': 24, 'Lactobacillus_johnsonii': 25, 'Streptococcus_agalactiae': 26, 'Staphylococcus_saprophiticus': 27, 'Bacteroides_fragilis': 28, 'Neisseria_gonorrhoeae': 29, 'Veionella': 30, 'Proteus': 31, 'Candida_albicans': 32}\n",
      "Label mapping: {'Acinetobacter_baumanii': 0, 'Lactobacillus_casei': 1, 'Lactobacillus_jehnsenii': 2, 'Lactobacillus_gasseri': 3, 'Lactobacillus_delbrueckii': 4, 'Lactobacillus_salivarius': 5, 'Propionibacterium_acnes': 6, 'Lactobacillus_paracasei': 7, 'Bifidobacterium_spp': 8, 'Lactobacillus_reuteri': 9, 'Staphylococcus_aureus': 10, 'Escherichia_coli': 11, 'Lactobacillus_rhamnosus': 12, 'Lactobacillus_plantarum': 13, 'Enterococcus_faecium': 14, 'Porfyromonas_gingivalis': 15, 'Enterococcus_faecalis': 16, 'Micrococcus_spp': 17, 'Fusobacterium': 18, 'Actinomyces_israeli': 19, 'Lactobacillus_crispatus': 20, 'Clostridium_perfringens': 21, 'Staphylococcus_epidermidis': 22, 'Listeria_monocytogenes': 23, 'Pseudomonas_aeruginosa': 24, 'Lactobacillus_johnsonii': 25, 'Streptococcus_agalactiae': 26, 'Staphylococcus_saprophiticus': 27, 'Bacteroides_fragilis': 28, 'Neisseria_gonorrhoeae': 29, 'Veionella': 30, 'Proteus': 31, 'Candida_albicans': 32}\n",
      "Label mapping: {'Acinetobacter_baumanii': 0, 'Lactobacillus_casei': 1, 'Lactobacillus_jehnsenii': 2, 'Lactobacillus_gasseri': 3, 'Lactobacillus_delbrueckii': 4, 'Lactobacillus_salivarius': 5, 'Propionibacterium_acnes': 6, 'Lactobacillus_paracasei': 7, 'Bifidobacterium_spp': 8, 'Lactobacillus_reuteri': 9, 'Staphylococcus_aureus': 10, 'Escherichia_coli': 11, 'Lactobacillus_rhamnosus': 12, 'Lactobacillus_plantarum': 13, 'Enterococcus_faecium': 14, 'Porfyromonas_gingivalis': 15, 'Enterococcus_faecalis': 16, 'Micrococcus_spp': 17, 'Fusobacterium': 18, 'Actinomyces_israeli': 19, 'Lactobacillus_crispatus': 20, 'Clostridium_perfringens': 21, 'Staphylococcus_epidermidis': 22, 'Listeria_monocytogenes': 23, 'Pseudomonas_aeruginosa': 24, 'Lactobacillus_johnsonii': 25, 'Streptococcus_agalactiae': 26, 'Staphylococcus_saprophiticus': 27, 'Bacteroides_fragilis': 28, 'Neisseria_gonorrhoeae': 29, 'Veionella': 30, 'Proteus': 31, 'Candida_albicans': 32}\n",
      "Cube shape: torch.Size([4, 31, 224, 224]), Profile shape: torch.Size([4, 1, 31]), Label: tensor([15,  7, 19, 31])\n"
     ]
    }
   ],
   "source": [
    "import torch\n",
    "from torch.utils.data import DataLoader\n",
    "\n",
    "# Function to get all file paths from a dataset\n",
    "def get_all_file_paths(dataset):\n",
    "    file_paths = []\n",
    "    for idx in range(len(dataset)):\n",
    "        file_paths.append(dataset.get_image_path(idx))\n",
    "    return file_paths\n",
    "\n",
    "# Initialize the dataset with transformations\n",
    "dataset = HyperspectralDataset(root_dir='../../dibasRP/all')\n",
    "\n",
    "# Define mean and std for cube and profile (replace these with actual values if available)\n",
    "channel_means_cube = [0.5] * 31\n",
    "channel_stds_cube = [0.5] * 31\n",
    "channel_means_profile = [0.5] * 31\n",
    "channel_stds_profile = [0.5] * 31\n",
    "\n",
    "# Define the custom transformation including normalization and resizing\n",
    "custom_transform = CustomTransform(\n",
    "    cube_mean=channel_means_cube, \n",
    "    cube_std=channel_stds_cube, \n",
    "    profile_mean=channel_means_profile, \n",
    "    profile_std=channel_stds_profile,\n",
    "    resize_shape=(224, 224)  # Resize cube to 224x224\n",
    ")\n",
    "\n",
    "# Apply the custom transforms to the datasets\n",
    "train_dataset = HyperspectralDataset(root_dir='../../dibasRP/train', transform=custom_transform)\n",
    "val_dataset = HyperspectralDataset(root_dir='../../dibasRP/val', transform=custom_transform)\n",
    "test_dataset = HyperspectralDataset(root_dir='../../dibasRP/test', transform=custom_transform)\n",
    "\n",
    "# Create DataLoaders for training, validation, and test sets\n",
    "train_loader = DataLoader(train_dataset, batch_size=4, shuffle=True, num_workers=4)\n",
    "val_loader = DataLoader(val_dataset, batch_size=4, shuffle=False, num_workers=4)\n",
    "test_loader = DataLoader(test_dataset, batch_size=4, shuffle=False, num_workers=4)\n",
    "\n",
    "# Example to verify the changes\n",
    "for sample, label in train_loader:\n",
    "    print(f\"Cube shape: {sample['cube'].shape}, Profile shape: {sample['profile'].shape}, Label: {label}\")\n",
    "    break"
   ]
  },
  {
   "cell_type": "code",
   "execution_count": 4,
   "id": "4795d9f6-ad04-426c-82c3-64aeab302962",
   "metadata": {},
   "outputs": [],
   "source": [
    "# # Get file paths for the main dataset and each split\n",
    "# main_dataset_paths = get_all_file_paths(dataset)\n",
    "# train_dataset_paths = get_all_file_paths(train_dataset)\n",
    "# val_dataset_paths = get_all_file_paths(val_dataset)\n",
    "# test_dataset_paths = get_all_file_paths(test_dataset)\n",
    "\n",
    "# # Check if the total length of the splits equals the length of the main dataset\n",
    "# total_split_length = len(train_dataset_paths) + len(val_dataset_paths) + len(test_dataset_paths)\n",
    "# if total_split_length != len(main_dataset_paths):\n",
    "#     print(f\"Error: Total length of splits ({total_split_length}) does not equal length of main dataset ({len(main_dataset_paths)})\")\n",
    "# else:\n",
    "#     print(\"Total length of splits matches the length of the main dataset.\")\n",
    "\n",
    "# # Check for overlaps between splits\n",
    "# def check_for_overlaps(paths1, paths2):\n",
    "#     overlaps = set(paths1) & set(paths2)\n",
    "#     return overlaps\n",
    "\n",
    "# train_val_overlaps = check_for_overlaps(train_dataset_paths, val_dataset_paths)\n",
    "# train_test_overlaps = check_for_overlaps(train_dataset_paths, test_dataset_paths)\n",
    "# val_test_overlaps = check_for_overlaps(val_dataset_paths, test_dataset_paths)\n",
    "\n",
    "# if train_val_overlaps:\n",
    "#     print(f\"Error: Overlaps found between train and validation datasets: {len(train_val_overlaps)} overlaps\")\n",
    "# else:\n",
    "#     print(\"No overlaps found between train and validation datasets.\")\n",
    "\n",
    "# if train_test_overlaps:\n",
    "#     print(f\"Error: Overlaps found between train and test datasets: {len(train_test_overlaps)} overlaps\")\n",
    "# else:\n",
    "#     print(\"No overlaps found between train and test datasets.\")\n",
    "\n",
    "# if val_test_overlaps:\n",
    "#     print(f\"Error: Overlaps found between validation and test datasets: {len(val_test_overlaps)} overlaps\")\n",
    "# else:\n",
    "#     print(\"No overlaps found between validation and test datasets.\")"
   ]
  },
  {
   "cell_type": "code",
   "execution_count": null,
   "id": "5e1ffc9f-5658-4b20-9b3d-97ac24c066dd",
   "metadata": {},
   "outputs": [],
   "source": []
  },
  {
   "cell_type": "code",
   "execution_count": 5,
   "id": "7848eefb-c25f-47f8-8344-d7f9c30ff2d8",
   "metadata": {},
   "outputs": [
    {
     "name": "stdout",
     "output_type": "stream",
     "text": [
      "customtransformer.vit.embeddings.cls_token: frozen\n",
      "customtransformer.vit.embeddings.position_embeddings: frozen\n",
      "customtransformer.vit.embeddings.patch_embeddings.projection.weight: frozen\n",
      "customtransformer.vit.embeddings.patch_embeddings.projection.bias: frozen\n",
      "customtransformer.vit.encoder.layer.0.attention.attention.query.weight: frozen\n",
      "customtransformer.vit.encoder.layer.0.attention.attention.query.bias: frozen\n",
      "customtransformer.vit.encoder.layer.0.attention.attention.key.weight: frozen\n",
      "customtransformer.vit.encoder.layer.0.attention.attention.key.bias: frozen\n",
      "customtransformer.vit.encoder.layer.0.attention.attention.value.weight: frozen\n",
      "customtransformer.vit.encoder.layer.0.attention.attention.value.bias: frozen\n",
      "customtransformer.vit.encoder.layer.0.attention.output.dense.weight: frozen\n",
      "customtransformer.vit.encoder.layer.0.attention.output.dense.bias: frozen\n",
      "customtransformer.vit.encoder.layer.0.intermediate.dense.weight: frozen\n",
      "customtransformer.vit.encoder.layer.0.intermediate.dense.bias: frozen\n",
      "customtransformer.vit.encoder.layer.0.output.dense.weight: frozen\n",
      "customtransformer.vit.encoder.layer.0.output.dense.bias: frozen\n",
      "customtransformer.vit.encoder.layer.0.layernorm_before.weight: frozen\n",
      "customtransformer.vit.encoder.layer.0.layernorm_before.bias: frozen\n",
      "customtransformer.vit.encoder.layer.0.layernorm_after.weight: frozen\n",
      "customtransformer.vit.encoder.layer.0.layernorm_after.bias: frozen\n",
      "customtransformer.vit.encoder.layer.1.attention.attention.query.weight: frozen\n",
      "customtransformer.vit.encoder.layer.1.attention.attention.query.bias: frozen\n",
      "customtransformer.vit.encoder.layer.1.attention.attention.key.weight: frozen\n",
      "customtransformer.vit.encoder.layer.1.attention.attention.key.bias: frozen\n",
      "customtransformer.vit.encoder.layer.1.attention.attention.value.weight: frozen\n",
      "customtransformer.vit.encoder.layer.1.attention.attention.value.bias: frozen\n",
      "customtransformer.vit.encoder.layer.1.attention.output.dense.weight: frozen\n",
      "customtransformer.vit.encoder.layer.1.attention.output.dense.bias: frozen\n",
      "customtransformer.vit.encoder.layer.1.intermediate.dense.weight: frozen\n",
      "customtransformer.vit.encoder.layer.1.intermediate.dense.bias: frozen\n",
      "customtransformer.vit.encoder.layer.1.output.dense.weight: frozen\n",
      "customtransformer.vit.encoder.layer.1.output.dense.bias: frozen\n",
      "customtransformer.vit.encoder.layer.1.layernorm_before.weight: frozen\n",
      "customtransformer.vit.encoder.layer.1.layernorm_before.bias: frozen\n",
      "customtransformer.vit.encoder.layer.1.layernorm_after.weight: frozen\n",
      "customtransformer.vit.encoder.layer.1.layernorm_after.bias: frozen\n",
      "customtransformer.vit.encoder.layer.2.attention.attention.query.weight: frozen\n",
      "customtransformer.vit.encoder.layer.2.attention.attention.query.bias: frozen\n",
      "customtransformer.vit.encoder.layer.2.attention.attention.key.weight: frozen\n",
      "customtransformer.vit.encoder.layer.2.attention.attention.key.bias: frozen\n",
      "customtransformer.vit.encoder.layer.2.attention.attention.value.weight: frozen\n",
      "customtransformer.vit.encoder.layer.2.attention.attention.value.bias: frozen\n",
      "customtransformer.vit.encoder.layer.2.attention.output.dense.weight: frozen\n",
      "customtransformer.vit.encoder.layer.2.attention.output.dense.bias: frozen\n",
      "customtransformer.vit.encoder.layer.2.intermediate.dense.weight: frozen\n",
      "customtransformer.vit.encoder.layer.2.intermediate.dense.bias: frozen\n",
      "customtransformer.vit.encoder.layer.2.output.dense.weight: frozen\n",
      "customtransformer.vit.encoder.layer.2.output.dense.bias: frozen\n",
      "customtransformer.vit.encoder.layer.2.layernorm_before.weight: frozen\n",
      "customtransformer.vit.encoder.layer.2.layernorm_before.bias: frozen\n",
      "customtransformer.vit.encoder.layer.2.layernorm_after.weight: frozen\n",
      "customtransformer.vit.encoder.layer.2.layernorm_after.bias: frozen\n",
      "customtransformer.vit.encoder.layer.3.attention.attention.query.weight: frozen\n",
      "customtransformer.vit.encoder.layer.3.attention.attention.query.bias: frozen\n",
      "customtransformer.vit.encoder.layer.3.attention.attention.key.weight: frozen\n",
      "customtransformer.vit.encoder.layer.3.attention.attention.key.bias: frozen\n",
      "customtransformer.vit.encoder.layer.3.attention.attention.value.weight: frozen\n",
      "customtransformer.vit.encoder.layer.3.attention.attention.value.bias: frozen\n",
      "customtransformer.vit.encoder.layer.3.attention.output.dense.weight: frozen\n",
      "customtransformer.vit.encoder.layer.3.attention.output.dense.bias: frozen\n",
      "customtransformer.vit.encoder.layer.3.intermediate.dense.weight: frozen\n",
      "customtransformer.vit.encoder.layer.3.intermediate.dense.bias: frozen\n",
      "customtransformer.vit.encoder.layer.3.output.dense.weight: frozen\n",
      "customtransformer.vit.encoder.layer.3.output.dense.bias: frozen\n",
      "customtransformer.vit.encoder.layer.3.layernorm_before.weight: frozen\n",
      "customtransformer.vit.encoder.layer.3.layernorm_before.bias: frozen\n",
      "customtransformer.vit.encoder.layer.3.layernorm_after.weight: frozen\n",
      "customtransformer.vit.encoder.layer.3.layernorm_after.bias: frozen\n",
      "customtransformer.vit.encoder.layer.4.attention.attention.query.weight: frozen\n",
      "customtransformer.vit.encoder.layer.4.attention.attention.query.bias: frozen\n",
      "customtransformer.vit.encoder.layer.4.attention.attention.key.weight: frozen\n",
      "customtransformer.vit.encoder.layer.4.attention.attention.key.bias: frozen\n",
      "customtransformer.vit.encoder.layer.4.attention.attention.value.weight: frozen\n",
      "customtransformer.vit.encoder.layer.4.attention.attention.value.bias: frozen\n",
      "customtransformer.vit.encoder.layer.4.attention.output.dense.weight: frozen\n",
      "customtransformer.vit.encoder.layer.4.attention.output.dense.bias: frozen\n",
      "customtransformer.vit.encoder.layer.4.intermediate.dense.weight: frozen\n",
      "customtransformer.vit.encoder.layer.4.intermediate.dense.bias: frozen\n",
      "customtransformer.vit.encoder.layer.4.output.dense.weight: frozen\n",
      "customtransformer.vit.encoder.layer.4.output.dense.bias: frozen\n",
      "customtransformer.vit.encoder.layer.4.layernorm_before.weight: frozen\n",
      "customtransformer.vit.encoder.layer.4.layernorm_before.bias: frozen\n",
      "customtransformer.vit.encoder.layer.4.layernorm_after.weight: frozen\n",
      "customtransformer.vit.encoder.layer.4.layernorm_after.bias: frozen\n",
      "customtransformer.vit.encoder.layer.5.attention.attention.query.weight: frozen\n",
      "customtransformer.vit.encoder.layer.5.attention.attention.query.bias: frozen\n",
      "customtransformer.vit.encoder.layer.5.attention.attention.key.weight: frozen\n",
      "customtransformer.vit.encoder.layer.5.attention.attention.key.bias: frozen\n",
      "customtransformer.vit.encoder.layer.5.attention.attention.value.weight: frozen\n",
      "customtransformer.vit.encoder.layer.5.attention.attention.value.bias: frozen\n",
      "customtransformer.vit.encoder.layer.5.attention.output.dense.weight: frozen\n",
      "customtransformer.vit.encoder.layer.5.attention.output.dense.bias: frozen\n",
      "customtransformer.vit.encoder.layer.5.intermediate.dense.weight: frozen\n",
      "customtransformer.vit.encoder.layer.5.intermediate.dense.bias: frozen\n",
      "customtransformer.vit.encoder.layer.5.output.dense.weight: frozen\n",
      "customtransformer.vit.encoder.layer.5.output.dense.bias: frozen\n",
      "customtransformer.vit.encoder.layer.5.layernorm_before.weight: frozen\n",
      "customtransformer.vit.encoder.layer.5.layernorm_before.bias: frozen\n",
      "customtransformer.vit.encoder.layer.5.layernorm_after.weight: frozen\n",
      "customtransformer.vit.encoder.layer.5.layernorm_after.bias: frozen\n",
      "customtransformer.vit.encoder.layer.6.attention.attention.query.weight: frozen\n",
      "customtransformer.vit.encoder.layer.6.attention.attention.query.bias: frozen\n",
      "customtransformer.vit.encoder.layer.6.attention.attention.key.weight: frozen\n",
      "customtransformer.vit.encoder.layer.6.attention.attention.key.bias: frozen\n",
      "customtransformer.vit.encoder.layer.6.attention.attention.value.weight: frozen\n",
      "customtransformer.vit.encoder.layer.6.attention.attention.value.bias: frozen\n",
      "customtransformer.vit.encoder.layer.6.attention.output.dense.weight: frozen\n",
      "customtransformer.vit.encoder.layer.6.attention.output.dense.bias: frozen\n",
      "customtransformer.vit.encoder.layer.6.intermediate.dense.weight: frozen\n",
      "customtransformer.vit.encoder.layer.6.intermediate.dense.bias: frozen\n",
      "customtransformer.vit.encoder.layer.6.output.dense.weight: frozen\n",
      "customtransformer.vit.encoder.layer.6.output.dense.bias: frozen\n",
      "customtransformer.vit.encoder.layer.6.layernorm_before.weight: frozen\n",
      "customtransformer.vit.encoder.layer.6.layernorm_before.bias: frozen\n",
      "customtransformer.vit.encoder.layer.6.layernorm_after.weight: frozen\n",
      "customtransformer.vit.encoder.layer.6.layernorm_after.bias: frozen\n",
      "customtransformer.vit.encoder.layer.7.attention.attention.query.weight: frozen\n",
      "customtransformer.vit.encoder.layer.7.attention.attention.query.bias: frozen\n",
      "customtransformer.vit.encoder.layer.7.attention.attention.key.weight: frozen\n",
      "customtransformer.vit.encoder.layer.7.attention.attention.key.bias: frozen\n",
      "customtransformer.vit.encoder.layer.7.attention.attention.value.weight: frozen\n",
      "customtransformer.vit.encoder.layer.7.attention.attention.value.bias: frozen\n",
      "customtransformer.vit.encoder.layer.7.attention.output.dense.weight: frozen\n",
      "customtransformer.vit.encoder.layer.7.attention.output.dense.bias: frozen\n",
      "customtransformer.vit.encoder.layer.7.intermediate.dense.weight: frozen\n",
      "customtransformer.vit.encoder.layer.7.intermediate.dense.bias: frozen\n",
      "customtransformer.vit.encoder.layer.7.output.dense.weight: frozen\n",
      "customtransformer.vit.encoder.layer.7.output.dense.bias: frozen\n",
      "customtransformer.vit.encoder.layer.7.layernorm_before.weight: frozen\n",
      "customtransformer.vit.encoder.layer.7.layernorm_before.bias: frozen\n",
      "customtransformer.vit.encoder.layer.7.layernorm_after.weight: frozen\n",
      "customtransformer.vit.encoder.layer.7.layernorm_after.bias: frozen\n",
      "customtransformer.vit.encoder.layer.8.attention.attention.query.weight: frozen\n",
      "customtransformer.vit.encoder.layer.8.attention.attention.query.bias: frozen\n",
      "customtransformer.vit.encoder.layer.8.attention.attention.key.weight: frozen\n",
      "customtransformer.vit.encoder.layer.8.attention.attention.key.bias: frozen\n",
      "customtransformer.vit.encoder.layer.8.attention.attention.value.weight: frozen\n",
      "customtransformer.vit.encoder.layer.8.attention.attention.value.bias: frozen\n",
      "customtransformer.vit.encoder.layer.8.attention.output.dense.weight: frozen\n",
      "customtransformer.vit.encoder.layer.8.attention.output.dense.bias: frozen\n",
      "customtransformer.vit.encoder.layer.8.intermediate.dense.weight: frozen\n",
      "customtransformer.vit.encoder.layer.8.intermediate.dense.bias: frozen\n",
      "customtransformer.vit.encoder.layer.8.output.dense.weight: frozen\n",
      "customtransformer.vit.encoder.layer.8.output.dense.bias: frozen\n",
      "customtransformer.vit.encoder.layer.8.layernorm_before.weight: frozen\n",
      "customtransformer.vit.encoder.layer.8.layernorm_before.bias: frozen\n",
      "customtransformer.vit.encoder.layer.8.layernorm_after.weight: frozen\n",
      "customtransformer.vit.encoder.layer.8.layernorm_after.bias: frozen\n",
      "customtransformer.vit.encoder.layer.9.attention.attention.query.weight: frozen\n",
      "customtransformer.vit.encoder.layer.9.attention.attention.query.bias: frozen\n",
      "customtransformer.vit.encoder.layer.9.attention.attention.key.weight: frozen\n",
      "customtransformer.vit.encoder.layer.9.attention.attention.key.bias: frozen\n",
      "customtransformer.vit.encoder.layer.9.attention.attention.value.weight: frozen\n",
      "customtransformer.vit.encoder.layer.9.attention.attention.value.bias: frozen\n",
      "customtransformer.vit.encoder.layer.9.attention.output.dense.weight: frozen\n",
      "customtransformer.vit.encoder.layer.9.attention.output.dense.bias: frozen\n",
      "customtransformer.vit.encoder.layer.9.intermediate.dense.weight: frozen\n",
      "customtransformer.vit.encoder.layer.9.intermediate.dense.bias: frozen\n",
      "customtransformer.vit.encoder.layer.9.output.dense.weight: frozen\n",
      "customtransformer.vit.encoder.layer.9.output.dense.bias: frozen\n",
      "customtransformer.vit.encoder.layer.9.layernorm_before.weight: frozen\n",
      "customtransformer.vit.encoder.layer.9.layernorm_before.bias: frozen\n",
      "customtransformer.vit.encoder.layer.9.layernorm_after.weight: frozen\n",
      "customtransformer.vit.encoder.layer.9.layernorm_after.bias: frozen\n",
      "customtransformer.vit.encoder.layer.10.attention.attention.query.weight: frozen\n",
      "customtransformer.vit.encoder.layer.10.attention.attention.query.bias: frozen\n",
      "customtransformer.vit.encoder.layer.10.attention.attention.key.weight: frozen\n",
      "customtransformer.vit.encoder.layer.10.attention.attention.key.bias: frozen\n",
      "customtransformer.vit.encoder.layer.10.attention.attention.value.weight: frozen\n",
      "customtransformer.vit.encoder.layer.10.attention.attention.value.bias: frozen\n",
      "customtransformer.vit.encoder.layer.10.attention.output.dense.weight: frozen\n",
      "customtransformer.vit.encoder.layer.10.attention.output.dense.bias: frozen\n",
      "customtransformer.vit.encoder.layer.10.intermediate.dense.weight: frozen\n",
      "customtransformer.vit.encoder.layer.10.intermediate.dense.bias: frozen\n",
      "customtransformer.vit.encoder.layer.10.output.dense.weight: frozen\n",
      "customtransformer.vit.encoder.layer.10.output.dense.bias: frozen\n",
      "customtransformer.vit.encoder.layer.10.layernorm_before.weight: frozen\n",
      "customtransformer.vit.encoder.layer.10.layernorm_before.bias: frozen\n",
      "customtransformer.vit.encoder.layer.10.layernorm_after.weight: frozen\n",
      "customtransformer.vit.encoder.layer.10.layernorm_after.bias: frozen\n",
      "customtransformer.vit.encoder.layer.11.attention.attention.query.weight: frozen\n",
      "customtransformer.vit.encoder.layer.11.attention.attention.query.bias: frozen\n",
      "customtransformer.vit.encoder.layer.11.attention.attention.key.weight: frozen\n",
      "customtransformer.vit.encoder.layer.11.attention.attention.key.bias: frozen\n",
      "customtransformer.vit.encoder.layer.11.attention.attention.value.weight: frozen\n",
      "customtransformer.vit.encoder.layer.11.attention.attention.value.bias: frozen\n",
      "customtransformer.vit.encoder.layer.11.attention.output.dense.weight: frozen\n",
      "customtransformer.vit.encoder.layer.11.attention.output.dense.bias: frozen\n",
      "customtransformer.vit.encoder.layer.11.intermediate.dense.weight: frozen\n",
      "customtransformer.vit.encoder.layer.11.intermediate.dense.bias: frozen\n",
      "customtransformer.vit.encoder.layer.11.output.dense.weight: frozen\n",
      "customtransformer.vit.encoder.layer.11.output.dense.bias: frozen\n",
      "customtransformer.vit.encoder.layer.11.layernorm_before.weight: frozen\n",
      "customtransformer.vit.encoder.layer.11.layernorm_before.bias: frozen\n",
      "customtransformer.vit.encoder.layer.11.layernorm_after.weight: frozen\n",
      "customtransformer.vit.encoder.layer.11.layernorm_after.bias: frozen\n",
      "customtransformer.vit.layernorm.weight: frozen\n",
      "customtransformer.vit.layernorm.bias: frozen\n",
      "customtransformer.classifier.weight: requires_grad\n",
      "customtransformer.classifier.bias: requires_grad\n",
      "t_layer.conv.0.weight: requires_grad\n",
      "t_layer.conv.1.weight: requires_grad\n",
      "t_layer.conv.2.weight: requires_grad\n",
      "t_layer.ST.0.T: requires_grad\n",
      "t_layer.ST.1.T: requires_grad\n",
      "t_layer.ST.2.T: requires_grad\n",
      "t_layer.v.0: requires_grad\n",
      "t_layer.v.1: requires_grad\n",
      "t_layer.v.2: requires_grad\n"
     ]
    }
   ],
   "source": [
    "# Initialize the modified ResNet model\n",
    "\n",
    "model = TransformerMod(num_classes=len(train_dataset.label_map)).to(device)\n",
    "\n",
    "# model = CustomResNet50(num_classes=len(train_dataset.label_map)).to(device)\n",
    "# model = models.resnet50(weights=models.ResNet50_Weights.IMAGENET1K_V1).to(device)\n",
    "\n",
    "# Replace the classifier layer with a new one\n",
    "#model.classifier = nn.Linear(num_features, 34).to(device)  # Assuming 10 classes\n",
    "\n",
    "#print(model.classifier.out_features)\n",
    "\n",
    "\n",
    "for name, param in model.named_parameters():\n",
    "    print(f\"{name}: {'requires_grad' if param.requires_grad else 'frozen'}\")\n"
   ]
  },
  {
   "cell_type": "code",
   "execution_count": 6,
   "id": "0f350094-d65d-4d20-9550-32cce9d0c2a9",
   "metadata": {},
   "outputs": [],
   "source": [
    "# Define the loss function and optimizer\n",
    "criterion = nn.CrossEntropyLoss()\n",
    "# optimizer = optim.SGD(model.parameters(), lr=0.01, momentum=0.9, weight_decay=0.0005)\n",
    "# optimizer = optim.Adam(model.parameters(), lr=0.001)\n",
    "\n",
    "optimizer = optim.AdamW(model.parameters(), lr=0.001, weight_decay=0.01)\n",
    "scheduler = optim.lr_scheduler.ReduceLROnPlateau(optimizer, factor = 0.5, patience=5)\n",
    "\n"
   ]
  },
  {
   "cell_type": "code",
   "execution_count": 7,
   "id": "34fc8890-bf14-4061-8099-b5b8e9c5b194",
   "metadata": {
    "scrolled": true
   },
   "outputs": [
    {
     "name": "stdout",
     "output_type": "stream",
     "text": [
      "Epoch [1/125], Loss: 2.4067, Training Accuracy: 39.74%, Precision: 0.476, Recall: 0.397, F1 Score: 0.407\n",
      "Validation Loss: 1.3818, Validation Accuracy: 71.05%, Precision: 0.727, Recall: 0.711, F1 Score: 0.680\n",
      "Epoch [1/125] completed in 5.83 seconds\n"
     ]
    },
    {
     "name": "stderr",
     "output_type": "stream",
     "text": [
      "/home/michael/Desktop/ifile/nn/ResNet-PyTorch/ResNet/venvres/lib/python3.9/site-packages/sklearn/metrics/_classification.py:1531: UndefinedMetricWarning: Precision is ill-defined and being set to 0.0 in labels with no predicted samples. Use `zero_division` parameter to control this behavior.\n",
      "  _warn_prf(average, modifier, f\"{metric.capitalize()} is\", len(result))\n"
     ]
    },
    {
     "name": "stdout",
     "output_type": "stream",
     "text": [
      "Epoch [2/125], Loss: 0.8630, Training Accuracy: 79.66%, Precision: 0.801, Recall: 0.797, F1 Score: 0.795\n",
      "Validation Loss: 0.9266, Validation Accuracy: 77.63%, Precision: 0.741, Recall: 0.776, F1 Score: 0.740\n",
      "Epoch [2/125] completed in 5.63 seconds\n"
     ]
    },
    {
     "name": "stderr",
     "output_type": "stream",
     "text": [
      "/home/michael/Desktop/ifile/nn/ResNet-PyTorch/ResNet/venvres/lib/python3.9/site-packages/sklearn/metrics/_classification.py:1531: UndefinedMetricWarning: Precision is ill-defined and being set to 0.0 in labels with no predicted samples. Use `zero_division` parameter to control this behavior.\n",
      "  _warn_prf(average, modifier, f\"{metric.capitalize()} is\", len(result))\n"
     ]
    },
    {
     "name": "stdout",
     "output_type": "stream",
     "text": [
      "Epoch [3/125], Loss: 0.4274, Training Accuracy: 92.35%, Precision: 0.927, Recall: 0.924, F1 Score: 0.924\n",
      "Validation Loss: 0.7093, Validation Accuracy: 84.21%, Precision: 0.886, Recall: 0.842, F1 Score: 0.835\n",
      "Epoch [3/125] completed in 5.68 seconds\n",
      "Epoch [4/125], Loss: 0.2339, Training Accuracy: 97.01%, Precision: 0.972, Recall: 0.970, F1 Score: 0.970\n",
      "Validation Loss: 0.6725, Validation Accuracy: 86.84%, Precision: 0.875, Recall: 0.868, F1 Score: 0.853\n",
      "Epoch [4/125] completed in 5.70 seconds\n"
     ]
    },
    {
     "name": "stderr",
     "output_type": "stream",
     "text": [
      "/home/michael/Desktop/ifile/nn/ResNet-PyTorch/ResNet/venvres/lib/python3.9/site-packages/sklearn/metrics/_classification.py:1531: UndefinedMetricWarning: Precision is ill-defined and being set to 0.0 in labels with no predicted samples. Use `zero_division` parameter to control this behavior.\n",
      "  _warn_prf(average, modifier, f\"{metric.capitalize()} is\", len(result))\n"
     ]
    },
    {
     "name": "stdout",
     "output_type": "stream",
     "text": [
      "Epoch [5/125], Loss: 0.1255, Training Accuracy: 98.69%, Precision: 0.989, Recall: 0.987, F1 Score: 0.987\n",
      "Validation Loss: 0.6163, Validation Accuracy: 82.89%, Precision: 0.889, Recall: 0.829, F1 Score: 0.825\n",
      "Epoch [5/125] completed in 5.82 seconds\n",
      "Epoch [6/125], Loss: 0.0745, Training Accuracy: 100.00%, Precision: 1.000, Recall: 1.000, F1 Score: 1.000\n",
      "Validation Loss: 0.5985, Validation Accuracy: 85.53%, Precision: 0.871, Recall: 0.855, F1 Score: 0.838\n",
      "Epoch [6/125] completed in 5.76 seconds\n"
     ]
    },
    {
     "name": "stderr",
     "output_type": "stream",
     "text": [
      "/home/michael/Desktop/ifile/nn/ResNet-PyTorch/ResNet/venvres/lib/python3.9/site-packages/sklearn/metrics/_classification.py:1531: UndefinedMetricWarning: Precision is ill-defined and being set to 0.0 in labels with no predicted samples. Use `zero_division` parameter to control this behavior.\n",
      "  _warn_prf(average, modifier, f\"{metric.capitalize()} is\", len(result))\n"
     ]
    },
    {
     "name": "stdout",
     "output_type": "stream",
     "text": [
      "Epoch [7/125], Loss: 0.0467, Training Accuracy: 100.00%, Precision: 1.000, Recall: 1.000, F1 Score: 1.000\n",
      "Validation Loss: 0.5736, Validation Accuracy: 85.53%, Precision: 0.871, Recall: 0.855, F1 Score: 0.838\n",
      "Epoch [7/125] completed in 5.84 seconds\n"
     ]
    },
    {
     "name": "stderr",
     "output_type": "stream",
     "text": [
      "/home/michael/Desktop/ifile/nn/ResNet-PyTorch/ResNet/venvres/lib/python3.9/site-packages/sklearn/metrics/_classification.py:1531: UndefinedMetricWarning: Precision is ill-defined and being set to 0.0 in labels with no predicted samples. Use `zero_division` parameter to control this behavior.\n",
      "  _warn_prf(average, modifier, f\"{metric.capitalize()} is\", len(result))\n"
     ]
    },
    {
     "name": "stdout",
     "output_type": "stream",
     "text": [
      "Epoch [8/125], Loss: 0.0341, Training Accuracy: 100.00%, Precision: 1.000, Recall: 1.000, F1 Score: 1.000\n",
      "Validation Loss: 0.5603, Validation Accuracy: 85.53%, Precision: 0.871, Recall: 0.855, F1 Score: 0.838\n",
      "Epoch [8/125] completed in 5.81 seconds\n"
     ]
    },
    {
     "name": "stderr",
     "output_type": "stream",
     "text": [
      "/home/michael/Desktop/ifile/nn/ResNet-PyTorch/ResNet/venvres/lib/python3.9/site-packages/sklearn/metrics/_classification.py:1531: UndefinedMetricWarning: Precision is ill-defined and being set to 0.0 in labels with no predicted samples. Use `zero_division` parameter to control this behavior.\n",
      "  _warn_prf(average, modifier, f\"{metric.capitalize()} is\", len(result))\n"
     ]
    },
    {
     "name": "stdout",
     "output_type": "stream",
     "text": [
      "Epoch [9/125], Loss: 0.0238, Training Accuracy: 100.00%, Precision: 1.000, Recall: 1.000, F1 Score: 1.000\n",
      "Validation Loss: 0.5484, Validation Accuracy: 86.84%, Precision: 0.879, Recall: 0.868, F1 Score: 0.852\n",
      "Epoch [9/125] completed in 5.79 seconds\n"
     ]
    },
    {
     "name": "stderr",
     "output_type": "stream",
     "text": [
      "/home/michael/Desktop/ifile/nn/ResNet-PyTorch/ResNet/venvres/lib/python3.9/site-packages/sklearn/metrics/_classification.py:1531: UndefinedMetricWarning: Precision is ill-defined and being set to 0.0 in labels with no predicted samples. Use `zero_division` parameter to control this behavior.\n",
      "  _warn_prf(average, modifier, f\"{metric.capitalize()} is\", len(result))\n"
     ]
    },
    {
     "name": "stdout",
     "output_type": "stream",
     "text": [
      "Epoch [10/125], Loss: 0.0185, Training Accuracy: 100.00%, Precision: 1.000, Recall: 1.000, F1 Score: 1.000\n",
      "Validation Loss: 0.5568, Validation Accuracy: 86.84%, Precision: 0.879, Recall: 0.868, F1 Score: 0.852\n",
      "Epoch [10/125] completed in 5.74 seconds\n"
     ]
    },
    {
     "name": "stderr",
     "output_type": "stream",
     "text": [
      "/home/michael/Desktop/ifile/nn/ResNet-PyTorch/ResNet/venvres/lib/python3.9/site-packages/sklearn/metrics/_classification.py:1531: UndefinedMetricWarning: Precision is ill-defined and being set to 0.0 in labels with no predicted samples. Use `zero_division` parameter to control this behavior.\n",
      "  _warn_prf(average, modifier, f\"{metric.capitalize()} is\", len(result))\n"
     ]
    },
    {
     "name": "stdout",
     "output_type": "stream",
     "text": [
      "Epoch [11/125], Loss: 0.0148, Training Accuracy: 100.00%, Precision: 1.000, Recall: 1.000, F1 Score: 1.000\n",
      "Validation Loss: 0.5594, Validation Accuracy: 85.53%, Precision: 0.871, Recall: 0.855, F1 Score: 0.838\n",
      "Epoch [11/125] completed in 5.83 seconds\n"
     ]
    },
    {
     "name": "stderr",
     "output_type": "stream",
     "text": [
      "/home/michael/Desktop/ifile/nn/ResNet-PyTorch/ResNet/venvres/lib/python3.9/site-packages/sklearn/metrics/_classification.py:1531: UndefinedMetricWarning: Precision is ill-defined and being set to 0.0 in labels with no predicted samples. Use `zero_division` parameter to control this behavior.\n",
      "  _warn_prf(average, modifier, f\"{metric.capitalize()} is\", len(result))\n"
     ]
    },
    {
     "name": "stdout",
     "output_type": "stream",
     "text": [
      "Epoch [12/125], Loss: 0.0122, Training Accuracy: 100.00%, Precision: 1.000, Recall: 1.000, F1 Score: 1.000\n",
      "Validation Loss: 0.5488, Validation Accuracy: 86.84%, Precision: 0.879, Recall: 0.868, F1 Score: 0.852\n",
      "Epoch [12/125] completed in 5.77 seconds\n"
     ]
    },
    {
     "name": "stderr",
     "output_type": "stream",
     "text": [
      "/home/michael/Desktop/ifile/nn/ResNet-PyTorch/ResNet/venvres/lib/python3.9/site-packages/sklearn/metrics/_classification.py:1531: UndefinedMetricWarning: Precision is ill-defined and being set to 0.0 in labels with no predicted samples. Use `zero_division` parameter to control this behavior.\n",
      "  _warn_prf(average, modifier, f\"{metric.capitalize()} is\", len(result))\n"
     ]
    },
    {
     "name": "stdout",
     "output_type": "stream",
     "text": [
      "Epoch [13/125], Loss: 0.0102, Training Accuracy: 100.00%, Precision: 1.000, Recall: 1.000, F1 Score: 1.000\n",
      "Validation Loss: 0.5445, Validation Accuracy: 86.84%, Precision: 0.879, Recall: 0.868, F1 Score: 0.852\n",
      "Epoch [13/125] completed in 5.84 seconds\n"
     ]
    },
    {
     "name": "stderr",
     "output_type": "stream",
     "text": [
      "/home/michael/Desktop/ifile/nn/ResNet-PyTorch/ResNet/venvres/lib/python3.9/site-packages/sklearn/metrics/_classification.py:1531: UndefinedMetricWarning: Precision is ill-defined and being set to 0.0 in labels with no predicted samples. Use `zero_division` parameter to control this behavior.\n",
      "  _warn_prf(average, modifier, f\"{metric.capitalize()} is\", len(result))\n"
     ]
    },
    {
     "name": "stdout",
     "output_type": "stream",
     "text": [
      "Epoch [14/125], Loss: 0.0085, Training Accuracy: 100.00%, Precision: 1.000, Recall: 1.000, F1 Score: 1.000\n",
      "Validation Loss: 0.5475, Validation Accuracy: 86.84%, Precision: 0.879, Recall: 0.868, F1 Score: 0.852\n",
      "Epoch [14/125] completed in 5.81 seconds\n"
     ]
    },
    {
     "name": "stderr",
     "output_type": "stream",
     "text": [
      "/home/michael/Desktop/ifile/nn/ResNet-PyTorch/ResNet/venvres/lib/python3.9/site-packages/sklearn/metrics/_classification.py:1531: UndefinedMetricWarning: Precision is ill-defined and being set to 0.0 in labels with no predicted samples. Use `zero_division` parameter to control this behavior.\n",
      "  _warn_prf(average, modifier, f\"{metric.capitalize()} is\", len(result))\n"
     ]
    },
    {
     "name": "stdout",
     "output_type": "stream",
     "text": [
      "Epoch [15/125], Loss: 0.0073, Training Accuracy: 100.00%, Precision: 1.000, Recall: 1.000, F1 Score: 1.000\n",
      "Validation Loss: 0.5429, Validation Accuracy: 86.84%, Precision: 0.879, Recall: 0.868, F1 Score: 0.852\n",
      "Epoch [15/125] completed in 5.91 seconds\n"
     ]
    },
    {
     "name": "stderr",
     "output_type": "stream",
     "text": [
      "/home/michael/Desktop/ifile/nn/ResNet-PyTorch/ResNet/venvres/lib/python3.9/site-packages/sklearn/metrics/_classification.py:1531: UndefinedMetricWarning: Precision is ill-defined and being set to 0.0 in labels with no predicted samples. Use `zero_division` parameter to control this behavior.\n",
      "  _warn_prf(average, modifier, f\"{metric.capitalize()} is\", len(result))\n"
     ]
    },
    {
     "name": "stdout",
     "output_type": "stream",
     "text": [
      "Epoch [16/125], Loss: 0.0064, Training Accuracy: 100.00%, Precision: 1.000, Recall: 1.000, F1 Score: 1.000\n",
      "Validation Loss: 0.5463, Validation Accuracy: 86.84%, Precision: 0.880, Recall: 0.868, F1 Score: 0.853\n",
      "Epoch [16/125] completed in 5.75 seconds\n"
     ]
    },
    {
     "name": "stderr",
     "output_type": "stream",
     "text": [
      "/home/michael/Desktop/ifile/nn/ResNet-PyTorch/ResNet/venvres/lib/python3.9/site-packages/sklearn/metrics/_classification.py:1531: UndefinedMetricWarning: Precision is ill-defined and being set to 0.0 in labels with no predicted samples. Use `zero_division` parameter to control this behavior.\n",
      "  _warn_prf(average, modifier, f\"{metric.capitalize()} is\", len(result))\n"
     ]
    },
    {
     "name": "stdout",
     "output_type": "stream",
     "text": [
      "Epoch [17/125], Loss: 0.0055, Training Accuracy: 100.00%, Precision: 1.000, Recall: 1.000, F1 Score: 1.000\n",
      "Validation Loss: 0.5430, Validation Accuracy: 88.16%, Precision: 0.893, Recall: 0.882, F1 Score: 0.865\n",
      "Epoch [17/125] completed in 5.72 seconds\n"
     ]
    },
    {
     "name": "stderr",
     "output_type": "stream",
     "text": [
      "/home/michael/Desktop/ifile/nn/ResNet-PyTorch/ResNet/venvres/lib/python3.9/site-packages/sklearn/metrics/_classification.py:1531: UndefinedMetricWarning: Precision is ill-defined and being set to 0.0 in labels with no predicted samples. Use `zero_division` parameter to control this behavior.\n",
      "  _warn_prf(average, modifier, f\"{metric.capitalize()} is\", len(result))\n"
     ]
    },
    {
     "name": "stdout",
     "output_type": "stream",
     "text": [
      "Epoch [18/125], Loss: 0.0048, Training Accuracy: 100.00%, Precision: 1.000, Recall: 1.000, F1 Score: 1.000\n",
      "Validation Loss: 0.5436, Validation Accuracy: 86.84%, Precision: 0.880, Recall: 0.868, F1 Score: 0.853\n",
      "Epoch [18/125] completed in 5.61 seconds\n"
     ]
    },
    {
     "name": "stderr",
     "output_type": "stream",
     "text": [
      "/home/michael/Desktop/ifile/nn/ResNet-PyTorch/ResNet/venvres/lib/python3.9/site-packages/sklearn/metrics/_classification.py:1531: UndefinedMetricWarning: Precision is ill-defined and being set to 0.0 in labels with no predicted samples. Use `zero_division` parameter to control this behavior.\n",
      "  _warn_prf(average, modifier, f\"{metric.capitalize()} is\", len(result))\n"
     ]
    },
    {
     "name": "stdout",
     "output_type": "stream",
     "text": [
      "Epoch [19/125], Loss: 0.0043, Training Accuracy: 100.00%, Precision: 1.000, Recall: 1.000, F1 Score: 1.000\n",
      "Validation Loss: 0.5430, Validation Accuracy: 86.84%, Precision: 0.880, Recall: 0.868, F1 Score: 0.853\n",
      "Epoch [19/125] completed in 5.59 seconds\n"
     ]
    },
    {
     "name": "stderr",
     "output_type": "stream",
     "text": [
      "/home/michael/Desktop/ifile/nn/ResNet-PyTorch/ResNet/venvres/lib/python3.9/site-packages/sklearn/metrics/_classification.py:1531: UndefinedMetricWarning: Precision is ill-defined and being set to 0.0 in labels with no predicted samples. Use `zero_division` parameter to control this behavior.\n",
      "  _warn_prf(average, modifier, f\"{metric.capitalize()} is\", len(result))\n"
     ]
    },
    {
     "name": "stdout",
     "output_type": "stream",
     "text": [
      "Epoch [20/125], Loss: 0.0038, Training Accuracy: 100.00%, Precision: 1.000, Recall: 1.000, F1 Score: 1.000\n",
      "Validation Loss: 0.5548, Validation Accuracy: 86.84%, Precision: 0.880, Recall: 0.868, F1 Score: 0.853\n",
      "Epoch [20/125] completed in 5.62 seconds\n"
     ]
    },
    {
     "name": "stderr",
     "output_type": "stream",
     "text": [
      "/home/michael/Desktop/ifile/nn/ResNet-PyTorch/ResNet/venvres/lib/python3.9/site-packages/sklearn/metrics/_classification.py:1531: UndefinedMetricWarning: Precision is ill-defined and being set to 0.0 in labels with no predicted samples. Use `zero_division` parameter to control this behavior.\n",
      "  _warn_prf(average, modifier, f\"{metric.capitalize()} is\", len(result))\n"
     ]
    },
    {
     "name": "stdout",
     "output_type": "stream",
     "text": [
      "Epoch [21/125], Loss: 0.0034, Training Accuracy: 100.00%, Precision: 1.000, Recall: 1.000, F1 Score: 1.000\n",
      "Validation Loss: 0.5483, Validation Accuracy: 86.84%, Precision: 0.880, Recall: 0.868, F1 Score: 0.853\n",
      "Learning rate reduced from 0.001 to 0.0005\n",
      "Epoch [21/125] completed in 5.67 seconds\n"
     ]
    },
    {
     "name": "stderr",
     "output_type": "stream",
     "text": [
      "/home/michael/Desktop/ifile/nn/ResNet-PyTorch/ResNet/venvres/lib/python3.9/site-packages/sklearn/metrics/_classification.py:1531: UndefinedMetricWarning: Precision is ill-defined and being set to 0.0 in labels with no predicted samples. Use `zero_division` parameter to control this behavior.\n",
      "  _warn_prf(average, modifier, f\"{metric.capitalize()} is\", len(result))\n"
     ]
    },
    {
     "name": "stdout",
     "output_type": "stream",
     "text": [
      "Epoch [22/125], Loss: 0.0030, Training Accuracy: 100.00%, Precision: 1.000, Recall: 1.000, F1 Score: 1.000\n",
      "Validation Loss: 0.5472, Validation Accuracy: 86.84%, Precision: 0.880, Recall: 0.868, F1 Score: 0.853\n",
      "Epoch [22/125] completed in 5.72 seconds\n"
     ]
    },
    {
     "name": "stderr",
     "output_type": "stream",
     "text": [
      "/home/michael/Desktop/ifile/nn/ResNet-PyTorch/ResNet/venvres/lib/python3.9/site-packages/sklearn/metrics/_classification.py:1531: UndefinedMetricWarning: Precision is ill-defined and being set to 0.0 in labels with no predicted samples. Use `zero_division` parameter to control this behavior.\n",
      "  _warn_prf(average, modifier, f\"{metric.capitalize()} is\", len(result))\n"
     ]
    },
    {
     "name": "stdout",
     "output_type": "stream",
     "text": [
      "Epoch [23/125], Loss: 0.0028, Training Accuracy: 100.00%, Precision: 1.000, Recall: 1.000, F1 Score: 1.000\n",
      "Validation Loss: 0.5460, Validation Accuracy: 86.84%, Precision: 0.880, Recall: 0.868, F1 Score: 0.853\n",
      "Epoch [23/125] completed in 5.89 seconds\n"
     ]
    },
    {
     "name": "stderr",
     "output_type": "stream",
     "text": [
      "/home/michael/Desktop/ifile/nn/ResNet-PyTorch/ResNet/venvres/lib/python3.9/site-packages/sklearn/metrics/_classification.py:1531: UndefinedMetricWarning: Precision is ill-defined and being set to 0.0 in labels with no predicted samples. Use `zero_division` parameter to control this behavior.\n",
      "  _warn_prf(average, modifier, f\"{metric.capitalize()} is\", len(result))\n"
     ]
    },
    {
     "name": "stdout",
     "output_type": "stream",
     "text": [
      "Epoch [24/125], Loss: 0.0027, Training Accuracy: 100.00%, Precision: 1.000, Recall: 1.000, F1 Score: 1.000\n",
      "Validation Loss: 0.5475, Validation Accuracy: 86.84%, Precision: 0.880, Recall: 0.868, F1 Score: 0.853\n",
      "Epoch [24/125] completed in 5.81 seconds\n"
     ]
    },
    {
     "name": "stderr",
     "output_type": "stream",
     "text": [
      "/home/michael/Desktop/ifile/nn/ResNet-PyTorch/ResNet/venvres/lib/python3.9/site-packages/sklearn/metrics/_classification.py:1531: UndefinedMetricWarning: Precision is ill-defined and being set to 0.0 in labels with no predicted samples. Use `zero_division` parameter to control this behavior.\n",
      "  _warn_prf(average, modifier, f\"{metric.capitalize()} is\", len(result))\n"
     ]
    },
    {
     "name": "stdout",
     "output_type": "stream",
     "text": [
      "Epoch [25/125], Loss: 0.0025, Training Accuracy: 100.00%, Precision: 1.000, Recall: 1.000, F1 Score: 1.000\n",
      "Validation Loss: 0.5496, Validation Accuracy: 86.84%, Precision: 0.880, Recall: 0.868, F1 Score: 0.853\n",
      "Epoch [25/125] completed in 5.79 seconds\n"
     ]
    },
    {
     "name": "stderr",
     "output_type": "stream",
     "text": [
      "/home/michael/Desktop/ifile/nn/ResNet-PyTorch/ResNet/venvres/lib/python3.9/site-packages/sklearn/metrics/_classification.py:1531: UndefinedMetricWarning: Precision is ill-defined and being set to 0.0 in labels with no predicted samples. Use `zero_division` parameter to control this behavior.\n",
      "  _warn_prf(average, modifier, f\"{metric.capitalize()} is\", len(result))\n"
     ]
    },
    {
     "name": "stdout",
     "output_type": "stream",
     "text": [
      "Epoch [26/125], Loss: 0.0024, Training Accuracy: 100.00%, Precision: 1.000, Recall: 1.000, F1 Score: 1.000\n",
      "Validation Loss: 0.5480, Validation Accuracy: 86.84%, Precision: 0.880, Recall: 0.868, F1 Score: 0.853\n",
      "Epoch [26/125] completed in 5.69 seconds\n"
     ]
    },
    {
     "name": "stderr",
     "output_type": "stream",
     "text": [
      "/home/michael/Desktop/ifile/nn/ResNet-PyTorch/ResNet/venvres/lib/python3.9/site-packages/sklearn/metrics/_classification.py:1531: UndefinedMetricWarning: Precision is ill-defined and being set to 0.0 in labels with no predicted samples. Use `zero_division` parameter to control this behavior.\n",
      "  _warn_prf(average, modifier, f\"{metric.capitalize()} is\", len(result))\n"
     ]
    },
    {
     "name": "stdout",
     "output_type": "stream",
     "text": [
      "Epoch [27/125], Loss: 0.0023, Training Accuracy: 100.00%, Precision: 1.000, Recall: 1.000, F1 Score: 1.000\n",
      "Validation Loss: 0.5512, Validation Accuracy: 86.84%, Precision: 0.880, Recall: 0.868, F1 Score: 0.853\n",
      "Learning rate reduced from 0.0005 to 0.00025\n",
      "Epoch [27/125] completed in 5.72 seconds\n"
     ]
    },
    {
     "name": "stderr",
     "output_type": "stream",
     "text": [
      "/home/michael/Desktop/ifile/nn/ResNet-PyTorch/ResNet/venvres/lib/python3.9/site-packages/sklearn/metrics/_classification.py:1531: UndefinedMetricWarning: Precision is ill-defined and being set to 0.0 in labels with no predicted samples. Use `zero_division` parameter to control this behavior.\n",
      "  _warn_prf(average, modifier, f\"{metric.capitalize()} is\", len(result))\n"
     ]
    },
    {
     "name": "stdout",
     "output_type": "stream",
     "text": [
      "Epoch [28/125], Loss: 0.0021, Training Accuracy: 100.00%, Precision: 1.000, Recall: 1.000, F1 Score: 1.000\n",
      "Validation Loss: 0.5513, Validation Accuracy: 86.84%, Precision: 0.880, Recall: 0.868, F1 Score: 0.853\n",
      "Epoch [28/125] completed in 5.73 seconds\n"
     ]
    },
    {
     "name": "stderr",
     "output_type": "stream",
     "text": [
      "/home/michael/Desktop/ifile/nn/ResNet-PyTorch/ResNet/venvres/lib/python3.9/site-packages/sklearn/metrics/_classification.py:1531: UndefinedMetricWarning: Precision is ill-defined and being set to 0.0 in labels with no predicted samples. Use `zero_division` parameter to control this behavior.\n",
      "  _warn_prf(average, modifier, f\"{metric.capitalize()} is\", len(result))\n"
     ]
    },
    {
     "name": "stdout",
     "output_type": "stream",
     "text": [
      "Epoch [29/125], Loss: 0.0021, Training Accuracy: 100.00%, Precision: 1.000, Recall: 1.000, F1 Score: 1.000\n",
      "Validation Loss: 0.5502, Validation Accuracy: 86.84%, Precision: 0.880, Recall: 0.868, F1 Score: 0.853\n",
      "Epoch [29/125] completed in 5.75 seconds\n"
     ]
    },
    {
     "name": "stderr",
     "output_type": "stream",
     "text": [
      "/home/michael/Desktop/ifile/nn/ResNet-PyTorch/ResNet/venvres/lib/python3.9/site-packages/sklearn/metrics/_classification.py:1531: UndefinedMetricWarning: Precision is ill-defined and being set to 0.0 in labels with no predicted samples. Use `zero_division` parameter to control this behavior.\n",
      "  _warn_prf(average, modifier, f\"{metric.capitalize()} is\", len(result))\n"
     ]
    },
    {
     "name": "stdout",
     "output_type": "stream",
     "text": [
      "Epoch [30/125], Loss: 0.0020, Training Accuracy: 100.00%, Precision: 1.000, Recall: 1.000, F1 Score: 1.000\n",
      "Validation Loss: 0.5515, Validation Accuracy: 86.84%, Precision: 0.880, Recall: 0.868, F1 Score: 0.853\n",
      "Epoch [30/125] completed in 5.67 seconds\n"
     ]
    },
    {
     "name": "stderr",
     "output_type": "stream",
     "text": [
      "/home/michael/Desktop/ifile/nn/ResNet-PyTorch/ResNet/venvres/lib/python3.9/site-packages/sklearn/metrics/_classification.py:1531: UndefinedMetricWarning: Precision is ill-defined and being set to 0.0 in labels with no predicted samples. Use `zero_division` parameter to control this behavior.\n",
      "  _warn_prf(average, modifier, f\"{metric.capitalize()} is\", len(result))\n"
     ]
    },
    {
     "name": "stdout",
     "output_type": "stream",
     "text": [
      "Epoch [31/125], Loss: 0.0019, Training Accuracy: 100.00%, Precision: 1.000, Recall: 1.000, F1 Score: 1.000\n",
      "Validation Loss: 0.5520, Validation Accuracy: 86.84%, Precision: 0.880, Recall: 0.868, F1 Score: 0.853\n",
      "Epoch [31/125] completed in 5.76 seconds\n"
     ]
    },
    {
     "name": "stderr",
     "output_type": "stream",
     "text": [
      "/home/michael/Desktop/ifile/nn/ResNet-PyTorch/ResNet/venvres/lib/python3.9/site-packages/sklearn/metrics/_classification.py:1531: UndefinedMetricWarning: Precision is ill-defined and being set to 0.0 in labels with no predicted samples. Use `zero_division` parameter to control this behavior.\n",
      "  _warn_prf(average, modifier, f\"{metric.capitalize()} is\", len(result))\n"
     ]
    },
    {
     "name": "stdout",
     "output_type": "stream",
     "text": [
      "Epoch [32/125], Loss: 0.0019, Training Accuracy: 100.00%, Precision: 1.000, Recall: 1.000, F1 Score: 1.000\n",
      "Validation Loss: 0.5519, Validation Accuracy: 86.84%, Precision: 0.880, Recall: 0.868, F1 Score: 0.853\n",
      "Epoch [32/125] completed in 5.72 seconds\n"
     ]
    },
    {
     "name": "stderr",
     "output_type": "stream",
     "text": [
      "/home/michael/Desktop/ifile/nn/ResNet-PyTorch/ResNet/venvres/lib/python3.9/site-packages/sklearn/metrics/_classification.py:1531: UndefinedMetricWarning: Precision is ill-defined and being set to 0.0 in labels with no predicted samples. Use `zero_division` parameter to control this behavior.\n",
      "  _warn_prf(average, modifier, f\"{metric.capitalize()} is\", len(result))\n"
     ]
    },
    {
     "name": "stdout",
     "output_type": "stream",
     "text": [
      "Epoch [33/125], Loss: 0.0018, Training Accuracy: 100.00%, Precision: 1.000, Recall: 1.000, F1 Score: 1.000\n",
      "Validation Loss: 0.5540, Validation Accuracy: 86.84%, Precision: 0.880, Recall: 0.868, F1 Score: 0.853\n",
      "Learning rate reduced from 0.00025 to 0.000125\n",
      "Epoch [33/125] completed in 5.74 seconds\n"
     ]
    },
    {
     "name": "stderr",
     "output_type": "stream",
     "text": [
      "/home/michael/Desktop/ifile/nn/ResNet-PyTorch/ResNet/venvres/lib/python3.9/site-packages/sklearn/metrics/_classification.py:1531: UndefinedMetricWarning: Precision is ill-defined and being set to 0.0 in labels with no predicted samples. Use `zero_division` parameter to control this behavior.\n",
      "  _warn_prf(average, modifier, f\"{metric.capitalize()} is\", len(result))\n"
     ]
    },
    {
     "name": "stdout",
     "output_type": "stream",
     "text": [
      "Epoch [34/125], Loss: 0.0017, Training Accuracy: 100.00%, Precision: 1.000, Recall: 1.000, F1 Score: 1.000\n",
      "Validation Loss: 0.5535, Validation Accuracy: 86.84%, Precision: 0.880, Recall: 0.868, F1 Score: 0.853\n",
      "Epoch [34/125] completed in 5.72 seconds\n"
     ]
    },
    {
     "name": "stderr",
     "output_type": "stream",
     "text": [
      "/home/michael/Desktop/ifile/nn/ResNet-PyTorch/ResNet/venvres/lib/python3.9/site-packages/sklearn/metrics/_classification.py:1531: UndefinedMetricWarning: Precision is ill-defined and being set to 0.0 in labels with no predicted samples. Use `zero_division` parameter to control this behavior.\n",
      "  _warn_prf(average, modifier, f\"{metric.capitalize()} is\", len(result))\n"
     ]
    },
    {
     "name": "stdout",
     "output_type": "stream",
     "text": [
      "Epoch [35/125], Loss: 0.0017, Training Accuracy: 100.00%, Precision: 1.000, Recall: 1.000, F1 Score: 1.000\n",
      "Validation Loss: 0.5535, Validation Accuracy: 86.84%, Precision: 0.880, Recall: 0.868, F1 Score: 0.853\n",
      "Epoch [35/125] completed in 5.75 seconds\n"
     ]
    },
    {
     "name": "stderr",
     "output_type": "stream",
     "text": [
      "/home/michael/Desktop/ifile/nn/ResNet-PyTorch/ResNet/venvres/lib/python3.9/site-packages/sklearn/metrics/_classification.py:1531: UndefinedMetricWarning: Precision is ill-defined and being set to 0.0 in labels with no predicted samples. Use `zero_division` parameter to control this behavior.\n",
      "  _warn_prf(average, modifier, f\"{metric.capitalize()} is\", len(result))\n"
     ]
    },
    {
     "name": "stdout",
     "output_type": "stream",
     "text": [
      "Epoch [36/125], Loss: 0.0017, Training Accuracy: 100.00%, Precision: 1.000, Recall: 1.000, F1 Score: 1.000\n",
      "Validation Loss: 0.5533, Validation Accuracy: 86.84%, Precision: 0.880, Recall: 0.868, F1 Score: 0.853\n",
      "Epoch [36/125] completed in 5.77 seconds\n"
     ]
    },
    {
     "name": "stderr",
     "output_type": "stream",
     "text": [
      "/home/michael/Desktop/ifile/nn/ResNet-PyTorch/ResNet/venvres/lib/python3.9/site-packages/sklearn/metrics/_classification.py:1531: UndefinedMetricWarning: Precision is ill-defined and being set to 0.0 in labels with no predicted samples. Use `zero_division` parameter to control this behavior.\n",
      "  _warn_prf(average, modifier, f\"{metric.capitalize()} is\", len(result))\n"
     ]
    },
    {
     "name": "stdout",
     "output_type": "stream",
     "text": [
      "Epoch [37/125], Loss: 0.0016, Training Accuracy: 100.00%, Precision: 1.000, Recall: 1.000, F1 Score: 1.000\n",
      "Validation Loss: 0.5548, Validation Accuracy: 86.84%, Precision: 0.880, Recall: 0.868, F1 Score: 0.853\n",
      "Epoch [37/125] completed in 5.75 seconds\n"
     ]
    },
    {
     "name": "stderr",
     "output_type": "stream",
     "text": [
      "/home/michael/Desktop/ifile/nn/ResNet-PyTorch/ResNet/venvres/lib/python3.9/site-packages/sklearn/metrics/_classification.py:1531: UndefinedMetricWarning: Precision is ill-defined and being set to 0.0 in labels with no predicted samples. Use `zero_division` parameter to control this behavior.\n",
      "  _warn_prf(average, modifier, f\"{metric.capitalize()} is\", len(result))\n"
     ]
    },
    {
     "name": "stdout",
     "output_type": "stream",
     "text": [
      "Epoch [38/125], Loss: 0.0016, Training Accuracy: 100.00%, Precision: 1.000, Recall: 1.000, F1 Score: 1.000\n",
      "Validation Loss: 0.5544, Validation Accuracy: 86.84%, Precision: 0.880, Recall: 0.868, F1 Score: 0.853\n",
      "Epoch [38/125] completed in 5.68 seconds\n"
     ]
    },
    {
     "name": "stderr",
     "output_type": "stream",
     "text": [
      "/home/michael/Desktop/ifile/nn/ResNet-PyTorch/ResNet/venvres/lib/python3.9/site-packages/sklearn/metrics/_classification.py:1531: UndefinedMetricWarning: Precision is ill-defined and being set to 0.0 in labels with no predicted samples. Use `zero_division` parameter to control this behavior.\n",
      "  _warn_prf(average, modifier, f\"{metric.capitalize()} is\", len(result))\n"
     ]
    },
    {
     "name": "stdout",
     "output_type": "stream",
     "text": [
      "Epoch [39/125], Loss: 0.0016, Training Accuracy: 100.00%, Precision: 1.000, Recall: 1.000, F1 Score: 1.000\n",
      "Validation Loss: 0.5532, Validation Accuracy: 86.84%, Precision: 0.880, Recall: 0.868, F1 Score: 0.853\n",
      "Learning rate reduced from 0.000125 to 6.25e-05\n",
      "Epoch [39/125] completed in 5.87 seconds\n"
     ]
    },
    {
     "name": "stderr",
     "output_type": "stream",
     "text": [
      "/home/michael/Desktop/ifile/nn/ResNet-PyTorch/ResNet/venvres/lib/python3.9/site-packages/sklearn/metrics/_classification.py:1531: UndefinedMetricWarning: Precision is ill-defined and being set to 0.0 in labels with no predicted samples. Use `zero_division` parameter to control this behavior.\n",
      "  _warn_prf(average, modifier, f\"{metric.capitalize()} is\", len(result))\n"
     ]
    },
    {
     "name": "stdout",
     "output_type": "stream",
     "text": [
      "Epoch [40/125], Loss: 0.0015, Training Accuracy: 100.00%, Precision: 1.000, Recall: 1.000, F1 Score: 1.000\n",
      "Validation Loss: 0.5545, Validation Accuracy: 86.84%, Precision: 0.880, Recall: 0.868, F1 Score: 0.853\n",
      "Epoch [40/125] completed in 5.88 seconds\n"
     ]
    },
    {
     "name": "stderr",
     "output_type": "stream",
     "text": [
      "/home/michael/Desktop/ifile/nn/ResNet-PyTorch/ResNet/venvres/lib/python3.9/site-packages/sklearn/metrics/_classification.py:1531: UndefinedMetricWarning: Precision is ill-defined and being set to 0.0 in labels with no predicted samples. Use `zero_division` parameter to control this behavior.\n",
      "  _warn_prf(average, modifier, f\"{metric.capitalize()} is\", len(result))\n"
     ]
    },
    {
     "name": "stdout",
     "output_type": "stream",
     "text": [
      "Epoch [41/125], Loss: 0.0015, Training Accuracy: 100.00%, Precision: 1.000, Recall: 1.000, F1 Score: 1.000\n",
      "Validation Loss: 0.5554, Validation Accuracy: 86.84%, Precision: 0.880, Recall: 0.868, F1 Score: 0.853\n",
      "Epoch [41/125] completed in 5.81 seconds\n"
     ]
    },
    {
     "name": "stderr",
     "output_type": "stream",
     "text": [
      "/home/michael/Desktop/ifile/nn/ResNet-PyTorch/ResNet/venvres/lib/python3.9/site-packages/sklearn/metrics/_classification.py:1531: UndefinedMetricWarning: Precision is ill-defined and being set to 0.0 in labels with no predicted samples. Use `zero_division` parameter to control this behavior.\n",
      "  _warn_prf(average, modifier, f\"{metric.capitalize()} is\", len(result))\n"
     ]
    },
    {
     "name": "stdout",
     "output_type": "stream",
     "text": [
      "Epoch [42/125], Loss: 0.0015, Training Accuracy: 100.00%, Precision: 1.000, Recall: 1.000, F1 Score: 1.000\n",
      "Validation Loss: 0.5551, Validation Accuracy: 86.84%, Precision: 0.880, Recall: 0.868, F1 Score: 0.853\n",
      "Epoch [42/125] completed in 5.84 seconds\n"
     ]
    },
    {
     "name": "stderr",
     "output_type": "stream",
     "text": [
      "/home/michael/Desktop/ifile/nn/ResNet-PyTorch/ResNet/venvres/lib/python3.9/site-packages/sklearn/metrics/_classification.py:1531: UndefinedMetricWarning: Precision is ill-defined and being set to 0.0 in labels with no predicted samples. Use `zero_division` parameter to control this behavior.\n",
      "  _warn_prf(average, modifier, f\"{metric.capitalize()} is\", len(result))\n"
     ]
    },
    {
     "name": "stdout",
     "output_type": "stream",
     "text": [
      "Epoch [43/125], Loss: 0.0015, Training Accuracy: 100.00%, Precision: 1.000, Recall: 1.000, F1 Score: 1.000\n",
      "Validation Loss: 0.5560, Validation Accuracy: 86.84%, Precision: 0.880, Recall: 0.868, F1 Score: 0.853\n",
      "Epoch [43/125] completed in 5.83 seconds\n"
     ]
    },
    {
     "name": "stderr",
     "output_type": "stream",
     "text": [
      "/home/michael/Desktop/ifile/nn/ResNet-PyTorch/ResNet/venvres/lib/python3.9/site-packages/sklearn/metrics/_classification.py:1531: UndefinedMetricWarning: Precision is ill-defined and being set to 0.0 in labels with no predicted samples. Use `zero_division` parameter to control this behavior.\n",
      "  _warn_prf(average, modifier, f\"{metric.capitalize()} is\", len(result))\n"
     ]
    },
    {
     "name": "stdout",
     "output_type": "stream",
     "text": [
      "Epoch [44/125], Loss: 0.0014, Training Accuracy: 100.00%, Precision: 1.000, Recall: 1.000, F1 Score: 1.000\n",
      "Validation Loss: 0.5562, Validation Accuracy: 86.84%, Precision: 0.880, Recall: 0.868, F1 Score: 0.853\n",
      "Epoch [44/125] completed in 5.87 seconds\n"
     ]
    },
    {
     "name": "stderr",
     "output_type": "stream",
     "text": [
      "/home/michael/Desktop/ifile/nn/ResNet-PyTorch/ResNet/venvres/lib/python3.9/site-packages/sklearn/metrics/_classification.py:1531: UndefinedMetricWarning: Precision is ill-defined and being set to 0.0 in labels with no predicted samples. Use `zero_division` parameter to control this behavior.\n",
      "  _warn_prf(average, modifier, f\"{metric.capitalize()} is\", len(result))\n"
     ]
    },
    {
     "name": "stdout",
     "output_type": "stream",
     "text": [
      "Epoch [45/125], Loss: 0.0014, Training Accuracy: 100.00%, Precision: 1.000, Recall: 1.000, F1 Score: 1.000\n",
      "Validation Loss: 0.5561, Validation Accuracy: 86.84%, Precision: 0.880, Recall: 0.868, F1 Score: 0.853\n",
      "Learning rate reduced from 6.25e-05 to 3.125e-05\n",
      "Epoch [45/125] completed in 5.79 seconds\n"
     ]
    },
    {
     "name": "stderr",
     "output_type": "stream",
     "text": [
      "/home/michael/Desktop/ifile/nn/ResNet-PyTorch/ResNet/venvres/lib/python3.9/site-packages/sklearn/metrics/_classification.py:1531: UndefinedMetricWarning: Precision is ill-defined and being set to 0.0 in labels with no predicted samples. Use `zero_division` parameter to control this behavior.\n",
      "  _warn_prf(average, modifier, f\"{metric.capitalize()} is\", len(result))\n"
     ]
    },
    {
     "name": "stdout",
     "output_type": "stream",
     "text": [
      "Epoch [46/125], Loss: 0.0014, Training Accuracy: 100.00%, Precision: 1.000, Recall: 1.000, F1 Score: 1.000\n",
      "Validation Loss: 0.5566, Validation Accuracy: 86.84%, Precision: 0.880, Recall: 0.868, F1 Score: 0.853\n",
      "Epoch [46/125] completed in 5.86 seconds\n"
     ]
    },
    {
     "name": "stderr",
     "output_type": "stream",
     "text": [
      "/home/michael/Desktop/ifile/nn/ResNet-PyTorch/ResNet/venvres/lib/python3.9/site-packages/sklearn/metrics/_classification.py:1531: UndefinedMetricWarning: Precision is ill-defined and being set to 0.0 in labels with no predicted samples. Use `zero_division` parameter to control this behavior.\n",
      "  _warn_prf(average, modifier, f\"{metric.capitalize()} is\", len(result))\n"
     ]
    },
    {
     "name": "stdout",
     "output_type": "stream",
     "text": [
      "Epoch [47/125], Loss: 0.0014, Training Accuracy: 100.00%, Precision: 1.000, Recall: 1.000, F1 Score: 1.000\n",
      "Validation Loss: 0.5571, Validation Accuracy: 86.84%, Precision: 0.880, Recall: 0.868, F1 Score: 0.853\n",
      "Epoch [47/125] completed in 5.84 seconds\n"
     ]
    },
    {
     "name": "stderr",
     "output_type": "stream",
     "text": [
      "/home/michael/Desktop/ifile/nn/ResNet-PyTorch/ResNet/venvres/lib/python3.9/site-packages/sklearn/metrics/_classification.py:1531: UndefinedMetricWarning: Precision is ill-defined and being set to 0.0 in labels with no predicted samples. Use `zero_division` parameter to control this behavior.\n",
      "  _warn_prf(average, modifier, f\"{metric.capitalize()} is\", len(result))\n"
     ]
    },
    {
     "name": "stdout",
     "output_type": "stream",
     "text": [
      "Epoch [48/125], Loss: 0.0014, Training Accuracy: 100.00%, Precision: 1.000, Recall: 1.000, F1 Score: 1.000\n",
      "Validation Loss: 0.5572, Validation Accuracy: 86.84%, Precision: 0.880, Recall: 0.868, F1 Score: 0.853\n",
      "Epoch [48/125] completed in 5.79 seconds\n"
     ]
    },
    {
     "name": "stderr",
     "output_type": "stream",
     "text": [
      "/home/michael/Desktop/ifile/nn/ResNet-PyTorch/ResNet/venvres/lib/python3.9/site-packages/sklearn/metrics/_classification.py:1531: UndefinedMetricWarning: Precision is ill-defined and being set to 0.0 in labels with no predicted samples. Use `zero_division` parameter to control this behavior.\n",
      "  _warn_prf(average, modifier, f\"{metric.capitalize()} is\", len(result))\n"
     ]
    },
    {
     "name": "stdout",
     "output_type": "stream",
     "text": [
      "Epoch [49/125], Loss: 0.0014, Training Accuracy: 100.00%, Precision: 1.000, Recall: 1.000, F1 Score: 1.000\n",
      "Validation Loss: 0.5568, Validation Accuracy: 86.84%, Precision: 0.880, Recall: 0.868, F1 Score: 0.853\n",
      "Epoch [49/125] completed in 5.75 seconds\n"
     ]
    },
    {
     "name": "stderr",
     "output_type": "stream",
     "text": [
      "/home/michael/Desktop/ifile/nn/ResNet-PyTorch/ResNet/venvres/lib/python3.9/site-packages/sklearn/metrics/_classification.py:1531: UndefinedMetricWarning: Precision is ill-defined and being set to 0.0 in labels with no predicted samples. Use `zero_division` parameter to control this behavior.\n",
      "  _warn_prf(average, modifier, f\"{metric.capitalize()} is\", len(result))\n"
     ]
    },
    {
     "name": "stdout",
     "output_type": "stream",
     "text": [
      "Epoch [50/125], Loss: 0.0013, Training Accuracy: 100.00%, Precision: 1.000, Recall: 1.000, F1 Score: 1.000\n",
      "Validation Loss: 0.5577, Validation Accuracy: 86.84%, Precision: 0.880, Recall: 0.868, F1 Score: 0.853\n",
      "Epoch [50/125] completed in 5.70 seconds\n"
     ]
    },
    {
     "name": "stderr",
     "output_type": "stream",
     "text": [
      "/home/michael/Desktop/ifile/nn/ResNet-PyTorch/ResNet/venvres/lib/python3.9/site-packages/sklearn/metrics/_classification.py:1531: UndefinedMetricWarning: Precision is ill-defined and being set to 0.0 in labels with no predicted samples. Use `zero_division` parameter to control this behavior.\n",
      "  _warn_prf(average, modifier, f\"{metric.capitalize()} is\", len(result))\n"
     ]
    },
    {
     "name": "stdout",
     "output_type": "stream",
     "text": [
      "Epoch [51/125], Loss: 0.0013, Training Accuracy: 100.00%, Precision: 1.000, Recall: 1.000, F1 Score: 1.000\n",
      "Validation Loss: 0.5579, Validation Accuracy: 86.84%, Precision: 0.880, Recall: 0.868, F1 Score: 0.853\n",
      "Learning rate reduced from 3.125e-05 to 1.5625e-05\n",
      "Epoch [51/125] completed in 5.65 seconds\n"
     ]
    },
    {
     "name": "stderr",
     "output_type": "stream",
     "text": [
      "/home/michael/Desktop/ifile/nn/ResNet-PyTorch/ResNet/venvres/lib/python3.9/site-packages/sklearn/metrics/_classification.py:1531: UndefinedMetricWarning: Precision is ill-defined and being set to 0.0 in labels with no predicted samples. Use `zero_division` parameter to control this behavior.\n",
      "  _warn_prf(average, modifier, f\"{metric.capitalize()} is\", len(result))\n"
     ]
    },
    {
     "name": "stdout",
     "output_type": "stream",
     "text": [
      "Epoch [52/125], Loss: 0.0013, Training Accuracy: 100.00%, Precision: 1.000, Recall: 1.000, F1 Score: 1.000\n",
      "Validation Loss: 0.5579, Validation Accuracy: 86.84%, Precision: 0.880, Recall: 0.868, F1 Score: 0.853\n",
      "Epoch [52/125] completed in 5.67 seconds\n"
     ]
    },
    {
     "name": "stderr",
     "output_type": "stream",
     "text": [
      "/home/michael/Desktop/ifile/nn/ResNet-PyTorch/ResNet/venvres/lib/python3.9/site-packages/sklearn/metrics/_classification.py:1531: UndefinedMetricWarning: Precision is ill-defined and being set to 0.0 in labels with no predicted samples. Use `zero_division` parameter to control this behavior.\n",
      "  _warn_prf(average, modifier, f\"{metric.capitalize()} is\", len(result))\n"
     ]
    },
    {
     "name": "stdout",
     "output_type": "stream",
     "text": [
      "Epoch [53/125], Loss: 0.0013, Training Accuracy: 100.00%, Precision: 1.000, Recall: 1.000, F1 Score: 1.000\n",
      "Validation Loss: 0.5581, Validation Accuracy: 86.84%, Precision: 0.880, Recall: 0.868, F1 Score: 0.853\n",
      "Epoch [53/125] completed in 5.69 seconds\n"
     ]
    },
    {
     "name": "stderr",
     "output_type": "stream",
     "text": [
      "/home/michael/Desktop/ifile/nn/ResNet-PyTorch/ResNet/venvres/lib/python3.9/site-packages/sklearn/metrics/_classification.py:1531: UndefinedMetricWarning: Precision is ill-defined and being set to 0.0 in labels with no predicted samples. Use `zero_division` parameter to control this behavior.\n",
      "  _warn_prf(average, modifier, f\"{metric.capitalize()} is\", len(result))\n"
     ]
    },
    {
     "name": "stdout",
     "output_type": "stream",
     "text": [
      "Epoch [54/125], Loss: 0.0013, Training Accuracy: 100.00%, Precision: 1.000, Recall: 1.000, F1 Score: 1.000\n",
      "Validation Loss: 0.5582, Validation Accuracy: 86.84%, Precision: 0.880, Recall: 0.868, F1 Score: 0.853\n",
      "Epoch [54/125] completed in 5.94 seconds\n"
     ]
    },
    {
     "name": "stderr",
     "output_type": "stream",
     "text": [
      "/home/michael/Desktop/ifile/nn/ResNet-PyTorch/ResNet/venvres/lib/python3.9/site-packages/sklearn/metrics/_classification.py:1531: UndefinedMetricWarning: Precision is ill-defined and being set to 0.0 in labels with no predicted samples. Use `zero_division` parameter to control this behavior.\n",
      "  _warn_prf(average, modifier, f\"{metric.capitalize()} is\", len(result))\n"
     ]
    },
    {
     "ename": "KeyboardInterrupt",
     "evalue": "",
     "output_type": "error",
     "traceback": [
      "\u001b[0;31m---------------------------------------------------------------------------\u001b[0m",
      "\u001b[0;31mKeyboardInterrupt\u001b[0m                         Traceback (most recent call last)",
      "Cell \u001b[0;32mIn[7], line 42\u001b[0m\n\u001b[1;32m     39\u001b[0m loss\u001b[38;5;241m.\u001b[39mbackward()\n\u001b[1;32m     40\u001b[0m optimizer\u001b[38;5;241m.\u001b[39mstep()\n\u001b[0;32m---> 42\u001b[0m running_loss \u001b[38;5;241m+\u001b[39m\u001b[38;5;241m=\u001b[39m \u001b[43mloss\u001b[49m\u001b[38;5;241;43m.\u001b[39;49m\u001b[43mitem\u001b[49m\u001b[43m(\u001b[49m\u001b[43m)\u001b[49m\n\u001b[1;32m     44\u001b[0m \u001b[38;5;66;03m# Calculate training accuracy\u001b[39;00m\n\u001b[1;32m     45\u001b[0m _, predicted \u001b[38;5;241m=\u001b[39m torch\u001b[38;5;241m.\u001b[39mmax(outputs\u001b[38;5;241m.\u001b[39mlogits, \u001b[38;5;241m1\u001b[39m)\n",
      "\u001b[0;31mKeyboardInterrupt\u001b[0m: "
     ]
    }
   ],
   "source": [
    "import time\n",
    "from sklearn.metrics import precision_recall_fscore_support\n",
    "\n",
    "# Initialize lists to store losses, accuracy, and learning rate change epochs\n",
    "train_losses = []\n",
    "val_losses = []\n",
    "train_accuracies = []\n",
    "val_accuracies = []\n",
    "train_precisions = []\n",
    "train_recalls = []\n",
    "train_f1_scores = []\n",
    "val_precisions = []\n",
    "val_recalls = []\n",
    "val_f1_scores = []\n",
    "lr_change_epochs = []\n",
    "\n",
    "# Training and validation loop\n",
    "num_epochs = 125  # Set the number of epochs\n",
    "for epoch in range(num_epochs):\n",
    "    epoch_start_time = time.time()  # Start timing the epoch\n",
    "\n",
    "    model.train()  # Set the model to training mode\n",
    "    running_loss = 0.0\n",
    "    correct_train = 0\n",
    "    total_train = 0\n",
    "    all_train_labels = []\n",
    "    all_train_preds = []\n",
    "\n",
    "    for batch_idx, (sample, labels) in enumerate(train_loader):\n",
    "        cubes, profiles = sample['cube'], sample['profile']  # Extract cube and profile from the dictionary\n",
    "        cubes, profiles, labels = cubes.to(device), profiles.to(device), labels.to(device)  # Move data to GPU\n",
    "        optimizer.zero_grad()  # Zero the parameter gradients\n",
    "\n",
    "        # Forward pass\n",
    "        outputs = model(cubes)\n",
    "        loss = criterion(outputs.logits, labels)\n",
    "\n",
    "        # Backward pass and optimization\n",
    "        loss.backward()\n",
    "        optimizer.step()\n",
    "\n",
    "        running_loss += loss.item()\n",
    "\n",
    "        # Calculate training accuracy\n",
    "        _, predicted = torch.max(outputs.logits, 1)\n",
    "        total_train += labels.size(0)\n",
    "        correct_train += (predicted == labels).sum().item()\n",
    "\n",
    "        # Store labels and predictions for precision, recall, f1\n",
    "        all_train_labels.extend(labels.cpu().numpy())\n",
    "        all_train_preds.extend(predicted.cpu().numpy())\n",
    "\n",
    "    avg_train_loss = running_loss / len(train_loader)\n",
    "    train_losses.append(avg_train_loss)\n",
    "    train_accuracy = 100 * correct_train / total_train\n",
    "    train_accuracies.append(train_accuracy)\n",
    "\n",
    "    # Calculate precision, recall, f1 score for training\n",
    "    train_precision, train_recall, train_f1, _ = precision_recall_fscore_support(all_train_labels, all_train_preds, average='weighted', zero_division=0)\n",
    "    train_precisions.append(train_precision)\n",
    "    train_recalls.append(train_recall)\n",
    "    train_f1_scores.append(train_f1)\n",
    "    \n",
    "    print(f\"Epoch [{epoch+1}/{num_epochs}], Loss: {avg_train_loss:.4f}, Training Accuracy: {train_accuracy:.2f}%, Precision: {train_precision:.3f}, Recall: {train_recall:.3f}, F1 Score: {train_f1:.3f}\")\n",
    "zero_division=0\n",
    "    # Validation loop\n",
    "    model.eval()  # Set the model to evaluation mode\n",
    "    val_loss = 0.0\n",
    "    correct_val = 0\n",
    "    total_val = 0\n",
    "    all_val_labels = []\n",
    "    all_val_preds = []\n",
    "\n",
    "    with torch.no_grad():\n",
    "        for sample, labels in val_loader:\n",
    "            cubes, profiles = sample['cube'], sample['profile']  # Extract cube and profile from the dictionary\n",
    "            cubes, profiles, labels = cubes.to(device), profiles.to(device), labels.to(device)  # Move data to GPU\n",
    "            outputs = model(cubes)\n",
    "            loss = criterion(outputs.logits, labels)\n",
    "            val_loss += loss.item()\n",
    "\n",
    "            _, predicted = torch.max(outputs.logits, 1)\n",
    "            total_val += labels.size(0)\n",
    "            correct_val += (predicted == labels).sum().item()\n",
    "\n",
    "            # Store labels and predictions for precision, recall, f1\n",
    "            all_val_labels.extend(labels.cpu().numpy())\n",
    "            all_val_preds.extend(predicted.cpu().numpy())\n",
    "\n",
    "    avg_val_loss = val_loss / len(val_loader)\n",
    "    val_losses.append(avg_val_loss)\n",
    "    val_accuracy = 100 * correct_val / total_val\n",
    "    val_accuracies.append(val_accuracy)\n",
    "\n",
    "    # Calculate precision, recall, f1 score for validation\n",
    "    val_precision, val_recall, val_f1, _ = precision_recall_fscore_support(all_val_labels, all_val_preds, average='weighted', zero_division=0)\n",
    "    val_precisions.append(val_precision)\n",
    "    val_recalls.append(val_recall)\n",
    "    val_f1_scores.append(val_f1)\n",
    "\n",
    "    print(f\"Validation Loss: {avg_val_loss:.4f}, Validation Accuracy: {val_accuracy:.2f}%, Precision: {val_precision:.3f}, Recall: {val_recall:.3f}, F1 Score: {val_f1:.3f}\")\n",
    "\n",
    "    current_lr = optimizer.param_groups[0]['lr']\n",
    "    scheduler.step(avg_val_loss)\n",
    "    new_lr = optimizer.param_groups[0]['lr']\n",
    "    if new_lr < current_lr:\n",
    "        print(f\"Learning rate reduced from {current_lr} to {new_lr}\")\n",
    "        lr_change_epochs.append(epoch+1)  # Log the epoch where the learning rate changed\n",
    "\n",
    "    epoch_end_time = time.time()  # End timing the epoch\n",
    "    epoch_duration = epoch_end_time - epoch_start_time\n",
    "    print(f\"Epoch [{epoch+1}/{num_epochs}] completed in {epoch_duration:.2f} seconds\")\n",
    "\n",
    "print(\"Training complete.\")\n"
   ]
  },
  {
   "cell_type": "code",
   "execution_count": 8,
   "id": "a940e7b1-0479-4aaa-ba22-9bcddc094ec5",
   "metadata": {},
   "outputs": [
    {
     "data": {
      "image/png": "[encoded data removed]",
      "text/plain": [
       "<Figure size 1000x500 with 1 Axes>"
      ]
     },
     "metadata": {},
     "output_type": "display_data"
    },
    {
     "data": {
      "image/png": "[encoded data removed]",
      "text/plain": [
       "<Figure size 1000x500 with 1 Axes>"
      ]
     },
     "metadata": {},
     "output_type": "display_data"
    }
   ],
   "source": [
    "# Plot the training and validation losses with learning rate change points\n",
    "plt.figure(figsize=(10, 5))\n",
    "plt.plot(train_losses, label='Training Loss')\n",
    "plt.plot(val_losses, label='Validation Loss')\n",
    "for lr_epoch in lr_change_epochs:\n",
    "    plt.axvline(x=lr_epoch, color='r', linestyle='--', label='LR Change' if lr_epoch == lr_change_epochs[0] else \"\")\n",
    "plt.xlabel('Epochs')\n",
    "plt.ylabel('Loss')\n",
    "plt.legend()\n",
    "plt.title('Training and Validation Losses with Learning Rate Changes')\n",
    "plt.grid(True)  # Add gridlines\n",
    "plt.show()\n",
    "\n",
    "# Plot the training and validation accuracy\n",
    "plt.figure(figsize=(10, 5))\n",
    "plt.plot(train_accuracies, label='Training Accuracy')\n",
    "plt.plot(val_accuracies, label='Validation Accuracy')\n",
    "for lr_epoch in lr_change_epochs:\n",
    "    plt.axvline(x=lr_epoch, color='r', linestyle='--', label='LR Change' if lr_epoch == lr_change_epochs[0] else \"\")\n",
    "plt.xlabel('Epochs')\n",
    "plt.ylabel('Accuracy')\n",
    "plt.legend()\n",
    "plt.title('Training and Validation Accuracy')\n",
    "plt.grid(True)  # Add gridlines\n",
    "plt.show()\n"
   ]
  },
  {
   "cell_type": "code",
   "execution_count": 10,
   "id": "bbbcfaec-3c92-48ec-8db6-db238994a7e9",
   "metadata": {},
   "outputs": [
    {
     "name": "stdout",
     "output_type": "stream",
     "text": [
      "Test Loss: 0.4559, Test Accuracy: 85.71%\n"
     ]
    }
   ],
   "source": [
    "# Testing loop\n",
    "model.eval()  # Set the model to evaluation mode\n",
    "test_loss = 0.0\n",
    "correct = 0\n",
    "total = 0 \n",
    "with torch.no_grad():\n",
    "    for inputs, labels in test_loader:\n",
    "        inputs, labels = inputs['cube'].to(device), labels.to(device)  # Move data to GPU\n",
    "        outputs = model(inputs)\n",
    "        loss = criterion(outputs.logits, labels)\n",
    "        test_loss += loss.item()\n",
    "\n",
    "        _, predicted = torch.max(outputs.logits, 1)\n",
    "        total += labels.size(0)\n",
    "        correct += (predicted == labels).sum().item()\n",
    "\n",
    "accuracy = 100 * correct / total\n",
    "print(f\"Test Loss: {test_loss/len(test_loader):.4f}, Test Accuracy: {accuracy:.2f}%\")\n"
   ]
  },
  {
   "cell_type": "code",
   "execution_count": 11,
   "id": "2713b96c-07e1-4684-8be7-32d7237d330e",
   "metadata": {},
   "outputs": [
    {
     "data": {
      "text/plain": [
       "<Figure size 1000x1000 with 0 Axes>"
      ]
     },
     "metadata": {},
     "output_type": "display_data"
    },
    {
     "data": {
      "image/png": "[encoded data removed]",
      "text/plain": [
       "<Figure size 640x480 with 2 Axes>"
      ]
     },
     "metadata": {},
     "output_type": "display_data"
    }
   ],
   "source": [
    "import torch\n",
    "import numpy as np\n",
    "import matplotlib.pyplot as plt\n",
    "import seaborn as sns\n",
    "from sklearn.metrics import confusion_matrix, ConfusionMatrixDisplay\n",
    "\n",
    "# Function to test an individual sample and collect predictions and true labels\n",
    "def test_individual_test_sample(sample_idx, true_labels, predicted_labels):\n",
    "    # Load a specific sample from the test dataset\n",
    "    cube, label = test_dataset[sample_idx]\n",
    "    \n",
    "    # Move the sample to GPU if using CUDA\n",
    "    cube = cube['cube'].to(device).unsqueeze(0)  # Add batch dimension\n",
    "    label = label.to(device)\n",
    "    \n",
    "    # Set the model to evaluation mode\n",
    "    model.eval()\n",
    "    \n",
    "    # Disable gradient computation for inference\n",
    "    with torch.no_grad():\n",
    "        output = model(cube)\n",
    "    \n",
    "    # Apply softmax to get probabilities\n",
    "    probabilities = torch.nn.functional.softmax(output.logits, dim=1)\n",
    "    \n",
    "    # Get the predicted class\n",
    "    predicted_class = torch.argmax(probabilities, dim=1)\n",
    "    \n",
    "    # Append the true and predicted labels to their respective lists\n",
    "    true_labels.append(label.item())\n",
    "    predicted_labels.append(predicted_class.item())\n",
    "\n",
    "# Lists to store true and predicted labels\n",
    "true_labels = []\n",
    "predicted_labels = []\n",
    "\n",
    "# Test individual samples and collect labels\n",
    "for i in range(len(test_dataset)):\n",
    "    test_individual_test_sample(i, true_labels, predicted_labels)\n",
    "\n",
    "# Convert lists to numpy arrays for compatibility with sklearn\n",
    "true_labels = np.array(true_labels)\n",
    "predicted_labels = np.array(predicted_labels)\n",
    "\n",
    "# Generate the confusion matrix\n",
    "cm = confusion_matrix(true_labels, predicted_labels)\n",
    "disp = ConfusionMatrixDisplay(confusion_matrix=cm)\n",
    "\n",
    "# Plot the confusion matrix\n",
    "plt.figure(figsize=(10, 10))\n",
    "disp.plot(cmap=plt.cm.Blues)\n",
    "plt.title('Confusion Matrix')\n",
    "plt.show()\n"
   ]
  },
  {
   "cell_type": "code",
   "execution_count": 13,
   "id": "8c9776e3-04f4-4284-92a5-1a3c21285ab6",
   "metadata": {},
   "outputs": [],
   "source": [
    "torch.save(model.state_dict(), 'transformer.pth')"
   ]
  },
  {
   "cell_type": "code",
   "execution_count": null,
   "id": "f680598d-3493-465e-a178-c6671d8789f9",
   "metadata": {},
   "outputs": [],
   "source": [
    "for name, param in model.named_parameters():\n",
    "    print(name)"
   ]
  },
  {
   "cell_type": "code",
   "execution_count": null,
   "id": "9aa40e29-9da0-4aae-8643-4ff7f62eebde",
   "metadata": {},
   "outputs": [],
   "source": [
    "models.save(\"deit.pth\")"
   ]
  },
  {
   "cell_type": "code",
   "execution_count": null,
   "id": "97f4bd7c-c533-4da8-ae2e-01e0592b688d",
   "metadata": {},
   "outputs": [],
   "source": [
    "for a, b in enumerate(train_loader):\n",
    "    print(a,b)"
   ]
  },
  {
   "cell_type": "code",
   "execution_count": null,
   "id": "288302df-d519-4dd6-8a39-d5395562fd89",
   "metadata": {},
   "outputs": [],
   "source": []
  }
 ],
 "metadata": {
  "kernelspec": {
   "display_name": "Python (venvres)",
   "language": "python",
   "name": "venvres"
  },
  "language_info": {
   "codemirror_mode": {
    "name": "ipython",
    "version": 3
   },
   "file_extension": ".py",
   "mimetype": "text/x-python",
   "name": "python",
   "nbconvert_exporter": "python",
   "pygments_lexer": "ipython3",
   "version": "3.9.20"
  }
 },
 "nbformat": 4,
 "nbformat_minor": 5
}
